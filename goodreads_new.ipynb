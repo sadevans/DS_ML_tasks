{
  "metadata": {
    "colab": {
      "provenance": [],
      "collapsed_sections": [
        "b5b63337"
      ],
      "toc_visible": true,
      "include_colab_link": true
    },
    "kernelspec": {
      "name": "python3",
      "display_name": "Python 3",
      "language": "python"
    },
    "language_info": {
      "name": "python",
      "version": "3.7.12",
      "mimetype": "text/x-python",
      "codemirror_mode": {
        "name": "ipython",
        "version": 3
      },
      "pygments_lexer": "ipython3",
      "nbconvert_exporter": "python",
      "file_extension": ".py"
    },
    "accelerator": "GPU",
    "gpuClass": "standard"
  },
  "nbformat_minor": 5,
  "nbformat": 4,
  "cells": [
    {
      "cell_type": "markdown",
      "metadata": {
        "id": "view-in-github",
        "colab_type": "text"
      },
      "source": [
        "<a href=\"https://colab.research.google.com/github/sadevans/DS_ML_tasks/blob/main/goodreads_new.ipynb\" target=\"_parent\"><img src=\"https://colab.research.google.com/assets/colab-badge.svg\" alt=\"Open In Colab\"/></a>"
      ]
    },
    {
      "cell_type": "markdown",
      "source": [
        "# Импорты"
      ],
      "metadata": {
        "id": "hUllVIHh9_dy"
      },
      "id": "hUllVIHh9_dy"
    },
    {
      "cell_type": "code",
      "source": [
        "import os\n",
        "\n",
        "import matplotlib.pyplot as plt\n",
        "import matplotlib.ticker as ticker\n",
        "import numpy as np\n",
        "import pandas as pd\n",
        "import seaborn as sns\n",
        "from pylab import rcParams"
      ],
      "metadata": {
        "id": "24ea4cb3-b359-4ddf-a8ae-ed48fc5976d1",
        "execution": {
          "iopub.status.busy": "2023-04-17T19:54:14.012503Z",
          "iopub.execute_input": "2023-04-17T19:54:14.013700Z",
          "iopub.status.idle": "2023-04-17T19:54:15.251641Z",
          "shell.execute_reply.started": "2023-04-17T19:54:14.013647Z",
          "shell.execute_reply": "2023-04-17T19:54:15.250642Z"
        },
        "trusted": true
      },
      "execution_count": 11,
      "outputs": [],
      "id": "24ea4cb3-b359-4ddf-a8ae-ed48fc5976d1"
    },
    {
      "cell_type": "code",
      "source": [
        "# os.chdir(r'/kaggle/working')\n",
        "# from IPython.display import FileLink"
      ],
      "metadata": {
        "execution": {
          "iopub.status.busy": "2023-04-17T22:22:10.307485Z",
          "iopub.execute_input": "2023-04-17T22:22:10.308070Z",
          "iopub.status.idle": "2023-04-17T22:22:10.315865Z",
          "shell.execute_reply.started": "2023-04-17T22:22:10.308022Z",
          "shell.execute_reply": "2023-04-17T22:22:10.313552Z"
        },
        "trusted": true,
        "id": "b0HygmoOdb25"
      },
      "execution_count": 12,
      "outputs": [],
      "id": "b0HygmoOdb25"
    },
    {
      "cell_type": "code",
      "source": [
        "# FileLink(r'train_text_new.csv')"
      ],
      "metadata": {
        "execution": {
          "iopub.status.busy": "2023-04-17T22:23:56.715125Z",
          "iopub.execute_input": "2023-04-17T22:23:56.716546Z",
          "iopub.status.idle": "2023-04-17T22:23:56.724184Z",
          "shell.execute_reply.started": "2023-04-17T22:23:56.716487Z",
          "shell.execute_reply": "2023-04-17T22:23:56.722389Z"
        },
        "trusted": true,
        "id": "Kfalj8Ebdb25"
      },
      "execution_count": 13,
      "outputs": [],
      "id": "Kfalj8Ebdb25"
    },
    {
      "cell_type": "code",
      "source": [
        "sns.set_style('darkgrid')\n",
        "sns.set_context('paper')\n",
        "plt.rcParams['figure.figsize'] = (17,7)\n",
        "plt.rcParams['font.size'] = 18"
      ],
      "metadata": {
        "id": "87df8d24",
        "execution": {
          "iopub.status.busy": "2023-04-17T19:55:40.110494Z",
          "iopub.execute_input": "2023-04-17T19:55:40.111025Z",
          "iopub.status.idle": "2023-04-17T19:55:40.118383Z",
          "shell.execute_reply.started": "2023-04-17T19:55:40.110949Z",
          "shell.execute_reply": "2023-04-17T19:55:40.116924Z"
        },
        "trusted": true
      },
      "execution_count": 14,
      "outputs": [],
      "id": "87df8d24"
    },
    {
      "cell_type": "code",
      "source": [
        "import string\n",
        "import re\n",
        "import nltk\n",
        "\n",
        "\n",
        "from tqdm import trange\n",
        "from nltk import tokenize\n",
        "from nltk.corpus import stopwords\n",
        "from nltk.stem import WordNetLemmatizer\n",
        "from nltk.tokenize import word_tokenize\n",
        "from nltk.probability import FreqDist\n",
        "from collections import Counter\n",
        "from sklearn.feature_extraction.text import CountVectorizer"
      ],
      "metadata": {
        "id": "4d946119",
        "execution": {
          "iopub.status.busy": "2023-04-17T22:49:47.211556Z",
          "iopub.execute_input": "2023-04-17T22:49:47.213258Z",
          "iopub.status.idle": "2023-04-17T22:49:47.220459Z",
          "shell.execute_reply.started": "2023-04-17T22:49:47.213190Z",
          "shell.execute_reply": "2023-04-17T22:49:47.218833Z"
        },
        "trusted": true
      },
      "execution_count": 15,
      "outputs": [],
      "id": "4d946119"
    },
    {
      "cell_type": "code",
      "source": [
        "nltk.download('stopwords')\n",
        "stop=set(stopwords.words('english'))"
      ],
      "metadata": {
        "colab": {
          "base_uri": "https://localhost:8080/"
        },
        "id": "be238ee0",
        "outputId": "09fe3944-6b0b-4d45-e6e3-32248b99465e",
        "execution": {
          "iopub.status.busy": "2023-04-17T19:55:48.683915Z",
          "iopub.execute_input": "2023-04-17T19:55:48.684439Z",
          "iopub.status.idle": "2023-04-17T19:55:48.798281Z",
          "shell.execute_reply.started": "2023-04-17T19:55:48.684386Z",
          "shell.execute_reply": "2023-04-17T19:55:48.796743Z"
        },
        "trusted": true
      },
      "execution_count": 16,
      "outputs": [
        {
          "output_type": "stream",
          "name": "stderr",
          "text": [
            "[nltk_data] Downloading package stopwords to /root/nltk_data...\n",
            "[nltk_data]   Package stopwords is already up-to-date!\n"
          ]
        }
      ],
      "id": "be238ee0"
    },
    {
      "cell_type": "code",
      "source": [
        "import warnings\n",
        "warnings.filterwarnings('ignore')\n",
        "nltk.download('omw-1.4', quiet=True)\n",
        "# sns.set_style('darkgrid')\n",
        "# plt.rcParams['figure.figsize'] = (17,7)\n",
        "# plt.rcParams['font.size'] = 18"
      ],
      "metadata": {
        "colab": {
          "base_uri": "https://localhost:8080/"
        },
        "id": "383fa307",
        "outputId": "335f4cb9-6adf-4c31-f76f-a1256b9ce675",
        "execution": {
          "iopub.status.busy": "2023-04-17T19:55:54.123662Z",
          "iopub.execute_input": "2023-04-17T19:55:54.124156Z",
          "iopub.status.idle": "2023-04-17T19:55:54.398350Z",
          "shell.execute_reply.started": "2023-04-17T19:55:54.124109Z",
          "shell.execute_reply": "2023-04-17T19:55:54.397135Z"
        },
        "trusted": true
      },
      "execution_count": 17,
      "outputs": [
        {
          "output_type": "execute_result",
          "data": {
            "text/plain": [
              "True"
            ]
          },
          "metadata": {},
          "execution_count": 17
        }
      ],
      "id": "383fa307"
    },
    {
      "cell_type": "code",
      "source": [
        "nltk.download('punkt')\n",
        "nltk.download('wordnet')"
      ],
      "metadata": {
        "colab": {
          "base_uri": "https://localhost:8080/"
        },
        "id": "63703444",
        "outputId": "a66432d0-11ed-4704-e920-4c62e859f869",
        "execution": {
          "iopub.status.busy": "2023-04-17T19:55:58.350499Z",
          "iopub.execute_input": "2023-04-17T19:55:58.351801Z",
          "iopub.status.idle": "2023-04-17T19:55:58.448631Z",
          "shell.execute_reply.started": "2023-04-17T19:55:58.351740Z",
          "shell.execute_reply": "2023-04-17T19:55:58.447671Z"
        },
        "trusted": true
      },
      "execution_count": 18,
      "outputs": [
        {
          "output_type": "stream",
          "name": "stderr",
          "text": [
            "[nltk_data] Downloading package punkt to /root/nltk_data...\n",
            "[nltk_data]   Package punkt is already up-to-date!\n",
            "[nltk_data] Downloading package wordnet to /root/nltk_data...\n",
            "[nltk_data]   Package wordnet is already up-to-date!\n"
          ]
        },
        {
          "output_type": "execute_result",
          "data": {
            "text/plain": [
              "True"
            ]
          },
          "metadata": {},
          "execution_count": 18
        }
      ],
      "id": "63703444"
    },
    {
      "cell_type": "code",
      "source": [
        "sns.set_context('paper')"
      ],
      "metadata": {
        "id": "ada803a2-8447-41d8-91d1-13884918447c",
        "execution": {
          "iopub.status.busy": "2023-04-17T19:56:04.359670Z",
          "iopub.execute_input": "2023-04-17T19:56:04.360225Z",
          "iopub.status.idle": "2023-04-17T19:56:04.366665Z",
          "shell.execute_reply.started": "2023-04-17T19:56:04.360178Z",
          "shell.execute_reply": "2023-04-17T19:56:04.365171Z"
        },
        "trusted": true
      },
      "execution_count": 19,
      "outputs": [],
      "id": "ada803a2-8447-41d8-91d1-13884918447c"
    },
    {
      "cell_type": "code",
      "source": [
        "# import torch\n",
        "# device = \"cuda\" if torch.cuda.is_available() else \"cpu\""
      ],
      "metadata": {
        "id": "-R6svmM8ovrD"
      },
      "execution_count": 20,
      "outputs": [],
      "id": "-R6svmM8ovrD"
    },
    {
      "cell_type": "markdown",
      "source": [
        "# Считывание данных, просмотр их структуры"
      ],
      "metadata": {
        "id": "b523cbe4"
      },
      "id": "b523cbe4"
    },
    {
      "cell_type": "code",
      "source": [
        "# df = pd.read_csv('D:\\Kaggle\\Goodreads Books Reviews\\goodreads-books-reviews-290312\\goodreads_train.csv')"
      ],
      "metadata": {
        "id": "65d5dbc6-3710-40f4-808b-b318a896dc05"
      },
      "execution_count": null,
      "outputs": [],
      "id": "65d5dbc6-3710-40f4-808b-b318a896dc05"
    },
    {
      "cell_type": "code",
      "source": [
        "from google.colab import drive\n",
        "drive.mount('/content/drive')"
      ],
      "metadata": {
        "colab": {
          "base_uri": "https://localhost:8080/"
        },
        "id": "fIVvXw5WU8gG",
        "outputId": "08278e11-971c-4202-a3bc-8e2b92e41465"
      },
      "execution_count": 24,
      "outputs": [
        {
          "output_type": "stream",
          "name": "stdout",
          "text": [
            "Mounted at /content/drive\n"
          ]
        }
      ],
      "id": "fIVvXw5WU8gG"
    },
    {
      "cell_type": "code",
      "source": [
        "# df = pd.read_csv('/content/drive/MyDrive/BooksReview/goodreads_train.csv')\n",
        "# df_test = pd.read_csv('/content/drive/MyDrive/BooksReview/goodreads_test.csv')"
      ],
      "metadata": {
        "id": "gj86GUY8VKVG"
      },
      "execution_count": null,
      "outputs": [],
      "id": "gj86GUY8VKVG"
    },
    {
      "cell_type": "code",
      "source": [
        "# df_test = pd.read_csv('/kaggle/input/goodreads/goodreads_test.csv')"
      ],
      "metadata": {
        "execution": {
          "iopub.status.busy": "2023-04-17T21:04:46.724914Z",
          "iopub.execute_input": "2023-04-17T21:04:46.725455Z",
          "iopub.status.idle": "2023-04-17T21:04:54.319495Z",
          "shell.execute_reply.started": "2023-04-17T21:04:46.725412Z",
          "shell.execute_reply": "2023-04-17T21:04:54.318090Z"
        },
        "trusted": true,
        "id": "VTcIHR-Jdb29"
      },
      "execution_count": null,
      "outputs": [],
      "id": "VTcIHR-Jdb29"
    },
    {
      "cell_type": "code",
      "source": [
        "# df_test = pd.read_csv('D:\\Kaggle\\Goodreads Books Reviews\\goodreads-books-reviews-290312\\goodreads_test.csv')"
      ],
      "metadata": {
        "id": "DJ2s-aWE1iGJ",
        "execution": {
          "iopub.status.busy": "2023-04-17T21:00:31.120827Z",
          "iopub.execute_input": "2023-04-17T21:00:31.121651Z",
          "iopub.status.idle": "2023-04-17T21:00:31.212146Z",
          "shell.execute_reply.started": "2023-04-17T21:00:31.121578Z",
          "shell.execute_reply": "2023-04-17T21:00:31.209985Z"
        },
        "trusted": true
      },
      "execution_count": null,
      "outputs": [],
      "id": "DJ2s-aWE1iGJ"
    },
    {
      "cell_type": "code",
      "source": [
        "df.head(3)"
      ],
      "metadata": {
        "colab": {
          "base_uri": "https://localhost:8080/",
          "height": 398
        },
        "id": "41fceb79-18d0-415d-a1be-cb293ba262ab",
        "outputId": "795cfffd-5953-448a-be6f-c7d1b6e13ee3"
      },
      "execution_count": null,
      "outputs": [
        {
          "output_type": "execute_result",
          "data": {
            "text/plain": [
              "                            user_id   book_id  \\\n",
              "0  8842281e1d1347389f2ab93d60773d4d  18245960   \n",
              "1  8842281e1d1347389f2ab93d60773d4d     16981   \n",
              "2  8842281e1d1347389f2ab93d60773d4d  28684704   \n",
              "\n",
              "                          review_id  rating  \\\n",
              "0  dfdbb7b0eb5a7e4c26d59a937e2e5feb       5   \n",
              "1  a5d2c3628987712d0e05c4f90798eb67       3   \n",
              "2  2ede853b14dc4583f96cf5d120af636f       3   \n",
              "\n",
              "                                         review_text  \\\n",
              "0  This is a special book. It started slow for ab...   \n",
              "1  Recommended by Don Katz. Avail for free in Dec...   \n",
              "2  A fun, fast paced science fiction thriller. I ...   \n",
              "\n",
              "                       date_added                    date_updated  \\\n",
              "0  Sun Jul 30 07:44:10 -0700 2017  Wed Aug 30 00:00:26 -0700 2017   \n",
              "1  Mon Dec 05 10:46:44 -0800 2016  Wed Mar 22 11:37:04 -0700 2017   \n",
              "2  Tue Nov 15 11:29:22 -0800 2016  Mon Mar 20 23:40:27 -0700 2017   \n",
              "\n",
              "                          read_at                      started_at  n_votes  \\\n",
              "0  Sat Aug 26 12:05:52 -0700 2017  Tue Aug 15 13:23:18 -0700 2017       28   \n",
              "1                             NaN                             NaN        1   \n",
              "2  Sat Mar 18 23:22:42 -0700 2017  Fri Mar 17 23:45:40 -0700 2017       22   \n",
              "\n",
              "   n_comments  \n",
              "0           1  \n",
              "1           0  \n",
              "2           0  "
            ],
            "text/html": [
              "\n",
              "  <div id=\"df-638b03f3-abf0-403f-8d06-5c81954647e4\">\n",
              "    <div class=\"colab-df-container\">\n",
              "      <div>\n",
              "<style scoped>\n",
              "    .dataframe tbody tr th:only-of-type {\n",
              "        vertical-align: middle;\n",
              "    }\n",
              "\n",
              "    .dataframe tbody tr th {\n",
              "        vertical-align: top;\n",
              "    }\n",
              "\n",
              "    .dataframe thead th {\n",
              "        text-align: right;\n",
              "    }\n",
              "</style>\n",
              "<table border=\"1\" class=\"dataframe\">\n",
              "  <thead>\n",
              "    <tr style=\"text-align: right;\">\n",
              "      <th></th>\n",
              "      <th>user_id</th>\n",
              "      <th>book_id</th>\n",
              "      <th>review_id</th>\n",
              "      <th>rating</th>\n",
              "      <th>review_text</th>\n",
              "      <th>date_added</th>\n",
              "      <th>date_updated</th>\n",
              "      <th>read_at</th>\n",
              "      <th>started_at</th>\n",
              "      <th>n_votes</th>\n",
              "      <th>n_comments</th>\n",
              "    </tr>\n",
              "  </thead>\n",
              "  <tbody>\n",
              "    <tr>\n",
              "      <th>0</th>\n",
              "      <td>8842281e1d1347389f2ab93d60773d4d</td>\n",
              "      <td>18245960</td>\n",
              "      <td>dfdbb7b0eb5a7e4c26d59a937e2e5feb</td>\n",
              "      <td>5</td>\n",
              "      <td>This is a special book. It started slow for ab...</td>\n",
              "      <td>Sun Jul 30 07:44:10 -0700 2017</td>\n",
              "      <td>Wed Aug 30 00:00:26 -0700 2017</td>\n",
              "      <td>Sat Aug 26 12:05:52 -0700 2017</td>\n",
              "      <td>Tue Aug 15 13:23:18 -0700 2017</td>\n",
              "      <td>28</td>\n",
              "      <td>1</td>\n",
              "    </tr>\n",
              "    <tr>\n",
              "      <th>1</th>\n",
              "      <td>8842281e1d1347389f2ab93d60773d4d</td>\n",
              "      <td>16981</td>\n",
              "      <td>a5d2c3628987712d0e05c4f90798eb67</td>\n",
              "      <td>3</td>\n",
              "      <td>Recommended by Don Katz. Avail for free in Dec...</td>\n",
              "      <td>Mon Dec 05 10:46:44 -0800 2016</td>\n",
              "      <td>Wed Mar 22 11:37:04 -0700 2017</td>\n",
              "      <td>NaN</td>\n",
              "      <td>NaN</td>\n",
              "      <td>1</td>\n",
              "      <td>0</td>\n",
              "    </tr>\n",
              "    <tr>\n",
              "      <th>2</th>\n",
              "      <td>8842281e1d1347389f2ab93d60773d4d</td>\n",
              "      <td>28684704</td>\n",
              "      <td>2ede853b14dc4583f96cf5d120af636f</td>\n",
              "      <td>3</td>\n",
              "      <td>A fun, fast paced science fiction thriller. I ...</td>\n",
              "      <td>Tue Nov 15 11:29:22 -0800 2016</td>\n",
              "      <td>Mon Mar 20 23:40:27 -0700 2017</td>\n",
              "      <td>Sat Mar 18 23:22:42 -0700 2017</td>\n",
              "      <td>Fri Mar 17 23:45:40 -0700 2017</td>\n",
              "      <td>22</td>\n",
              "      <td>0</td>\n",
              "    </tr>\n",
              "  </tbody>\n",
              "</table>\n",
              "</div>\n",
              "      <button class=\"colab-df-convert\" onclick=\"convertToInteractive('df-638b03f3-abf0-403f-8d06-5c81954647e4')\"\n",
              "              title=\"Convert this dataframe to an interactive table.\"\n",
              "              style=\"display:none;\">\n",
              "        \n",
              "  <svg xmlns=\"http://www.w3.org/2000/svg\" height=\"24px\"viewBox=\"0 0 24 24\"\n",
              "       width=\"24px\">\n",
              "    <path d=\"M0 0h24v24H0V0z\" fill=\"none\"/>\n",
              "    <path d=\"M18.56 5.44l.94 2.06.94-2.06 2.06-.94-2.06-.94-.94-2.06-.94 2.06-2.06.94zm-11 1L8.5 8.5l.94-2.06 2.06-.94-2.06-.94L8.5 2.5l-.94 2.06-2.06.94zm10 10l.94 2.06.94-2.06 2.06-.94-2.06-.94-.94-2.06-.94 2.06-2.06.94z\"/><path d=\"M17.41 7.96l-1.37-1.37c-.4-.4-.92-.59-1.43-.59-.52 0-1.04.2-1.43.59L10.3 9.45l-7.72 7.72c-.78.78-.78 2.05 0 2.83L4 21.41c.39.39.9.59 1.41.59.51 0 1.02-.2 1.41-.59l7.78-7.78 2.81-2.81c.8-.78.8-2.07 0-2.86zM5.41 20L4 18.59l7.72-7.72 1.47 1.35L5.41 20z\"/>\n",
              "  </svg>\n",
              "      </button>\n",
              "      \n",
              "  <style>\n",
              "    .colab-df-container {\n",
              "      display:flex;\n",
              "      flex-wrap:wrap;\n",
              "      gap: 12px;\n",
              "    }\n",
              "\n",
              "    .colab-df-convert {\n",
              "      background-color: #E8F0FE;\n",
              "      border: none;\n",
              "      border-radius: 50%;\n",
              "      cursor: pointer;\n",
              "      display: none;\n",
              "      fill: #1967D2;\n",
              "      height: 32px;\n",
              "      padding: 0 0 0 0;\n",
              "      width: 32px;\n",
              "    }\n",
              "\n",
              "    .colab-df-convert:hover {\n",
              "      background-color: #E2EBFA;\n",
              "      box-shadow: 0px 1px 2px rgba(60, 64, 67, 0.3), 0px 1px 3px 1px rgba(60, 64, 67, 0.15);\n",
              "      fill: #174EA6;\n",
              "    }\n",
              "\n",
              "    [theme=dark] .colab-df-convert {\n",
              "      background-color: #3B4455;\n",
              "      fill: #D2E3FC;\n",
              "    }\n",
              "\n",
              "    [theme=dark] .colab-df-convert:hover {\n",
              "      background-color: #434B5C;\n",
              "      box-shadow: 0px 1px 3px 1px rgba(0, 0, 0, 0.15);\n",
              "      filter: drop-shadow(0px 1px 2px rgba(0, 0, 0, 0.3));\n",
              "      fill: #FFFFFF;\n",
              "    }\n",
              "  </style>\n",
              "\n",
              "      <script>\n",
              "        const buttonEl =\n",
              "          document.querySelector('#df-638b03f3-abf0-403f-8d06-5c81954647e4 button.colab-df-convert');\n",
              "        buttonEl.style.display =\n",
              "          google.colab.kernel.accessAllowed ? 'block' : 'none';\n",
              "\n",
              "        async function convertToInteractive(key) {\n",
              "          const element = document.querySelector('#df-638b03f3-abf0-403f-8d06-5c81954647e4');\n",
              "          const dataTable =\n",
              "            await google.colab.kernel.invokeFunction('convertToInteractive',\n",
              "                                                     [key], {});\n",
              "          if (!dataTable) return;\n",
              "\n",
              "          const docLinkHtml = 'Like what you see? Visit the ' +\n",
              "            '<a target=\"_blank\" href=https://colab.research.google.com/notebooks/data_table.ipynb>data table notebook</a>'\n",
              "            + ' to learn more about interactive tables.';\n",
              "          element.innerHTML = '';\n",
              "          dataTable['output_type'] = 'display_data';\n",
              "          await google.colab.output.renderOutput(dataTable, element);\n",
              "          const docLink = document.createElement('div');\n",
              "          docLink.innerHTML = docLinkHtml;\n",
              "          element.appendChild(docLink);\n",
              "        }\n",
              "      </script>\n",
              "    </div>\n",
              "  </div>\n",
              "  "
            ]
          },
          "metadata": {},
          "execution_count": 25
        }
      ],
      "id": "41fceb79-18d0-415d-a1be-cb293ba262ab"
    },
    {
      "cell_type": "code",
      "source": [
        "print('Размер train датасета:', df.shape)\n",
        "print('Размер test датасета:', df_test.shape)"
      ],
      "metadata": {
        "colab": {
          "base_uri": "https://localhost:8080/"
        },
        "id": "591fd9b5-1726-41a8-a4a7-3f6a212efe15",
        "outputId": "8bfa2356-0272-4fcc-874e-ea38d0fc84f4"
      },
      "execution_count": null,
      "outputs": [
        {
          "output_type": "stream",
          "name": "stdout",
          "text": [
            "Размер train датасета: (900000, 11)\n",
            "Размер test датасета: (478033, 10)\n"
          ]
        }
      ],
      "id": "591fd9b5-1726-41a8-a4a7-3f6a212efe15"
    },
    {
      "cell_type": "code",
      "source": [
        "print('Информация о train датасете\\n')\n",
        "df.info()\n",
        "\n",
        "print('Информация о test датасете\\n')\n",
        "df_test.info()"
      ],
      "metadata": {
        "colab": {
          "base_uri": "https://localhost:8080/"
        },
        "id": "7ac36fb2-c519-4528-a46c-43ec414b2a88",
        "outputId": "f6a6063f-09ff-483c-fd05-c653cb0000fd"
      },
      "execution_count": null,
      "outputs": [
        {
          "output_type": "stream",
          "name": "stdout",
          "text": [
            "Информация о train датасете\n",
            "\n",
            "<class 'pandas.core.frame.DataFrame'>\n",
            "RangeIndex: 900000 entries, 0 to 899999\n",
            "Data columns (total 11 columns):\n",
            " #   Column        Non-Null Count   Dtype \n",
            "---  ------        --------------   ----- \n",
            " 0   user_id       900000 non-null  object\n",
            " 1   book_id       900000 non-null  int64 \n",
            " 2   review_id     900000 non-null  object\n",
            " 3   rating        900000 non-null  int64 \n",
            " 4   review_text   900000 non-null  object\n",
            " 5   date_added    900000 non-null  object\n",
            " 6   date_updated  900000 non-null  object\n",
            " 7   read_at       808234 non-null  object\n",
            " 8   started_at    625703 non-null  object\n",
            " 9   n_votes       900000 non-null  int64 \n",
            " 10  n_comments    900000 non-null  int64 \n",
            "dtypes: int64(4), object(7)\n",
            "memory usage: 75.5+ MB\n",
            "Информация о test датасете\n",
            "\n",
            "<class 'pandas.core.frame.DataFrame'>\n",
            "RangeIndex: 478033 entries, 0 to 478032\n",
            "Data columns (total 10 columns):\n",
            " #   Column        Non-Null Count   Dtype \n",
            "---  ------        --------------   ----- \n",
            " 0   user_id       478033 non-null  object\n",
            " 1   book_id       478033 non-null  int64 \n",
            " 2   review_id     478033 non-null  object\n",
            " 3   review_text   478033 non-null  object\n",
            " 4   date_added    478033 non-null  object\n",
            " 5   date_updated  478033 non-null  object\n",
            " 6   read_at       435555 non-null  object\n",
            " 7   started_at    334989 non-null  object\n",
            " 8   n_votes       478033 non-null  int64 \n",
            " 9   n_comments    478033 non-null  int64 \n",
            "dtypes: int64(3), object(7)\n",
            "memory usage: 36.5+ MB\n"
          ]
        }
      ],
      "id": "7ac36fb2-c519-4528-a46c-43ec414b2a88"
    },
    {
      "cell_type": "markdown",
      "source": [
        "Посмотрим, есть ли вообще дублированный текст отзывов."
      ],
      "metadata": {
        "id": "BQWDQqEK495T"
      },
      "id": "BQWDQqEK495T"
    },
    {
      "cell_type": "code",
      "source": [
        "print('Количество дубликатов в train датасете', df.duplicated(['book_id','review_text','rating']).sum())\n",
        "print('Количество дубликатов в test датасете', df_test.duplicated(['book_id','review_text']).sum())"
      ],
      "metadata": {
        "colab": {
          "base_uri": "https://localhost:8080/"
        },
        "id": "c3cbbfde",
        "outputId": "9a6b1a4e-8fc1-4afb-978c-9fd74b026a50",
        "execution": {
          "iopub.status.busy": "2023-04-17T22:16:49.505600Z",
          "iopub.execute_input": "2023-04-17T22:16:49.506122Z",
          "iopub.status.idle": "2023-04-17T22:16:54.196290Z",
          "shell.execute_reply.started": "2023-04-17T22:16:49.506074Z",
          "shell.execute_reply": "2023-04-17T22:16:54.194290Z"
        },
        "trusted": true
      },
      "execution_count": null,
      "outputs": [
        {
          "output_type": "stream",
          "name": "stdout",
          "text": [
            "Количество дубликатов в train датасете 42\n",
            "Количество дубликатов в test датасете 33\n"
          ]
        }
      ],
      "id": "c3cbbfde"
    },
    {
      "cell_type": "code",
      "source": [
        "df.drop_duplicates(subset=['book_id','review_text','rating'])"
      ],
      "metadata": {
        "execution": {
          "iopub.status.busy": "2023-04-17T22:17:55.029676Z",
          "iopub.execute_input": "2023-04-17T22:17:55.030198Z",
          "iopub.status.idle": "2023-04-17T22:17:58.184472Z",
          "shell.execute_reply.started": "2023-04-17T22:17:55.030155Z",
          "shell.execute_reply": "2023-04-17T22:17:58.183368Z"
        },
        "trusted": true,
        "colab": {
          "base_uri": "https://localhost:8080/",
          "height": 1000
        },
        "id": "nvUEeJnXdb2-",
        "outputId": "a08ebd38-4874-482d-981d-6af9b2ec5a1e"
      },
      "execution_count": null,
      "outputs": [
        {
          "output_type": "execute_result",
          "data": {
            "text/plain": [
              "                                 user_id   book_id  \\\n",
              "0       8842281e1d1347389f2ab93d60773d4d  18245960   \n",
              "1       8842281e1d1347389f2ab93d60773d4d     16981   \n",
              "2       8842281e1d1347389f2ab93d60773d4d  28684704   \n",
              "3       8842281e1d1347389f2ab93d60773d4d  27161156   \n",
              "4       8842281e1d1347389f2ab93d60773d4d  25884323   \n",
              "...                                  ...       ...   \n",
              "899995  b9450d1c1f97f891c392b1105959b56e  11832081   \n",
              "899996  b9450d1c1f97f891c392b1105959b56e  16095092   \n",
              "899997  b9450d1c1f97f891c392b1105959b56e   8430896   \n",
              "899998  b9450d1c1f97f891c392b1105959b56e  12275680   \n",
              "899999  b9450d1c1f97f891c392b1105959b56e     17005   \n",
              "\n",
              "                               review_id  rating  \\\n",
              "0       dfdbb7b0eb5a7e4c26d59a937e2e5feb       5   \n",
              "1       a5d2c3628987712d0e05c4f90798eb67       3   \n",
              "2       2ede853b14dc4583f96cf5d120af636f       3   \n",
              "3       ced5675e55cd9d38a524743f5c40996e       0   \n",
              "4       332732725863131279a8e345b63ac33e       4   \n",
              "...                                  ...     ...   \n",
              "899995  7c34c15ad8cb28a4afca32946e2016ea       3   \n",
              "899996  e979c735276431915d089cfaf446d64f       3   \n",
              "899997  feb9fe6439f9fbba8a1cce36020ad977       4   \n",
              "899998  741e29369f70531bfffbd02add86f228       4   \n",
              "899999  d55f3a967230940e75a314700caec9a5       3   \n",
              "\n",
              "                                              review_text  \\\n",
              "0       This is a special book. It started slow for ab...   \n",
              "1       Recommended by Don Katz. Avail for free in Dec...   \n",
              "2       A fun, fast paced science fiction thriller. I ...   \n",
              "3       Recommended reading to understand what is goin...   \n",
              "4       I really enjoyed this book, and there is a lot...   \n",
              "...                                                   ...   \n",
              "899995  3.5 stars. \\n Jenna is a popular YA author and...   \n",
              "899996  This was a quick read for me. I have read a lo...   \n",
              "899997  ** spoiler alert ** \\n 3.5 stars. \\n This book...   \n",
              "899998  ** spoiler alert ** \\n Another fun read from M...   \n",
              "899999  ** spoiler alert ** \\n 3.5 stars \\n I liked it...   \n",
              "\n",
              "                            date_added                    date_updated  \\\n",
              "0       Sun Jul 30 07:44:10 -0700 2017  Wed Aug 30 00:00:26 -0700 2017   \n",
              "1       Mon Dec 05 10:46:44 -0800 2016  Wed Mar 22 11:37:04 -0700 2017   \n",
              "2       Tue Nov 15 11:29:22 -0800 2016  Mon Mar 20 23:40:27 -0700 2017   \n",
              "3       Wed Nov 09 17:37:04 -0800 2016  Wed Nov 09 17:38:20 -0800 2016   \n",
              "4       Mon Apr 25 09:31:23 -0700 2016  Mon Apr 25 09:31:23 -0700 2016   \n",
              "...                                ...                             ...   \n",
              "899995  Fri Nov 16 22:10:17 -0800 2012  Sat Nov 17 22:42:44 -0800 2012   \n",
              "899996  Fri Nov 16 22:09:49 -0800 2012  Sat Nov 17 23:38:58 -0800 2012   \n",
              "899997  Tue Nov 13 05:38:24 -0800 2012  Tue Nov 13 23:29:17 -0800 2012   \n",
              "899998  Mon Nov 12 05:42:30 -0800 2012  Tue Nov 13 22:32:05 -0800 2012   \n",
              "899999  Sun Nov 11 00:05:43 -0800 2012  Sun Nov 11 21:59:08 -0800 2012   \n",
              "\n",
              "                               read_at                      started_at  \\\n",
              "0       Sat Aug 26 12:05:52 -0700 2017  Tue Aug 15 13:23:18 -0700 2017   \n",
              "1                                  NaN                             NaN   \n",
              "2       Sat Mar 18 23:22:42 -0700 2017  Fri Mar 17 23:45:40 -0700 2017   \n",
              "3                                  NaN                             NaN   \n",
              "4       Sun Jun 26 00:00:00 -0700 2016  Sat May 28 00:00:00 -0700 2016   \n",
              "...                                ...                             ...   \n",
              "899995  Sat Nov 17 00:00:00 -0800 2012  Fri Nov 16 00:00:00 -0800 2012   \n",
              "899996  Sat Nov 17 00:00:00 -0800 2012  Fri Nov 16 00:00:00 -0800 2012   \n",
              "899997  Tue Nov 13 00:00:00 -0800 2012  Tue Nov 13 00:00:00 -0800 2012   \n",
              "899998  Tue Nov 13 00:00:00 -0800 2012  Mon Nov 12 00:00:00 -0800 2012   \n",
              "899999  Sun Nov 11 00:00:00 -0800 2012  Sun Nov 11 00:00:00 -0800 2012   \n",
              "\n",
              "        n_votes  n_comments  \n",
              "0            28           1  \n",
              "1             1           0  \n",
              "2            22           0  \n",
              "3             5           1  \n",
              "4             9           1  \n",
              "...         ...         ...  \n",
              "899995        0           0  \n",
              "899996        1           1  \n",
              "899997        1           0  \n",
              "899998        0           0  \n",
              "899999        0           0  \n",
              "\n",
              "[899958 rows x 11 columns]"
            ],
            "text/html": [
              "\n",
              "  <div id=\"df-e4abe465-cc9f-4dea-a918-83f94337386e\">\n",
              "    <div class=\"colab-df-container\">\n",
              "      <div>\n",
              "<style scoped>\n",
              "    .dataframe tbody tr th:only-of-type {\n",
              "        vertical-align: middle;\n",
              "    }\n",
              "\n",
              "    .dataframe tbody tr th {\n",
              "        vertical-align: top;\n",
              "    }\n",
              "\n",
              "    .dataframe thead th {\n",
              "        text-align: right;\n",
              "    }\n",
              "</style>\n",
              "<table border=\"1\" class=\"dataframe\">\n",
              "  <thead>\n",
              "    <tr style=\"text-align: right;\">\n",
              "      <th></th>\n",
              "      <th>user_id</th>\n",
              "      <th>book_id</th>\n",
              "      <th>review_id</th>\n",
              "      <th>rating</th>\n",
              "      <th>review_text</th>\n",
              "      <th>date_added</th>\n",
              "      <th>date_updated</th>\n",
              "      <th>read_at</th>\n",
              "      <th>started_at</th>\n",
              "      <th>n_votes</th>\n",
              "      <th>n_comments</th>\n",
              "    </tr>\n",
              "  </thead>\n",
              "  <tbody>\n",
              "    <tr>\n",
              "      <th>0</th>\n",
              "      <td>8842281e1d1347389f2ab93d60773d4d</td>\n",
              "      <td>18245960</td>\n",
              "      <td>dfdbb7b0eb5a7e4c26d59a937e2e5feb</td>\n",
              "      <td>5</td>\n",
              "      <td>This is a special book. It started slow for ab...</td>\n",
              "      <td>Sun Jul 30 07:44:10 -0700 2017</td>\n",
              "      <td>Wed Aug 30 00:00:26 -0700 2017</td>\n",
              "      <td>Sat Aug 26 12:05:52 -0700 2017</td>\n",
              "      <td>Tue Aug 15 13:23:18 -0700 2017</td>\n",
              "      <td>28</td>\n",
              "      <td>1</td>\n",
              "    </tr>\n",
              "    <tr>\n",
              "      <th>1</th>\n",
              "      <td>8842281e1d1347389f2ab93d60773d4d</td>\n",
              "      <td>16981</td>\n",
              "      <td>a5d2c3628987712d0e05c4f90798eb67</td>\n",
              "      <td>3</td>\n",
              "      <td>Recommended by Don Katz. Avail for free in Dec...</td>\n",
              "      <td>Mon Dec 05 10:46:44 -0800 2016</td>\n",
              "      <td>Wed Mar 22 11:37:04 -0700 2017</td>\n",
              "      <td>NaN</td>\n",
              "      <td>NaN</td>\n",
              "      <td>1</td>\n",
              "      <td>0</td>\n",
              "    </tr>\n",
              "    <tr>\n",
              "      <th>2</th>\n",
              "      <td>8842281e1d1347389f2ab93d60773d4d</td>\n",
              "      <td>28684704</td>\n",
              "      <td>2ede853b14dc4583f96cf5d120af636f</td>\n",
              "      <td>3</td>\n",
              "      <td>A fun, fast paced science fiction thriller. I ...</td>\n",
              "      <td>Tue Nov 15 11:29:22 -0800 2016</td>\n",
              "      <td>Mon Mar 20 23:40:27 -0700 2017</td>\n",
              "      <td>Sat Mar 18 23:22:42 -0700 2017</td>\n",
              "      <td>Fri Mar 17 23:45:40 -0700 2017</td>\n",
              "      <td>22</td>\n",
              "      <td>0</td>\n",
              "    </tr>\n",
              "    <tr>\n",
              "      <th>3</th>\n",
              "      <td>8842281e1d1347389f2ab93d60773d4d</td>\n",
              "      <td>27161156</td>\n",
              "      <td>ced5675e55cd9d38a524743f5c40996e</td>\n",
              "      <td>0</td>\n",
              "      <td>Recommended reading to understand what is goin...</td>\n",
              "      <td>Wed Nov 09 17:37:04 -0800 2016</td>\n",
              "      <td>Wed Nov 09 17:38:20 -0800 2016</td>\n",
              "      <td>NaN</td>\n",
              "      <td>NaN</td>\n",
              "      <td>5</td>\n",
              "      <td>1</td>\n",
              "    </tr>\n",
              "    <tr>\n",
              "      <th>4</th>\n",
              "      <td>8842281e1d1347389f2ab93d60773d4d</td>\n",
              "      <td>25884323</td>\n",
              "      <td>332732725863131279a8e345b63ac33e</td>\n",
              "      <td>4</td>\n",
              "      <td>I really enjoyed this book, and there is a lot...</td>\n",
              "      <td>Mon Apr 25 09:31:23 -0700 2016</td>\n",
              "      <td>Mon Apr 25 09:31:23 -0700 2016</td>\n",
              "      <td>Sun Jun 26 00:00:00 -0700 2016</td>\n",
              "      <td>Sat May 28 00:00:00 -0700 2016</td>\n",
              "      <td>9</td>\n",
              "      <td>1</td>\n",
              "    </tr>\n",
              "    <tr>\n",
              "      <th>...</th>\n",
              "      <td>...</td>\n",
              "      <td>...</td>\n",
              "      <td>...</td>\n",
              "      <td>...</td>\n",
              "      <td>...</td>\n",
              "      <td>...</td>\n",
              "      <td>...</td>\n",
              "      <td>...</td>\n",
              "      <td>...</td>\n",
              "      <td>...</td>\n",
              "      <td>...</td>\n",
              "    </tr>\n",
              "    <tr>\n",
              "      <th>899995</th>\n",
              "      <td>b9450d1c1f97f891c392b1105959b56e</td>\n",
              "      <td>11832081</td>\n",
              "      <td>7c34c15ad8cb28a4afca32946e2016ea</td>\n",
              "      <td>3</td>\n",
              "      <td>3.5 stars. \\n Jenna is a popular YA author and...</td>\n",
              "      <td>Fri Nov 16 22:10:17 -0800 2012</td>\n",
              "      <td>Sat Nov 17 22:42:44 -0800 2012</td>\n",
              "      <td>Sat Nov 17 00:00:00 -0800 2012</td>\n",
              "      <td>Fri Nov 16 00:00:00 -0800 2012</td>\n",
              "      <td>0</td>\n",
              "      <td>0</td>\n",
              "    </tr>\n",
              "    <tr>\n",
              "      <th>899996</th>\n",
              "      <td>b9450d1c1f97f891c392b1105959b56e</td>\n",
              "      <td>16095092</td>\n",
              "      <td>e979c735276431915d089cfaf446d64f</td>\n",
              "      <td>3</td>\n",
              "      <td>This was a quick read for me. I have read a lo...</td>\n",
              "      <td>Fri Nov 16 22:09:49 -0800 2012</td>\n",
              "      <td>Sat Nov 17 23:38:58 -0800 2012</td>\n",
              "      <td>Sat Nov 17 00:00:00 -0800 2012</td>\n",
              "      <td>Fri Nov 16 00:00:00 -0800 2012</td>\n",
              "      <td>1</td>\n",
              "      <td>1</td>\n",
              "    </tr>\n",
              "    <tr>\n",
              "      <th>899997</th>\n",
              "      <td>b9450d1c1f97f891c392b1105959b56e</td>\n",
              "      <td>8430896</td>\n",
              "      <td>feb9fe6439f9fbba8a1cce36020ad977</td>\n",
              "      <td>4</td>\n",
              "      <td>** spoiler alert ** \\n 3.5 stars. \\n This book...</td>\n",
              "      <td>Tue Nov 13 05:38:24 -0800 2012</td>\n",
              "      <td>Tue Nov 13 23:29:17 -0800 2012</td>\n",
              "      <td>Tue Nov 13 00:00:00 -0800 2012</td>\n",
              "      <td>Tue Nov 13 00:00:00 -0800 2012</td>\n",
              "      <td>1</td>\n",
              "      <td>0</td>\n",
              "    </tr>\n",
              "    <tr>\n",
              "      <th>899998</th>\n",
              "      <td>b9450d1c1f97f891c392b1105959b56e</td>\n",
              "      <td>12275680</td>\n",
              "      <td>741e29369f70531bfffbd02add86f228</td>\n",
              "      <td>4</td>\n",
              "      <td>** spoiler alert ** \\n Another fun read from M...</td>\n",
              "      <td>Mon Nov 12 05:42:30 -0800 2012</td>\n",
              "      <td>Tue Nov 13 22:32:05 -0800 2012</td>\n",
              "      <td>Tue Nov 13 00:00:00 -0800 2012</td>\n",
              "      <td>Mon Nov 12 00:00:00 -0800 2012</td>\n",
              "      <td>0</td>\n",
              "      <td>0</td>\n",
              "    </tr>\n",
              "    <tr>\n",
              "      <th>899999</th>\n",
              "      <td>b9450d1c1f97f891c392b1105959b56e</td>\n",
              "      <td>17005</td>\n",
              "      <td>d55f3a967230940e75a314700caec9a5</td>\n",
              "      <td>3</td>\n",
              "      <td>** spoiler alert ** \\n 3.5 stars \\n I liked it...</td>\n",
              "      <td>Sun Nov 11 00:05:43 -0800 2012</td>\n",
              "      <td>Sun Nov 11 21:59:08 -0800 2012</td>\n",
              "      <td>Sun Nov 11 00:00:00 -0800 2012</td>\n",
              "      <td>Sun Nov 11 00:00:00 -0800 2012</td>\n",
              "      <td>0</td>\n",
              "      <td>0</td>\n",
              "    </tr>\n",
              "  </tbody>\n",
              "</table>\n",
              "<p>899958 rows × 11 columns</p>\n",
              "</div>\n",
              "      <button class=\"colab-df-convert\" onclick=\"convertToInteractive('df-e4abe465-cc9f-4dea-a918-83f94337386e')\"\n",
              "              title=\"Convert this dataframe to an interactive table.\"\n",
              "              style=\"display:none;\">\n",
              "        \n",
              "  <svg xmlns=\"http://www.w3.org/2000/svg\" height=\"24px\"viewBox=\"0 0 24 24\"\n",
              "       width=\"24px\">\n",
              "    <path d=\"M0 0h24v24H0V0z\" fill=\"none\"/>\n",
              "    <path d=\"M18.56 5.44l.94 2.06.94-2.06 2.06-.94-2.06-.94-.94-2.06-.94 2.06-2.06.94zm-11 1L8.5 8.5l.94-2.06 2.06-.94-2.06-.94L8.5 2.5l-.94 2.06-2.06.94zm10 10l.94 2.06.94-2.06 2.06-.94-2.06-.94-.94-2.06-.94 2.06-2.06.94z\"/><path d=\"M17.41 7.96l-1.37-1.37c-.4-.4-.92-.59-1.43-.59-.52 0-1.04.2-1.43.59L10.3 9.45l-7.72 7.72c-.78.78-.78 2.05 0 2.83L4 21.41c.39.39.9.59 1.41.59.51 0 1.02-.2 1.41-.59l7.78-7.78 2.81-2.81c.8-.78.8-2.07 0-2.86zM5.41 20L4 18.59l7.72-7.72 1.47 1.35L5.41 20z\"/>\n",
              "  </svg>\n",
              "      </button>\n",
              "      \n",
              "  <style>\n",
              "    .colab-df-container {\n",
              "      display:flex;\n",
              "      flex-wrap:wrap;\n",
              "      gap: 12px;\n",
              "    }\n",
              "\n",
              "    .colab-df-convert {\n",
              "      background-color: #E8F0FE;\n",
              "      border: none;\n",
              "      border-radius: 50%;\n",
              "      cursor: pointer;\n",
              "      display: none;\n",
              "      fill: #1967D2;\n",
              "      height: 32px;\n",
              "      padding: 0 0 0 0;\n",
              "      width: 32px;\n",
              "    }\n",
              "\n",
              "    .colab-df-convert:hover {\n",
              "      background-color: #E2EBFA;\n",
              "      box-shadow: 0px 1px 2px rgba(60, 64, 67, 0.3), 0px 1px 3px 1px rgba(60, 64, 67, 0.15);\n",
              "      fill: #174EA6;\n",
              "    }\n",
              "\n",
              "    [theme=dark] .colab-df-convert {\n",
              "      background-color: #3B4455;\n",
              "      fill: #D2E3FC;\n",
              "    }\n",
              "\n",
              "    [theme=dark] .colab-df-convert:hover {\n",
              "      background-color: #434B5C;\n",
              "      box-shadow: 0px 1px 3px 1px rgba(0, 0, 0, 0.15);\n",
              "      filter: drop-shadow(0px 1px 2px rgba(0, 0, 0, 0.3));\n",
              "      fill: #FFFFFF;\n",
              "    }\n",
              "  </style>\n",
              "\n",
              "      <script>\n",
              "        const buttonEl =\n",
              "          document.querySelector('#df-e4abe465-cc9f-4dea-a918-83f94337386e button.colab-df-convert');\n",
              "        buttonEl.style.display =\n",
              "          google.colab.kernel.accessAllowed ? 'block' : 'none';\n",
              "\n",
              "        async function convertToInteractive(key) {\n",
              "          const element = document.querySelector('#df-e4abe465-cc9f-4dea-a918-83f94337386e');\n",
              "          const dataTable =\n",
              "            await google.colab.kernel.invokeFunction('convertToInteractive',\n",
              "                                                     [key], {});\n",
              "          if (!dataTable) return;\n",
              "\n",
              "          const docLinkHtml = 'Like what you see? Visit the ' +\n",
              "            '<a target=\"_blank\" href=https://colab.research.google.com/notebooks/data_table.ipynb>data table notebook</a>'\n",
              "            + ' to learn more about interactive tables.';\n",
              "          element.innerHTML = '';\n",
              "          dataTable['output_type'] = 'display_data';\n",
              "          await google.colab.output.renderOutput(dataTable, element);\n",
              "          const docLink = document.createElement('div');\n",
              "          docLink.innerHTML = docLinkHtml;\n",
              "          element.appendChild(docLink);\n",
              "        }\n",
              "      </script>\n",
              "    </div>\n",
              "  </div>\n",
              "  "
            ]
          },
          "metadata": {},
          "execution_count": 29
        }
      ],
      "id": "nvUEeJnXdb2-"
    },
    {
      "cell_type": "code",
      "source": [
        "df_test.drop_duplicates(subset=['book_id','review_text'])"
      ],
      "metadata": {
        "execution": {
          "iopub.status.busy": "2023-04-17T22:18:54.423629Z",
          "iopub.execute_input": "2023-04-17T22:18:54.424164Z",
          "iopub.status.idle": "2023-04-17T22:18:56.182107Z",
          "shell.execute_reply.started": "2023-04-17T22:18:54.424122Z",
          "shell.execute_reply": "2023-04-17T22:18:56.179639Z"
        },
        "trusted": true,
        "colab": {
          "base_uri": "https://localhost:8080/",
          "height": 1000
        },
        "id": "iGBUdrFSdb2_",
        "outputId": "8a519910-082e-4440-e782-2104339c14a9"
      },
      "execution_count": null,
      "outputs": [
        {
          "output_type": "execute_result",
          "data": {
            "text/plain": [
              "                                 user_id   book_id  \\\n",
              "0       b9450d1c1f97f891c392b1105959b56e   7092507   \n",
              "1       b9450d1c1f97f891c392b1105959b56e   5576654   \n",
              "2       b9450d1c1f97f891c392b1105959b56e  15754052   \n",
              "3       b9450d1c1f97f891c392b1105959b56e     17020   \n",
              "4       b9450d1c1f97f891c392b1105959b56e  12551082   \n",
              "...                                  ...       ...   \n",
              "478028  35cef391b171b4fca45771e508028212  15745950   \n",
              "478029  35cef391b171b4fca45771e508028212  10861195   \n",
              "478030  35cef391b171b4fca45771e508028212   6131164   \n",
              "478031  35cef391b171b4fca45771e508028212  10025305   \n",
              "478032  35cef391b171b4fca45771e508028212   6482837   \n",
              "\n",
              "                               review_id  \\\n",
              "0       5c4df7e70e9b438c761f07a4620ccb7c   \n",
              "1       8eaeaf13213eeb16ad879a2a2591bbe5   \n",
              "2       dce649b733c153ba5363a0413cac988f   \n",
              "3       8a46df0bb997269d6834f9437a4b0a77   \n",
              "4       d11d3091e22f1cf3cb865598de197599   \n",
              "...                                  ...   \n",
              "478028  0e1db3d4b04256f9660f5d276ddf1314   \n",
              "478029  0b7f352e58caf0fd1f961e98ef04e89c   \n",
              "478030  9b19eff33ddb14e9e68fca2e90379e46   \n",
              "478031  8be463fed78f0da63e964706f710332b   \n",
              "478032  62ed1263c7d216986cc419cd4e8a408b   \n",
              "\n",
              "                                              review_text  \\\n",
              "0       ** spoiler alert ** \\n This is definitely one ...   \n",
              "1       ** spoiler alert ** \\n \"You are what you drink...   \n",
              "2       Roar is one of my favorite characters in Under...   \n",
              "3       ** spoiler alert ** \\n If you feel like travel...   \n",
              "4       3.5 stars \\n I read and enjoyed the first two ...   \n",
              "...                                                   ...   \n",
              "478028  Can't wait for Travis' POV \\n Travis Before Ab...   \n",
              "478029  Had this on my to-read shelf forever. Will upd...   \n",
              "478030  The last book left me wanting for more. I need...   \n",
              "478031  Things are heating up in the second novel of I...   \n",
              "478032  Before I even start this review, I must say th...   \n",
              "\n",
              "                            date_added                    date_updated  \\\n",
              "0       Sat Nov 10 06:06:13 -0800 2012  Sun Nov 11 05:38:36 -0800 2012   \n",
              "1       Fri Nov 09 21:55:16 -0800 2012  Sat Nov 10 05:41:49 -0800 2012   \n",
              "2       Fri Nov 09 00:25:50 -0800 2012  Sat Nov 10 06:14:10 -0800 2012   \n",
              "3       Thu Nov 01 00:28:39 -0700 2012  Sat Nov 03 11:35:22 -0700 2012   \n",
              "4       Thu Oct 18 00:57:00 -0700 2012  Mon Apr 01 23:00:51 -0700 2013   \n",
              "...                                ...                             ...   \n",
              "478028  Sun Aug 05 10:26:12 -0700 2012  Tue Apr 16 17:24:00 -0700 2013   \n",
              "478029  Tue Jul 10 23:31:00 -0700 2012  Fri Dec 28 20:05:51 -0800 2012   \n",
              "478030  Tue Jul 10 19:45:17 -0700 2012  Mon Mar 25 18:41:51 -0700 2013   \n",
              "478031  Thu Jul 05 19:19:30 -0700 2012  Thu Jan 24 16:24:54 -0800 2013   \n",
              "478032  Mon Jun 04 18:06:26 -0700 2012  Sat Dec 29 17:47:56 -0800 2012   \n",
              "\n",
              "                               read_at                      started_at  \\\n",
              "0       Sun Nov 11 05:38:36 -0800 2012  Sat Nov 10 00:00:00 -0800 2012   \n",
              "1       Sat Nov 10 05:41:49 -0800 2012  Fri Nov 09 00:00:00 -0800 2012   \n",
              "2       Sat Nov 10 06:14:10 -0800 2012  Fri Nov 09 00:00:00 -0800 2012   \n",
              "3       Sat Nov 03 11:35:22 -0700 2012  Thu Nov 01 00:00:00 -0700 2012   \n",
              "4       Sat Mar 30 00:00:00 -0700 2013  Fri Mar 29 00:00:00 -0700 2013   \n",
              "...                                ...                             ...   \n",
              "478028  Tue Apr 16 00:00:00 -0700 2013                             NaN   \n",
              "478029                             NaN                             NaN   \n",
              "478030  Tue Mar 19 00:00:00 -0700 2013                             NaN   \n",
              "478031  Mon Jan 14 00:00:00 -0800 2013                             NaN   \n",
              "478032                             NaN                             NaN   \n",
              "\n",
              "        n_votes  n_comments  \n",
              "0             1           0  \n",
              "1             1           0  \n",
              "2             0           0  \n",
              "3             0           0  \n",
              "4             0           0  \n",
              "...         ...         ...  \n",
              "478028        0           0  \n",
              "478029        0           0  \n",
              "478030        0           0  \n",
              "478031        0           0  \n",
              "478032        0           0  \n",
              "\n",
              "[478000 rows x 10 columns]"
            ],
            "text/html": [
              "\n",
              "  <div id=\"df-402f7fd6-1ad9-4068-ad84-56df3366ae24\">\n",
              "    <div class=\"colab-df-container\">\n",
              "      <div>\n",
              "<style scoped>\n",
              "    .dataframe tbody tr th:only-of-type {\n",
              "        vertical-align: middle;\n",
              "    }\n",
              "\n",
              "    .dataframe tbody tr th {\n",
              "        vertical-align: top;\n",
              "    }\n",
              "\n",
              "    .dataframe thead th {\n",
              "        text-align: right;\n",
              "    }\n",
              "</style>\n",
              "<table border=\"1\" class=\"dataframe\">\n",
              "  <thead>\n",
              "    <tr style=\"text-align: right;\">\n",
              "      <th></th>\n",
              "      <th>user_id</th>\n",
              "      <th>book_id</th>\n",
              "      <th>review_id</th>\n",
              "      <th>review_text</th>\n",
              "      <th>date_added</th>\n",
              "      <th>date_updated</th>\n",
              "      <th>read_at</th>\n",
              "      <th>started_at</th>\n",
              "      <th>n_votes</th>\n",
              "      <th>n_comments</th>\n",
              "    </tr>\n",
              "  </thead>\n",
              "  <tbody>\n",
              "    <tr>\n",
              "      <th>0</th>\n",
              "      <td>b9450d1c1f97f891c392b1105959b56e</td>\n",
              "      <td>7092507</td>\n",
              "      <td>5c4df7e70e9b438c761f07a4620ccb7c</td>\n",
              "      <td>** spoiler alert ** \\n This is definitely one ...</td>\n",
              "      <td>Sat Nov 10 06:06:13 -0800 2012</td>\n",
              "      <td>Sun Nov 11 05:38:36 -0800 2012</td>\n",
              "      <td>Sun Nov 11 05:38:36 -0800 2012</td>\n",
              "      <td>Sat Nov 10 00:00:00 -0800 2012</td>\n",
              "      <td>1</td>\n",
              "      <td>0</td>\n",
              "    </tr>\n",
              "    <tr>\n",
              "      <th>1</th>\n",
              "      <td>b9450d1c1f97f891c392b1105959b56e</td>\n",
              "      <td>5576654</td>\n",
              "      <td>8eaeaf13213eeb16ad879a2a2591bbe5</td>\n",
              "      <td>** spoiler alert ** \\n \"You are what you drink...</td>\n",
              "      <td>Fri Nov 09 21:55:16 -0800 2012</td>\n",
              "      <td>Sat Nov 10 05:41:49 -0800 2012</td>\n",
              "      <td>Sat Nov 10 05:41:49 -0800 2012</td>\n",
              "      <td>Fri Nov 09 00:00:00 -0800 2012</td>\n",
              "      <td>1</td>\n",
              "      <td>0</td>\n",
              "    </tr>\n",
              "    <tr>\n",
              "      <th>2</th>\n",
              "      <td>b9450d1c1f97f891c392b1105959b56e</td>\n",
              "      <td>15754052</td>\n",
              "      <td>dce649b733c153ba5363a0413cac988f</td>\n",
              "      <td>Roar is one of my favorite characters in Under...</td>\n",
              "      <td>Fri Nov 09 00:25:50 -0800 2012</td>\n",
              "      <td>Sat Nov 10 06:14:10 -0800 2012</td>\n",
              "      <td>Sat Nov 10 06:14:10 -0800 2012</td>\n",
              "      <td>Fri Nov 09 00:00:00 -0800 2012</td>\n",
              "      <td>0</td>\n",
              "      <td>0</td>\n",
              "    </tr>\n",
              "    <tr>\n",
              "      <th>3</th>\n",
              "      <td>b9450d1c1f97f891c392b1105959b56e</td>\n",
              "      <td>17020</td>\n",
              "      <td>8a46df0bb997269d6834f9437a4b0a77</td>\n",
              "      <td>** spoiler alert ** \\n If you feel like travel...</td>\n",
              "      <td>Thu Nov 01 00:28:39 -0700 2012</td>\n",
              "      <td>Sat Nov 03 11:35:22 -0700 2012</td>\n",
              "      <td>Sat Nov 03 11:35:22 -0700 2012</td>\n",
              "      <td>Thu Nov 01 00:00:00 -0700 2012</td>\n",
              "      <td>0</td>\n",
              "      <td>0</td>\n",
              "    </tr>\n",
              "    <tr>\n",
              "      <th>4</th>\n",
              "      <td>b9450d1c1f97f891c392b1105959b56e</td>\n",
              "      <td>12551082</td>\n",
              "      <td>d11d3091e22f1cf3cb865598de197599</td>\n",
              "      <td>3.5 stars \\n I read and enjoyed the first two ...</td>\n",
              "      <td>Thu Oct 18 00:57:00 -0700 2012</td>\n",
              "      <td>Mon Apr 01 23:00:51 -0700 2013</td>\n",
              "      <td>Sat Mar 30 00:00:00 -0700 2013</td>\n",
              "      <td>Fri Mar 29 00:00:00 -0700 2013</td>\n",
              "      <td>0</td>\n",
              "      <td>0</td>\n",
              "    </tr>\n",
              "    <tr>\n",
              "      <th>...</th>\n",
              "      <td>...</td>\n",
              "      <td>...</td>\n",
              "      <td>...</td>\n",
              "      <td>...</td>\n",
              "      <td>...</td>\n",
              "      <td>...</td>\n",
              "      <td>...</td>\n",
              "      <td>...</td>\n",
              "      <td>...</td>\n",
              "      <td>...</td>\n",
              "    </tr>\n",
              "    <tr>\n",
              "      <th>478028</th>\n",
              "      <td>35cef391b171b4fca45771e508028212</td>\n",
              "      <td>15745950</td>\n",
              "      <td>0e1db3d4b04256f9660f5d276ddf1314</td>\n",
              "      <td>Can't wait for Travis' POV \\n Travis Before Ab...</td>\n",
              "      <td>Sun Aug 05 10:26:12 -0700 2012</td>\n",
              "      <td>Tue Apr 16 17:24:00 -0700 2013</td>\n",
              "      <td>Tue Apr 16 00:00:00 -0700 2013</td>\n",
              "      <td>NaN</td>\n",
              "      <td>0</td>\n",
              "      <td>0</td>\n",
              "    </tr>\n",
              "    <tr>\n",
              "      <th>478029</th>\n",
              "      <td>35cef391b171b4fca45771e508028212</td>\n",
              "      <td>10861195</td>\n",
              "      <td>0b7f352e58caf0fd1f961e98ef04e89c</td>\n",
              "      <td>Had this on my to-read shelf forever. Will upd...</td>\n",
              "      <td>Tue Jul 10 23:31:00 -0700 2012</td>\n",
              "      <td>Fri Dec 28 20:05:51 -0800 2012</td>\n",
              "      <td>NaN</td>\n",
              "      <td>NaN</td>\n",
              "      <td>0</td>\n",
              "      <td>0</td>\n",
              "    </tr>\n",
              "    <tr>\n",
              "      <th>478030</th>\n",
              "      <td>35cef391b171b4fca45771e508028212</td>\n",
              "      <td>6131164</td>\n",
              "      <td>9b19eff33ddb14e9e68fca2e90379e46</td>\n",
              "      <td>The last book left me wanting for more. I need...</td>\n",
              "      <td>Tue Jul 10 19:45:17 -0700 2012</td>\n",
              "      <td>Mon Mar 25 18:41:51 -0700 2013</td>\n",
              "      <td>Tue Mar 19 00:00:00 -0700 2013</td>\n",
              "      <td>NaN</td>\n",
              "      <td>0</td>\n",
              "      <td>0</td>\n",
              "    </tr>\n",
              "    <tr>\n",
              "      <th>478031</th>\n",
              "      <td>35cef391b171b4fca45771e508028212</td>\n",
              "      <td>10025305</td>\n",
              "      <td>8be463fed78f0da63e964706f710332b</td>\n",
              "      <td>Things are heating up in the second novel of I...</td>\n",
              "      <td>Thu Jul 05 19:19:30 -0700 2012</td>\n",
              "      <td>Thu Jan 24 16:24:54 -0800 2013</td>\n",
              "      <td>Mon Jan 14 00:00:00 -0800 2013</td>\n",
              "      <td>NaN</td>\n",
              "      <td>0</td>\n",
              "      <td>0</td>\n",
              "    </tr>\n",
              "    <tr>\n",
              "      <th>478032</th>\n",
              "      <td>35cef391b171b4fca45771e508028212</td>\n",
              "      <td>6482837</td>\n",
              "      <td>62ed1263c7d216986cc419cd4e8a408b</td>\n",
              "      <td>Before I even start this review, I must say th...</td>\n",
              "      <td>Mon Jun 04 18:06:26 -0700 2012</td>\n",
              "      <td>Sat Dec 29 17:47:56 -0800 2012</td>\n",
              "      <td>NaN</td>\n",
              "      <td>NaN</td>\n",
              "      <td>0</td>\n",
              "      <td>0</td>\n",
              "    </tr>\n",
              "  </tbody>\n",
              "</table>\n",
              "<p>478000 rows × 10 columns</p>\n",
              "</div>\n",
              "      <button class=\"colab-df-convert\" onclick=\"convertToInteractive('df-402f7fd6-1ad9-4068-ad84-56df3366ae24')\"\n",
              "              title=\"Convert this dataframe to an interactive table.\"\n",
              "              style=\"display:none;\">\n",
              "        \n",
              "  <svg xmlns=\"http://www.w3.org/2000/svg\" height=\"24px\"viewBox=\"0 0 24 24\"\n",
              "       width=\"24px\">\n",
              "    <path d=\"M0 0h24v24H0V0z\" fill=\"none\"/>\n",
              "    <path d=\"M18.56 5.44l.94 2.06.94-2.06 2.06-.94-2.06-.94-.94-2.06-.94 2.06-2.06.94zm-11 1L8.5 8.5l.94-2.06 2.06-.94-2.06-.94L8.5 2.5l-.94 2.06-2.06.94zm10 10l.94 2.06.94-2.06 2.06-.94-2.06-.94-.94-2.06-.94 2.06-2.06.94z\"/><path d=\"M17.41 7.96l-1.37-1.37c-.4-.4-.92-.59-1.43-.59-.52 0-1.04.2-1.43.59L10.3 9.45l-7.72 7.72c-.78.78-.78 2.05 0 2.83L4 21.41c.39.39.9.59 1.41.59.51 0 1.02-.2 1.41-.59l7.78-7.78 2.81-2.81c.8-.78.8-2.07 0-2.86zM5.41 20L4 18.59l7.72-7.72 1.47 1.35L5.41 20z\"/>\n",
              "  </svg>\n",
              "      </button>\n",
              "      \n",
              "  <style>\n",
              "    .colab-df-container {\n",
              "      display:flex;\n",
              "      flex-wrap:wrap;\n",
              "      gap: 12px;\n",
              "    }\n",
              "\n",
              "    .colab-df-convert {\n",
              "      background-color: #E8F0FE;\n",
              "      border: none;\n",
              "      border-radius: 50%;\n",
              "      cursor: pointer;\n",
              "      display: none;\n",
              "      fill: #1967D2;\n",
              "      height: 32px;\n",
              "      padding: 0 0 0 0;\n",
              "      width: 32px;\n",
              "    }\n",
              "\n",
              "    .colab-df-convert:hover {\n",
              "      background-color: #E2EBFA;\n",
              "      box-shadow: 0px 1px 2px rgba(60, 64, 67, 0.3), 0px 1px 3px 1px rgba(60, 64, 67, 0.15);\n",
              "      fill: #174EA6;\n",
              "    }\n",
              "\n",
              "    [theme=dark] .colab-df-convert {\n",
              "      background-color: #3B4455;\n",
              "      fill: #D2E3FC;\n",
              "    }\n",
              "\n",
              "    [theme=dark] .colab-df-convert:hover {\n",
              "      background-color: #434B5C;\n",
              "      box-shadow: 0px 1px 3px 1px rgba(0, 0, 0, 0.15);\n",
              "      filter: drop-shadow(0px 1px 2px rgba(0, 0, 0, 0.3));\n",
              "      fill: #FFFFFF;\n",
              "    }\n",
              "  </style>\n",
              "\n",
              "      <script>\n",
              "        const buttonEl =\n",
              "          document.querySelector('#df-402f7fd6-1ad9-4068-ad84-56df3366ae24 button.colab-df-convert');\n",
              "        buttonEl.style.display =\n",
              "          google.colab.kernel.accessAllowed ? 'block' : 'none';\n",
              "\n",
              "        async function convertToInteractive(key) {\n",
              "          const element = document.querySelector('#df-402f7fd6-1ad9-4068-ad84-56df3366ae24');\n",
              "          const dataTable =\n",
              "            await google.colab.kernel.invokeFunction('convertToInteractive',\n",
              "                                                     [key], {});\n",
              "          if (!dataTable) return;\n",
              "\n",
              "          const docLinkHtml = 'Like what you see? Visit the ' +\n",
              "            '<a target=\"_blank\" href=https://colab.research.google.com/notebooks/data_table.ipynb>data table notebook</a>'\n",
              "            + ' to learn more about interactive tables.';\n",
              "          element.innerHTML = '';\n",
              "          dataTable['output_type'] = 'display_data';\n",
              "          await google.colab.output.renderOutput(dataTable, element);\n",
              "          const docLink = document.createElement('div');\n",
              "          docLink.innerHTML = docLinkHtml;\n",
              "          element.appendChild(docLink);\n",
              "        }\n",
              "      </script>\n",
              "    </div>\n",
              "  </div>\n",
              "  "
            ]
          },
          "metadata": {},
          "execution_count": 30
        }
      ],
      "id": "iGBUdrFSdb2_"
    },
    {
      "cell_type": "code",
      "source": [
        "print('Количество уникальных отзывов в train', len(df['review_id'].unique()))\n",
        "print('Количество уникальных пользователей в train', len(df['user_id'].unique()))\n",
        "print('Количество уникальных книг в train', len(df['book_id'].unique()))\n",
        "\n",
        "print('Количество уникальных отзывов в test', len(df_test['review_id'].unique()))\n",
        "print('Количество уникальных пользователей в test', len(df_test['user_id'].unique()))\n",
        "print('Количество уникальных книг в test', len(df_test['book_id'].unique()))"
      ],
      "metadata": {
        "colab": {
          "base_uri": "https://localhost:8080/"
        },
        "id": "2C7IXStby1uN",
        "outputId": "8a7f6d8a-26f2-40c6-fd00-d80effa3572a"
      },
      "execution_count": null,
      "outputs": [
        {
          "output_type": "stream",
          "name": "stdout",
          "text": [
            "Количество уникальных отзывов в train 900000\n",
            "Количество уникальных пользователей в train 12188\n",
            "Количество уникальных книг в train 25474\n",
            "Количество уникальных отзывов в test 478033\n",
            "Количество уникальных пользователей в test 6705\n",
            "Количество уникальных книг в test 25399\n"
          ]
        }
      ],
      "id": "2C7IXStby1uN"
    },
    {
      "cell_type": "code",
      "source": [
        "print('Количество пустых значений в train датасете')\n",
        "df.isna().sum()"
      ],
      "metadata": {
        "colab": {
          "base_uri": "https://localhost:8080/"
        },
        "id": "2a78bfbc-ff8c-406d-98f0-f9f45e0ebe07",
        "outputId": "229a3e2d-1056-4f79-8c7f-0a03cd6db693"
      },
      "execution_count": null,
      "outputs": [
        {
          "output_type": "stream",
          "name": "stdout",
          "text": [
            "Количество пустых значений в train датасете\n"
          ]
        },
        {
          "output_type": "execute_result",
          "data": {
            "text/plain": [
              "user_id              0\n",
              "book_id              0\n",
              "review_id            0\n",
              "rating               0\n",
              "review_text          0\n",
              "date_added           0\n",
              "date_updated         0\n",
              "read_at          91766\n",
              "started_at      274297\n",
              "n_votes              0\n",
              "n_comments           0\n",
              "dtype: int64"
            ]
          },
          "metadata": {},
          "execution_count": 32
        }
      ],
      "id": "2a78bfbc-ff8c-406d-98f0-f9f45e0ebe07"
    },
    {
      "cell_type": "code",
      "source": [
        "print('Количество пустых значений в test датасете')\n",
        "df_test.isna().sum()"
      ],
      "metadata": {
        "colab": {
          "base_uri": "https://localhost:8080/"
        },
        "id": "hW1eHCC97dSJ",
        "outputId": "b64fd711-274c-4c33-9565-0ffa389fbc68"
      },
      "execution_count": null,
      "outputs": [
        {
          "output_type": "stream",
          "name": "stdout",
          "text": [
            "Количество пустых значений в test датасете\n"
          ]
        },
        {
          "output_type": "execute_result",
          "data": {
            "text/plain": [
              "user_id              0\n",
              "book_id              0\n",
              "review_id            0\n",
              "review_text          0\n",
              "date_added           0\n",
              "date_updated         0\n",
              "read_at          42478\n",
              "started_at      143044\n",
              "n_votes              0\n",
              "n_comments           0\n",
              "dtype: int64"
            ]
          },
          "metadata": {},
          "execution_count": 33
        }
      ],
      "id": "hW1eHCC97dSJ"
    },
    {
      "cell_type": "markdown",
      "source": [
        "Видим, что пустые значения есть только в колонках с датой начала и конца чтения, что свидетельствует о том, что в целом не все пользователи заполняют эти поля и мало кто отслеживает. Из дат можно вытащить колво дней,за которое читалась книга. Для значений NaN проставить среднее."
      ],
      "metadata": {
        "id": "83002311"
      },
      "id": "83002311"
    },
    {
      "cell_type": "markdown",
      "source": [
        "# Распределение целевой переменной"
      ],
      "metadata": {
        "id": "b5b63337"
      },
      "id": "b5b63337"
    },
    {
      "cell_type": "code",
      "source": [
        "sns.countplot(x = 'rating', data = df, palette = 'magma')\n",
        "plt.title('Rating count')\n",
        "plt.show()"
      ],
      "metadata": {
        "colab": {
          "base_uri": "https://localhost:8080/"
        },
        "id": "0941cf3b-731e-4ab5-a7fc-94b57062a0aa",
        "outputId": "a5d40f46-9f1a-4dd9-b404-15a46682af69",
        "scrolled": true
      },
      "execution_count": null,
      "outputs": [
        {
          "output_type": "display_data",
          "data": {
            "text/plain": [
              "<Figure size 1700x700 with 1 Axes>"
            ],
            "image/png": "[encoded data removed]"
          },
          "metadata": {}
        }
      ],
      "id": "0941cf3b-731e-4ab5-a7fc-94b57062a0aa"
    },
    {
      "cell_type": "markdown",
      "source": [
        "Видим, что чаще всего ставят оценку 4, оценки 0 и 1 встречаются практически одинаковое количество раз и очень редко (~25к каждый) => \n",
        "достаточно маленький процент пользователей дает плохуй оценку книгам, возможно многие боятся ставить высокую оценку, \n",
        "поэтому, выбирают 4."
      ],
      "metadata": {
        "id": "cd3d705f"
      },
      "id": "cd3d705f"
    },
    {
      "cell_type": "markdown",
      "source": [
        "Посмотрим точный процент всех отметок от общего числа"
      ],
      "metadata": {
        "id": "7d045e6e"
      },
      "id": "7d045e6e"
    },
    {
      "cell_type": "code",
      "source": [
        "colors = sns.color_palette('pastel')[0:6]\n",
        "data = df['rating'].value_counts()\n",
        "labels = data.index\n",
        "\n",
        "plt.pie(data, labels = labels, colors = colors, autopct='%.0f%%')\n",
        "plt.title('Распределение целевой переменной')\n",
        "plt.show()"
      ],
      "metadata": {
        "colab": {
          "base_uri": "https://localhost:8080/"
        },
        "id": "63a28f83",
        "outputId": "6f8e2600-2ee5-482e-e7f5-b3e03ef210fd",
        "scrolled": true
      },
      "execution_count": null,
      "outputs": [
        {
          "output_type": "display_data",
          "data": {
            "text/plain": [
              "<Figure size 1700x700 with 1 Axes>"
            ],
            "image/png": "[encoded data removed]"
          },
          "metadata": {}
        }
      ],
      "id": "63a28f83"
    },
    {
      "cell_type": "markdown",
      "source": [
        "Видим, что у нас крайне несбалансированные данные, большее количество значений распределено между более высокими рейтингами - 3,4 и 5."
      ],
      "metadata": {
        "id": "f5b1a82c"
      },
      "id": "f5b1a82c"
    },
    {
      "cell_type": "markdown",
      "source": [
        "# EDA"
      ],
      "metadata": {
        "id": "pAW6D6cb-Z_o"
      },
      "id": "pAW6D6cb-Z_o"
    },
    {
      "cell_type": "markdown",
      "source": [
        "Возможные гипотезы и в целом мысли:\n",
        " - какие-то пользователи могут в целом ставить высокие или низкие оценки всем книгам, нельзя сразу выкидывать из датасета айдишник пользователя, нужно посмотреть соотношение\n",
        " - можно посмотреть на айдишники книг, какие-то могут получать в целом плохие/хорошие отзывы => тогда если встретим в тесте айдишник на котором уже обучались, можем знать, какую оценку ставить\n",
        " - из дат начала и конца чтения можно вытащить колво дней, которое уходит а чтение книги.\n",
        " - для значений NaN дат начала и конца чтения можно проставить среднее время,за которое читается эта книга или среднее,за которое читает пользователь.\n",
        " - колво войтсов играет роль, тк люди могли прочитать плохой/хороший отзыв, лайкнуть его, прочитать книгу и тоже оставить плохой/хороший отзыв и соответствующую оценку (т.е. отзывы с большим колвом войтсов оказывают влияние на рейтинг книги в последующем)\n",
        " - семантическая окраска отзыва играет значение -> провести анализ на семантику\n",
        " - посмотреть на длину отзыва в целом, среднюю длину предложения, слова и колво слов в предложении, все это может играть роль при выставлении рейтинга\n",
        " "
      ],
      "metadata": {
        "id": "1803f671"
      },
      "id": "1803f671"
    },
    {
      "cell_type": "markdown",
      "source": [
        "## Анализ и добавление новых числовых и категориальных признаков"
      ],
      "metadata": {
        "id": "11fe05ef"
      },
      "id": "11fe05ef"
    },
    {
      "cell_type": "markdown",
      "source": [
        "Посмотрим на пересчение по пользователям в train и test датасетах, чтобы понять, стоит ли тратить время и ресурсы на проверку первой гипотезы. Аналогично со второй."
      ],
      "metadata": {
        "id": "t4i-Hxf97s1X"
      },
      "id": "t4i-Hxf97s1X"
    },
    {
      "cell_type": "code",
      "source": [
        "print('Пользователи в обоих датасетах')\n",
        "np.intersect1d(df[\"user_id\"].unique(), df_test[\"user_id\"].unique())"
      ],
      "metadata": {
        "colab": {
          "base_uri": "https://localhost:8080/"
        },
        "id": "81kqN1ti74D_",
        "outputId": "68896037-6fc6-4305-eeaa-f7553039d448"
      },
      "execution_count": null,
      "outputs": [
        {
          "output_type": "stream",
          "name": "stdout",
          "text": [
            "Пользователи в обоих датасетах\n"
          ]
        },
        {
          "output_type": "execute_result",
          "data": {
            "text/plain": [
              "array(['b9450d1c1f97f891c392b1105959b56e'], dtype=object)"
            ]
          },
          "metadata": {},
          "execution_count": 36
        }
      ],
      "id": "81kqN1ti74D_"
    },
    {
      "cell_type": "code",
      "source": [
        "print('Колво строк в test датасете с общим пользователем')\n",
        "df[df['user_id'] == np.intersect1d(df[\"user_id\"].unique(), df_test[\"user_id\"].unique())[0]].count()[0]"
      ],
      "metadata": {
        "colab": {
          "base_uri": "https://localhost:8080/"
        },
        "id": "3s7VgCKQ8POE",
        "outputId": "22db3f80-d0b5-4d41-ec22-220429523e47"
      },
      "execution_count": null,
      "outputs": [
        {
          "output_type": "stream",
          "name": "stdout",
          "text": [
            "Колво строк в test датасете с общим пользователем\n"
          ]
        },
        {
          "output_type": "execute_result",
          "data": {
            "text/plain": [
              "42"
            ]
          },
          "metadata": {},
          "execution_count": 37
        }
      ],
      "id": "3s7VgCKQ8POE"
    },
    {
      "cell_type": "markdown",
      "source": [
        "Видим, что всего один пользователь присутствует в обоих датасетах и в test с ним не так уж много строк. Не будем тратить время на работу с пользователями."
      ],
      "metadata": {
        "id": "LOjghWPk7-SA"
      },
      "id": "LOjghWPk7-SA"
    },
    {
      "cell_type": "code",
      "source": [
        "print('Книги в обоих датасетах', len(np.intersect1d(df[\"book_id\"].unique(), df_test[\"book_id\"].unique())))\n",
        "print(np.intersect1d(df[\"book_id\"].unique(), df_test[\"book_id\"].unique()))"
      ],
      "metadata": {
        "colab": {
          "base_uri": "https://localhost:8080/"
        },
        "id": "UGXmZDWL8D9y",
        "outputId": "acf72659-fb65-4496-b6a0-17aff61dbc49"
      },
      "execution_count": null,
      "outputs": [
        {
          "output_type": "stream",
          "name": "stdout",
          "text": [
            "Книги в обоих датасетах 25398\n",
            "[       1        2        3 ... 36252773 36307629 36328685]\n"
          ]
        }
      ],
      "id": "UGXmZDWL8D9y"
    },
    {
      "cell_type": "markdown",
      "source": [
        "А вот по книгам достаточно большое пересечение, можно поработать с этим. "
      ],
      "metadata": {
        "id": "TUfUNImx9QDi"
      },
      "id": "TUfUNImx9QDi"
    },
    {
      "cell_type": "markdown",
      "source": [
        "Дропнем колонку с айди отзыва, тк она в себе не несет никакой информативной ценности,поскольку на уникальность мы уже датасет проверили."
      ],
      "metadata": {
        "id": "10531625"
      },
      "id": "10531625"
    },
    {
      "cell_type": "code",
      "source": [
        "df = df.drop(columns = ['review_id'])\n",
        "df_test = df_test.drop(columns = ['review_id'])\n",
        "df.head(3)"
      ],
      "metadata": {
        "id": "3be436b2",
        "scrolled": true,
        "execution": {
          "iopub.status.busy": "2023-04-17T22:10:50.186577Z",
          "iopub.execute_input": "2023-04-17T22:10:50.187820Z",
          "iopub.status.idle": "2023-04-17T22:10:50.332619Z",
          "shell.execute_reply.started": "2023-04-17T22:10:50.187768Z",
          "shell.execute_reply": "2023-04-17T22:10:50.331207Z"
        },
        "trusted": true,
        "colab": {
          "base_uri": "https://localhost:8080/",
          "height": 291
        },
        "outputId": "c3d7cd74-89ea-4073-bc3b-329c12657db5"
      },
      "execution_count": null,
      "outputs": [
        {
          "output_type": "execute_result",
          "data": {
            "text/plain": [
              "                            user_id   book_id  rating  \\\n",
              "0  8842281e1d1347389f2ab93d60773d4d  18245960       5   \n",
              "1  8842281e1d1347389f2ab93d60773d4d     16981       3   \n",
              "2  8842281e1d1347389f2ab93d60773d4d  28684704       3   \n",
              "\n",
              "                                         review_text  \\\n",
              "0  This is a special book. It started slow for ab...   \n",
              "1  Recommended by Don Katz. Avail for free in Dec...   \n",
              "2  A fun, fast paced science fiction thriller. I ...   \n",
              "\n",
              "                       date_added                    date_updated  \\\n",
              "0  Sun Jul 30 07:44:10 -0700 2017  Wed Aug 30 00:00:26 -0700 2017   \n",
              "1  Mon Dec 05 10:46:44 -0800 2016  Wed Mar 22 11:37:04 -0700 2017   \n",
              "2  Tue Nov 15 11:29:22 -0800 2016  Mon Mar 20 23:40:27 -0700 2017   \n",
              "\n",
              "                          read_at                      started_at  n_votes  \\\n",
              "0  Sat Aug 26 12:05:52 -0700 2017  Tue Aug 15 13:23:18 -0700 2017       28   \n",
              "1                             NaN                             NaN        1   \n",
              "2  Sat Mar 18 23:22:42 -0700 2017  Fri Mar 17 23:45:40 -0700 2017       22   \n",
              "\n",
              "   n_comments  \n",
              "0           1  \n",
              "1           0  \n",
              "2           0  "
            ],
            "text/html": [
              "\n",
              "  <div id=\"df-9c82bf7d-6d04-4d17-925e-5663fa91405f\">\n",
              "    <div class=\"colab-df-container\">\n",
              "      <div>\n",
              "<style scoped>\n",
              "    .dataframe tbody tr th:only-of-type {\n",
              "        vertical-align: middle;\n",
              "    }\n",
              "\n",
              "    .dataframe tbody tr th {\n",
              "        vertical-align: top;\n",
              "    }\n",
              "\n",
              "    .dataframe thead th {\n",
              "        text-align: right;\n",
              "    }\n",
              "</style>\n",
              "<table border=\"1\" class=\"dataframe\">\n",
              "  <thead>\n",
              "    <tr style=\"text-align: right;\">\n",
              "      <th></th>\n",
              "      <th>user_id</th>\n",
              "      <th>book_id</th>\n",
              "      <th>rating</th>\n",
              "      <th>review_text</th>\n",
              "      <th>date_added</th>\n",
              "      <th>date_updated</th>\n",
              "      <th>read_at</th>\n",
              "      <th>started_at</th>\n",
              "      <th>n_votes</th>\n",
              "      <th>n_comments</th>\n",
              "    </tr>\n",
              "  </thead>\n",
              "  <tbody>\n",
              "    <tr>\n",
              "      <th>0</th>\n",
              "      <td>8842281e1d1347389f2ab93d60773d4d</td>\n",
              "      <td>18245960</td>\n",
              "      <td>5</td>\n",
              "      <td>This is a special book. It started slow for ab...</td>\n",
              "      <td>Sun Jul 30 07:44:10 -0700 2017</td>\n",
              "      <td>Wed Aug 30 00:00:26 -0700 2017</td>\n",
              "      <td>Sat Aug 26 12:05:52 -0700 2017</td>\n",
              "      <td>Tue Aug 15 13:23:18 -0700 2017</td>\n",
              "      <td>28</td>\n",
              "      <td>1</td>\n",
              "    </tr>\n",
              "    <tr>\n",
              "      <th>1</th>\n",
              "      <td>8842281e1d1347389f2ab93d60773d4d</td>\n",
              "      <td>16981</td>\n",
              "      <td>3</td>\n",
              "      <td>Recommended by Don Katz. Avail for free in Dec...</td>\n",
              "      <td>Mon Dec 05 10:46:44 -0800 2016</td>\n",
              "      <td>Wed Mar 22 11:37:04 -0700 2017</td>\n",
              "      <td>NaN</td>\n",
              "      <td>NaN</td>\n",
              "      <td>1</td>\n",
              "      <td>0</td>\n",
              "    </tr>\n",
              "    <tr>\n",
              "      <th>2</th>\n",
              "      <td>8842281e1d1347389f2ab93d60773d4d</td>\n",
              "      <td>28684704</td>\n",
              "      <td>3</td>\n",
              "      <td>A fun, fast paced science fiction thriller. I ...</td>\n",
              "      <td>Tue Nov 15 11:29:22 -0800 2016</td>\n",
              "      <td>Mon Mar 20 23:40:27 -0700 2017</td>\n",
              "      <td>Sat Mar 18 23:22:42 -0700 2017</td>\n",
              "      <td>Fri Mar 17 23:45:40 -0700 2017</td>\n",
              "      <td>22</td>\n",
              "      <td>0</td>\n",
              "    </tr>\n",
              "  </tbody>\n",
              "</table>\n",
              "</div>\n",
              "      <button class=\"colab-df-convert\" onclick=\"convertToInteractive('df-9c82bf7d-6d04-4d17-925e-5663fa91405f')\"\n",
              "              title=\"Convert this dataframe to an interactive table.\"\n",
              "              style=\"display:none;\">\n",
              "        \n",
              "  <svg xmlns=\"http://www.w3.org/2000/svg\" height=\"24px\"viewBox=\"0 0 24 24\"\n",
              "       width=\"24px\">\n",
              "    <path d=\"M0 0h24v24H0V0z\" fill=\"none\"/>\n",
              "    <path d=\"M18.56 5.44l.94 2.06.94-2.06 2.06-.94-2.06-.94-.94-2.06-.94 2.06-2.06.94zm-11 1L8.5 8.5l.94-2.06 2.06-.94-2.06-.94L8.5 2.5l-.94 2.06-2.06.94zm10 10l.94 2.06.94-2.06 2.06-.94-2.06-.94-.94-2.06-.94 2.06-2.06.94z\"/><path d=\"M17.41 7.96l-1.37-1.37c-.4-.4-.92-.59-1.43-.59-.52 0-1.04.2-1.43.59L10.3 9.45l-7.72 7.72c-.78.78-.78 2.05 0 2.83L4 21.41c.39.39.9.59 1.41.59.51 0 1.02-.2 1.41-.59l7.78-7.78 2.81-2.81c.8-.78.8-2.07 0-2.86zM5.41 20L4 18.59l7.72-7.72 1.47 1.35L5.41 20z\"/>\n",
              "  </svg>\n",
              "      </button>\n",
              "      \n",
              "  <style>\n",
              "    .colab-df-container {\n",
              "      display:flex;\n",
              "      flex-wrap:wrap;\n",
              "      gap: 12px;\n",
              "    }\n",
              "\n",
              "    .colab-df-convert {\n",
              "      background-color: #E8F0FE;\n",
              "      border: none;\n",
              "      border-radius: 50%;\n",
              "      cursor: pointer;\n",
              "      display: none;\n",
              "      fill: #1967D2;\n",
              "      height: 32px;\n",
              "      padding: 0 0 0 0;\n",
              "      width: 32px;\n",
              "    }\n",
              "\n",
              "    .colab-df-convert:hover {\n",
              "      background-color: #E2EBFA;\n",
              "      box-shadow: 0px 1px 2px rgba(60, 64, 67, 0.3), 0px 1px 3px 1px rgba(60, 64, 67, 0.15);\n",
              "      fill: #174EA6;\n",
              "    }\n",
              "\n",
              "    [theme=dark] .colab-df-convert {\n",
              "      background-color: #3B4455;\n",
              "      fill: #D2E3FC;\n",
              "    }\n",
              "\n",
              "    [theme=dark] .colab-df-convert:hover {\n",
              "      background-color: #434B5C;\n",
              "      box-shadow: 0px 1px 3px 1px rgba(0, 0, 0, 0.15);\n",
              "      filter: drop-shadow(0px 1px 2px rgba(0, 0, 0, 0.3));\n",
              "      fill: #FFFFFF;\n",
              "    }\n",
              "  </style>\n",
              "\n",
              "      <script>\n",
              "        const buttonEl =\n",
              "          document.querySelector('#df-9c82bf7d-6d04-4d17-925e-5663fa91405f button.colab-df-convert');\n",
              "        buttonEl.style.display =\n",
              "          google.colab.kernel.accessAllowed ? 'block' : 'none';\n",
              "\n",
              "        async function convertToInteractive(key) {\n",
              "          const element = document.querySelector('#df-9c82bf7d-6d04-4d17-925e-5663fa91405f');\n",
              "          const dataTable =\n",
              "            await google.colab.kernel.invokeFunction('convertToInteractive',\n",
              "                                                     [key], {});\n",
              "          if (!dataTable) return;\n",
              "\n",
              "          const docLinkHtml = 'Like what you see? Visit the ' +\n",
              "            '<a target=\"_blank\" href=https://colab.research.google.com/notebooks/data_table.ipynb>data table notebook</a>'\n",
              "            + ' to learn more about interactive tables.';\n",
              "          element.innerHTML = '';\n",
              "          dataTable['output_type'] = 'display_data';\n",
              "          await google.colab.output.renderOutput(dataTable, element);\n",
              "          const docLink = document.createElement('div');\n",
              "          docLink.innerHTML = docLinkHtml;\n",
              "          element.appendChild(docLink);\n",
              "        }\n",
              "      </script>\n",
              "    </div>\n",
              "  </div>\n",
              "  "
            ]
          },
          "metadata": {},
          "execution_count": 39
        }
      ],
      "id": "3be436b2"
    },
    {
      "cell_type": "markdown",
      "source": [
        "Посмотрим для начала на мини тепловую карту датасета, может быть какие-то колонки коррелируют между собой."
      ],
      "metadata": {
        "id": "1f32f287"
      },
      "id": "1f32f287"
    },
    {
      "cell_type": "code",
      "source": [
        "sns.heatmap(df[['book_id', 'rating', 'n_votes', 'n_comments']].corr(), annot = True, fmt='.2g', vmin=-1, vmax=1, center= 0, cmap= 'coolwarm')"
      ],
      "metadata": {
        "colab": {
          "base_uri": "https://localhost:8080/",
          "height": 623
        },
        "id": "64f3f08d",
        "outputId": "b6986caf-23d2-4309-e416-5ea463f52bf0"
      },
      "execution_count": null,
      "outputs": [
        {
          "output_type": "execute_result",
          "data": {
            "text/plain": [
              "<Axes: >"
            ]
          },
          "metadata": {},
          "execution_count": 40
        },
        {
          "output_type": "display_data",
          "data": {
            "text/plain": [
              "<Figure size 1700x700 with 2 Axes>"
            ],
            "image/png": "[encoded data removed]"
          },
          "metadata": {}
        }
      ],
      "id": "64f3f08d"
    },
    {
      "cell_type": "markdown",
      "source": [
        "Видим, что колво войтсов и комментариев коррелируют между собой. Посмотрим внимательнее на значения комментарией и войтсов."
      ],
      "metadata": {
        "id": "c0ad58cd"
      },
      "id": "c0ad58cd"
    },
    {
      "cell_type": "code",
      "source": [
        "print('Количество отрицательных n_votes',df[df['n_votes'] < 0].count()[0])\n",
        "print('Количество отрицательных n_comments',df[df['n_comments'] < 0].count()[0])"
      ],
      "metadata": {
        "colab": {
          "base_uri": "https://localhost:8080/"
        },
        "id": "kmw4aoasixU0",
        "outputId": "e26568bb-cee7-48c2-84e9-f51e20fc1cde"
      },
      "execution_count": null,
      "outputs": [
        {
          "output_type": "stream",
          "name": "stdout",
          "text": [
            "Количество отрицательных n_votes 46\n",
            "Количество отрицательных n_comments 8\n"
          ]
        }
      ],
      "id": "kmw4aoasixU0"
    },
    {
      "cell_type": "markdown",
      "source": [
        "Отрицательные n_votes можно считать за дизлайки, но непонятно, что делать с отрицательными n_comments. Учитывая еще тепловую карту, можем дропнуть n_comments."
      ],
      "metadata": {
        "id": "Og-5a063jDLj"
      },
      "id": "Og-5a063jDLj"
    },
    {
      "cell_type": "code",
      "source": [
        "df = df.drop(columns = ['n_comments'])\n",
        "df_test = df_test.drop(columns = ['n_comments'])"
      ],
      "metadata": {
        "id": "14e125b4"
      },
      "execution_count": null,
      "outputs": [],
      "id": "14e125b4"
    },
    {
      "cell_type": "markdown",
      "source": [
        "Посмотрим на зависимость рейтинга от колва войтсов"
      ],
      "metadata": {
        "id": "7c01eb44"
      },
      "id": "7c01eb44"
    },
    {
      "cell_type": "code",
      "source": [
        "sns.scatterplot(x=df['n_votes'], y=df['rating'])\n",
        "plt.xlabel('Number of votes')\n",
        "plt.ylabel('Rating')\n",
        "plt.title('Rating vs. Review Length')\n",
        "plt.show()"
      ],
      "metadata": {
        "colab": {
          "base_uri": "https://localhost:8080/",
          "height": 596
        },
        "id": "7f093052",
        "outputId": "7439c782-5510-48a8-aed9-d24e420df96c",
        "scrolled": true
      },
      "execution_count": null,
      "outputs": [
        {
          "output_type": "display_data",
          "data": {
            "text/plain": [
              "<Figure size 1700x700 with 1 Axes>"
            ],
            "image/png": "[encoded data removed]"
          },
          "metadata": {}
        }
      ],
      "id": "7f093052"
    },
    {
      "cell_type": "markdown",
      "source": [
        "Видно, что для рейтингов 1 и 5 очень часто ставят войтсы, значения на графике расположены плотно друг к другу и их достаточно много. Самые залайканные - отзывы с рейтингом 5, 1, 2."
      ],
      "metadata": {
        "id": "aaf7c8bc"
      },
      "id": "aaf7c8bc"
    },
    {
      "cell_type": "markdown",
      "source": [
        "Посчитаем теперь колво дней, за которое читал каждую книгу каждый пользователь."
      ],
      "metadata": {
        "id": "QS6eZ5BP23cI"
      },
      "id": "QS6eZ5BP23cI"
    },
    {
      "cell_type": "code",
      "source": [
        "df['started_at_dt'] = pd.to_datetime(df.started_at) \n",
        "df['read_at_dt'] = pd.to_datetime(df.read_at) \n",
        "df['duration_dt'] = df.read_at_dt - df.started_at_dt \n",
        "df['read_length_days'] = df.duration_dt.dt.days "
      ],
      "metadata": {
        "id": "KmQDpBRc3AhD"
      },
      "execution_count": null,
      "outputs": [],
      "id": "KmQDpBRc3AhD"
    },
    {
      "cell_type": "code",
      "source": [
        "df_test['started_at_dt'] = pd.to_datetime(df_test.started_at, errors = 'coerce') \n",
        "df_test['read_at_dt'] = pd.to_datetime(df_test.read_at, errors = 'coerce') \n",
        "df_test['duration_dt'] = df_test.read_at_dt - df_test.started_at_dt \n",
        "df_test['read_length_days'] = df_test.duration_dt.dt.days "
      ],
      "metadata": {
        "id": "0xE49Besdb3F"
      },
      "execution_count": null,
      "outputs": [],
      "id": "0xE49Besdb3F"
    },
    {
      "cell_type": "code",
      "source": [
        "df = df.drop(columns = ['started_at_dt', 'read_at_dt'])\n",
        "df_test = df_test.drop(columns = ['started_at_dt', 'read_at_dt', 'duration_dt'])"
      ],
      "metadata": {
        "id": "fHsRF_AReVel"
      },
      "id": "fHsRF_AReVel",
      "execution_count": null,
      "outputs": []
    },
    {
      "cell_type": "code",
      "source": [
        "df = df.drop(columns = ['started_at', 'read_at', 'date_added',\t'date_updated'])\n",
        "df_test = df_test.drop(columns = ['started_at', 'read_at', 'date_added',\t'date_updated'])"
      ],
      "metadata": {
        "id": "U3wbdZEAF7dz"
      },
      "id": "U3wbdZEAF7dz",
      "execution_count": null,
      "outputs": []
    },
    {
      "cell_type": "code",
      "source": [
        "# df_new = df.to_csv(r'/content/drive/MyDrive/BooksReview/df_new.csv', index= False)\n",
        "# with open('/content/drive/MyDrive/BooksReview/df_new.csv', 'w') as f:\n",
        "#   f.write(df_new)"
      ],
      "metadata": {
        "id": "ubqzsfLOMqaF"
      },
      "execution_count": null,
      "outputs": [],
      "id": "ubqzsfLOMqaF"
    },
    {
      "cell_type": "code",
      "source": [
        "# df = pd.read_csv('/content/drive/MyDrive/BooksReview/df_new.csv')"
      ],
      "metadata": {
        "id": "dE5J-9FrWNzz"
      },
      "execution_count": null,
      "outputs": [],
      "id": "dE5J-9FrWNzz"
    },
    {
      "cell_type": "code",
      "source": [
        "df.sample(5, random_state = 42)"
      ],
      "metadata": {
        "id": "VJKruBzN_36N",
        "colab": {
          "base_uri": "https://localhost:8080/",
          "height": 423
        },
        "outputId": "85743b5e-3188-4274-89f6-fb1f2a1859d6"
      },
      "execution_count": null,
      "outputs": [
        {
          "output_type": "execute_result",
          "data": {
            "text/plain": [
              "                                 user_id   book_id  rating  \\\n",
              "527984  2fb9a15c821488faf58f15d9f2fe96f2    140079       4   \n",
              "618093  7d2b7728c429ad7b4454ac69ddb2284c   9520360       4   \n",
              "484217  5e6727497b317e459c0acb0eabf93870  11737387       3   \n",
              "161123  53573268e15260bce9b063fc31ccd3ad  12814333       4   \n",
              "718642  02651037306c57971dea2f24ec9be70f   6339664       4   \n",
              "\n",
              "                                              review_text  \\\n",
              "527984  I'm proudly telling you that I'm a big fan of ...   \n",
              "618093  4.25 stars \\n This was so, so much better than...   \n",
              "484217  For some reason finding a good male lead urban...   \n",
              "161123  It's about the son of a pepper merchant who fi...   \n",
              "718642  the most beautiful display of emotions in this...   \n",
              "\n",
              "                            date_added                    date_updated  \\\n",
              "527984  Sat Apr 09 05:52:45 -0700 2011  Mon Apr 25 08:46:47 -0700 2011   \n",
              "618093  Wed Mar 23 14:17:52 -0700 2016  Sat Apr 02 03:51:04 -0700 2016   \n",
              "484217  Thu Nov 14 11:59:22 -0800 2013  Tue Jul 22 12:06:38 -0700 2014   \n",
              "161123  Wed Jul 24 18:38:02 -0700 2013  Tue May 20 14:10:04 -0700 2014   \n",
              "718642  Wed Oct 22 07:51:25 -0700 2014  Fri Sep 25 06:11:45 -0700 2015   \n",
              "\n",
              "                               read_at                      started_at  \\\n",
              "527984  Sat Apr 09 00:00:00 -0700 2011                             NaN   \n",
              "618093  Thu Mar 24 13:27:04 -0700 2016  Wed Mar 23 00:00:00 -0700 2016   \n",
              "484217  Wed Feb 12 14:02:29 -0800 2014  Wed Feb 05 00:00:00 -0800 2014   \n",
              "161123  Tue Jul 30 00:00:00 -0700 2013  Wed Jul 24 00:00:00 -0700 2013   \n",
              "718642  Mon Dec 22 06:26:43 -0800 2014  Sun Dec 07 00:00:00 -0800 2014   \n",
              "\n",
              "        n_votes  read_length_days  \n",
              "527984        0               NaN  \n",
              "618093        3               1.0  \n",
              "484217        1               7.0  \n",
              "161123        0               6.0  \n",
              "718642        0              15.0  "
            ],
            "text/html": [
              "\n",
              "  <div id=\"df-bf2899f8-6d29-441b-93d8-dffd19b243d8\">\n",
              "    <div class=\"colab-df-container\">\n",
              "      <div>\n",
              "<style scoped>\n",
              "    .dataframe tbody tr th:only-of-type {\n",
              "        vertical-align: middle;\n",
              "    }\n",
              "\n",
              "    .dataframe tbody tr th {\n",
              "        vertical-align: top;\n",
              "    }\n",
              "\n",
              "    .dataframe thead th {\n",
              "        text-align: right;\n",
              "    }\n",
              "</style>\n",
              "<table border=\"1\" class=\"dataframe\">\n",
              "  <thead>\n",
              "    <tr style=\"text-align: right;\">\n",
              "      <th></th>\n",
              "      <th>user_id</th>\n",
              "      <th>book_id</th>\n",
              "      <th>rating</th>\n",
              "      <th>review_text</th>\n",
              "      <th>date_added</th>\n",
              "      <th>date_updated</th>\n",
              "      <th>read_at</th>\n",
              "      <th>started_at</th>\n",
              "      <th>n_votes</th>\n",
              "      <th>read_length_days</th>\n",
              "    </tr>\n",
              "  </thead>\n",
              "  <tbody>\n",
              "    <tr>\n",
              "      <th>527984</th>\n",
              "      <td>2fb9a15c821488faf58f15d9f2fe96f2</td>\n",
              "      <td>140079</td>\n",
              "      <td>4</td>\n",
              "      <td>I'm proudly telling you that I'm a big fan of ...</td>\n",
              "      <td>Sat Apr 09 05:52:45 -0700 2011</td>\n",
              "      <td>Mon Apr 25 08:46:47 -0700 2011</td>\n",
              "      <td>Sat Apr 09 00:00:00 -0700 2011</td>\n",
              "      <td>NaN</td>\n",
              "      <td>0</td>\n",
              "      <td>NaN</td>\n",
              "    </tr>\n",
              "    <tr>\n",
              "      <th>618093</th>\n",
              "      <td>7d2b7728c429ad7b4454ac69ddb2284c</td>\n",
              "      <td>9520360</td>\n",
              "      <td>4</td>\n",
              "      <td>4.25 stars \\n This was so, so much better than...</td>\n",
              "      <td>Wed Mar 23 14:17:52 -0700 2016</td>\n",
              "      <td>Sat Apr 02 03:51:04 -0700 2016</td>\n",
              "      <td>Thu Mar 24 13:27:04 -0700 2016</td>\n",
              "      <td>Wed Mar 23 00:00:00 -0700 2016</td>\n",
              "      <td>3</td>\n",
              "      <td>1.0</td>\n",
              "    </tr>\n",
              "    <tr>\n",
              "      <th>484217</th>\n",
              "      <td>5e6727497b317e459c0acb0eabf93870</td>\n",
              "      <td>11737387</td>\n",
              "      <td>3</td>\n",
              "      <td>For some reason finding a good male lead urban...</td>\n",
              "      <td>Thu Nov 14 11:59:22 -0800 2013</td>\n",
              "      <td>Tue Jul 22 12:06:38 -0700 2014</td>\n",
              "      <td>Wed Feb 12 14:02:29 -0800 2014</td>\n",
              "      <td>Wed Feb 05 00:00:00 -0800 2014</td>\n",
              "      <td>1</td>\n",
              "      <td>7.0</td>\n",
              "    </tr>\n",
              "    <tr>\n",
              "      <th>161123</th>\n",
              "      <td>53573268e15260bce9b063fc31ccd3ad</td>\n",
              "      <td>12814333</td>\n",
              "      <td>4</td>\n",
              "      <td>It's about the son of a pepper merchant who fi...</td>\n",
              "      <td>Wed Jul 24 18:38:02 -0700 2013</td>\n",
              "      <td>Tue May 20 14:10:04 -0700 2014</td>\n",
              "      <td>Tue Jul 30 00:00:00 -0700 2013</td>\n",
              "      <td>Wed Jul 24 00:00:00 -0700 2013</td>\n",
              "      <td>0</td>\n",
              "      <td>6.0</td>\n",
              "    </tr>\n",
              "    <tr>\n",
              "      <th>718642</th>\n",
              "      <td>02651037306c57971dea2f24ec9be70f</td>\n",
              "      <td>6339664</td>\n",
              "      <td>4</td>\n",
              "      <td>the most beautiful display of emotions in this...</td>\n",
              "      <td>Wed Oct 22 07:51:25 -0700 2014</td>\n",
              "      <td>Fri Sep 25 06:11:45 -0700 2015</td>\n",
              "      <td>Mon Dec 22 06:26:43 -0800 2014</td>\n",
              "      <td>Sun Dec 07 00:00:00 -0800 2014</td>\n",
              "      <td>0</td>\n",
              "      <td>15.0</td>\n",
              "    </tr>\n",
              "  </tbody>\n",
              "</table>\n",
              "</div>\n",
              "      <button class=\"colab-df-convert\" onclick=\"convertToInteractive('df-bf2899f8-6d29-441b-93d8-dffd19b243d8')\"\n",
              "              title=\"Convert this dataframe to an interactive table.\"\n",
              "              style=\"display:none;\">\n",
              "        \n",
              "  <svg xmlns=\"http://www.w3.org/2000/svg\" height=\"24px\"viewBox=\"0 0 24 24\"\n",
              "       width=\"24px\">\n",
              "    <path d=\"M0 0h24v24H0V0z\" fill=\"none\"/>\n",
              "    <path d=\"M18.56 5.44l.94 2.06.94-2.06 2.06-.94-2.06-.94-.94-2.06-.94 2.06-2.06.94zm-11 1L8.5 8.5l.94-2.06 2.06-.94-2.06-.94L8.5 2.5l-.94 2.06-2.06.94zm10 10l.94 2.06.94-2.06 2.06-.94-2.06-.94-.94-2.06-.94 2.06-2.06.94z\"/><path d=\"M17.41 7.96l-1.37-1.37c-.4-.4-.92-.59-1.43-.59-.52 0-1.04.2-1.43.59L10.3 9.45l-7.72 7.72c-.78.78-.78 2.05 0 2.83L4 21.41c.39.39.9.59 1.41.59.51 0 1.02-.2 1.41-.59l7.78-7.78 2.81-2.81c.8-.78.8-2.07 0-2.86zM5.41 20L4 18.59l7.72-7.72 1.47 1.35L5.41 20z\"/>\n",
              "  </svg>\n",
              "      </button>\n",
              "      \n",
              "  <style>\n",
              "    .colab-df-container {\n",
              "      display:flex;\n",
              "      flex-wrap:wrap;\n",
              "      gap: 12px;\n",
              "    }\n",
              "\n",
              "    .colab-df-convert {\n",
              "      background-color: #E8F0FE;\n",
              "      border: none;\n",
              "      border-radius: 50%;\n",
              "      cursor: pointer;\n",
              "      display: none;\n",
              "      fill: #1967D2;\n",
              "      height: 32px;\n",
              "      padding: 0 0 0 0;\n",
              "      width: 32px;\n",
              "    }\n",
              "\n",
              "    .colab-df-convert:hover {\n",
              "      background-color: #E2EBFA;\n",
              "      box-shadow: 0px 1px 2px rgba(60, 64, 67, 0.3), 0px 1px 3px 1px rgba(60, 64, 67, 0.15);\n",
              "      fill: #174EA6;\n",
              "    }\n",
              "\n",
              "    [theme=dark] .colab-df-convert {\n",
              "      background-color: #3B4455;\n",
              "      fill: #D2E3FC;\n",
              "    }\n",
              "\n",
              "    [theme=dark] .colab-df-convert:hover {\n",
              "      background-color: #434B5C;\n",
              "      box-shadow: 0px 1px 3px 1px rgba(0, 0, 0, 0.15);\n",
              "      filter: drop-shadow(0px 1px 2px rgba(0, 0, 0, 0.3));\n",
              "      fill: #FFFFFF;\n",
              "    }\n",
              "  </style>\n",
              "\n",
              "      <script>\n",
              "        const buttonEl =\n",
              "          document.querySelector('#df-bf2899f8-6d29-441b-93d8-dffd19b243d8 button.colab-df-convert');\n",
              "        buttonEl.style.display =\n",
              "          google.colab.kernel.accessAllowed ? 'block' : 'none';\n",
              "\n",
              "        async function convertToInteractive(key) {\n",
              "          const element = document.querySelector('#df-bf2899f8-6d29-441b-93d8-dffd19b243d8');\n",
              "          const dataTable =\n",
              "            await google.colab.kernel.invokeFunction('convertToInteractive',\n",
              "                                                     [key], {});\n",
              "          if (!dataTable) return;\n",
              "\n",
              "          const docLinkHtml = 'Like what you see? Visit the ' +\n",
              "            '<a target=\"_blank\" href=https://colab.research.google.com/notebooks/data_table.ipynb>data table notebook</a>'\n",
              "            + ' to learn more about interactive tables.';\n",
              "          element.innerHTML = '';\n",
              "          dataTable['output_type'] = 'display_data';\n",
              "          await google.colab.output.renderOutput(dataTable, element);\n",
              "          const docLink = document.createElement('div');\n",
              "          docLink.innerHTML = docLinkHtml;\n",
              "          element.appendChild(docLink);\n",
              "        }\n",
              "      </script>\n",
              "    </div>\n",
              "  </div>\n",
              "  "
            ]
          },
          "metadata": {},
          "execution_count": 49
        }
      ],
      "id": "VJKruBzN_36N"
    },
    {
      "cell_type": "markdown",
      "source": [
        "Посмотрим, сколько NaN значений теперь в колонке длительности чтения."
      ],
      "metadata": {
        "id": "ZQ0ZHFXhAN8m"
      },
      "id": "ZQ0ZHFXhAN8m"
    },
    {
      "cell_type": "code",
      "source": [
        "df.isna().sum()[-1]"
      ],
      "metadata": {
        "id": "kz7L604oAVAq",
        "colab": {
          "base_uri": "https://localhost:8080/"
        },
        "outputId": "940d2c22-f6b9-4034-848c-e23f921706e6"
      },
      "execution_count": null,
      "outputs": [
        {
          "output_type": "execute_result",
          "data": {
            "text/plain": [
              "284493"
            ]
          },
          "metadata": {},
          "execution_count": 50
        }
      ],
      "id": "kz7L604oAVAq"
    },
    {
      "cell_type": "markdown",
      "source": [
        "Посмотрим на распределние колва дней чтения и зависимость рейтинга от колва дней чтения"
      ],
      "metadata": {
        "id": "7MYHYBJcCdpE"
      },
      "id": "7MYHYBJcCdpE"
    },
    {
      "cell_type": "code",
      "source": [
        "plt.subplot(1,2,1)\n",
        "sns.kdeplot(x = df['read_length_days'])\n",
        "plt.legend(df['rating'].unique())\n",
        "plt.xlabel('')\n",
        "plt.ylabel('')\n",
        "\n",
        "plt.show()"
      ],
      "metadata": {
        "id": "d31bn6s_BIyH",
        "colab": {
          "base_uri": "https://localhost:8080/",
          "height": 600
        },
        "outputId": "047371ec-3cac-479e-910b-cf74337da957"
      },
      "execution_count": null,
      "outputs": [
        {
          "output_type": "display_data",
          "data": {
            "text/plain": [
              "<Figure size 1700x700 with 1 Axes>"
            ],
            "image/png": "[encoded data removed]"
          },
          "metadata": {}
        }
      ],
      "id": "d31bn6s_BIyH"
    },
    {
      "cell_type": "code",
      "source": [
        "sns.scatterplot(x=df['read_length_days'], y=df['rating'])\n",
        "plt.xlabel('Number of days reading')\n",
        "plt.ylabel('Rating')\n",
        "plt.title('Rating vs.Number of days reading')\n",
        "plt.show()"
      ],
      "metadata": {
        "id": "pdtAn5e9CslV",
        "colab": {
          "base_uri": "https://localhost:8080/",
          "height": 596
        },
        "outputId": "c3196aff-c6f3-4fd1-f900-662673669512"
      },
      "execution_count": null,
      "outputs": [
        {
          "output_type": "display_data",
          "data": {
            "text/plain": [
              "<Figure size 1700x700 with 1 Axes>"
            ],
            "image/png": "[encoded data removed]"
          },
          "metadata": {}
        }
      ],
      "id": "pdtAn5e9CslV"
    },
    {
      "cell_type": "markdown",
      "source": [
        "Книги с более высоким рейтингом читаются больше и дольше. Плотность распределения значения выше. Также видим, что есть отрицательное колво дней, посмотрим, сколько таких значений."
      ],
      "metadata": {
        "id": "8JCwAZCmDDCb"
      },
      "id": "8JCwAZCmDDCb"
    },
    {
      "cell_type": "code",
      "source": [
        "df[df['read_length_days'] < 0].count()[0]"
      ],
      "metadata": {
        "id": "uT_8QKfYbHUh",
        "colab": {
          "base_uri": "https://localhost:8080/"
        },
        "outputId": "77424042-e65d-4909-90a9-bbda0ae53d34"
      },
      "execution_count": null,
      "outputs": [
        {
          "output_type": "execute_result",
          "data": {
            "text/plain": [
              "19"
            ]
          },
          "metadata": {},
          "execution_count": 53
        }
      ],
      "id": "uT_8QKfYbHUh"
    },
    {
      "cell_type": "code",
      "source": [
        "df['read_length_days'].value_counts()"
      ],
      "metadata": {
        "id": "eq7kOIfGeidi",
        "colab": {
          "base_uri": "https://localhost:8080/"
        },
        "outputId": "37f48483-a996-4e13-ec5b-a4bcc9ea640b"
      },
      "execution_count": null,
      "outputs": [
        {
          "output_type": "execute_result",
          "data": {
            "text/plain": [
              " 1.0       122612\n",
              " 0.0       107493\n",
              " 2.0        82986\n",
              " 3.0        55308\n",
              " 4.0        40082\n",
              "            ...  \n",
              " 1334.0         1\n",
              " 1294.0         1\n",
              "-4381.0         1\n",
              " 955.0          1\n",
              " 833.0          1\n",
              "Name: read_length_days, Length: 1356, dtype: int64"
            ]
          },
          "metadata": {},
          "execution_count": 54
        }
      ],
      "id": "eq7kOIfGeidi"
    },
    {
      "cell_type": "code",
      "source": [
        "df['read_length_days'].value_counts()\n",
        "dic = df['read_length_days'].value_counts()\n",
        "dic.items()"
      ],
      "metadata": {
        "id": "68-Kgr0hcg-u",
        "colab": {
          "base_uri": "https://localhost:8080/"
        },
        "outputId": "72364e37-0df7-42d4-f7d1-127bc579baa3"
      },
      "execution_count": null,
      "outputs": [
        {
          "output_type": "execute_result",
          "data": {
            "text/plain": [
              "<zip at 0x7fe3d8585840>"
            ]
          },
          "metadata": {},
          "execution_count": 55
        }
      ],
      "id": "68-Kgr0hcg-u"
    },
    {
      "cell_type": "markdown",
      "source": [
        "Посмотрим, за какое колво дней в целом чаще читают книги"
      ],
      "metadata": {
        "id": "BK1u09t7bUXS"
      },
      "id": "BK1u09t7bUXS"
    },
    {
      "cell_type": "code",
      "source": [
        "def plot_top_reading_length(data): \n",
        "    dic = data.value_counts()\n",
        "           \n",
        "    top = sorted(dic.items(), key = lambda x: x[1], reverse=True)[:10] \n",
        "    x, y = zip(*top)\n",
        "\n",
        "    fig, ax = plt.subplots()\n",
        "    ax.bar(x,y)\n",
        "    ax.xaxis.set_major_locator(ticker.MultipleLocator(1))\n",
        "    plt.xlabel('Number of days reading')\n",
        "    plt.ylabel('Frequency')\n",
        "    plt.title('Frequency vs.Number of days reading')"
      ],
      "metadata": {
        "id": "AULsTsbTcQqV"
      },
      "execution_count": null,
      "outputs": [],
      "id": "AULsTsbTcQqV"
    },
    {
      "cell_type": "code",
      "source": [
        "plot_top_reading_length(df['read_length_days'])"
      ],
      "metadata": {
        "id": "iwnzmMvuc1St",
        "colab": {
          "base_uri": "https://localhost:8080/",
          "height": 580
        },
        "outputId": "2ea01a39-bffd-44a6-bb50-92c6e4a62147"
      },
      "execution_count": null,
      "outputs": [
        {
          "output_type": "display_data",
          "data": {
            "text/plain": [
              "<Figure size 1700x700 with 1 Axes>"
            ],
            "image/png": "[encoded data removed]"
          },
          "metadata": {}
        }
      ],
      "id": "iwnzmMvuc1St"
    },
    {
      "cell_type": "code",
      "source": [
        "plot_top_reading_length(df_test['read_length_days'])"
      ],
      "metadata": {
        "colab": {
          "base_uri": "https://localhost:8080/",
          "height": 584
        },
        "id": "Bsh_Z3aaBFEA",
        "outputId": "2619127e-8219-452a-e0d6-68097f43a9f2"
      },
      "id": "Bsh_Z3aaBFEA",
      "execution_count": null,
      "outputs": [
        {
          "output_type": "display_data",
          "data": {
            "text/plain": [
              "<Figure size 1700x700 with 1 Axes>"
            ],
            "image/png": "[encoded data removed]"
          },
          "metadata": {}
        }
      ]
    },
    {
      "cell_type": "markdown",
      "source": [
        "Чаще всего книги читают за день, поэтому заполним значения NaN и отрицательные значения единичками."
      ],
      "metadata": {
        "id": "fsK_0jJCfj-C"
      },
      "id": "fsK_0jJCfj-C"
    },
    {
      "cell_type": "code",
      "source": [
        "df['read_length_days'] = df['read_length_days'].fillna(1)\n",
        "df[df['read_length_days'] < 0] = 1\n",
        "\n",
        "df_test['read_length_days'] = df_test['read_length_days'].fillna(1)\n",
        "df_test[df_test['read_length_days'] < 0] = 1\n",
        "\n",
        "print('Колво отрицательных значений read_length_days', df[df['read_length_days'] < 0].count()[0])\n",
        "df.isna().sum()"
      ],
      "metadata": {
        "id": "u6v8HDcagWyN",
        "colab": {
          "base_uri": "https://localhost:8080/"
        },
        "outputId": "24f29084-05ba-428f-a76b-fa2d117c14a7"
      },
      "execution_count": null,
      "outputs": [
        {
          "output_type": "stream",
          "name": "stdout",
          "text": [
            "Колво отрицательных значений read_length_days 0\n"
          ]
        },
        {
          "output_type": "execute_result",
          "data": {
            "text/plain": [
              "user_id                  0\n",
              "book_id                  0\n",
              "rating                   0\n",
              "review_text              0\n",
              "date_added               0\n",
              "date_updated             0\n",
              "read_at              91766\n",
              "started_at          274297\n",
              "n_votes                  0\n",
              "read_length_days         0\n",
              "dtype: int64"
            ]
          },
          "metadata": {},
          "execution_count": 59
        }
      ],
      "id": "u6v8HDcagWyN"
    },
    {
      "cell_type": "code",
      "source": [
        "# df = pd.read_csv('/kaggle/input/new-goodreads/new_train.csv')\n",
        "# df.head(3)"
      ],
      "metadata": {
        "execution": {
          "iopub.status.busy": "2023-04-17T22:09:22.925471Z",
          "iopub.execute_input": "2023-04-17T22:09:22.926214Z",
          "iopub.status.idle": "2023-04-17T22:09:53.173319Z",
          "shell.execute_reply.started": "2023-04-17T22:09:22.926158Z",
          "shell.execute_reply": "2023-04-17T22:09:53.172093Z"
        },
        "trusted": true,
        "id": "jW8h_Ydidb3I"
      },
      "execution_count": null,
      "outputs": [],
      "id": "jW8h_Ydidb3I"
    },
    {
      "cell_type": "code",
      "source": [
        "#df_new = df.to_csv(r'/content/drive/MyDrive/BooksReview/df_new.csv', index= False) #сохраним измененный датасет"
      ],
      "metadata": {
        "id": "rQ0exSDqL7aq"
      },
      "execution_count": null,
      "outputs": [],
      "id": "rQ0exSDqL7aq"
    },
    {
      "cell_type": "code",
      "source": [
        "# sns.heatmap(df[['book_id', 'rating', 'n_votes', 'n_comments', 'read_length_days']].corr(), annot = True, fmt='.2g', vmin=-1, vmax=1, center= 0, cmap= 'coolwarm')"
      ],
      "metadata": {
        "id": "6ZNMRmgLiKqZ"
      },
      "execution_count": null,
      "outputs": [],
      "id": "6ZNMRmgLiKqZ"
    },
    {
      "cell_type": "code",
      "source": [
        "df.to_csv('/content/drive/MyDrive/BooksReview/goodreads_train_upd.csv', index= False)\n",
        "df_test.to_csv('/content/drive/MyDrive/BooksReview/goodreads_test_upd.csv', index= False)"
      ],
      "metadata": {
        "id": "Rv0BkueVfLAG"
      },
      "id": "Rv0BkueVfLAG",
      "execution_count": null,
      "outputs": []
    },
    {
      "cell_type": "code",
      "source": [
        "df = pd.read_csv('/content/drive/MyDrive/BooksReview/goodreads_train_upd.csv')\n",
        "df_test = pd.read_csv('/content/drive/MyDrive/BooksReview/goodreads_test_upd.csv')"
      ],
      "metadata": {
        "id": "kbVWS8SaEGHb"
      },
      "id": "kbVWS8SaEGHb",
      "execution_count": null,
      "outputs": []
    },
    {
      "cell_type": "code",
      "source": [
        "df.head(2)"
      ],
      "metadata": {
        "colab": {
          "base_uri": "https://localhost:8080/",
          "height": 112
        },
        "id": "fSmSNPc2E9yk",
        "outputId": "5aec10c8-d60d-4f1b-9a92-92bd2c09b3bd"
      },
      "id": "fSmSNPc2E9yk",
      "execution_count": null,
      "outputs": [
        {
          "output_type": "execute_result",
          "data": {
            "text/plain": [
              "                            user_id   book_id  rating  \\\n",
              "0  8842281e1d1347389f2ab93d60773d4d  18245960       5   \n",
              "1  8842281e1d1347389f2ab93d60773d4d     16981       3   \n",
              "\n",
              "                                         review_text  n_votes  \\\n",
              "0  This is a special book. It started slow for ab...       28   \n",
              "1  Recommended by Don Katz. Avail for free in Dec...        1   \n",
              "\n",
              "   read_length_days  \n",
              "0              10.0  \n",
              "1               1.0  "
            ],
            "text/html": [
              "\n",
              "  <div id=\"df-23ca68a3-5002-42c7-ba09-dc6f92f21828\">\n",
              "    <div class=\"colab-df-container\">\n",
              "      <div>\n",
              "<style scoped>\n",
              "    .dataframe tbody tr th:only-of-type {\n",
              "        vertical-align: middle;\n",
              "    }\n",
              "\n",
              "    .dataframe tbody tr th {\n",
              "        vertical-align: top;\n",
              "    }\n",
              "\n",
              "    .dataframe thead th {\n",
              "        text-align: right;\n",
              "    }\n",
              "</style>\n",
              "<table border=\"1\" class=\"dataframe\">\n",
              "  <thead>\n",
              "    <tr style=\"text-align: right;\">\n",
              "      <th></th>\n",
              "      <th>user_id</th>\n",
              "      <th>book_id</th>\n",
              "      <th>rating</th>\n",
              "      <th>review_text</th>\n",
              "      <th>n_votes</th>\n",
              "      <th>read_length_days</th>\n",
              "    </tr>\n",
              "  </thead>\n",
              "  <tbody>\n",
              "    <tr>\n",
              "      <th>0</th>\n",
              "      <td>8842281e1d1347389f2ab93d60773d4d</td>\n",
              "      <td>18245960</td>\n",
              "      <td>5</td>\n",
              "      <td>This is a special book. It started slow for ab...</td>\n",
              "      <td>28</td>\n",
              "      <td>10.0</td>\n",
              "    </tr>\n",
              "    <tr>\n",
              "      <th>1</th>\n",
              "      <td>8842281e1d1347389f2ab93d60773d4d</td>\n",
              "      <td>16981</td>\n",
              "      <td>3</td>\n",
              "      <td>Recommended by Don Katz. Avail for free in Dec...</td>\n",
              "      <td>1</td>\n",
              "      <td>1.0</td>\n",
              "    </tr>\n",
              "  </tbody>\n",
              "</table>\n",
              "</div>\n",
              "      <button class=\"colab-df-convert\" onclick=\"convertToInteractive('df-23ca68a3-5002-42c7-ba09-dc6f92f21828')\"\n",
              "              title=\"Convert this dataframe to an interactive table.\"\n",
              "              style=\"display:none;\">\n",
              "        \n",
              "  <svg xmlns=\"http://www.w3.org/2000/svg\" height=\"24px\"viewBox=\"0 0 24 24\"\n",
              "       width=\"24px\">\n",
              "    <path d=\"M0 0h24v24H0V0z\" fill=\"none\"/>\n",
              "    <path d=\"M18.56 5.44l.94 2.06.94-2.06 2.06-.94-2.06-.94-.94-2.06-.94 2.06-2.06.94zm-11 1L8.5 8.5l.94-2.06 2.06-.94-2.06-.94L8.5 2.5l-.94 2.06-2.06.94zm10 10l.94 2.06.94-2.06 2.06-.94-2.06-.94-.94-2.06-.94 2.06-2.06.94z\"/><path d=\"M17.41 7.96l-1.37-1.37c-.4-.4-.92-.59-1.43-.59-.52 0-1.04.2-1.43.59L10.3 9.45l-7.72 7.72c-.78.78-.78 2.05 0 2.83L4 21.41c.39.39.9.59 1.41.59.51 0 1.02-.2 1.41-.59l7.78-7.78 2.81-2.81c.8-.78.8-2.07 0-2.86zM5.41 20L4 18.59l7.72-7.72 1.47 1.35L5.41 20z\"/>\n",
              "  </svg>\n",
              "      </button>\n",
              "      \n",
              "  <style>\n",
              "    .colab-df-container {\n",
              "      display:flex;\n",
              "      flex-wrap:wrap;\n",
              "      gap: 12px;\n",
              "    }\n",
              "\n",
              "    .colab-df-convert {\n",
              "      background-color: #E8F0FE;\n",
              "      border: none;\n",
              "      border-radius: 50%;\n",
              "      cursor: pointer;\n",
              "      display: none;\n",
              "      fill: #1967D2;\n",
              "      height: 32px;\n",
              "      padding: 0 0 0 0;\n",
              "      width: 32px;\n",
              "    }\n",
              "\n",
              "    .colab-df-convert:hover {\n",
              "      background-color: #E2EBFA;\n",
              "      box-shadow: 0px 1px 2px rgba(60, 64, 67, 0.3), 0px 1px 3px 1px rgba(60, 64, 67, 0.15);\n",
              "      fill: #174EA6;\n",
              "    }\n",
              "\n",
              "    [theme=dark] .colab-df-convert {\n",
              "      background-color: #3B4455;\n",
              "      fill: #D2E3FC;\n",
              "    }\n",
              "\n",
              "    [theme=dark] .colab-df-convert:hover {\n",
              "      background-color: #434B5C;\n",
              "      box-shadow: 0px 1px 3px 1px rgba(0, 0, 0, 0.15);\n",
              "      filter: drop-shadow(0px 1px 2px rgba(0, 0, 0, 0.3));\n",
              "      fill: #FFFFFF;\n",
              "    }\n",
              "  </style>\n",
              "\n",
              "      <script>\n",
              "        const buttonEl =\n",
              "          document.querySelector('#df-23ca68a3-5002-42c7-ba09-dc6f92f21828 button.colab-df-convert');\n",
              "        buttonEl.style.display =\n",
              "          google.colab.kernel.accessAllowed ? 'block' : 'none';\n",
              "\n",
              "        async function convertToInteractive(key) {\n",
              "          const element = document.querySelector('#df-23ca68a3-5002-42c7-ba09-dc6f92f21828');\n",
              "          const dataTable =\n",
              "            await google.colab.kernel.invokeFunction('convertToInteractive',\n",
              "                                                     [key], {});\n",
              "          if (!dataTable) return;\n",
              "\n",
              "          const docLinkHtml = 'Like what you see? Visit the ' +\n",
              "            '<a target=\"_blank\" href=https://colab.research.google.com/notebooks/data_table.ipynb>data table notebook</a>'\n",
              "            + ' to learn more about interactive tables.';\n",
              "          element.innerHTML = '';\n",
              "          dataTable['output_type'] = 'display_data';\n",
              "          await google.colab.output.renderOutput(dataTable, element);\n",
              "          const docLink = document.createElement('div');\n",
              "          docLink.innerHTML = docLinkHtml;\n",
              "          element.appendChild(docLink);\n",
              "        }\n",
              "      </script>\n",
              "    </div>\n",
              "  </div>\n",
              "  "
            ]
          },
          "metadata": {},
          "execution_count": 19
        }
      ]
    },
    {
      "cell_type": "markdown",
      "source": [
        "## Анализ отзывов"
      ],
      "metadata": {
        "id": "19b02432"
      },
      "id": "19b02432"
    },
    {
      "cell_type": "markdown",
      "source": [
        "- посчитаем для каждого отзыва его длину, кол-во слов. среднюю длину предложения и среднюю длину слова\n",
        "- почистим отзывы: удалим ссылки, цифры, стоп-слова\n",
        "- приведем все отзывы к нижнему регистру, лемматизируем\n",
        "- посмотрим на эмоциональную окраску каждого отзыва\n",
        "- посмотрим присутствуют ли спойлеры в отзывах, проставим 1 или 0 соответственно\n",
        "- мб удалим слишком короткие отзывы или неинформативные отзывы\n",
        "\n"
      ],
      "metadata": {
        "id": "RBp4pLzojmBi"
      },
      "id": "RBp4pLzojmBi"
    },
    {
      "cell_type": "code",
      "source": [
        "# df_new = pd.read_csv(r'D:\\Kaggle\\Goodreads Books Reviews\\goodreads-books-reviews-290312\\new_train.csv')"
      ],
      "metadata": {
        "id": "eec355e0"
      },
      "execution_count": null,
      "outputs": [],
      "id": "eec355e0"
    },
    {
      "cell_type": "code",
      "source": [
        "# df_test_text = df_test[['review_text']]\n",
        "# df_text = df[['review_text']]"
      ],
      "metadata": {
        "execution": {
          "iopub.status.busy": "2023-04-17T21:16:02.900217Z",
          "iopub.execute_input": "2023-04-17T21:16:02.900770Z",
          "iopub.status.idle": "2023-04-17T21:16:02.941435Z",
          "shell.execute_reply.started": "2023-04-17T21:16:02.900719Z",
          "shell.execute_reply": "2023-04-17T21:16:02.938333Z"
        },
        "trusted": true,
        "id": "aVp5vh6edb3K"
      },
      "execution_count": null,
      "outputs": [],
      "id": "aVp5vh6edb3K"
    },
    {
      "cell_type": "code",
      "source": [
        "# test_text = df_test_text.to_csv('/kaggle/working/test_text.csv', index = False)"
      ],
      "metadata": {
        "execution": {
          "iopub.status.busy": "2023-04-17T21:12:07.973047Z",
          "iopub.execute_input": "2023-04-17T21:12:07.973580Z",
          "iopub.status.idle": "2023-04-17T21:12:20.428946Z",
          "shell.execute_reply.started": "2023-04-17T21:12:07.973537Z",
          "shell.execute_reply": "2023-04-17T21:12:20.426706Z"
        },
        "trusted": true,
        "id": "ZwLKBkwddb3K"
      },
      "execution_count": null,
      "outputs": [],
      "id": "ZwLKBkwddb3K"
    },
    {
      "cell_type": "code",
      "source": [
        "# df_new = pd.read_csv('/content/drive/MyDrive/BooksReview/new_train.csv')"
      ],
      "metadata": {
        "id": "vzg3G-yzdfZQ",
        "execution": {
          "iopub.status.busy": "2023-04-17T21:12:20.431532Z",
          "iopub.execute_input": "2023-04-17T21:12:20.432727Z",
          "iopub.status.idle": "2023-04-17T21:12:20.440203Z",
          "shell.execute_reply.started": "2023-04-17T21:12:20.432641Z",
          "shell.execute_reply": "2023-04-17T21:12:20.438013Z"
        },
        "trusted": true
      },
      "execution_count": null,
      "outputs": [],
      "id": "vzg3G-yzdfZQ"
    },
    {
      "cell_type": "code",
      "source": [
        "# df_new.head(3)"
      ],
      "metadata": {
        "colab": {
          "base_uri": "https://localhost:8080/",
          "height": 398
        },
        "id": "2BM1UNxQdurV",
        "outputId": "8c953580-ef4a-4b33-8071-a3368a09784c"
      },
      "execution_count": null,
      "outputs": [
        {
          "output_type": "execute_result",
          "execution_count": 10,
          "data": {
            "text/plain": [
              "                            user_id   book_id  \\\n",
              "0  8842281e1d1347389f2ab93d60773d4d  18245960   \n",
              "1  8842281e1d1347389f2ab93d60773d4d     16981   \n",
              "2  8842281e1d1347389f2ab93d60773d4d  28684704   \n",
              "\n",
              "                          review_id  rating  \\\n",
              "0  dfdbb7b0eb5a7e4c26d59a937e2e5feb       5   \n",
              "1  a5d2c3628987712d0e05c4f90798eb67       3   \n",
              "2  2ede853b14dc4583f96cf5d120af636f       3   \n",
              "\n",
              "                                         review_text  \\\n",
              "0  This is a special book. It started slow for ab...   \n",
              "1  Recommended by Don Katz. Avail for free in Dec...   \n",
              "2  A fun, fast paced science fiction thriller. I ...   \n",
              "\n",
              "                       date_added                    date_updated  \\\n",
              "0  Sun Jul 30 07:44:10 -0700 2017  Wed Aug 30 00:00:26 -0700 2017   \n",
              "1  Mon Dec 05 10:46:44 -0800 2016  Wed Mar 22 11:37:04 -0700 2017   \n",
              "2  Tue Nov 15 11:29:22 -0800 2016  Mon Mar 20 23:40:27 -0700 2017   \n",
              "\n",
              "                          read_at                      started_at  n_votes  \\\n",
              "0  Sat Aug 26 12:05:52 -0700 2017  Tue Aug 15 13:23:18 -0700 2017       28   \n",
              "1                             NaN                             NaN        1   \n",
              "2  Sat Mar 18 23:22:42 -0700 2017  Fri Mar 17 23:45:40 -0700 2017       22   \n",
              "\n",
              "               started_at_dt                 read_at_dt       duration_dt  \\\n",
              "0  2017-08-15 13:23:18-07:00  2017-08-26 12:05:52-07:00  10 days 22:42:34   \n",
              "1                        NaN                        NaN               NaN   \n",
              "2  2017-03-17 23:45:40-07:00  2017-03-18 23:22:42-07:00   0 days 23:37:02   \n",
              "\n",
              "   read_length_days  \n",
              "0              10.0  \n",
              "1               1.0  \n",
              "2               0.0  "
            ],
            "text/html": [
              "\n",
              "  <div id=\"df-4531e5b4-031d-47bc-84cb-42a70227dd2f\">\n",
              "    <div class=\"colab-df-container\">\n",
              "      <div>\n",
              "<style scoped>\n",
              "    .dataframe tbody tr th:only-of-type {\n",
              "        vertical-align: middle;\n",
              "    }\n",
              "\n",
              "    .dataframe tbody tr th {\n",
              "        vertical-align: top;\n",
              "    }\n",
              "\n",
              "    .dataframe thead th {\n",
              "        text-align: right;\n",
              "    }\n",
              "</style>\n",
              "<table border=\"1\" class=\"dataframe\">\n",
              "  <thead>\n",
              "    <tr style=\"text-align: right;\">\n",
              "      <th></th>\n",
              "      <th>user_id</th>\n",
              "      <th>book_id</th>\n",
              "      <th>review_id</th>\n",
              "      <th>rating</th>\n",
              "      <th>review_text</th>\n",
              "      <th>date_added</th>\n",
              "      <th>date_updated</th>\n",
              "      <th>read_at</th>\n",
              "      <th>started_at</th>\n",
              "      <th>n_votes</th>\n",
              "      <th>started_at_dt</th>\n",
              "      <th>read_at_dt</th>\n",
              "      <th>duration_dt</th>\n",
              "      <th>read_length_days</th>\n",
              "    </tr>\n",
              "  </thead>\n",
              "  <tbody>\n",
              "    <tr>\n",
              "      <th>0</th>\n",
              "      <td>8842281e1d1347389f2ab93d60773d4d</td>\n",
              "      <td>18245960</td>\n",
              "      <td>dfdbb7b0eb5a7e4c26d59a937e2e5feb</td>\n",
              "      <td>5</td>\n",
              "      <td>This is a special book. It started slow for ab...</td>\n",
              "      <td>Sun Jul 30 07:44:10 -0700 2017</td>\n",
              "      <td>Wed Aug 30 00:00:26 -0700 2017</td>\n",
              "      <td>Sat Aug 26 12:05:52 -0700 2017</td>\n",
              "      <td>Tue Aug 15 13:23:18 -0700 2017</td>\n",
              "      <td>28</td>\n",
              "      <td>2017-08-15 13:23:18-07:00</td>\n",
              "      <td>2017-08-26 12:05:52-07:00</td>\n",
              "      <td>10 days 22:42:34</td>\n",
              "      <td>10.0</td>\n",
              "    </tr>\n",
              "    <tr>\n",
              "      <th>1</th>\n",
              "      <td>8842281e1d1347389f2ab93d60773d4d</td>\n",
              "      <td>16981</td>\n",
              "      <td>a5d2c3628987712d0e05c4f90798eb67</td>\n",
              "      <td>3</td>\n",
              "      <td>Recommended by Don Katz. Avail for free in Dec...</td>\n",
              "      <td>Mon Dec 05 10:46:44 -0800 2016</td>\n",
              "      <td>Wed Mar 22 11:37:04 -0700 2017</td>\n",
              "      <td>NaN</td>\n",
              "      <td>NaN</td>\n",
              "      <td>1</td>\n",
              "      <td>NaN</td>\n",
              "      <td>NaN</td>\n",
              "      <td>NaN</td>\n",
              "      <td>1.0</td>\n",
              "    </tr>\n",
              "    <tr>\n",
              "      <th>2</th>\n",
              "      <td>8842281e1d1347389f2ab93d60773d4d</td>\n",
              "      <td>28684704</td>\n",
              "      <td>2ede853b14dc4583f96cf5d120af636f</td>\n",
              "      <td>3</td>\n",
              "      <td>A fun, fast paced science fiction thriller. I ...</td>\n",
              "      <td>Tue Nov 15 11:29:22 -0800 2016</td>\n",
              "      <td>Mon Mar 20 23:40:27 -0700 2017</td>\n",
              "      <td>Sat Mar 18 23:22:42 -0700 2017</td>\n",
              "      <td>Fri Mar 17 23:45:40 -0700 2017</td>\n",
              "      <td>22</td>\n",
              "      <td>2017-03-17 23:45:40-07:00</td>\n",
              "      <td>2017-03-18 23:22:42-07:00</td>\n",
              "      <td>0 days 23:37:02</td>\n",
              "      <td>0.0</td>\n",
              "    </tr>\n",
              "  </tbody>\n",
              "</table>\n",
              "</div>\n",
              "      <button class=\"colab-df-convert\" onclick=\"convertToInteractive('df-4531e5b4-031d-47bc-84cb-42a70227dd2f')\"\n",
              "              title=\"Convert this dataframe to an interactive table.\"\n",
              "              style=\"display:none;\">\n",
              "        \n",
              "  <svg xmlns=\"http://www.w3.org/2000/svg\" height=\"24px\"viewBox=\"0 0 24 24\"\n",
              "       width=\"24px\">\n",
              "    <path d=\"M0 0h24v24H0V0z\" fill=\"none\"/>\n",
              "    <path d=\"M18.56 5.44l.94 2.06.94-2.06 2.06-.94-2.06-.94-.94-2.06-.94 2.06-2.06.94zm-11 1L8.5 8.5l.94-2.06 2.06-.94-2.06-.94L8.5 2.5l-.94 2.06-2.06.94zm10 10l.94 2.06.94-2.06 2.06-.94-2.06-.94-.94-2.06-.94 2.06-2.06.94z\"/><path d=\"M17.41 7.96l-1.37-1.37c-.4-.4-.92-.59-1.43-.59-.52 0-1.04.2-1.43.59L10.3 9.45l-7.72 7.72c-.78.78-.78 2.05 0 2.83L4 21.41c.39.39.9.59 1.41.59.51 0 1.02-.2 1.41-.59l7.78-7.78 2.81-2.81c.8-.78.8-2.07 0-2.86zM5.41 20L4 18.59l7.72-7.72 1.47 1.35L5.41 20z\"/>\n",
              "  </svg>\n",
              "      </button>\n",
              "      \n",
              "  <style>\n",
              "    .colab-df-container {\n",
              "      display:flex;\n",
              "      flex-wrap:wrap;\n",
              "      gap: 12px;\n",
              "    }\n",
              "\n",
              "    .colab-df-convert {\n",
              "      background-color: #E8F0FE;\n",
              "      border: none;\n",
              "      border-radius: 50%;\n",
              "      cursor: pointer;\n",
              "      display: none;\n",
              "      fill: #1967D2;\n",
              "      height: 32px;\n",
              "      padding: 0 0 0 0;\n",
              "      width: 32px;\n",
              "    }\n",
              "\n",
              "    .colab-df-convert:hover {\n",
              "      background-color: #E2EBFA;\n",
              "      box-shadow: 0px 1px 2px rgba(60, 64, 67, 0.3), 0px 1px 3px 1px rgba(60, 64, 67, 0.15);\n",
              "      fill: #174EA6;\n",
              "    }\n",
              "\n",
              "    [theme=dark] .colab-df-convert {\n",
              "      background-color: #3B4455;\n",
              "      fill: #D2E3FC;\n",
              "    }\n",
              "\n",
              "    [theme=dark] .colab-df-convert:hover {\n",
              "      background-color: #434B5C;\n",
              "      box-shadow: 0px 1px 3px 1px rgba(0, 0, 0, 0.15);\n",
              "      filter: drop-shadow(0px 1px 2px rgba(0, 0, 0, 0.3));\n",
              "      fill: #FFFFFF;\n",
              "    }\n",
              "  </style>\n",
              "\n",
              "      <script>\n",
              "        const buttonEl =\n",
              "          document.querySelector('#df-4531e5b4-031d-47bc-84cb-42a70227dd2f button.colab-df-convert');\n",
              "        buttonEl.style.display =\n",
              "          google.colab.kernel.accessAllowed ? 'block' : 'none';\n",
              "\n",
              "        async function convertToInteractive(key) {\n",
              "          const element = document.querySelector('#df-4531e5b4-031d-47bc-84cb-42a70227dd2f');\n",
              "          const dataTable =\n",
              "            await google.colab.kernel.invokeFunction('convertToInteractive',\n",
              "                                                     [key], {});\n",
              "          if (!dataTable) return;\n",
              "\n",
              "          const docLinkHtml = 'Like what you see? Visit the ' +\n",
              "            '<a target=\"_blank\" href=https://colab.research.google.com/notebooks/data_table.ipynb>data table notebook</a>'\n",
              "            + ' to learn more about interactive tables.';\n",
              "          element.innerHTML = '';\n",
              "          dataTable['output_type'] = 'display_data';\n",
              "          await google.colab.output.renderOutput(dataTable, element);\n",
              "          const docLink = document.createElement('div');\n",
              "          docLink.innerHTML = docLinkHtml;\n",
              "          element.appendChild(docLink);\n",
              "        }\n",
              "      </script>\n",
              "    </div>\n",
              "  </div>\n",
              "  "
            ]
          },
          "metadata": {}
        }
      ],
      "id": "2BM1UNxQdurV"
    },
    {
      "cell_type": "code",
      "source": [
        "# df_text = df_new[['rating', 'review_text']]"
      ],
      "metadata": {
        "id": "8e57f513"
      },
      "execution_count": null,
      "outputs": [],
      "id": "8e57f513"
    },
    {
      "cell_type": "code",
      "source": [
        "# df_text.sample(5, random_state = 42)"
      ],
      "metadata": {
        "colab": {
          "base_uri": "https://localhost:8080/",
          "height": 206
        },
        "id": "AhcOhYWBwK1-",
        "outputId": "af918d84-cbeb-4461-da27-870f971df124"
      },
      "execution_count": null,
      "outputs": [
        {
          "output_type": "execute_result",
          "data": {
            "text/plain": [
              "                                              review_text\n",
              "527984  I'm proudly telling you that I'm a big fan of ...\n",
              "618093  4.25 stars \\n This was so, so much better than...\n",
              "484217  For some reason finding a good male lead urban...\n",
              "161123  It's about the son of a pepper merchant who fi...\n",
              "718642  the most beautiful display of emotions in this..."
            ],
            "text/html": [
              "\n",
              "  <div id=\"df-6324ed14-f8a1-483b-8aab-a91793b36585\">\n",
              "    <div class=\"colab-df-container\">\n",
              "      <div>\n",
              "<style scoped>\n",
              "    .dataframe tbody tr th:only-of-type {\n",
              "        vertical-align: middle;\n",
              "    }\n",
              "\n",
              "    .dataframe tbody tr th {\n",
              "        vertical-align: top;\n",
              "    }\n",
              "\n",
              "    .dataframe thead th {\n",
              "        text-align: right;\n",
              "    }\n",
              "</style>\n",
              "<table border=\"1\" class=\"dataframe\">\n",
              "  <thead>\n",
              "    <tr style=\"text-align: right;\">\n",
              "      <th></th>\n",
              "      <th>review_text</th>\n",
              "    </tr>\n",
              "  </thead>\n",
              "  <tbody>\n",
              "    <tr>\n",
              "      <th>527984</th>\n",
              "      <td>I'm proudly telling you that I'm a big fan of ...</td>\n",
              "    </tr>\n",
              "    <tr>\n",
              "      <th>618093</th>\n",
              "      <td>4.25 stars \\n This was so, so much better than...</td>\n",
              "    </tr>\n",
              "    <tr>\n",
              "      <th>484217</th>\n",
              "      <td>For some reason finding a good male lead urban...</td>\n",
              "    </tr>\n",
              "    <tr>\n",
              "      <th>161123</th>\n",
              "      <td>It's about the son of a pepper merchant who fi...</td>\n",
              "    </tr>\n",
              "    <tr>\n",
              "      <th>718642</th>\n",
              "      <td>the most beautiful display of emotions in this...</td>\n",
              "    </tr>\n",
              "  </tbody>\n",
              "</table>\n",
              "</div>\n",
              "      <button class=\"colab-df-convert\" onclick=\"convertToInteractive('df-6324ed14-f8a1-483b-8aab-a91793b36585')\"\n",
              "              title=\"Convert this dataframe to an interactive table.\"\n",
              "              style=\"display:none;\">\n",
              "        \n",
              "  <svg xmlns=\"http://www.w3.org/2000/svg\" height=\"24px\"viewBox=\"0 0 24 24\"\n",
              "       width=\"24px\">\n",
              "    <path d=\"M0 0h24v24H0V0z\" fill=\"none\"/>\n",
              "    <path d=\"M18.56 5.44l.94 2.06.94-2.06 2.06-.94-2.06-.94-.94-2.06-.94 2.06-2.06.94zm-11 1L8.5 8.5l.94-2.06 2.06-.94-2.06-.94L8.5 2.5l-.94 2.06-2.06.94zm10 10l.94 2.06.94-2.06 2.06-.94-2.06-.94-.94-2.06-.94 2.06-2.06.94z\"/><path d=\"M17.41 7.96l-1.37-1.37c-.4-.4-.92-.59-1.43-.59-.52 0-1.04.2-1.43.59L10.3 9.45l-7.72 7.72c-.78.78-.78 2.05 0 2.83L4 21.41c.39.39.9.59 1.41.59.51 0 1.02-.2 1.41-.59l7.78-7.78 2.81-2.81c.8-.78.8-2.07 0-2.86zM5.41 20L4 18.59l7.72-7.72 1.47 1.35L5.41 20z\"/>\n",
              "  </svg>\n",
              "      </button>\n",
              "      \n",
              "  <style>\n",
              "    .colab-df-container {\n",
              "      display:flex;\n",
              "      flex-wrap:wrap;\n",
              "      gap: 12px;\n",
              "    }\n",
              "\n",
              "    .colab-df-convert {\n",
              "      background-color: #E8F0FE;\n",
              "      border: none;\n",
              "      border-radius: 50%;\n",
              "      cursor: pointer;\n",
              "      display: none;\n",
              "      fill: #1967D2;\n",
              "      height: 32px;\n",
              "      padding: 0 0 0 0;\n",
              "      width: 32px;\n",
              "    }\n",
              "\n",
              "    .colab-df-convert:hover {\n",
              "      background-color: #E2EBFA;\n",
              "      box-shadow: 0px 1px 2px rgba(60, 64, 67, 0.3), 0px 1px 3px 1px rgba(60, 64, 67, 0.15);\n",
              "      fill: #174EA6;\n",
              "    }\n",
              "\n",
              "    [theme=dark] .colab-df-convert {\n",
              "      background-color: #3B4455;\n",
              "      fill: #D2E3FC;\n",
              "    }\n",
              "\n",
              "    [theme=dark] .colab-df-convert:hover {\n",
              "      background-color: #434B5C;\n",
              "      box-shadow: 0px 1px 3px 1px rgba(0, 0, 0, 0.15);\n",
              "      filter: drop-shadow(0px 1px 2px rgba(0, 0, 0, 0.3));\n",
              "      fill: #FFFFFF;\n",
              "    }\n",
              "  </style>\n",
              "\n",
              "      <script>\n",
              "        const buttonEl =\n",
              "          document.querySelector('#df-6324ed14-f8a1-483b-8aab-a91793b36585 button.colab-df-convert');\n",
              "        buttonEl.style.display =\n",
              "          google.colab.kernel.accessAllowed ? 'block' : 'none';\n",
              "\n",
              "        async function convertToInteractive(key) {\n",
              "          const element = document.querySelector('#df-6324ed14-f8a1-483b-8aab-a91793b36585');\n",
              "          const dataTable =\n",
              "            await google.colab.kernel.invokeFunction('convertToInteractive',\n",
              "                                                     [key], {});\n",
              "          if (!dataTable) return;\n",
              "\n",
              "          const docLinkHtml = 'Like what you see? Visit the ' +\n",
              "            '<a target=\"_blank\" href=https://colab.research.google.com/notebooks/data_table.ipynb>data table notebook</a>'\n",
              "            + ' to learn more about interactive tables.';\n",
              "          element.innerHTML = '';\n",
              "          dataTable['output_type'] = 'display_data';\n",
              "          await google.colab.output.renderOutput(dataTable, element);\n",
              "          const docLink = document.createElement('div');\n",
              "          docLink.innerHTML = docLinkHtml;\n",
              "          element.appendChild(docLink);\n",
              "        }\n",
              "      </script>\n",
              "    </div>\n",
              "  </div>\n",
              "  "
            ]
          },
          "metadata": {},
          "execution_count": 89
        }
      ],
      "id": "AhcOhYWBwK1-"
    },
    {
      "cell_type": "code",
      "source": [
        "df.info()"
      ],
      "metadata": {
        "colab": {
          "base_uri": "https://localhost:8080/"
        },
        "id": "IwgmbCnkxaVV",
        "outputId": "100780a5-50d0-4363-e03b-cf75eb501b99"
      },
      "execution_count": null,
      "outputs": [
        {
          "output_type": "stream",
          "name": "stdout",
          "text": [
            "<class 'pandas.core.frame.DataFrame'>\n",
            "RangeIndex: 900000 entries, 0 to 899999\n",
            "Data columns (total 6 columns):\n",
            " #   Column            Non-Null Count   Dtype  \n",
            "---  ------            --------------   -----  \n",
            " 0   user_id           900000 non-null  object \n",
            " 1   book_id           900000 non-null  int64  \n",
            " 2   rating            900000 non-null  int64  \n",
            " 3   review_text       900000 non-null  object \n",
            " 4   n_votes           900000 non-null  int64  \n",
            " 5   read_length_days  900000 non-null  float64\n",
            "dtypes: float64(1), int64(3), object(2)\n",
            "memory usage: 41.2+ MB\n"
          ]
        }
      ],
      "id": "IwgmbCnkxaVV"
    },
    {
      "cell_type": "code",
      "source": [
        "df['review_text'].sample(5, random_state = 42)"
      ],
      "metadata": {
        "scrolled": true,
        "colab": {
          "base_uri": "https://localhost:8080/"
        },
        "id": "31cfbb41",
        "outputId": "0571f2ef-1e69-4905-c087-68a118b9e312"
      },
      "execution_count": null,
      "outputs": [
        {
          "output_type": "execute_result",
          "data": {
            "text/plain": [
              "527984    I'm proudly telling you that I'm a big fan of ...\n",
              "618093    4.25 stars \\n This was so, so much better than...\n",
              "484217    For some reason finding a good male lead urban...\n",
              "161123    It's about the son of a pepper merchant who fi...\n",
              "718642    the most beautiful display of emotions in this...\n",
              "Name: review_text, dtype: object"
            ]
          },
          "metadata": {},
          "execution_count": 25
        }
      ],
      "id": "31cfbb41"
    },
    {
      "cell_type": "code",
      "source": [
        "def count_spoiler_rating(text):\n",
        "    spoil_rating = r'(\\d+ stars)|(\\d+\\.\\d+ stars)'\n",
        "    spisok = re.findall(spoil_rating, text)\n",
        "    #text = re.sub(regular, '', text)\n",
        "    #spisok = re.findall('(\\d+) stars', text)\n",
        "    #spisok1 = re.findall('(\\d+\\.\\d+) stars', text)\n",
        "    #spisok1 = re.findall('(\\f+) stars', str(text))\n",
        "    #spisok = re.sub('stars+', '', text)\n",
        "    return spisok"
      ],
      "metadata": {
        "id": "Js3lzMJpHxtP"
      },
      "id": "Js3lzMJpHxtP",
      "execution_count": null,
      "outputs": []
    },
    {
      "cell_type": "markdown",
      "source": [
        "Добавим колонку с длиной отзыва"
      ],
      "metadata": {
        "id": "k6iqyreukyoX"
      },
      "id": "k6iqyreukyoX"
    },
    {
      "cell_type": "code",
      "source": [
        "df['review_length'] = df['review_text'].str.len()\n",
        "df_test['review_length'] = df_test['review_text'].str.len()\n",
        "df.head(3)"
      ],
      "metadata": {
        "colab": {
          "base_uri": "https://localhost:8080/",
          "height": 143
        },
        "id": "48ee76a7",
        "outputId": "102bceda-865a-4014-c772-5ec0d72d93a3"
      },
      "execution_count": null,
      "outputs": [
        {
          "output_type": "execute_result",
          "data": {
            "text/plain": [
              "                            user_id   book_id  rating  \\\n",
              "0  8842281e1d1347389f2ab93d60773d4d  18245960       5   \n",
              "1  8842281e1d1347389f2ab93d60773d4d     16981       3   \n",
              "2  8842281e1d1347389f2ab93d60773d4d  28684704       3   \n",
              "\n",
              "                                         review_text  n_votes  \\\n",
              "0  This is a special book. It started slow for ab...       28   \n",
              "1  Recommended by Don Katz. Avail for free in Dec...        1   \n",
              "2  A fun, fast paced science fiction thriller. I ...       22   \n",
              "\n",
              "   read_length_days  review_length  \n",
              "0              10.0           2119  \n",
              "1               1.0             93  \n",
              "2               0.0           2598  "
            ],
            "text/html": [
              "\n",
              "  <div id=\"df-4af26718-8a2c-47f5-a55d-4ce0ef3f6c49\">\n",
              "    <div class=\"colab-df-container\">\n",
              "      <div>\n",
              "<style scoped>\n",
              "    .dataframe tbody tr th:only-of-type {\n",
              "        vertical-align: middle;\n",
              "    }\n",
              "\n",
              "    .dataframe tbody tr th {\n",
              "        vertical-align: top;\n",
              "    }\n",
              "\n",
              "    .dataframe thead th {\n",
              "        text-align: right;\n",
              "    }\n",
              "</style>\n",
              "<table border=\"1\" class=\"dataframe\">\n",
              "  <thead>\n",
              "    <tr style=\"text-align: right;\">\n",
              "      <th></th>\n",
              "      <th>user_id</th>\n",
              "      <th>book_id</th>\n",
              "      <th>rating</th>\n",
              "      <th>review_text</th>\n",
              "      <th>n_votes</th>\n",
              "      <th>read_length_days</th>\n",
              "      <th>review_length</th>\n",
              "    </tr>\n",
              "  </thead>\n",
              "  <tbody>\n",
              "    <tr>\n",
              "      <th>0</th>\n",
              "      <td>8842281e1d1347389f2ab93d60773d4d</td>\n",
              "      <td>18245960</td>\n",
              "      <td>5</td>\n",
              "      <td>This is a special book. It started slow for ab...</td>\n",
              "      <td>28</td>\n",
              "      <td>10.0</td>\n",
              "      <td>2119</td>\n",
              "    </tr>\n",
              "    <tr>\n",
              "      <th>1</th>\n",
              "      <td>8842281e1d1347389f2ab93d60773d4d</td>\n",
              "      <td>16981</td>\n",
              "      <td>3</td>\n",
              "      <td>Recommended by Don Katz. Avail for free in Dec...</td>\n",
              "      <td>1</td>\n",
              "      <td>1.0</td>\n",
              "      <td>93</td>\n",
              "    </tr>\n",
              "    <tr>\n",
              "      <th>2</th>\n",
              "      <td>8842281e1d1347389f2ab93d60773d4d</td>\n",
              "      <td>28684704</td>\n",
              "      <td>3</td>\n",
              "      <td>A fun, fast paced science fiction thriller. I ...</td>\n",
              "      <td>22</td>\n",
              "      <td>0.0</td>\n",
              "      <td>2598</td>\n",
              "    </tr>\n",
              "  </tbody>\n",
              "</table>\n",
              "</div>\n",
              "      <button class=\"colab-df-convert\" onclick=\"convertToInteractive('df-4af26718-8a2c-47f5-a55d-4ce0ef3f6c49')\"\n",
              "              title=\"Convert this dataframe to an interactive table.\"\n",
              "              style=\"display:none;\">\n",
              "        \n",
              "  <svg xmlns=\"http://www.w3.org/2000/svg\" height=\"24px\"viewBox=\"0 0 24 24\"\n",
              "       width=\"24px\">\n",
              "    <path d=\"M0 0h24v24H0V0z\" fill=\"none\"/>\n",
              "    <path d=\"M18.56 5.44l.94 2.06.94-2.06 2.06-.94-2.06-.94-.94-2.06-.94 2.06-2.06.94zm-11 1L8.5 8.5l.94-2.06 2.06-.94-2.06-.94L8.5 2.5l-.94 2.06-2.06.94zm10 10l.94 2.06.94-2.06 2.06-.94-2.06-.94-.94-2.06-.94 2.06-2.06.94z\"/><path d=\"M17.41 7.96l-1.37-1.37c-.4-.4-.92-.59-1.43-.59-.52 0-1.04.2-1.43.59L10.3 9.45l-7.72 7.72c-.78.78-.78 2.05 0 2.83L4 21.41c.39.39.9.59 1.41.59.51 0 1.02-.2 1.41-.59l7.78-7.78 2.81-2.81c.8-.78.8-2.07 0-2.86zM5.41 20L4 18.59l7.72-7.72 1.47 1.35L5.41 20z\"/>\n",
              "  </svg>\n",
              "      </button>\n",
              "      \n",
              "  <style>\n",
              "    .colab-df-container {\n",
              "      display:flex;\n",
              "      flex-wrap:wrap;\n",
              "      gap: 12px;\n",
              "    }\n",
              "\n",
              "    .colab-df-convert {\n",
              "      background-color: #E8F0FE;\n",
              "      border: none;\n",
              "      border-radius: 50%;\n",
              "      cursor: pointer;\n",
              "      display: none;\n",
              "      fill: #1967D2;\n",
              "      height: 32px;\n",
              "      padding: 0 0 0 0;\n",
              "      width: 32px;\n",
              "    }\n",
              "\n",
              "    .colab-df-convert:hover {\n",
              "      background-color: #E2EBFA;\n",
              "      box-shadow: 0px 1px 2px rgba(60, 64, 67, 0.3), 0px 1px 3px 1px rgba(60, 64, 67, 0.15);\n",
              "      fill: #174EA6;\n",
              "    }\n",
              "\n",
              "    [theme=dark] .colab-df-convert {\n",
              "      background-color: #3B4455;\n",
              "      fill: #D2E3FC;\n",
              "    }\n",
              "\n",
              "    [theme=dark] .colab-df-convert:hover {\n",
              "      background-color: #434B5C;\n",
              "      box-shadow: 0px 1px 3px 1px rgba(0, 0, 0, 0.15);\n",
              "      filter: drop-shadow(0px 1px 2px rgba(0, 0, 0, 0.3));\n",
              "      fill: #FFFFFF;\n",
              "    }\n",
              "  </style>\n",
              "\n",
              "      <script>\n",
              "        const buttonEl =\n",
              "          document.querySelector('#df-4af26718-8a2c-47f5-a55d-4ce0ef3f6c49 button.colab-df-convert');\n",
              "        buttonEl.style.display =\n",
              "          google.colab.kernel.accessAllowed ? 'block' : 'none';\n",
              "\n",
              "        async function convertToInteractive(key) {\n",
              "          const element = document.querySelector('#df-4af26718-8a2c-47f5-a55d-4ce0ef3f6c49');\n",
              "          const dataTable =\n",
              "            await google.colab.kernel.invokeFunction('convertToInteractive',\n",
              "                                                     [key], {});\n",
              "          if (!dataTable) return;\n",
              "\n",
              "          const docLinkHtml = 'Like what you see? Visit the ' +\n",
              "            '<a target=\"_blank\" href=https://colab.research.google.com/notebooks/data_table.ipynb>data table notebook</a>'\n",
              "            + ' to learn more about interactive tables.';\n",
              "          element.innerHTML = '';\n",
              "          dataTable['output_type'] = 'display_data';\n",
              "          await google.colab.output.renderOutput(dataTable, element);\n",
              "          const docLink = document.createElement('div');\n",
              "          docLink.innerHTML = docLinkHtml;\n",
              "          element.appendChild(docLink);\n",
              "        }\n",
              "      </script>\n",
              "    </div>\n",
              "  </div>\n",
              "  "
            ]
          },
          "metadata": {},
          "execution_count": 95
        }
      ],
      "id": "48ee76a7"
    },
    {
      "cell_type": "markdown",
      "source": [
        "Теперь посчитаем колво слов в каждом отзыве"
      ],
      "metadata": {
        "id": "8pJfqVsflDN-"
      },
      "id": "8pJfqVsflDN-"
    },
    {
      "cell_type": "code",
      "source": [
        "def word_count(text):\n",
        "    review_words = str(text).split()\n",
        "    return len(review_words)"
      ],
      "metadata": {
        "id": "ce0b9ab0",
        "execution": {
          "iopub.status.busy": "2023-04-17T21:13:56.241065Z",
          "iopub.execute_input": "2023-04-17T21:13:56.241621Z",
          "iopub.status.idle": "2023-04-17T21:13:56.247704Z",
          "shell.execute_reply.started": "2023-04-17T21:13:56.241576Z",
          "shell.execute_reply": "2023-04-17T21:13:56.246515Z"
        },
        "trusted": true
      },
      "execution_count": null,
      "outputs": [],
      "id": "ce0b9ab0"
    },
    {
      "cell_type": "code",
      "source": [
        "df['word_count'] = df['review_text'].apply(word_count)\n",
        "df_test['word_count'] = df_test['review_text'].apply(word_count)"
      ],
      "metadata": {
        "id": "4quBrmVKsv69"
      },
      "execution_count": null,
      "outputs": [],
      "id": "4quBrmVKsv69"
    },
    {
      "cell_type": "code",
      "source": [
        "df.head(3)"
      ],
      "metadata": {
        "id": "d2728d70",
        "colab": {
          "base_uri": "https://localhost:8080/",
          "height": 143
        },
        "outputId": "cad0d9d1-4019-4719-d1b6-c9cb32372a6e"
      },
      "execution_count": null,
      "outputs": [
        {
          "output_type": "execute_result",
          "data": {
            "text/plain": [
              "                            user_id   book_id  rating  \\\n",
              "0  8842281e1d1347389f2ab93d60773d4d  18245960       5   \n",
              "1  8842281e1d1347389f2ab93d60773d4d     16981       3   \n",
              "2  8842281e1d1347389f2ab93d60773d4d  28684704       3   \n",
              "\n",
              "                                         review_text  n_votes  \\\n",
              "0  This is a special book. It started slow for ab...       28   \n",
              "1  Recommended by Don Katz. Avail for free in Dec...        1   \n",
              "2  A fun, fast paced science fiction thriller. I ...       22   \n",
              "\n",
              "   read_length_days  review_length  word_count  \n",
              "0              10.0           2119         368  \n",
              "1               1.0             93          10  \n",
              "2               0.0           2598         468  "
            ],
            "text/html": [
              "\n",
              "  <div id=\"df-af2ef6f1-05b7-4d56-ad8b-209886492724\">\n",
              "    <div class=\"colab-df-container\">\n",
              "      <div>\n",
              "<style scoped>\n",
              "    .dataframe tbody tr th:only-of-type {\n",
              "        vertical-align: middle;\n",
              "    }\n",
              "\n",
              "    .dataframe tbody tr th {\n",
              "        vertical-align: top;\n",
              "    }\n",
              "\n",
              "    .dataframe thead th {\n",
              "        text-align: right;\n",
              "    }\n",
              "</style>\n",
              "<table border=\"1\" class=\"dataframe\">\n",
              "  <thead>\n",
              "    <tr style=\"text-align: right;\">\n",
              "      <th></th>\n",
              "      <th>user_id</th>\n",
              "      <th>book_id</th>\n",
              "      <th>rating</th>\n",
              "      <th>review_text</th>\n",
              "      <th>n_votes</th>\n",
              "      <th>read_length_days</th>\n",
              "      <th>review_length</th>\n",
              "      <th>word_count</th>\n",
              "    </tr>\n",
              "  </thead>\n",
              "  <tbody>\n",
              "    <tr>\n",
              "      <th>0</th>\n",
              "      <td>8842281e1d1347389f2ab93d60773d4d</td>\n",
              "      <td>18245960</td>\n",
              "      <td>5</td>\n",
              "      <td>This is a special book. It started slow for ab...</td>\n",
              "      <td>28</td>\n",
              "      <td>10.0</td>\n",
              "      <td>2119</td>\n",
              "      <td>368</td>\n",
              "    </tr>\n",
              "    <tr>\n",
              "      <th>1</th>\n",
              "      <td>8842281e1d1347389f2ab93d60773d4d</td>\n",
              "      <td>16981</td>\n",
              "      <td>3</td>\n",
              "      <td>Recommended by Don Katz. Avail for free in Dec...</td>\n",
              "      <td>1</td>\n",
              "      <td>1.0</td>\n",
              "      <td>93</td>\n",
              "      <td>10</td>\n",
              "    </tr>\n",
              "    <tr>\n",
              "      <th>2</th>\n",
              "      <td>8842281e1d1347389f2ab93d60773d4d</td>\n",
              "      <td>28684704</td>\n",
              "      <td>3</td>\n",
              "      <td>A fun, fast paced science fiction thriller. I ...</td>\n",
              "      <td>22</td>\n",
              "      <td>0.0</td>\n",
              "      <td>2598</td>\n",
              "      <td>468</td>\n",
              "    </tr>\n",
              "  </tbody>\n",
              "</table>\n",
              "</div>\n",
              "      <button class=\"colab-df-convert\" onclick=\"convertToInteractive('df-af2ef6f1-05b7-4d56-ad8b-209886492724')\"\n",
              "              title=\"Convert this dataframe to an interactive table.\"\n",
              "              style=\"display:none;\">\n",
              "        \n",
              "  <svg xmlns=\"http://www.w3.org/2000/svg\" height=\"24px\"viewBox=\"0 0 24 24\"\n",
              "       width=\"24px\">\n",
              "    <path d=\"M0 0h24v24H0V0z\" fill=\"none\"/>\n",
              "    <path d=\"M18.56 5.44l.94 2.06.94-2.06 2.06-.94-2.06-.94-.94-2.06-.94 2.06-2.06.94zm-11 1L8.5 8.5l.94-2.06 2.06-.94-2.06-.94L8.5 2.5l-.94 2.06-2.06.94zm10 10l.94 2.06.94-2.06 2.06-.94-2.06-.94-.94-2.06-.94 2.06-2.06.94z\"/><path d=\"M17.41 7.96l-1.37-1.37c-.4-.4-.92-.59-1.43-.59-.52 0-1.04.2-1.43.59L10.3 9.45l-7.72 7.72c-.78.78-.78 2.05 0 2.83L4 21.41c.39.39.9.59 1.41.59.51 0 1.02-.2 1.41-.59l7.78-7.78 2.81-2.81c.8-.78.8-2.07 0-2.86zM5.41 20L4 18.59l7.72-7.72 1.47 1.35L5.41 20z\"/>\n",
              "  </svg>\n",
              "      </button>\n",
              "      \n",
              "  <style>\n",
              "    .colab-df-container {\n",
              "      display:flex;\n",
              "      flex-wrap:wrap;\n",
              "      gap: 12px;\n",
              "    }\n",
              "\n",
              "    .colab-df-convert {\n",
              "      background-color: #E8F0FE;\n",
              "      border: none;\n",
              "      border-radius: 50%;\n",
              "      cursor: pointer;\n",
              "      display: none;\n",
              "      fill: #1967D2;\n",
              "      height: 32px;\n",
              "      padding: 0 0 0 0;\n",
              "      width: 32px;\n",
              "    }\n",
              "\n",
              "    .colab-df-convert:hover {\n",
              "      background-color: #E2EBFA;\n",
              "      box-shadow: 0px 1px 2px rgba(60, 64, 67, 0.3), 0px 1px 3px 1px rgba(60, 64, 67, 0.15);\n",
              "      fill: #174EA6;\n",
              "    }\n",
              "\n",
              "    [theme=dark] .colab-df-convert {\n",
              "      background-color: #3B4455;\n",
              "      fill: #D2E3FC;\n",
              "    }\n",
              "\n",
              "    [theme=dark] .colab-df-convert:hover {\n",
              "      background-color: #434B5C;\n",
              "      box-shadow: 0px 1px 3px 1px rgba(0, 0, 0, 0.15);\n",
              "      filter: drop-shadow(0px 1px 2px rgba(0, 0, 0, 0.3));\n",
              "      fill: #FFFFFF;\n",
              "    }\n",
              "  </style>\n",
              "\n",
              "      <script>\n",
              "        const buttonEl =\n",
              "          document.querySelector('#df-af2ef6f1-05b7-4d56-ad8b-209886492724 button.colab-df-convert');\n",
              "        buttonEl.style.display =\n",
              "          google.colab.kernel.accessAllowed ? 'block' : 'none';\n",
              "\n",
              "        async function convertToInteractive(key) {\n",
              "          const element = document.querySelector('#df-af2ef6f1-05b7-4d56-ad8b-209886492724');\n",
              "          const dataTable =\n",
              "            await google.colab.kernel.invokeFunction('convertToInteractive',\n",
              "                                                     [key], {});\n",
              "          if (!dataTable) return;\n",
              "\n",
              "          const docLinkHtml = 'Like what you see? Visit the ' +\n",
              "            '<a target=\"_blank\" href=https://colab.research.google.com/notebooks/data_table.ipynb>data table notebook</a>'\n",
              "            + ' to learn more about interactive tables.';\n",
              "          element.innerHTML = '';\n",
              "          dataTable['output_type'] = 'display_data';\n",
              "          await google.colab.output.renderOutput(dataTable, element);\n",
              "          const docLink = document.createElement('div');\n",
              "          docLink.innerHTML = docLinkHtml;\n",
              "          element.appendChild(docLink);\n",
              "        }\n",
              "      </script>\n",
              "    </div>\n",
              "  </div>\n",
              "  "
            ]
          },
          "metadata": {},
          "execution_count": 98
        }
      ],
      "id": "d2728d70"
    },
    {
      "cell_type": "markdown",
      "source": [
        "Посчитаем среднюю длину слова в отзыве."
      ],
      "metadata": {
        "id": "XePxlf0cf8Ja"
      },
      "id": "XePxlf0cf8Ja"
    },
    {
      "cell_type": "code",
      "source": [
        "# def plot_word_number_histogram(text):\n",
        "#     text.str.split().\n",
        "#         map(lambda x: len(x)).\\\n",
        "#         hist()"
      ],
      "metadata": {
        "id": "Buj81N9moR8h"
      },
      "execution_count": null,
      "outputs": [],
      "id": "Buj81N9moR8h"
    },
    {
      "cell_type": "code",
      "source": [
        "# df['word_count'] = df['review_text'].str.split().map(lambda x: len(x))\n",
        "# df.head(3)"
      ],
      "metadata": {
        "id": "3846d236"
      },
      "execution_count": null,
      "outputs": [],
      "id": "3846d236"
    },
    {
      "cell_type": "code",
      "source": [
        "df['mean_word_length'] = df['review_text'].map(lambda rev: np.mean([len(word) for word in str(rev).split()]))\n",
        "df_test['mean_word_length'] = df_test['review_text'].map(lambda rev: np.mean([len(word) for word in str(rev).split()]))\n",
        "\n",
        "df.head(3)"
      ],
      "metadata": {
        "id": "9f790bcb",
        "scrolled": true,
        "colab": {
          "base_uri": "https://localhost:8080/",
          "height": 239
        },
        "outputId": "8047f48a-89a8-494d-99c7-29bbfafa81da"
      },
      "execution_count": null,
      "outputs": [
        {
          "output_type": "execute_result",
          "data": {
            "text/plain": [
              "                            user_id   book_id  rating  \\\n",
              "0  8842281e1d1347389f2ab93d60773d4d  18245960       5   \n",
              "1  8842281e1d1347389f2ab93d60773d4d     16981       3   \n",
              "2  8842281e1d1347389f2ab93d60773d4d  28684704       3   \n",
              "\n",
              "                                         review_text  n_votes  \\\n",
              "0  This is a special book. It started slow for ab...       28   \n",
              "1  Recommended by Don Katz. Avail for free in Dec...        1   \n",
              "2  A fun, fast paced science fiction thriller. I ...       22   \n",
              "\n",
              "   read_length_days  review_length  word_count  mean_sent_length  \\\n",
              "0              10.0           2119         368        104.500000   \n",
              "1               1.0             93          10         46.000000   \n",
              "2               0.0           2598         468         70.972222   \n",
              "\n",
              "   mean_word_length  \n",
              "0          4.722826  \n",
              "1          8.400000  \n",
              "2          4.532051  "
            ],
            "text/html": [
              "\n",
              "  <div id=\"df-2bb5cee9-8001-4309-a3c4-61fad46088e9\">\n",
              "    <div class=\"colab-df-container\">\n",
              "      <div>\n",
              "<style scoped>\n",
              "    .dataframe tbody tr th:only-of-type {\n",
              "        vertical-align: middle;\n",
              "    }\n",
              "\n",
              "    .dataframe tbody tr th {\n",
              "        vertical-align: top;\n",
              "    }\n",
              "\n",
              "    .dataframe thead th {\n",
              "        text-align: right;\n",
              "    }\n",
              "</style>\n",
              "<table border=\"1\" class=\"dataframe\">\n",
              "  <thead>\n",
              "    <tr style=\"text-align: right;\">\n",
              "      <th></th>\n",
              "      <th>user_id</th>\n",
              "      <th>book_id</th>\n",
              "      <th>rating</th>\n",
              "      <th>review_text</th>\n",
              "      <th>n_votes</th>\n",
              "      <th>read_length_days</th>\n",
              "      <th>review_length</th>\n",
              "      <th>word_count</th>\n",
              "      <th>mean_sent_length</th>\n",
              "      <th>mean_word_length</th>\n",
              "    </tr>\n",
              "  </thead>\n",
              "  <tbody>\n",
              "    <tr>\n",
              "      <th>0</th>\n",
              "      <td>8842281e1d1347389f2ab93d60773d4d</td>\n",
              "      <td>18245960</td>\n",
              "      <td>5</td>\n",
              "      <td>This is a special book. It started slow for ab...</td>\n",
              "      <td>28</td>\n",
              "      <td>10.0</td>\n",
              "      <td>2119</td>\n",
              "      <td>368</td>\n",
              "      <td>104.500000</td>\n",
              "      <td>4.722826</td>\n",
              "    </tr>\n",
              "    <tr>\n",
              "      <th>1</th>\n",
              "      <td>8842281e1d1347389f2ab93d60773d4d</td>\n",
              "      <td>16981</td>\n",
              "      <td>3</td>\n",
              "      <td>Recommended by Don Katz. Avail for free in Dec...</td>\n",
              "      <td>1</td>\n",
              "      <td>1.0</td>\n",
              "      <td>93</td>\n",
              "      <td>10</td>\n",
              "      <td>46.000000</td>\n",
              "      <td>8.400000</td>\n",
              "    </tr>\n",
              "    <tr>\n",
              "      <th>2</th>\n",
              "      <td>8842281e1d1347389f2ab93d60773d4d</td>\n",
              "      <td>28684704</td>\n",
              "      <td>3</td>\n",
              "      <td>A fun, fast paced science fiction thriller. I ...</td>\n",
              "      <td>22</td>\n",
              "      <td>0.0</td>\n",
              "      <td>2598</td>\n",
              "      <td>468</td>\n",
              "      <td>70.972222</td>\n",
              "      <td>4.532051</td>\n",
              "    </tr>\n",
              "  </tbody>\n",
              "</table>\n",
              "</div>\n",
              "      <button class=\"colab-df-convert\" onclick=\"convertToInteractive('df-2bb5cee9-8001-4309-a3c4-61fad46088e9')\"\n",
              "              title=\"Convert this dataframe to an interactive table.\"\n",
              "              style=\"display:none;\">\n",
              "        \n",
              "  <svg xmlns=\"http://www.w3.org/2000/svg\" height=\"24px\"viewBox=\"0 0 24 24\"\n",
              "       width=\"24px\">\n",
              "    <path d=\"M0 0h24v24H0V0z\" fill=\"none\"/>\n",
              "    <path d=\"M18.56 5.44l.94 2.06.94-2.06 2.06-.94-2.06-.94-.94-2.06-.94 2.06-2.06.94zm-11 1L8.5 8.5l.94-2.06 2.06-.94-2.06-.94L8.5 2.5l-.94 2.06-2.06.94zm10 10l.94 2.06.94-2.06 2.06-.94-2.06-.94-.94-2.06-.94 2.06-2.06.94z\"/><path d=\"M17.41 7.96l-1.37-1.37c-.4-.4-.92-.59-1.43-.59-.52 0-1.04.2-1.43.59L10.3 9.45l-7.72 7.72c-.78.78-.78 2.05 0 2.83L4 21.41c.39.39.9.59 1.41.59.51 0 1.02-.2 1.41-.59l7.78-7.78 2.81-2.81c.8-.78.8-2.07 0-2.86zM5.41 20L4 18.59l7.72-7.72 1.47 1.35L5.41 20z\"/>\n",
              "  </svg>\n",
              "      </button>\n",
              "      \n",
              "  <style>\n",
              "    .colab-df-container {\n",
              "      display:flex;\n",
              "      flex-wrap:wrap;\n",
              "      gap: 12px;\n",
              "    }\n",
              "\n",
              "    .colab-df-convert {\n",
              "      background-color: #E8F0FE;\n",
              "      border: none;\n",
              "      border-radius: 50%;\n",
              "      cursor: pointer;\n",
              "      display: none;\n",
              "      fill: #1967D2;\n",
              "      height: 32px;\n",
              "      padding: 0 0 0 0;\n",
              "      width: 32px;\n",
              "    }\n",
              "\n",
              "    .colab-df-convert:hover {\n",
              "      background-color: #E2EBFA;\n",
              "      box-shadow: 0px 1px 2px rgba(60, 64, 67, 0.3), 0px 1px 3px 1px rgba(60, 64, 67, 0.15);\n",
              "      fill: #174EA6;\n",
              "    }\n",
              "\n",
              "    [theme=dark] .colab-df-convert {\n",
              "      background-color: #3B4455;\n",
              "      fill: #D2E3FC;\n",
              "    }\n",
              "\n",
              "    [theme=dark] .colab-df-convert:hover {\n",
              "      background-color: #434B5C;\n",
              "      box-shadow: 0px 1px 3px 1px rgba(0, 0, 0, 0.15);\n",
              "      filter: drop-shadow(0px 1px 2px rgba(0, 0, 0, 0.3));\n",
              "      fill: #FFFFFF;\n",
              "    }\n",
              "  </style>\n",
              "\n",
              "      <script>\n",
              "        const buttonEl =\n",
              "          document.querySelector('#df-2bb5cee9-8001-4309-a3c4-61fad46088e9 button.colab-df-convert');\n",
              "        buttonEl.style.display =\n",
              "          google.colab.kernel.accessAllowed ? 'block' : 'none';\n",
              "\n",
              "        async function convertToInteractive(key) {\n",
              "          const element = document.querySelector('#df-2bb5cee9-8001-4309-a3c4-61fad46088e9');\n",
              "          const dataTable =\n",
              "            await google.colab.kernel.invokeFunction('convertToInteractive',\n",
              "                                                     [key], {});\n",
              "          if (!dataTable) return;\n",
              "\n",
              "          const docLinkHtml = 'Like what you see? Visit the ' +\n",
              "            '<a target=\"_blank\" href=https://colab.research.google.com/notebooks/data_table.ipynb>data table notebook</a>'\n",
              "            + ' to learn more about interactive tables.';\n",
              "          element.innerHTML = '';\n",
              "          dataTable['output_type'] = 'display_data';\n",
              "          await google.colab.output.renderOutput(dataTable, element);\n",
              "          const docLink = document.createElement('div');\n",
              "          docLink.innerHTML = docLinkHtml;\n",
              "          element.appendChild(docLink);\n",
              "        }\n",
              "      </script>\n",
              "    </div>\n",
              "  </div>\n",
              "  "
            ]
          },
          "metadata": {},
          "execution_count": 104
        }
      ],
      "id": "9f790bcb"
    },
    {
      "cell_type": "markdown",
      "source": [
        "Посчитаем среднюю длину предложения в отзыве"
      ],
      "metadata": {
        "id": "b34bea98"
      },
      "id": "b34bea98"
    },
    {
      "cell_type": "code",
      "source": [
        "df['mean_sent_length'] = df['review_text'].map(lambda rev: np.mean([len(sent) for sent in tokenize.sent_tokenize(str(rev))]))\n",
        "df_test['mean_sent_length'] = df_test['review_text'].map(lambda rev: np.mean([len(sent) for sent in tokenize.sent_tokenize(str(rev))]))\n",
        "\n",
        "df.head(3)"
      ],
      "metadata": {
        "id": "140651f5",
        "colab": {
          "base_uri": "https://localhost:8080/",
          "height": 205
        },
        "outputId": "97280e34-581e-4d09-b5b6-24ed011c463a"
      },
      "execution_count": null,
      "outputs": [
        {
          "output_type": "execute_result",
          "data": {
            "text/plain": [
              "                            user_id   book_id  rating  \\\n",
              "0  8842281e1d1347389f2ab93d60773d4d  18245960       5   \n",
              "1  8842281e1d1347389f2ab93d60773d4d     16981       3   \n",
              "2  8842281e1d1347389f2ab93d60773d4d  28684704       3   \n",
              "\n",
              "                                         review_text  n_votes  \\\n",
              "0  This is a special book. It started slow for ab...       28   \n",
              "1  Recommended by Don Katz. Avail for free in Dec...        1   \n",
              "2  A fun, fast paced science fiction thriller. I ...       22   \n",
              "\n",
              "   read_length_days  review_length  word_count  mean_sent_length  \n",
              "0              10.0           2119         368        104.500000  \n",
              "1               1.0             93          10         46.000000  \n",
              "2               0.0           2598         468         70.972222  "
            ],
            "text/html": [
              "\n",
              "  <div id=\"df-8bc6b1f2-191e-4b9c-b7cc-105581156417\">\n",
              "    <div class=\"colab-df-container\">\n",
              "      <div>\n",
              "<style scoped>\n",
              "    .dataframe tbody tr th:only-of-type {\n",
              "        vertical-align: middle;\n",
              "    }\n",
              "\n",
              "    .dataframe tbody tr th {\n",
              "        vertical-align: top;\n",
              "    }\n",
              "\n",
              "    .dataframe thead th {\n",
              "        text-align: right;\n",
              "    }\n",
              "</style>\n",
              "<table border=\"1\" class=\"dataframe\">\n",
              "  <thead>\n",
              "    <tr style=\"text-align: right;\">\n",
              "      <th></th>\n",
              "      <th>user_id</th>\n",
              "      <th>book_id</th>\n",
              "      <th>rating</th>\n",
              "      <th>review_text</th>\n",
              "      <th>n_votes</th>\n",
              "      <th>read_length_days</th>\n",
              "      <th>review_length</th>\n",
              "      <th>word_count</th>\n",
              "      <th>mean_sent_length</th>\n",
              "    </tr>\n",
              "  </thead>\n",
              "  <tbody>\n",
              "    <tr>\n",
              "      <th>0</th>\n",
              "      <td>8842281e1d1347389f2ab93d60773d4d</td>\n",
              "      <td>18245960</td>\n",
              "      <td>5</td>\n",
              "      <td>This is a special book. It started slow for ab...</td>\n",
              "      <td>28</td>\n",
              "      <td>10.0</td>\n",
              "      <td>2119</td>\n",
              "      <td>368</td>\n",
              "      <td>104.500000</td>\n",
              "    </tr>\n",
              "    <tr>\n",
              "      <th>1</th>\n",
              "      <td>8842281e1d1347389f2ab93d60773d4d</td>\n",
              "      <td>16981</td>\n",
              "      <td>3</td>\n",
              "      <td>Recommended by Don Katz. Avail for free in Dec...</td>\n",
              "      <td>1</td>\n",
              "      <td>1.0</td>\n",
              "      <td>93</td>\n",
              "      <td>10</td>\n",
              "      <td>46.000000</td>\n",
              "    </tr>\n",
              "    <tr>\n",
              "      <th>2</th>\n",
              "      <td>8842281e1d1347389f2ab93d60773d4d</td>\n",
              "      <td>28684704</td>\n",
              "      <td>3</td>\n",
              "      <td>A fun, fast paced science fiction thriller. I ...</td>\n",
              "      <td>22</td>\n",
              "      <td>0.0</td>\n",
              "      <td>2598</td>\n",
              "      <td>468</td>\n",
              "      <td>70.972222</td>\n",
              "    </tr>\n",
              "  </tbody>\n",
              "</table>\n",
              "</div>\n",
              "      <button class=\"colab-df-convert\" onclick=\"convertToInteractive('df-8bc6b1f2-191e-4b9c-b7cc-105581156417')\"\n",
              "              title=\"Convert this dataframe to an interactive table.\"\n",
              "              style=\"display:none;\">\n",
              "        \n",
              "  <svg xmlns=\"http://www.w3.org/2000/svg\" height=\"24px\"viewBox=\"0 0 24 24\"\n",
              "       width=\"24px\">\n",
              "    <path d=\"M0 0h24v24H0V0z\" fill=\"none\"/>\n",
              "    <path d=\"M18.56 5.44l.94 2.06.94-2.06 2.06-.94-2.06-.94-.94-2.06-.94 2.06-2.06.94zm-11 1L8.5 8.5l.94-2.06 2.06-.94-2.06-.94L8.5 2.5l-.94 2.06-2.06.94zm10 10l.94 2.06.94-2.06 2.06-.94-2.06-.94-.94-2.06-.94 2.06-2.06.94z\"/><path d=\"M17.41 7.96l-1.37-1.37c-.4-.4-.92-.59-1.43-.59-.52 0-1.04.2-1.43.59L10.3 9.45l-7.72 7.72c-.78.78-.78 2.05 0 2.83L4 21.41c.39.39.9.59 1.41.59.51 0 1.02-.2 1.41-.59l7.78-7.78 2.81-2.81c.8-.78.8-2.07 0-2.86zM5.41 20L4 18.59l7.72-7.72 1.47 1.35L5.41 20z\"/>\n",
              "  </svg>\n",
              "      </button>\n",
              "      \n",
              "  <style>\n",
              "    .colab-df-container {\n",
              "      display:flex;\n",
              "      flex-wrap:wrap;\n",
              "      gap: 12px;\n",
              "    }\n",
              "\n",
              "    .colab-df-convert {\n",
              "      background-color: #E8F0FE;\n",
              "      border: none;\n",
              "      border-radius: 50%;\n",
              "      cursor: pointer;\n",
              "      display: none;\n",
              "      fill: #1967D2;\n",
              "      height: 32px;\n",
              "      padding: 0 0 0 0;\n",
              "      width: 32px;\n",
              "    }\n",
              "\n",
              "    .colab-df-convert:hover {\n",
              "      background-color: #E2EBFA;\n",
              "      box-shadow: 0px 1px 2px rgba(60, 64, 67, 0.3), 0px 1px 3px 1px rgba(60, 64, 67, 0.15);\n",
              "      fill: #174EA6;\n",
              "    }\n",
              "\n",
              "    [theme=dark] .colab-df-convert {\n",
              "      background-color: #3B4455;\n",
              "      fill: #D2E3FC;\n",
              "    }\n",
              "\n",
              "    [theme=dark] .colab-df-convert:hover {\n",
              "      background-color: #434B5C;\n",
              "      box-shadow: 0px 1px 3px 1px rgba(0, 0, 0, 0.15);\n",
              "      filter: drop-shadow(0px 1px 2px rgba(0, 0, 0, 0.3));\n",
              "      fill: #FFFFFF;\n",
              "    }\n",
              "  </style>\n",
              "\n",
              "      <script>\n",
              "        const buttonEl =\n",
              "          document.querySelector('#df-8bc6b1f2-191e-4b9c-b7cc-105581156417 button.colab-df-convert');\n",
              "        buttonEl.style.display =\n",
              "          google.colab.kernel.accessAllowed ? 'block' : 'none';\n",
              "\n",
              "        async function convertToInteractive(key) {\n",
              "          const element = document.querySelector('#df-8bc6b1f2-191e-4b9c-b7cc-105581156417');\n",
              "          const dataTable =\n",
              "            await google.colab.kernel.invokeFunction('convertToInteractive',\n",
              "                                                     [key], {});\n",
              "          if (!dataTable) return;\n",
              "\n",
              "          const docLinkHtml = 'Like what you see? Visit the ' +\n",
              "            '<a target=\"_blank\" href=https://colab.research.google.com/notebooks/data_table.ipynb>data table notebook</a>'\n",
              "            + ' to learn more about interactive tables.';\n",
              "          element.innerHTML = '';\n",
              "          dataTable['output_type'] = 'display_data';\n",
              "          await google.colab.output.renderOutput(dataTable, element);\n",
              "          const docLink = document.createElement('div');\n",
              "          docLink.innerHTML = docLinkHtml;\n",
              "          element.appendChild(docLink);\n",
              "        }\n",
              "      </script>\n",
              "    </div>\n",
              "  </div>\n",
              "  "
            ]
          },
          "metadata": {},
          "execution_count": 99
        }
      ],
      "id": "140651f5"
    },
    {
      "cell_type": "markdown",
      "source": [
        "Посмотрим на графики."
      ],
      "metadata": {
        "id": "d89ac828"
      },
      "id": "d89ac828"
    },
    {
      "cell_type": "code",
      "source": [
        "def plotting_bars(col, rate):\n",
        "    plt.subplot(1,2,1)\n",
        "    sns.barplot(x = 'rating', y = col, data = df.groupby('rating', as_index=False)[col].mean(), palette = 'magma')\n",
        "    plt.title('Rating vs ' + str(col))\n",
        "    plt.ylabel(col, labelpad=12.5)\n",
        "    plt.xlabel('rating', labelpad=12.5)\n",
        "    \n",
        "    plt.show()"
      ],
      "metadata": {
        "id": "e48e6199"
      },
      "execution_count": null,
      "outputs": [],
      "id": "e48e6199"
    },
    {
      "cell_type": "code",
      "source": [
        "features = ['review_length','word_count','mean_word_length','mean_sent_length']\n",
        "for feature in features:\n",
        "    plotting_bars(feature, 'rating')"
      ],
      "metadata": {
        "id": "b81ada01",
        "colab": {
          "base_uri": "https://localhost:8080/",
          "height": 1000
        },
        "outputId": "f0b94805-b78f-4705-8f5b-1105033b5b64"
      },
      "execution_count": null,
      "outputs": [
        {
          "output_type": "display_data",
          "data": {
            "text/plain": [
              "<Figure size 1700x700 with 1 Axes>"
            ],
            "image/png": "[encoded data removed]"
          },
          "metadata": {}
        },
        {
          "output_type": "display_data",
          "data": {
            "text/plain": [
              "<Figure size 1700x700 with 1 Axes>"
            ],
            "image/png": "[encoded data removed]"
          },
          "metadata": {}
        },
        {
          "output_type": "display_data",
          "data": {
            "text/plain": [
              "<Figure size 1700x700 with 1 Axes>"
            ],
            "image/png": "[encoded data removed]"
          },
          "metadata": {}
        },
        {
          "output_type": "display_data",
          "data": {
            "text/plain": [
              "<Figure size 1700x700 with 1 Axes>"
            ],
            "image/png": "[encoded data removed]"
          },
          "metadata": {}
        }
      ],
      "id": "b81ada01"
    },
    {
      "cell_type": "markdown",
      "source": [
        "Видим, что в среднем для всех рейтингов длина слова окло 4х -> пользователи чаще используют короткие слова ? это не так, если много стоп-слов, тк они короткие, посмотрим, какие стоп-слова встречаются часто. Пока что мало что по длине слов мало можно сказать о рейтинге. Длина предложения для рейтинга 3 больше всего. Для рейтинга 0 в целом все не очень, маленькие отзывы,маленькие предложения и небольшое кол-во слов (относительно других рейтингов) -> 0 будет проще классифицировать наверное. "
      ],
      "metadata": {
        "id": "ab1a9bc5"
      },
      "id": "ab1a9bc5"
    },
    {
      "cell_type": "code",
      "source": [
        "df.to_csv('/content/drive/MyDrive/BooksReview/train_text.csv', index = False)\n",
        "df_test.to_csv('/content/drive/MyDrive/BooksReview/test_text.csv', index = False)"
      ],
      "metadata": {
        "id": "N9rcEK59f3qt"
      },
      "execution_count": null,
      "outputs": [],
      "id": "N9rcEK59f3qt"
    },
    {
      "cell_type": "code",
      "source": [
        "df = pd.read_csv('/content/drive/MyDrive/BooksReview/train_text.csv')"
      ],
      "metadata": {
        "id": "ZYzgXNM9UXJ1"
      },
      "id": "ZYzgXNM9UXJ1",
      "execution_count": null,
      "outputs": []
    },
    {
      "cell_type": "code",
      "source": [
        "df.head(2)"
      ],
      "metadata": {
        "colab": {
          "base_uri": "https://localhost:8080/",
          "height": 191
        },
        "id": "m045XaDRUjGi",
        "outputId": "abefea33-57bb-48c6-81ae-9f98386b3e25"
      },
      "id": "m045XaDRUjGi",
      "execution_count": null,
      "outputs": [
        {
          "output_type": "execute_result",
          "data": {
            "text/plain": [
              "                            user_id   book_id  rating  \\\n",
              "0  8842281e1d1347389f2ab93d60773d4d  18245960       5   \n",
              "1  8842281e1d1347389f2ab93d60773d4d     16981       3   \n",
              "\n",
              "                                         review_text  n_votes  \\\n",
              "0  This is a special book. It started slow for ab...       28   \n",
              "1  Recommended by Don Katz. Avail for free in Dec...        1   \n",
              "\n",
              "   read_length_days  review_length  word_count  mean_sent_length  \\\n",
              "0              10.0           2119         368             104.5   \n",
              "1               1.0             93          10              46.0   \n",
              "\n",
              "   mean_word_length  \n",
              "0          4.722826  \n",
              "1          8.400000  "
            ],
            "text/html": [
              "\n",
              "  <div id=\"df-26eb1613-296d-49c6-b236-1392cbe5a114\">\n",
              "    <div class=\"colab-df-container\">\n",
              "      <div>\n",
              "<style scoped>\n",
              "    .dataframe tbody tr th:only-of-type {\n",
              "        vertical-align: middle;\n",
              "    }\n",
              "\n",
              "    .dataframe tbody tr th {\n",
              "        vertical-align: top;\n",
              "    }\n",
              "\n",
              "    .dataframe thead th {\n",
              "        text-align: right;\n",
              "    }\n",
              "</style>\n",
              "<table border=\"1\" class=\"dataframe\">\n",
              "  <thead>\n",
              "    <tr style=\"text-align: right;\">\n",
              "      <th></th>\n",
              "      <th>user_id</th>\n",
              "      <th>book_id</th>\n",
              "      <th>rating</th>\n",
              "      <th>review_text</th>\n",
              "      <th>n_votes</th>\n",
              "      <th>read_length_days</th>\n",
              "      <th>review_length</th>\n",
              "      <th>word_count</th>\n",
              "      <th>mean_sent_length</th>\n",
              "      <th>mean_word_length</th>\n",
              "    </tr>\n",
              "  </thead>\n",
              "  <tbody>\n",
              "    <tr>\n",
              "      <th>0</th>\n",
              "      <td>8842281e1d1347389f2ab93d60773d4d</td>\n",
              "      <td>18245960</td>\n",
              "      <td>5</td>\n",
              "      <td>This is a special book. It started slow for ab...</td>\n",
              "      <td>28</td>\n",
              "      <td>10.0</td>\n",
              "      <td>2119</td>\n",
              "      <td>368</td>\n",
              "      <td>104.5</td>\n",
              "      <td>4.722826</td>\n",
              "    </tr>\n",
              "    <tr>\n",
              "      <th>1</th>\n",
              "      <td>8842281e1d1347389f2ab93d60773d4d</td>\n",
              "      <td>16981</td>\n",
              "      <td>3</td>\n",
              "      <td>Recommended by Don Katz. Avail for free in Dec...</td>\n",
              "      <td>1</td>\n",
              "      <td>1.0</td>\n",
              "      <td>93</td>\n",
              "      <td>10</td>\n",
              "      <td>46.0</td>\n",
              "      <td>8.400000</td>\n",
              "    </tr>\n",
              "  </tbody>\n",
              "</table>\n",
              "</div>\n",
              "      <button class=\"colab-df-convert\" onclick=\"convertToInteractive('df-26eb1613-296d-49c6-b236-1392cbe5a114')\"\n",
              "              title=\"Convert this dataframe to an interactive table.\"\n",
              "              style=\"display:none;\">\n",
              "        \n",
              "  <svg xmlns=\"http://www.w3.org/2000/svg\" height=\"24px\"viewBox=\"0 0 24 24\"\n",
              "       width=\"24px\">\n",
              "    <path d=\"M0 0h24v24H0V0z\" fill=\"none\"/>\n",
              "    <path d=\"M18.56 5.44l.94 2.06.94-2.06 2.06-.94-2.06-.94-.94-2.06-.94 2.06-2.06.94zm-11 1L8.5 8.5l.94-2.06 2.06-.94-2.06-.94L8.5 2.5l-.94 2.06-2.06.94zm10 10l.94 2.06.94-2.06 2.06-.94-2.06-.94-.94-2.06-.94 2.06-2.06.94z\"/><path d=\"M17.41 7.96l-1.37-1.37c-.4-.4-.92-.59-1.43-.59-.52 0-1.04.2-1.43.59L10.3 9.45l-7.72 7.72c-.78.78-.78 2.05 0 2.83L4 21.41c.39.39.9.59 1.41.59.51 0 1.02-.2 1.41-.59l7.78-7.78 2.81-2.81c.8-.78.8-2.07 0-2.86zM5.41 20L4 18.59l7.72-7.72 1.47 1.35L5.41 20z\"/>\n",
              "  </svg>\n",
              "      </button>\n",
              "      \n",
              "  <style>\n",
              "    .colab-df-container {\n",
              "      display:flex;\n",
              "      flex-wrap:wrap;\n",
              "      gap: 12px;\n",
              "    }\n",
              "\n",
              "    .colab-df-convert {\n",
              "      background-color: #E8F0FE;\n",
              "      border: none;\n",
              "      border-radius: 50%;\n",
              "      cursor: pointer;\n",
              "      display: none;\n",
              "      fill: #1967D2;\n",
              "      height: 32px;\n",
              "      padding: 0 0 0 0;\n",
              "      width: 32px;\n",
              "    }\n",
              "\n",
              "    .colab-df-convert:hover {\n",
              "      background-color: #E2EBFA;\n",
              "      box-shadow: 0px 1px 2px rgba(60, 64, 67, 0.3), 0px 1px 3px 1px rgba(60, 64, 67, 0.15);\n",
              "      fill: #174EA6;\n",
              "    }\n",
              "\n",
              "    [theme=dark] .colab-df-convert {\n",
              "      background-color: #3B4455;\n",
              "      fill: #D2E3FC;\n",
              "    }\n",
              "\n",
              "    [theme=dark] .colab-df-convert:hover {\n",
              "      background-color: #434B5C;\n",
              "      box-shadow: 0px 1px 3px 1px rgba(0, 0, 0, 0.15);\n",
              "      filter: drop-shadow(0px 1px 2px rgba(0, 0, 0, 0.3));\n",
              "      fill: #FFFFFF;\n",
              "    }\n",
              "  </style>\n",
              "\n",
              "      <script>\n",
              "        const buttonEl =\n",
              "          document.querySelector('#df-26eb1613-296d-49c6-b236-1392cbe5a114 button.colab-df-convert');\n",
              "        buttonEl.style.display =\n",
              "          google.colab.kernel.accessAllowed ? 'block' : 'none';\n",
              "\n",
              "        async function convertToInteractive(key) {\n",
              "          const element = document.querySelector('#df-26eb1613-296d-49c6-b236-1392cbe5a114');\n",
              "          const dataTable =\n",
              "            await google.colab.kernel.invokeFunction('convertToInteractive',\n",
              "                                                     [key], {});\n",
              "          if (!dataTable) return;\n",
              "\n",
              "          const docLinkHtml = 'Like what you see? Visit the ' +\n",
              "            '<a target=\"_blank\" href=https://colab.research.google.com/notebooks/data_table.ipynb>data table notebook</a>'\n",
              "            + ' to learn more about interactive tables.';\n",
              "          element.innerHTML = '';\n",
              "          dataTable['output_type'] = 'display_data';\n",
              "          await google.colab.output.renderOutput(dataTable, element);\n",
              "          const docLink = document.createElement('div');\n",
              "          docLink.innerHTML = docLinkHtml;\n",
              "          element.appendChild(docLink);\n",
              "        }\n",
              "      </script>\n",
              "    </div>\n",
              "  </div>\n",
              "  "
            ]
          },
          "metadata": {},
          "execution_count": 49
        }
      ]
    },
    {
      "cell_type": "code",
      "source": [
        "# df_text = pd.read_csv('/content/drive/MyDrive/BooksReview/text_train.csv')"
      ],
      "metadata": {
        "id": "txVVgKU0iNnr"
      },
      "execution_count": null,
      "outputs": [],
      "id": "txVVgKU0iNnr"
    },
    {
      "cell_type": "code",
      "source": [
        "# df_text = pd.read_csv('/kaggle/input/new-goodreads/text_train.csv')"
      ],
      "metadata": {
        "execution": {
          "iopub.status.busy": "2023-04-17T19:57:23.512394Z",
          "iopub.execute_input": "2023-04-17T19:57:23.512936Z",
          "iopub.status.idle": "2023-04-17T19:57:43.899440Z",
          "shell.execute_reply.started": "2023-04-17T19:57:23.512888Z",
          "shell.execute_reply": "2023-04-17T19:57:43.897941Z"
        },
        "trusted": true,
        "id": "3mzUCQnRdb3P"
      },
      "execution_count": null,
      "outputs": [],
      "id": "3mzUCQnRdb3P"
    },
    {
      "cell_type": "code",
      "source": [
        "# df_text.to_csv('D:\\Kaggle\\Goodreads Books Reviews\\goodreads-books-reviews-290312\\train_text.csv', index = False)"
      ],
      "metadata": {
        "id": "37d4433a"
      },
      "execution_count": null,
      "outputs": [],
      "id": "37d4433a"
    },
    {
      "cell_type": "code",
      "source": [
        "from collections import defaultdict\n",
        "stop_words = stopwords.words('english')"
      ],
      "metadata": {
        "id": "e837bb97",
        "execution": {
          "iopub.status.busy": "2023-04-17T22:50:43.256478Z",
          "iopub.execute_input": "2023-04-17T22:50:43.256939Z",
          "iopub.status.idle": "2023-04-17T22:50:43.264466Z",
          "shell.execute_reply.started": "2023-04-17T22:50:43.256899Z",
          "shell.execute_reply": "2023-04-17T22:50:43.263075Z"
        },
        "trusted": true
      },
      "execution_count": null,
      "outputs": [],
      "id": "e837bb97"
    },
    {
      "cell_type": "code",
      "source": [
        "stop = set(stopwords.words('english'))"
      ],
      "metadata": {
        "id": "_tfTnJMqT84k"
      },
      "id": "_tfTnJMqT84k",
      "execution_count": null,
      "outputs": []
    },
    {
      "cell_type": "markdown",
      "source": [
        "Посмотрим, какие стоп - слова чаще всего встечаются в отзывах."
      ],
      "metadata": {
        "id": "141f23e1"
      },
      "id": "141f23e1"
    },
    {
      "cell_type": "code",
      "source": [
        "# функция подсчета стоп-слов\n",
        "def stop_words_count(text):\n",
        "    corpus=[]\n",
        "    new = text.str.split()\n",
        "    new = new.values.tolist()\n",
        "    corpus=[word for i in new for word in i]\n",
        "\n",
        "    dic=defaultdict(int)\n",
        "    for word in corpus:\n",
        "        if word in stop:\n",
        "            dic[word] += 1\n",
        "    return dic"
      ],
      "metadata": {
        "id": "fc98a233",
        "execution": {
          "iopub.status.busy": "2023-04-17T19:58:35.243125Z",
          "iopub.execute_input": "2023-04-17T19:58:35.243579Z",
          "iopub.status.idle": "2023-04-17T19:58:35.251869Z",
          "shell.execute_reply.started": "2023-04-17T19:58:35.243541Z",
          "shell.execute_reply": "2023-04-17T19:58:35.250329Z"
        },
        "trusted": true
      },
      "execution_count": null,
      "outputs": [],
      "id": "fc98a233"
    },
    {
      "cell_type": "code",
      "source": [
        "# def plot_top_stopwords_barchart(text):\n",
        "#     dic = stop_words_count(text)\n",
        "#     top = "
      ],
      "metadata": {
        "id": "oCq9PZ08db3Q"
      },
      "execution_count": null,
      "outputs": [],
      "id": "oCq9PZ08db3Q"
    },
    {
      "cell_type": "code",
      "source": [
        "dic = stop_words_count(df['review_text'])\n",
        "top = sorted(dic.items(), key=lambda x:x[1], reverse=True)\n",
        "top[:20]"
      ],
      "metadata": {
        "execution": {
          "iopub.status.busy": "2023-04-17T20:26:22.014736Z",
          "iopub.execute_input": "2023-04-17T20:26:22.015320Z",
          "iopub.status.idle": "2023-04-17T20:27:29.046384Z",
          "shell.execute_reply.started": "2023-04-17T20:26:22.015269Z",
          "shell.execute_reply": "2023-04-17T20:27:29.044904Z"
        },
        "trusted": true,
        "id": "3hxh7Ybkdb3Q"
      },
      "execution_count": null,
      "outputs": [],
      "id": "3hxh7Ybkdb3Q"
    },
    {
      "cell_type": "code",
      "source": [
        "def plot_top_stopwords_barchart(text): \n",
        "    dic = stop_words_count(text)\n",
        "           \n",
        "    top = sorted(dic.items(), key=lambda x:x[1],reverse=True)[:10] \n",
        "    x,y=zip(*top)\n",
        "    plt.subplot(1,1,1)\n",
        "    # plt.bar(x=x, y=y, height = 100000)\n",
        "    # plt.title('Top 10 most common stop-words')\n",
        "    # plt.ylabel('Frequency', labelpad=12.5)\n",
        "    # plt.xlabel('Stop-word', labelpad=12.5)\n",
        "    \n",
        "    # plt.show()\n",
        "\n",
        "    plt.bar(x,y)\n",
        "    plt.title('Top 10 most common stop-words')\n",
        "    plt.ylabel('Frequency', labelpad=12.5)\n",
        "    plt.xlabel('Stop-word', labelpad=12.5)\n",
        "\n"
      ],
      "metadata": {
        "id": "8b8a415b",
        "execution": {
          "iopub.status.busy": "2023-04-17T20:39:25.945665Z",
          "iopub.execute_input": "2023-04-17T20:39:25.946271Z",
          "iopub.status.idle": "2023-04-17T20:39:25.955836Z",
          "shell.execute_reply.started": "2023-04-17T20:39:25.946218Z",
          "shell.execute_reply": "2023-04-17T20:39:25.953776Z"
        },
        "trusted": true
      },
      "execution_count": null,
      "outputs": [],
      "id": "8b8a415b"
    },
    {
      "cell_type": "code",
      "source": [
        "# plot_top_stopwords_barchart(df['review_text'])"
      ],
      "metadata": {
        "id": "c240e296",
        "scrolled": true,
        "execution": {
          "iopub.status.busy": "2023-04-17T20:39:44.340751Z",
          "iopub.execute_input": "2023-04-17T20:39:44.342524Z",
          "iopub.status.idle": "2023-04-17T20:39:44.348727Z",
          "shell.execute_reply.started": "2023-04-17T20:39:44.342446Z",
          "shell.execute_reply": "2023-04-17T20:39:44.346835Z"
        },
        "trusted": true
      },
      "execution_count": null,
      "outputs": [],
      "id": "c240e296"
    },
    {
      "cell_type": "code",
      "source": [
        "def plot_top_non_stopwords_barchart(text):   \n",
        "    new= text.str.split()\n",
        "    new=new.values.tolist()\n",
        "    corpus=[word for i in new for word in i]\n",
        "\n",
        "    counter=Counter(corpus)\n",
        "    most=counter.most_common()\n",
        "    x, y=[], []\n",
        "    for word,count in most[:50]:\n",
        "        if (word not in stop):\n",
        "            x.append(word)\n",
        "            y.append(count)\n",
        "            \n",
        "    sns.barplot(x = y,y = x)"
      ],
      "metadata": {
        "id": "ef900c29",
        "execution": {
          "iopub.status.busy": "2023-04-17T20:39:50.221194Z",
          "iopub.execute_input": "2023-04-17T20:39:50.223023Z",
          "iopub.status.idle": "2023-04-17T20:39:50.233422Z",
          "shell.execute_reply.started": "2023-04-17T20:39:50.222914Z",
          "shell.execute_reply": "2023-04-17T20:39:50.231877Z"
        },
        "trusted": true
      },
      "execution_count": null,
      "outputs": [],
      "id": "ef900c29"
    },
    {
      "cell_type": "code",
      "source": [
        "plot_top_non_stopwords_barchart(df['review_text'])"
      ],
      "metadata": {
        "id": "a3930e48",
        "outputId": "bb4115d6-fe91-4dc8-c942-54a9066d5f59",
        "scrolled": true,
        "execution": {
          "iopub.status.busy": "2023-04-17T20:40:00.389125Z",
          "iopub.execute_input": "2023-04-17T20:40:00.389636Z",
          "iopub.status.idle": "2023-04-17T20:42:25.352271Z",
          "shell.execute_reply.started": "2023-04-17T20:40:00.389590Z",
          "shell.execute_reply": "2023-04-17T20:42:25.350603Z"
        },
        "trusted": true
      },
      "execution_count": null,
      "outputs": [
        {
          "output_type": "display_data",
          "data": {
            "text/plain": "<Figure size 1700x700 with 1 Axes>",
            "image/png": "[encoded data removed]"
          },
          "metadata": {}
        }
      ],
      "id": "a3930e48"
    },
    {
      "cell_type": "markdown",
      "source": [
        "Посмотрим на n-gramms."
      ],
      "metadata": {
        "id": "2OioqGoLdb3R"
      },
      "id": "2OioqGoLdb3R"
    },
    {
      "cell_type": "code",
      "source": [
        "from nltk.util import ngrams"
      ],
      "metadata": {
        "execution": {
          "iopub.status.busy": "2023-04-17T20:43:10.689504Z",
          "iopub.execute_input": "2023-04-17T20:43:10.691062Z",
          "iopub.status.idle": "2023-04-17T20:43:10.697511Z",
          "shell.execute_reply.started": "2023-04-17T20:43:10.690987Z",
          "shell.execute_reply": "2023-04-17T20:43:10.695901Z"
        },
        "trusted": true,
        "id": "lTezzs8Qdb3R"
      },
      "execution_count": null,
      "outputs": [],
      "id": "lTezzs8Qdb3R"
    },
    {
      "cell_type": "code",
      "source": [
        "# def get_top_ngram(corpus, n=None):\n",
        "#     vec = CountVectorizer(ngram_range=(n, n)).fit(corpus)\n",
        "#     bag_of_words = vec.transform(corpus)\n",
        "#     sum_words = bag_of_words.sum(axis=0)\n",
        "#     words_freq = [(word, sum_words[0, idx])\n",
        "#                   for word, idx in vec.vocabulary_.items()]\n",
        "#     words_freq =sorted(words_freq, key = lambda x: x[1], reverse=True)\n",
        "#     return words_freq[:10]"
      ],
      "metadata": {
        "execution": {
          "iopub.status.busy": "2023-04-17T20:43:50.014389Z",
          "iopub.execute_input": "2023-04-17T20:43:50.015830Z",
          "iopub.status.idle": "2023-04-17T20:43:50.026592Z",
          "shell.execute_reply.started": "2023-04-17T20:43:50.015768Z",
          "shell.execute_reply": "2023-04-17T20:43:50.024166Z"
        },
        "trusted": true,
        "id": "zQ_ZBPafdb3S"
      },
      "execution_count": null,
      "outputs": [],
      "id": "zQ_ZBPafdb3S"
    },
    {
      "cell_type": "code",
      "source": [
        "# def plot_top_ngrams_barchart(text, n=2):\n",
        "#     stop=set(stopwords.words('english'))\n",
        "\n",
        "#     new= text.str.split()\n",
        "#     new=new.values.tolist()\n",
        "#     corpus=[word for i in new for word in i]\n",
        "\n",
        "#     def _get_top_ngram(corpus, n=None):\n",
        "#         vec = CountVectorizer(ngram_range=(n, n)).fit(corpus)\n",
        "#         bag_of_words = vec.transform(corpus)\n",
        "#         sum_words = bag_of_words.sum(axis=0) \n",
        "#         words_freq = [(word, sum_words[0, idx]) \n",
        "#                       for word, idx in vec.vocabulary_.items()]\n",
        "#         words_freq =sorted(words_freq, key = lambda x: x[1], reverse=True)\n",
        "#         return words_freq[:10]\n",
        "\n",
        "#     top_n_bigrams=_get_top_ngram(text,n)[:10]\n",
        "#     x,y=map(list,zip(*top_n_bigrams))\n",
        "#     sns.barplot(x=y,y=x)"
      ],
      "metadata": {
        "execution": {
          "iopub.status.busy": "2023-04-17T20:44:54.886534Z",
          "iopub.execute_input": "2023-04-17T20:44:54.887066Z",
          "iopub.status.idle": "2023-04-17T20:44:54.898094Z",
          "shell.execute_reply.started": "2023-04-17T20:44:54.887024Z",
          "shell.execute_reply": "2023-04-17T20:44:54.896673Z"
        },
        "trusted": true,
        "id": "xWlHH-rtdb3S"
      },
      "execution_count": null,
      "outputs": [],
      "id": "xWlHH-rtdb3S"
    },
    {
      "cell_type": "code",
      "source": [
        "# plot_top_ngrams_barchart(df_text['review_text'],2)"
      ],
      "metadata": {
        "execution": {
          "iopub.status.busy": "2023-04-17T20:45:33.257085Z",
          "iopub.execute_input": "2023-04-17T20:45:33.257656Z",
          "iopub.status.idle": "2023-04-17T20:59:25.843810Z",
          "shell.execute_reply.started": "2023-04-17T20:45:33.257612Z",
          "shell.execute_reply": "2023-04-17T20:59:25.842196Z"
        },
        "trusted": true,
        "id": "_l5nYT5Fdb3S",
        "outputId": "53319a5e-bec2-434b-c98c-fb7d277f48b4"
      },
      "execution_count": null,
      "outputs": [
        {
          "output_type": "display_data",
          "data": {
            "text/plain": "<Figure size 1700x700 with 1 Axes>",
            "image/png": "[encoded data removed]"
          },
          "metadata": {}
        }
      ],
      "id": "_l5nYT5Fdb3S"
    },
    {
      "cell_type": "markdown",
      "source": [
        "Проставим наличие/отстутсвие спойлеров у отзыва."
      ],
      "metadata": {
        "id": "FYdNirWrdb3S"
      },
      "id": "FYdNirWrdb3S"
    },
    {
      "cell_type": "code",
      "source": [
        "def if_spoiler(text):\n",
        "    spoil_statement = 'spoiler alert'\n",
        "    return [1 if spoil_statement in txt else 0 for txt in text]"
      ],
      "metadata": {
        "execution": {
          "iopub.status.busy": "2023-04-17T21:30:10.583051Z",
          "iopub.execute_input": "2023-04-17T21:30:10.583563Z",
          "iopub.status.idle": "2023-04-17T21:30:10.591463Z",
          "shell.execute_reply.started": "2023-04-17T21:30:10.583519Z",
          "shell.execute_reply": "2023-04-17T21:30:10.589619Z"
        },
        "trusted": true,
        "id": "nbxo9ZnHdb3S"
      },
      "execution_count": null,
      "outputs": [],
      "id": "nbxo9ZnHdb3S"
    },
    {
      "cell_type": "code",
      "source": [
        "df['spoil'] = if_spoiler(df['review_text'])\n",
        "df[df['spoil'] == 1]"
      ],
      "metadata": {
        "execution": {
          "iopub.status.busy": "2023-04-17T21:40:09.572567Z",
          "iopub.execute_input": "2023-04-17T21:40:09.573138Z",
          "iopub.status.idle": "2023-04-17T21:40:12.375022Z",
          "shell.execute_reply.started": "2023-04-17T21:40:09.573087Z",
          "shell.execute_reply": "2023-04-17T21:40:12.373231Z"
        },
        "trusted": true,
        "id": "3O3WnGJIdb3T",
        "colab": {
          "base_uri": "https://localhost:8080/",
          "height": 1000
        },
        "outputId": "233610ce-755c-4954-f712-6466dd710a18"
      },
      "execution_count": null,
      "outputs": [
        {
          "output_type": "execute_result",
          "data": {
            "text/plain": [
              "                                 user_id   book_id  rating  \\\n",
              "26      8842281e1d1347389f2ab93d60773d4d     62291       5   \n",
              "29      8842281e1d1347389f2ab93d60773d4d   7112495       4   \n",
              "32      8842281e1d1347389f2ab93d60773d4d   6411961       3   \n",
              "34      8842281e1d1347389f2ab93d60773d4d     77432       5   \n",
              "42      8842281e1d1347389f2ab93d60773d4d     14497       4   \n",
              "...                                  ...       ...     ...   \n",
              "899991  b9450d1c1f97f891c392b1105959b56e  16113791       5   \n",
              "899993  b9450d1c1f97f891c392b1105959b56e  15717943       5   \n",
              "899997  b9450d1c1f97f891c392b1105959b56e   8430896       4   \n",
              "899998  b9450d1c1f97f891c392b1105959b56e  12275680       4   \n",
              "899999  b9450d1c1f97f891c392b1105959b56e     17005       3   \n",
              "\n",
              "                                              review_text  n_votes  \\\n",
              "26      ** spoiler alert ** \\n Loved it. The epic saga...        5   \n",
              "29      ** spoiler alert ** \\n An interesting book in ...        7   \n",
              "32      ** spoiler alert ** \\n Critics aside, Dan Brow...        3   \n",
              "34      ** spoiler alert ** \\n I equally loved book 2,...        1   \n",
              "42      ** spoiler alert ** \\n Just finished this and ...        6   \n",
              "...                                                   ...      ...   \n",
              "899991  ** spoiler alert ** \\n 4.5 stars. \\n This is t...        1   \n",
              "899993  ** spoiler alert ** \\n 5 Stars! \\n Thank you M...        4   \n",
              "899997  ** spoiler alert ** \\n 3.5 stars. \\n This book...        1   \n",
              "899998  ** spoiler alert ** \\n Another fun read from M...        0   \n",
              "899999  ** spoiler alert ** \\n 3.5 stars \\n I liked it...        0   \n",
              "\n",
              "        read_length_days  review_length  word_count  mean_sent_length  \\\n",
              "26                  25.0            470          88         57.625000   \n",
              "29                  33.0           3685         647         93.000000   \n",
              "32                   1.0            923         175         82.727273   \n",
              "34                   1.0            475          97         93.800000   \n",
              "42                   1.0            742         142         91.375000   \n",
              "...                  ...            ...         ...               ...   \n",
              "899991               1.0           2775         494         82.727273   \n",
              "899993               1.0           3148         560         67.130435   \n",
              "899997               0.0           1844         335         69.576923   \n",
              "899998               1.0           1302         239         67.263158   \n",
              "899999               0.0            912         163         74.750000   \n",
              "\n",
              "        mean_word_length  spoil  \n",
              "26              4.306818      1  \n",
              "29              4.663060      1  \n",
              "32              4.245714      1  \n",
              "34              3.865979      1  \n",
              "42              4.190141      1  \n",
              "...                  ...    ...  \n",
              "899991          4.587045      1  \n",
              "899993          4.587500      1  \n",
              "899997          4.471642      1  \n",
              "899998          4.418410      1  \n",
              "899999          4.552147      1  \n",
              "\n",
              "[17725 rows x 11 columns]"
            ],
            "text/html": [
              "\n",
              "  <div id=\"df-961686ca-a29f-4961-9b29-b1c165546785\">\n",
              "    <div class=\"colab-df-container\">\n",
              "      <div>\n",
              "<style scoped>\n",
              "    .dataframe tbody tr th:only-of-type {\n",
              "        vertical-align: middle;\n",
              "    }\n",
              "\n",
              "    .dataframe tbody tr th {\n",
              "        vertical-align: top;\n",
              "    }\n",
              "\n",
              "    .dataframe thead th {\n",
              "        text-align: right;\n",
              "    }\n",
              "</style>\n",
              "<table border=\"1\" class=\"dataframe\">\n",
              "  <thead>\n",
              "    <tr style=\"text-align: right;\">\n",
              "      <th></th>\n",
              "      <th>user_id</th>\n",
              "      <th>book_id</th>\n",
              "      <th>rating</th>\n",
              "      <th>review_text</th>\n",
              "      <th>n_votes</th>\n",
              "      <th>read_length_days</th>\n",
              "      <th>review_length</th>\n",
              "      <th>word_count</th>\n",
              "      <th>mean_sent_length</th>\n",
              "      <th>mean_word_length</th>\n",
              "      <th>spoil</th>\n",
              "    </tr>\n",
              "  </thead>\n",
              "  <tbody>\n",
              "    <tr>\n",
              "      <th>26</th>\n",
              "      <td>8842281e1d1347389f2ab93d60773d4d</td>\n",
              "      <td>62291</td>\n",
              "      <td>5</td>\n",
              "      <td>** spoiler alert ** \\n Loved it. The epic saga...</td>\n",
              "      <td>5</td>\n",
              "      <td>25.0</td>\n",
              "      <td>470</td>\n",
              "      <td>88</td>\n",
              "      <td>57.625000</td>\n",
              "      <td>4.306818</td>\n",
              "      <td>1</td>\n",
              "    </tr>\n",
              "    <tr>\n",
              "      <th>29</th>\n",
              "      <td>8842281e1d1347389f2ab93d60773d4d</td>\n",
              "      <td>7112495</td>\n",
              "      <td>4</td>\n",
              "      <td>** spoiler alert ** \\n An interesting book in ...</td>\n",
              "      <td>7</td>\n",
              "      <td>33.0</td>\n",
              "      <td>3685</td>\n",
              "      <td>647</td>\n",
              "      <td>93.000000</td>\n",
              "      <td>4.663060</td>\n",
              "      <td>1</td>\n",
              "    </tr>\n",
              "    <tr>\n",
              "      <th>32</th>\n",
              "      <td>8842281e1d1347389f2ab93d60773d4d</td>\n",
              "      <td>6411961</td>\n",
              "      <td>3</td>\n",
              "      <td>** spoiler alert ** \\n Critics aside, Dan Brow...</td>\n",
              "      <td>3</td>\n",
              "      <td>1.0</td>\n",
              "      <td>923</td>\n",
              "      <td>175</td>\n",
              "      <td>82.727273</td>\n",
              "      <td>4.245714</td>\n",
              "      <td>1</td>\n",
              "    </tr>\n",
              "    <tr>\n",
              "      <th>34</th>\n",
              "      <td>8842281e1d1347389f2ab93d60773d4d</td>\n",
              "      <td>77432</td>\n",
              "      <td>5</td>\n",
              "      <td>** spoiler alert ** \\n I equally loved book 2,...</td>\n",
              "      <td>1</td>\n",
              "      <td>1.0</td>\n",
              "      <td>475</td>\n",
              "      <td>97</td>\n",
              "      <td>93.800000</td>\n",
              "      <td>3.865979</td>\n",
              "      <td>1</td>\n",
              "    </tr>\n",
              "    <tr>\n",
              "      <th>42</th>\n",
              "      <td>8842281e1d1347389f2ab93d60773d4d</td>\n",
              "      <td>14497</td>\n",
              "      <td>4</td>\n",
              "      <td>** spoiler alert ** \\n Just finished this and ...</td>\n",
              "      <td>6</td>\n",
              "      <td>1.0</td>\n",
              "      <td>742</td>\n",
              "      <td>142</td>\n",
              "      <td>91.375000</td>\n",
              "      <td>4.190141</td>\n",
              "      <td>1</td>\n",
              "    </tr>\n",
              "    <tr>\n",
              "      <th>...</th>\n",
              "      <td>...</td>\n",
              "      <td>...</td>\n",
              "      <td>...</td>\n",
              "      <td>...</td>\n",
              "      <td>...</td>\n",
              "      <td>...</td>\n",
              "      <td>...</td>\n",
              "      <td>...</td>\n",
              "      <td>...</td>\n",
              "      <td>...</td>\n",
              "      <td>...</td>\n",
              "    </tr>\n",
              "    <tr>\n",
              "      <th>899991</th>\n",
              "      <td>b9450d1c1f97f891c392b1105959b56e</td>\n",
              "      <td>16113791</td>\n",
              "      <td>5</td>\n",
              "      <td>** spoiler alert ** \\n 4.5 stars. \\n This is t...</td>\n",
              "      <td>1</td>\n",
              "      <td>1.0</td>\n",
              "      <td>2775</td>\n",
              "      <td>494</td>\n",
              "      <td>82.727273</td>\n",
              "      <td>4.587045</td>\n",
              "      <td>1</td>\n",
              "    </tr>\n",
              "    <tr>\n",
              "      <th>899993</th>\n",
              "      <td>b9450d1c1f97f891c392b1105959b56e</td>\n",
              "      <td>15717943</td>\n",
              "      <td>5</td>\n",
              "      <td>** spoiler alert ** \\n 5 Stars! \\n Thank you M...</td>\n",
              "      <td>4</td>\n",
              "      <td>1.0</td>\n",
              "      <td>3148</td>\n",
              "      <td>560</td>\n",
              "      <td>67.130435</td>\n",
              "      <td>4.587500</td>\n",
              "      <td>1</td>\n",
              "    </tr>\n",
              "    <tr>\n",
              "      <th>899997</th>\n",
              "      <td>b9450d1c1f97f891c392b1105959b56e</td>\n",
              "      <td>8430896</td>\n",
              "      <td>4</td>\n",
              "      <td>** spoiler alert ** \\n 3.5 stars. \\n This book...</td>\n",
              "      <td>1</td>\n",
              "      <td>0.0</td>\n",
              "      <td>1844</td>\n",
              "      <td>335</td>\n",
              "      <td>69.576923</td>\n",
              "      <td>4.471642</td>\n",
              "      <td>1</td>\n",
              "    </tr>\n",
              "    <tr>\n",
              "      <th>899998</th>\n",
              "      <td>b9450d1c1f97f891c392b1105959b56e</td>\n",
              "      <td>12275680</td>\n",
              "      <td>4</td>\n",
              "      <td>** spoiler alert ** \\n Another fun read from M...</td>\n",
              "      <td>0</td>\n",
              "      <td>1.0</td>\n",
              "      <td>1302</td>\n",
              "      <td>239</td>\n",
              "      <td>67.263158</td>\n",
              "      <td>4.418410</td>\n",
              "      <td>1</td>\n",
              "    </tr>\n",
              "    <tr>\n",
              "      <th>899999</th>\n",
              "      <td>b9450d1c1f97f891c392b1105959b56e</td>\n",
              "      <td>17005</td>\n",
              "      <td>3</td>\n",
              "      <td>** spoiler alert ** \\n 3.5 stars \\n I liked it...</td>\n",
              "      <td>0</td>\n",
              "      <td>0.0</td>\n",
              "      <td>912</td>\n",
              "      <td>163</td>\n",
              "      <td>74.750000</td>\n",
              "      <td>4.552147</td>\n",
              "      <td>1</td>\n",
              "    </tr>\n",
              "  </tbody>\n",
              "</table>\n",
              "<p>17725 rows × 11 columns</p>\n",
              "</div>\n",
              "      <button class=\"colab-df-convert\" onclick=\"convertToInteractive('df-961686ca-a29f-4961-9b29-b1c165546785')\"\n",
              "              title=\"Convert this dataframe to an interactive table.\"\n",
              "              style=\"display:none;\">\n",
              "        \n",
              "  <svg xmlns=\"http://www.w3.org/2000/svg\" height=\"24px\"viewBox=\"0 0 24 24\"\n",
              "       width=\"24px\">\n",
              "    <path d=\"M0 0h24v24H0V0z\" fill=\"none\"/>\n",
              "    <path d=\"M18.56 5.44l.94 2.06.94-2.06 2.06-.94-2.06-.94-.94-2.06-.94 2.06-2.06.94zm-11 1L8.5 8.5l.94-2.06 2.06-.94-2.06-.94L8.5 2.5l-.94 2.06-2.06.94zm10 10l.94 2.06.94-2.06 2.06-.94-2.06-.94-.94-2.06-.94 2.06-2.06.94z\"/><path d=\"M17.41 7.96l-1.37-1.37c-.4-.4-.92-.59-1.43-.59-.52 0-1.04.2-1.43.59L10.3 9.45l-7.72 7.72c-.78.78-.78 2.05 0 2.83L4 21.41c.39.39.9.59 1.41.59.51 0 1.02-.2 1.41-.59l7.78-7.78 2.81-2.81c.8-.78.8-2.07 0-2.86zM5.41 20L4 18.59l7.72-7.72 1.47 1.35L5.41 20z\"/>\n",
              "  </svg>\n",
              "      </button>\n",
              "      \n",
              "  <style>\n",
              "    .colab-df-container {\n",
              "      display:flex;\n",
              "      flex-wrap:wrap;\n",
              "      gap: 12px;\n",
              "    }\n",
              "\n",
              "    .colab-df-convert {\n",
              "      background-color: #E8F0FE;\n",
              "      border: none;\n",
              "      border-radius: 50%;\n",
              "      cursor: pointer;\n",
              "      display: none;\n",
              "      fill: #1967D2;\n",
              "      height: 32px;\n",
              "      padding: 0 0 0 0;\n",
              "      width: 32px;\n",
              "    }\n",
              "\n",
              "    .colab-df-convert:hover {\n",
              "      background-color: #E2EBFA;\n",
              "      box-shadow: 0px 1px 2px rgba(60, 64, 67, 0.3), 0px 1px 3px 1px rgba(60, 64, 67, 0.15);\n",
              "      fill: #174EA6;\n",
              "    }\n",
              "\n",
              "    [theme=dark] .colab-df-convert {\n",
              "      background-color: #3B4455;\n",
              "      fill: #D2E3FC;\n",
              "    }\n",
              "\n",
              "    [theme=dark] .colab-df-convert:hover {\n",
              "      background-color: #434B5C;\n",
              "      box-shadow: 0px 1px 3px 1px rgba(0, 0, 0, 0.15);\n",
              "      filter: drop-shadow(0px 1px 2px rgba(0, 0, 0, 0.3));\n",
              "      fill: #FFFFFF;\n",
              "    }\n",
              "  </style>\n",
              "\n",
              "      <script>\n",
              "        const buttonEl =\n",
              "          document.querySelector('#df-961686ca-a29f-4961-9b29-b1c165546785 button.colab-df-convert');\n",
              "        buttonEl.style.display =\n",
              "          google.colab.kernel.accessAllowed ? 'block' : 'none';\n",
              "\n",
              "        async function convertToInteractive(key) {\n",
              "          const element = document.querySelector('#df-961686ca-a29f-4961-9b29-b1c165546785');\n",
              "          const dataTable =\n",
              "            await google.colab.kernel.invokeFunction('convertToInteractive',\n",
              "                                                     [key], {});\n",
              "          if (!dataTable) return;\n",
              "\n",
              "          const docLinkHtml = 'Like what you see? Visit the ' +\n",
              "            '<a target=\"_blank\" href=https://colab.research.google.com/notebooks/data_table.ipynb>data table notebook</a>'\n",
              "            + ' to learn more about interactive tables.';\n",
              "          element.innerHTML = '';\n",
              "          dataTable['output_type'] = 'display_data';\n",
              "          await google.colab.output.renderOutput(dataTable, element);\n",
              "          const docLink = document.createElement('div');\n",
              "          docLink.innerHTML = docLinkHtml;\n",
              "          element.appendChild(docLink);\n",
              "        }\n",
              "      </script>\n",
              "    </div>\n",
              "  </div>\n",
              "  "
            ]
          },
          "metadata": {},
          "execution_count": 51
        }
      ],
      "id": "3O3WnGJIdb3T"
    },
    {
      "cell_type": "code",
      "source": [
        "# df_test_text.to_csv(r'/kaggle/working/test_text_new.csv', index = False)\n",
        "# df_text.to_csv('/kaggle/working/train_text_new.csv', index = False)"
      ],
      "metadata": {
        "execution": {
          "iopub.status.busy": "2023-04-17T21:48:35.999901Z",
          "iopub.execute_input": "2023-04-17T21:48:36.000569Z",
          "iopub.status.idle": "2023-04-17T21:49:16.274401Z",
          "shell.execute_reply.started": "2023-04-17T21:48:36.000516Z",
          "shell.execute_reply": "2023-04-17T21:49:16.272284Z"
        },
        "trusted": true,
        "id": "ms9fVmtddb3T"
      },
      "execution_count": null,
      "outputs": [],
      "id": "ms9fVmtddb3T"
    },
    {
      "cell_type": "markdown",
      "source": [
        "Теперь удалим спойлеры. Также приведем все к нижнему регистру, удалим линки, цифры и лишние символы, лемматизируем и токенизируем. Затем добавим эмоциональную окраску."
      ],
      "metadata": {
        "id": "Y7rDRszGdb3T"
      },
      "id": "Y7rDRszGdb3T"
    },
    {
      "cell_type": "markdown",
      "source": [
        "Сначала сделаем по-тупому через функции, потом засуну это в пайплайн..."
      ],
      "metadata": {
        "id": "ZW6zflrKdb3T"
      },
      "id": "ZW6zflrKdb3T"
    },
    {
      "cell_type": "code",
      "source": [
        "from sklearn.pipeline import Pipeline"
      ],
      "metadata": {
        "execution": {
          "iopub.status.busy": "2023-04-17T22:36:08.983520Z",
          "iopub.execute_input": "2023-04-17T22:36:08.984748Z",
          "iopub.status.idle": "2023-04-17T22:36:09.007648Z",
          "shell.execute_reply.started": "2023-04-17T22:36:08.984679Z",
          "shell.execute_reply": "2023-04-17T22:36:09.005464Z"
        },
        "trusted": true,
        "id": "s3Mn9BBZdb3T"
      },
      "execution_count": null,
      "outputs": [],
      "id": "s3Mn9BBZdb3T"
    },
    {
      "cell_type": "code",
      "source": [
        "def remove_spoiler_alert(text):\n",
        "    return re.sub(r'(\\(view spoiler\\).*?\\(hide spoiler\\))','',text)"
      ],
      "metadata": {
        "execution": {
          "iopub.status.busy": "2023-04-17T22:36:09.009927Z",
          "iopub.execute_input": "2023-04-17T22:36:09.010451Z",
          "iopub.status.idle": "2023-04-17T22:36:09.022526Z",
          "shell.execute_reply.started": "2023-04-17T22:36:09.010390Z",
          "shell.execute_reply": "2023-04-17T22:36:09.020116Z"
        },
        "trusted": true,
        "id": "kPjjP8e4db3T"
      },
      "execution_count": null,
      "outputs": [],
      "id": "kPjjP8e4db3T"
    },
    {
      "cell_type": "code",
      "source": [
        "def to_lower(text):\n",
        "    return text.lower()"
      ],
      "metadata": {
        "execution": {
          "iopub.status.busy": "2023-04-17T22:36:10.920166Z",
          "iopub.execute_input": "2023-04-17T22:36:10.920775Z",
          "iopub.status.idle": "2023-04-17T22:36:10.931950Z",
          "shell.execute_reply.started": "2023-04-17T22:36:10.920715Z",
          "shell.execute_reply": "2023-04-17T22:36:10.928474Z"
        },
        "trusted": true,
        "id": "njEEMtVxdb3U"
      },
      "execution_count": null,
      "outputs": [],
      "id": "njEEMtVxdb3U"
    },
    {
      "cell_type": "code",
      "source": [
        "def remove_stopwords(text):\n",
        "    return ' '.join([word for word in str(text).split(' ') if word not in stop])"
      ],
      "metadata": {
        "id": "5Xw1vmiLdb3U"
      },
      "execution_count": null,
      "outputs": [],
      "id": "5Xw1vmiLdb3U"
    },
    {
      "cell_type": "code",
      "source": [
        "def cleaned(data):\n",
        "    stopwords_cleaned = []\n",
        "    cleaned_text = []\n",
        "    tokens = []\n",
        "    for text in data:\n",
        "    # cleaning  \n",
        "        text = clean_text(text)\n",
        "        cleaned_text.append(text)\n",
        "     \n",
        "    # tokenization\n",
        "        text = word_tokenize(text)\n",
        "        tokens.append(text)\n",
        "     \n",
        "    # с помощью цикла for поочередно проверяем каждое слово(токен) текущего сообщения\n",
        "    # на вхождение в список стоп-слов. Если токен не является стоп-словом, \n",
        "    # то добавляем его в список stopwords_cleaned  \n",
        "        text = [word for word in text if word not in stop_words]\n",
        "        stopwords_cleaned.append(text)\n",
        "    return cleaned_text, tokens, stopwords_cleaned"
      ],
      "metadata": {
        "execution": {
          "iopub.status.busy": "2023-04-17T22:48:16.087772Z",
          "iopub.execute_input": "2023-04-17T22:48:16.089454Z",
          "iopub.status.idle": "2023-04-17T22:48:16.099810Z",
          "shell.execute_reply.started": "2023-04-17T22:48:16.089378Z",
          "shell.execute_reply": "2023-04-17T22:48:16.098327Z"
        },
        "trusted": true,
        "id": "U0iWLeY-db3U"
      },
      "execution_count": null,
      "outputs": [],
      "id": "U0iWLeY-db3U"
    },
    {
      "cell_type": "code",
      "source": [
        "df['cleaned_rev'], df['tokens_rev'], df['noStopwords_rev']= cleaned(df['review_text'])\n",
        "# data['tokens_rev'] = tokens\n",
        " \n",
        "# Сохраняем сообщения без стоп-слов в новой колонке 'noStopwords_msg'\n",
        "# data['noStopwords_rev'] = stopwords_cleaned"
      ],
      "metadata": {
        "execution": {
          "iopub.status.busy": "2023-04-17T22:50:51.016685Z",
          "iopub.execute_input": "2023-04-17T22:50:51.017223Z",
          "iopub.status.idle": "2023-04-17T23:02:29.585248Z",
          "shell.execute_reply.started": "2023-04-17T22:50:51.017159Z",
          "shell.execute_reply": "2023-04-17T23:02:29.583332Z"
        },
        "trusted": true,
        "id": "KLczEOJIdb3V"
      },
      "execution_count": null,
      "outputs": [],
      "id": "KLczEOJIdb3V"
    },
    {
      "cell_type": "code",
      "source": [
        "df.to_csv('/content/drive/MyDrive/BooksReview/cleaned_train.csv', index = False)"
      ],
      "metadata": {
        "id": "Hml3CAbMXqbb"
      },
      "id": "Hml3CAbMXqbb",
      "execution_count": null,
      "outputs": []
    },
    {
      "cell_type": "code",
      "source": [
        "df.sample(5, random_state = 42)"
      ],
      "metadata": {
        "id": "jtdNCP1sdb3V"
      },
      "execution_count": null,
      "outputs": [],
      "id": "jtdNCP1sdb3V"
    },
    {
      "cell_type": "code",
      "source": [
        "from nltk.stem import PorterStemmer\n",
        "from nltk.stem import WordNetLemmatizer"
      ],
      "metadata": {
        "id": "5jkuxZ1AYsUC"
      },
      "id": "5jkuxZ1AYsUC",
      "execution_count": null,
      "outputs": []
    },
    {
      "cell_type": "code",
      "source": [
        "# def clean_text(text):\n",
        "#     text = text.lower()\n",
        "#     regular = r'[\\*+\\#+\\№\\\"\\-+\\+\\=+\\?+\\&\\^\\.+\\;\\,+\\>+\\(\\)\\/+\\:\\\\+]'\n",
        "#     regular_url = r'(http\\S+)|(www\\S+)|([\\w\\d]+www\\S+)|([\\w\\d]+http\\S+)'\n",
        "#     text = re.sub(r'(\\(view spoiler\\).*?\\(hide spoiler\\))','',text)\n",
        "#     text = re.sub(regular, '', text)\n",
        "#     text = re.sub(regular_url, r'URL', text)\n",
        "#     text = re.sub(r'(\\d+\\s\\d+)|(\\d+)',' ', text)\n",
        "#     text = re.sub(r'\\s+', ' ', text)\n",
        "#     return text"
      ],
      "metadata": {
        "execution": {
          "iopub.status.busy": "2023-04-17T22:45:09.689225Z",
          "iopub.execute_input": "2023-04-17T22:45:09.689904Z",
          "iopub.status.idle": "2023-04-17T22:45:09.699456Z",
          "shell.execute_reply.started": "2023-04-17T22:45:09.689831Z",
          "shell.execute_reply": "2023-04-17T22:45:09.698236Z"
        },
        "trusted": true,
        "id": "OMqfcs7pdb3U"
      },
      "execution_count": null,
      "outputs": [],
      "id": "OMqfcs7pdb3U"
    },
    {
      "cell_type": "code",
      "source": [
        "# Text cleanup :\n",
        "stemmer = PorterStemmer()\n",
        "lemmatizer = WordNetLemmatizer()\n",
        "\n",
        "\n",
        "REPLACE_RE = r'[\\*+\\#+\\№\\\"\\-+\\+\\=+\\?+\\&\\^\\.+\\;\\,+\\>+\\<+\\(\\)\\/+\\:\\\\+]'\n",
        "BAD_SYMBOLS_RE = r'[^0-9a-z #+_]'\n",
        "REMOVE_NUM = r'(\\d+\\s\\d+)|(\\d+)'\n",
        "STOPWORDS = set(stopwords.words('english'))\n",
        "STOP_URL = r'(http\\S+)|(www\\S+)|([\\w\\d]+www\\S+)|([\\w\\d]+http\\S+)'\n",
        "SPOILER_RE = r'(\\(view spoiler\\).*?|\\(hide spoiler\\))'\n",
        "REMOVE = r'\\s+'\n",
        "SPOILER_ALERT = r'spoiler alert'\n",
        "\n",
        "def clean_text(text):\n",
        "    \"\"\"\n",
        "    text: a string\n",
        "    return: modified initial string\n",
        "    \"\"\"\n",
        "    # lowercase text\n",
        "    text = text.lower()\n",
        "\n",
        "    #  delete spoilers\n",
        "    text = re.sub(SPOILER_RE, '', text)\n",
        "    text = re.sub(SPOILER_ALERT, '', text)\n",
        "\n",
        "    #  delete urls\n",
        "    text = re.sub(STOP_URL, '', text)\n",
        "\n",
        "    # replace REPLACE_BY_SPACE_RE symbols by space in text\n",
        "    text = re.sub(REPLACE_RE, '', text)\n",
        "    \n",
        "    # Remove the XXXX values\n",
        "    text = text.replace('x', '')\n",
        "    \n",
        "    # Remove white space\n",
        "    text = re.sub(REMOVE_NUM, '', text)\n",
        "\n",
        "    #  delete symbols which are in BAD_SYMBOLS_RE from text\n",
        "    text = re.sub(BAD_SYMBOLS_RE, '', text)\n",
        "\n",
        "    # #  delete symbols which are in BAD_SYMBOLS_RE from text\n",
        "    # text = REMOVE.sub('', text)\n",
        "\n",
        "    # delete stopwords from text\n",
        "    text = ' '.join(word for word in text.split() if word not in STOPWORDS) \n",
        "    \n",
        "    # removes any words composed of less than 2 or more than 21 letters\n",
        "    text = ' '.join(word for word in text.split() if (len(word) >= 2 and len(word) <= 21))\n",
        "\n",
        "    # Lemmatizing the words\n",
        "    text = ' '.join([lemmatizer.lemmatize(word) for word in text.split()])\n",
        "    \n",
        "    return text"
      ],
      "metadata": {
        "id": "ylcATDDOYIsO"
      },
      "id": "ylcATDDOYIsO",
      "execution_count": null,
      "outputs": []
    },
    {
      "cell_type": "code",
      "source": [
        "df['review_text'] = df['review_text'].apply(clean_text)"
      ],
      "metadata": {
        "id": "gdM5h-fqfCjB"
      },
      "id": "gdM5h-fqfCjB",
      "execution_count": null,
      "outputs": []
    },
    {
      "cell_type": "code",
      "source": [
        "from textblob import TextBlob"
      ],
      "metadata": {
        "id": "-E_gYMJfh_5M"
      },
      "id": "-E_gYMJfh_5M",
      "execution_count": null,
      "outputs": []
    },
    {
      "cell_type": "code",
      "source": [
        "def polarity(text):\n",
        "    return TextBlob(text).sentiment.polarity"
      ],
      "metadata": {
        "id": "-6QwL5I2iEzI"
      },
      "id": "-6QwL5I2iEzI",
      "execution_count": null,
      "outputs": []
    },
    {
      "cell_type": "code",
      "source": [
        "df['polarity_score'] = df['review_text'].apply(polarity)"
      ],
      "metadata": {
        "id": "tkTK2peHiJy0"
      },
      "id": "tkTK2peHiJy0",
      "execution_count": null,
      "outputs": []
    },
    {
      "cell_type": "code",
      "source": [
        "def sentiment(x):\n",
        "    if x < 0:\n",
        "        return 'neg'\n",
        "    elif x == 0:\n",
        "        return 'neu'\n",
        "    else:\n",
        "        return 'pos'"
      ],
      "metadata": {
        "id": "K1d_G_D5i-3z"
      },
      "id": "K1d_G_D5i-3z",
      "execution_count": null,
      "outputs": []
    },
    {
      "cell_type": "code",
      "source": [
        "df['polarity'] = df['polarity_score'].map(sentiment)"
      ],
      "metadata": {
        "id": "Ioj2sBkojE5K",
        "colab": {
          "base_uri": "https://localhost:8080/",
          "height": 1000
        },
        "outputId": "e91152ee-59f4-468b-cb74-fb433be2123f"
      },
      "id": "Ioj2sBkojE5K",
      "execution_count": null,
      "outputs": [
        {
          "output_type": "execute_result",
          "data": {
            "text/plain": [
              "                                 user_id   book_id  rating  \\\n",
              "0       8842281e1d1347389f2ab93d60773d4d  18245960       5   \n",
              "1       8842281e1d1347389f2ab93d60773d4d     16981       3   \n",
              "2       8842281e1d1347389f2ab93d60773d4d  28684704       3   \n",
              "3       8842281e1d1347389f2ab93d60773d4d  27161156       0   \n",
              "4       8842281e1d1347389f2ab93d60773d4d  25884323       4   \n",
              "...                                  ...       ...     ...   \n",
              "899995  b9450d1c1f97f891c392b1105959b56e  11832081       3   \n",
              "899996  b9450d1c1f97f891c392b1105959b56e  16095092       3   \n",
              "899997  b9450d1c1f97f891c392b1105959b56e   8430896       4   \n",
              "899998  b9450d1c1f97f891c392b1105959b56e  12275680       4   \n",
              "899999  b9450d1c1f97f891c392b1105959b56e     17005       3   \n",
              "\n",
              "                                              review_text  n_votes  \\\n",
              "0       special book started slow first third middle t...       28   \n",
              "1                    recommended katz avail free december        1   \n",
              "2       fun fast paced science fiction thriller read n...       22   \n",
              "3       recommended reading understand going middle am...        5   \n",
              "4       really enjoyed book lot recommend drag little ...        9   \n",
              "...                                                   ...      ...   \n",
              "899995  star jenna popular ya author agent want charac...        0   \n",
              "899996  quick read read lot new adult book recently on...        1   \n",
              "899997  spoiler alert star book sweet inside whats swe...        1   \n",
              "899998  spoiler alert another fun read m evanovich die...        0   \n",
              "899999  spoiler alert star liked story original well w...        0   \n",
              "\n",
              "        read_length_days  review_length  word_count  mean_sent_length  \\\n",
              "0                   10.0           2119         368        104.500000   \n",
              "1                    1.0             93          10         46.000000   \n",
              "2                    0.0           2598         468         70.972222   \n",
              "3                    1.0            153          19         76.000000   \n",
              "4                   29.0           4044         736         90.568182   \n",
              "...                  ...            ...         ...               ...   \n",
              "899995               1.0            517          99         63.250000   \n",
              "899996               1.0            553         101         68.375000   \n",
              "899997               0.0           1844         335         69.576923   \n",
              "899998               1.0           1302         239         67.263158   \n",
              "899999               0.0            912         163         74.750000   \n",
              "\n",
              "        mean_word_length  spoil polarity  \n",
              "0               4.722826      0      pos  \n",
              "1               8.400000      0      pos  \n",
              "2               4.532051      0      pos  \n",
              "3               7.105263      0      pos  \n",
              "4               4.468750      0      pos  \n",
              "...                  ...    ...      ...  \n",
              "899995          4.191919      0      pos  \n",
              "899996          4.485149      0      pos  \n",
              "899997          4.471642      1      pos  \n",
              "899998          4.418410      1      pos  \n",
              "899999          4.552147      1      pos  \n",
              "\n",
              "[900000 rows x 12 columns]"
            ],
            "text/html": [
              "\n",
              "  <div id=\"df-d0433265-8e3e-4e49-aaee-d704d9303b58\">\n",
              "    <div class=\"colab-df-container\">\n",
              "      <div>\n",
              "<style scoped>\n",
              "    .dataframe tbody tr th:only-of-type {\n",
              "        vertical-align: middle;\n",
              "    }\n",
              "\n",
              "    .dataframe tbody tr th {\n",
              "        vertical-align: top;\n",
              "    }\n",
              "\n",
              "    .dataframe thead th {\n",
              "        text-align: right;\n",
              "    }\n",
              "</style>\n",
              "<table border=\"1\" class=\"dataframe\">\n",
              "  <thead>\n",
              "    <tr style=\"text-align: right;\">\n",
              "      <th></th>\n",
              "      <th>user_id</th>\n",
              "      <th>book_id</th>\n",
              "      <th>rating</th>\n",
              "      <th>review_text</th>\n",
              "      <th>n_votes</th>\n",
              "      <th>read_length_days</th>\n",
              "      <th>review_length</th>\n",
              "      <th>word_count</th>\n",
              "      <th>mean_sent_length</th>\n",
              "      <th>mean_word_length</th>\n",
              "      <th>spoil</th>\n",
              "      <th>polarity</th>\n",
              "    </tr>\n",
              "  </thead>\n",
              "  <tbody>\n",
              "    <tr>\n",
              "      <th>0</th>\n",
              "      <td>8842281e1d1347389f2ab93d60773d4d</td>\n",
              "      <td>18245960</td>\n",
              "      <td>5</td>\n",
              "      <td>special book started slow first third middle t...</td>\n",
              "      <td>28</td>\n",
              "      <td>10.0</td>\n",
              "      <td>2119</td>\n",
              "      <td>368</td>\n",
              "      <td>104.500000</td>\n",
              "      <td>4.722826</td>\n",
              "      <td>0</td>\n",
              "      <td>pos</td>\n",
              "    </tr>\n",
              "    <tr>\n",
              "      <th>1</th>\n",
              "      <td>8842281e1d1347389f2ab93d60773d4d</td>\n",
              "      <td>16981</td>\n",
              "      <td>3</td>\n",
              "      <td>recommended katz avail free december</td>\n",
              "      <td>1</td>\n",
              "      <td>1.0</td>\n",
              "      <td>93</td>\n",
              "      <td>10</td>\n",
              "      <td>46.000000</td>\n",
              "      <td>8.400000</td>\n",
              "      <td>0</td>\n",
              "      <td>pos</td>\n",
              "    </tr>\n",
              "    <tr>\n",
              "      <th>2</th>\n",
              "      <td>8842281e1d1347389f2ab93d60773d4d</td>\n",
              "      <td>28684704</td>\n",
              "      <td>3</td>\n",
              "      <td>fun fast paced science fiction thriller read n...</td>\n",
              "      <td>22</td>\n",
              "      <td>0.0</td>\n",
              "      <td>2598</td>\n",
              "      <td>468</td>\n",
              "      <td>70.972222</td>\n",
              "      <td>4.532051</td>\n",
              "      <td>0</td>\n",
              "      <td>pos</td>\n",
              "    </tr>\n",
              "    <tr>\n",
              "      <th>3</th>\n",
              "      <td>8842281e1d1347389f2ab93d60773d4d</td>\n",
              "      <td>27161156</td>\n",
              "      <td>0</td>\n",
              "      <td>recommended reading understand going middle am...</td>\n",
              "      <td>5</td>\n",
              "      <td>1.0</td>\n",
              "      <td>153</td>\n",
              "      <td>19</td>\n",
              "      <td>76.000000</td>\n",
              "      <td>7.105263</td>\n",
              "      <td>0</td>\n",
              "      <td>pos</td>\n",
              "    </tr>\n",
              "    <tr>\n",
              "      <th>4</th>\n",
              "      <td>8842281e1d1347389f2ab93d60773d4d</td>\n",
              "      <td>25884323</td>\n",
              "      <td>4</td>\n",
              "      <td>really enjoyed book lot recommend drag little ...</td>\n",
              "      <td>9</td>\n",
              "      <td>29.0</td>\n",
              "      <td>4044</td>\n",
              "      <td>736</td>\n",
              "      <td>90.568182</td>\n",
              "      <td>4.468750</td>\n",
              "      <td>0</td>\n",
              "      <td>pos</td>\n",
              "    </tr>\n",
              "    <tr>\n",
              "      <th>...</th>\n",
              "      <td>...</td>\n",
              "      <td>...</td>\n",
              "      <td>...</td>\n",
              "      <td>...</td>\n",
              "      <td>...</td>\n",
              "      <td>...</td>\n",
              "      <td>...</td>\n",
              "      <td>...</td>\n",
              "      <td>...</td>\n",
              "      <td>...</td>\n",
              "      <td>...</td>\n",
              "      <td>...</td>\n",
              "    </tr>\n",
              "    <tr>\n",
              "      <th>899995</th>\n",
              "      <td>b9450d1c1f97f891c392b1105959b56e</td>\n",
              "      <td>11832081</td>\n",
              "      <td>3</td>\n",
              "      <td>star jenna popular ya author agent want charac...</td>\n",
              "      <td>0</td>\n",
              "      <td>1.0</td>\n",
              "      <td>517</td>\n",
              "      <td>99</td>\n",
              "      <td>63.250000</td>\n",
              "      <td>4.191919</td>\n",
              "      <td>0</td>\n",
              "      <td>pos</td>\n",
              "    </tr>\n",
              "    <tr>\n",
              "      <th>899996</th>\n",
              "      <td>b9450d1c1f97f891c392b1105959b56e</td>\n",
              "      <td>16095092</td>\n",
              "      <td>3</td>\n",
              "      <td>quick read read lot new adult book recently on...</td>\n",
              "      <td>1</td>\n",
              "      <td>1.0</td>\n",
              "      <td>553</td>\n",
              "      <td>101</td>\n",
              "      <td>68.375000</td>\n",
              "      <td>4.485149</td>\n",
              "      <td>0</td>\n",
              "      <td>pos</td>\n",
              "    </tr>\n",
              "    <tr>\n",
              "      <th>899997</th>\n",
              "      <td>b9450d1c1f97f891c392b1105959b56e</td>\n",
              "      <td>8430896</td>\n",
              "      <td>4</td>\n",
              "      <td>spoiler alert star book sweet inside whats swe...</td>\n",
              "      <td>1</td>\n",
              "      <td>0.0</td>\n",
              "      <td>1844</td>\n",
              "      <td>335</td>\n",
              "      <td>69.576923</td>\n",
              "      <td>4.471642</td>\n",
              "      <td>1</td>\n",
              "      <td>pos</td>\n",
              "    </tr>\n",
              "    <tr>\n",
              "      <th>899998</th>\n",
              "      <td>b9450d1c1f97f891c392b1105959b56e</td>\n",
              "      <td>12275680</td>\n",
              "      <td>4</td>\n",
              "      <td>spoiler alert another fun read m evanovich die...</td>\n",
              "      <td>0</td>\n",
              "      <td>1.0</td>\n",
              "      <td>1302</td>\n",
              "      <td>239</td>\n",
              "      <td>67.263158</td>\n",
              "      <td>4.418410</td>\n",
              "      <td>1</td>\n",
              "      <td>pos</td>\n",
              "    </tr>\n",
              "    <tr>\n",
              "      <th>899999</th>\n",
              "      <td>b9450d1c1f97f891c392b1105959b56e</td>\n",
              "      <td>17005</td>\n",
              "      <td>3</td>\n",
              "      <td>spoiler alert star liked story original well w...</td>\n",
              "      <td>0</td>\n",
              "      <td>0.0</td>\n",
              "      <td>912</td>\n",
              "      <td>163</td>\n",
              "      <td>74.750000</td>\n",
              "      <td>4.552147</td>\n",
              "      <td>1</td>\n",
              "      <td>pos</td>\n",
              "    </tr>\n",
              "  </tbody>\n",
              "</table>\n",
              "<p>900000 rows × 12 columns</p>\n",
              "</div>\n",
              "      <button class=\"colab-df-convert\" onclick=\"convertToInteractive('df-d0433265-8e3e-4e49-aaee-d704d9303b58')\"\n",
              "              title=\"Convert this dataframe to an interactive table.\"\n",
              "              style=\"display:none;\">\n",
              "        \n",
              "  <svg xmlns=\"http://www.w3.org/2000/svg\" height=\"24px\"viewBox=\"0 0 24 24\"\n",
              "       width=\"24px\">\n",
              "    <path d=\"M0 0h24v24H0V0z\" fill=\"none\"/>\n",
              "    <path d=\"M18.56 5.44l.94 2.06.94-2.06 2.06-.94-2.06-.94-.94-2.06-.94 2.06-2.06.94zm-11 1L8.5 8.5l.94-2.06 2.06-.94-2.06-.94L8.5 2.5l-.94 2.06-2.06.94zm10 10l.94 2.06.94-2.06 2.06-.94-2.06-.94-.94-2.06-.94 2.06-2.06.94z\"/><path d=\"M17.41 7.96l-1.37-1.37c-.4-.4-.92-.59-1.43-.59-.52 0-1.04.2-1.43.59L10.3 9.45l-7.72 7.72c-.78.78-.78 2.05 0 2.83L4 21.41c.39.39.9.59 1.41.59.51 0 1.02-.2 1.41-.59l7.78-7.78 2.81-2.81c.8-.78.8-2.07 0-2.86zM5.41 20L4 18.59l7.72-7.72 1.47 1.35L5.41 20z\"/>\n",
              "  </svg>\n",
              "      </button>\n",
              "      \n",
              "  <style>\n",
              "    .colab-df-container {\n",
              "      display:flex;\n",
              "      flex-wrap:wrap;\n",
              "      gap: 12px;\n",
              "    }\n",
              "\n",
              "    .colab-df-convert {\n",
              "      background-color: #E8F0FE;\n",
              "      border: none;\n",
              "      border-radius: 50%;\n",
              "      cursor: pointer;\n",
              "      display: none;\n",
              "      fill: #1967D2;\n",
              "      height: 32px;\n",
              "      padding: 0 0 0 0;\n",
              "      width: 32px;\n",
              "    }\n",
              "\n",
              "    .colab-df-convert:hover {\n",
              "      background-color: #E2EBFA;\n",
              "      box-shadow: 0px 1px 2px rgba(60, 64, 67, 0.3), 0px 1px 3px 1px rgba(60, 64, 67, 0.15);\n",
              "      fill: #174EA6;\n",
              "    }\n",
              "\n",
              "    [theme=dark] .colab-df-convert {\n",
              "      background-color: #3B4455;\n",
              "      fill: #D2E3FC;\n",
              "    }\n",
              "\n",
              "    [theme=dark] .colab-df-convert:hover {\n",
              "      background-color: #434B5C;\n",
              "      box-shadow: 0px 1px 3px 1px rgba(0, 0, 0, 0.15);\n",
              "      filter: drop-shadow(0px 1px 2px rgba(0, 0, 0, 0.3));\n",
              "      fill: #FFFFFF;\n",
              "    }\n",
              "  </style>\n",
              "\n",
              "      <script>\n",
              "        const buttonEl =\n",
              "          document.querySelector('#df-d0433265-8e3e-4e49-aaee-d704d9303b58 button.colab-df-convert');\n",
              "        buttonEl.style.display =\n",
              "          google.colab.kernel.accessAllowed ? 'block' : 'none';\n",
              "\n",
              "        async function convertToInteractive(key) {\n",
              "          const element = document.querySelector('#df-d0433265-8e3e-4e49-aaee-d704d9303b58');\n",
              "          const dataTable =\n",
              "            await google.colab.kernel.invokeFunction('convertToInteractive',\n",
              "                                                     [key], {});\n",
              "          if (!dataTable) return;\n",
              "\n",
              "          const docLinkHtml = 'Like what you see? Visit the ' +\n",
              "            '<a target=\"_blank\" href=https://colab.research.google.com/notebooks/data_table.ipynb>data table notebook</a>'\n",
              "            + ' to learn more about interactive tables.';\n",
              "          element.innerHTML = '';\n",
              "          dataTable['output_type'] = 'display_data';\n",
              "          await google.colab.output.renderOutput(dataTable, element);\n",
              "          const docLink = document.createElement('div');\n",
              "          docLink.innerHTML = docLinkHtml;\n",
              "          element.appendChild(docLink);\n",
              "        }\n",
              "      </script>\n",
              "    </div>\n",
              "  </div>\n",
              "  "
            ]
          },
          "metadata": {},
          "execution_count": 77
        }
      ]
    },
    {
      "cell_type": "code",
      "source": [
        "df.drop(columns = ['polarity_score'])"
      ],
      "metadata": {
        "id": "PONrlYaYs-zs"
      },
      "id": "PONrlYaYs-zs",
      "execution_count": null,
      "outputs": []
    },
    {
      "cell_type": "code",
      "source": [
        "df.to_csv('/content/drive/MyDrive/BooksReview/cleaned_train.csv', index = False)"
      ],
      "metadata": {
        "id": "cTXIH1WJsn5t"
      },
      "id": "cTXIH1WJsn5t",
      "execution_count": null,
      "outputs": []
    },
    {
      "cell_type": "code",
      "source": [
        "df = pd.read_csv('/content/drive/MyDrive/BooksReview/cleaned_train.csv')"
      ],
      "metadata": {
        "id": "s_dmX3uL-6wj"
      },
      "id": "s_dmX3uL-6wj",
      "execution_count": 25,
      "outputs": []
    },
    {
      "cell_type": "code",
      "source": [
        "df.isna().sum()"
      ],
      "metadata": {
        "colab": {
          "base_uri": "https://localhost:8080/"
        },
        "id": "PHoytYM-cFaq",
        "outputId": "c60494d6-db63-40a4-998e-7a20abf4c9e4"
      },
      "id": "PHoytYM-cFaq",
      "execution_count": 35,
      "outputs": [
        {
          "output_type": "execute_result",
          "data": {
            "text/plain": [
              "user_id               0\n",
              "book_id               0\n",
              "rating                0\n",
              "review_text         232\n",
              "n_votes               0\n",
              "read_length_days      0\n",
              "review_length         0\n",
              "word_count            0\n",
              "mean_sent_length      0\n",
              "mean_word_length      0\n",
              "spoil                 0\n",
              "polarity_score        0\n",
              "polarity              0\n",
              "dtype: int64"
            ]
          },
          "metadata": {},
          "execution_count": 35
        }
      ]
    },
    {
      "cell_type": "code",
      "source": [
        "df.dropna(subset = ['review_text'])"
      ],
      "metadata": {
        "colab": {
          "base_uri": "https://localhost:8080/",
          "height": 1000
        },
        "id": "NyMl1Im9fQzL",
        "outputId": "7c1317ca-8f23-4497-f021-f407b55470ed"
      },
      "id": "NyMl1Im9fQzL",
      "execution_count": 52,
      "outputs": [
        {
          "output_type": "execute_result",
          "data": {
            "text/plain": [
              "                                 user_id   book_id  rating  \\\n",
              "0       8842281e1d1347389f2ab93d60773d4d  18245960       5   \n",
              "1       8842281e1d1347389f2ab93d60773d4d     16981       3   \n",
              "2       8842281e1d1347389f2ab93d60773d4d  28684704       3   \n",
              "3       8842281e1d1347389f2ab93d60773d4d  27161156       0   \n",
              "4       8842281e1d1347389f2ab93d60773d4d  25884323       4   \n",
              "...                                  ...       ...     ...   \n",
              "899995  b9450d1c1f97f891c392b1105959b56e  11832081       3   \n",
              "899996  b9450d1c1f97f891c392b1105959b56e  16095092       3   \n",
              "899997  b9450d1c1f97f891c392b1105959b56e   8430896       4   \n",
              "899998  b9450d1c1f97f891c392b1105959b56e  12275680       4   \n",
              "899999  b9450d1c1f97f891c392b1105959b56e     17005       3   \n",
              "\n",
              "                                              review_text  n_votes  \\\n",
              "0       special book started slow first third middle t...       28   \n",
              "1                    recommended katz avail free december        1   \n",
              "2       fun fast paced science fiction thriller read n...       22   \n",
              "3       recommended reading understand going middle am...        5   \n",
              "4       really enjoyed book lot recommend drag little ...        9   \n",
              "...                                                   ...      ...   \n",
              "899995  star jenna popular ya author agent want charac...        0   \n",
              "899996  quick read read lot new adult book recently on...        1   \n",
              "899997  spoiler alert star book sweet inside whats swe...        1   \n",
              "899998  spoiler alert another fun read m evanovich die...        0   \n",
              "899999  spoiler alert star liked story original well w...        0   \n",
              "\n",
              "        read_length_days  review_length  word_count  mean_sent_length  \\\n",
              "0                   10.0           2119         368        104.500000   \n",
              "1                    1.0             93          10         46.000000   \n",
              "2                    0.0           2598         468         70.972222   \n",
              "3                    1.0            153          19         76.000000   \n",
              "4                   29.0           4044         736         90.568182   \n",
              "...                  ...            ...         ...               ...   \n",
              "899995               1.0            517          99         63.250000   \n",
              "899996               1.0            553         101         68.375000   \n",
              "899997               0.0           1844         335         69.576923   \n",
              "899998               1.0           1302         239         67.263158   \n",
              "899999               0.0            912         163         74.750000   \n",
              "\n",
              "        mean_word_length  spoil  polarity_score polarity  \n",
              "0               4.722826      0        0.151290      pos  \n",
              "1               8.400000      0        0.400000      pos  \n",
              "2               4.532051      0        0.190494      pos  \n",
              "3               7.105263      0        0.250000      pos  \n",
              "4               4.468750      0        0.194357      pos  \n",
              "...                  ...    ...             ...      ...  \n",
              "899995          4.191919      0        0.178042      pos  \n",
              "899996          4.485149      0        0.107284      pos  \n",
              "899997          4.471642      1        0.237772      pos  \n",
              "899998          4.418410      1        0.273864      pos  \n",
              "899999          4.552147      1        0.316558      pos  \n",
              "\n",
              "[899768 rows x 13 columns]"
            ],
            "text/html": [
              "\n",
              "  <div id=\"df-ec5a63c1-c594-45e8-9f86-d40d3681973c\">\n",
              "    <div class=\"colab-df-container\">\n",
              "      <div>\n",
              "<style scoped>\n",
              "    .dataframe tbody tr th:only-of-type {\n",
              "        vertical-align: middle;\n",
              "    }\n",
              "\n",
              "    .dataframe tbody tr th {\n",
              "        vertical-align: top;\n",
              "    }\n",
              "\n",
              "    .dataframe thead th {\n",
              "        text-align: right;\n",
              "    }\n",
              "</style>\n",
              "<table border=\"1\" class=\"dataframe\">\n",
              "  <thead>\n",
              "    <tr style=\"text-align: right;\">\n",
              "      <th></th>\n",
              "      <th>user_id</th>\n",
              "      <th>book_id</th>\n",
              "      <th>rating</th>\n",
              "      <th>review_text</th>\n",
              "      <th>n_votes</th>\n",
              "      <th>read_length_days</th>\n",
              "      <th>review_length</th>\n",
              "      <th>word_count</th>\n",
              "      <th>mean_sent_length</th>\n",
              "      <th>mean_word_length</th>\n",
              "      <th>spoil</th>\n",
              "      <th>polarity_score</th>\n",
              "      <th>polarity</th>\n",
              "    </tr>\n",
              "  </thead>\n",
              "  <tbody>\n",
              "    <tr>\n",
              "      <th>0</th>\n",
              "      <td>8842281e1d1347389f2ab93d60773d4d</td>\n",
              "      <td>18245960</td>\n",
              "      <td>5</td>\n",
              "      <td>special book started slow first third middle t...</td>\n",
              "      <td>28</td>\n",
              "      <td>10.0</td>\n",
              "      <td>2119</td>\n",
              "      <td>368</td>\n",
              "      <td>104.500000</td>\n",
              "      <td>4.722826</td>\n",
              "      <td>0</td>\n",
              "      <td>0.151290</td>\n",
              "      <td>pos</td>\n",
              "    </tr>\n",
              "    <tr>\n",
              "      <th>1</th>\n",
              "      <td>8842281e1d1347389f2ab93d60773d4d</td>\n",
              "      <td>16981</td>\n",
              "      <td>3</td>\n",
              "      <td>recommended katz avail free december</td>\n",
              "      <td>1</td>\n",
              "      <td>1.0</td>\n",
              "      <td>93</td>\n",
              "      <td>10</td>\n",
              "      <td>46.000000</td>\n",
              "      <td>8.400000</td>\n",
              "      <td>0</td>\n",
              "      <td>0.400000</td>\n",
              "      <td>pos</td>\n",
              "    </tr>\n",
              "    <tr>\n",
              "      <th>2</th>\n",
              "      <td>8842281e1d1347389f2ab93d60773d4d</td>\n",
              "      <td>28684704</td>\n",
              "      <td>3</td>\n",
              "      <td>fun fast paced science fiction thriller read n...</td>\n",
              "      <td>22</td>\n",
              "      <td>0.0</td>\n",
              "      <td>2598</td>\n",
              "      <td>468</td>\n",
              "      <td>70.972222</td>\n",
              "      <td>4.532051</td>\n",
              "      <td>0</td>\n",
              "      <td>0.190494</td>\n",
              "      <td>pos</td>\n",
              "    </tr>\n",
              "    <tr>\n",
              "      <th>3</th>\n",
              "      <td>8842281e1d1347389f2ab93d60773d4d</td>\n",
              "      <td>27161156</td>\n",
              "      <td>0</td>\n",
              "      <td>recommended reading understand going middle am...</td>\n",
              "      <td>5</td>\n",
              "      <td>1.0</td>\n",
              "      <td>153</td>\n",
              "      <td>19</td>\n",
              "      <td>76.000000</td>\n",
              "      <td>7.105263</td>\n",
              "      <td>0</td>\n",
              "      <td>0.250000</td>\n",
              "      <td>pos</td>\n",
              "    </tr>\n",
              "    <tr>\n",
              "      <th>4</th>\n",
              "      <td>8842281e1d1347389f2ab93d60773d4d</td>\n",
              "      <td>25884323</td>\n",
              "      <td>4</td>\n",
              "      <td>really enjoyed book lot recommend drag little ...</td>\n",
              "      <td>9</td>\n",
              "      <td>29.0</td>\n",
              "      <td>4044</td>\n",
              "      <td>736</td>\n",
              "      <td>90.568182</td>\n",
              "      <td>4.468750</td>\n",
              "      <td>0</td>\n",
              "      <td>0.194357</td>\n",
              "      <td>pos</td>\n",
              "    </tr>\n",
              "    <tr>\n",
              "      <th>...</th>\n",
              "      <td>...</td>\n",
              "      <td>...</td>\n",
              "      <td>...</td>\n",
              "      <td>...</td>\n",
              "      <td>...</td>\n",
              "      <td>...</td>\n",
              "      <td>...</td>\n",
              "      <td>...</td>\n",
              "      <td>...</td>\n",
              "      <td>...</td>\n",
              "      <td>...</td>\n",
              "      <td>...</td>\n",
              "      <td>...</td>\n",
              "    </tr>\n",
              "    <tr>\n",
              "      <th>899995</th>\n",
              "      <td>b9450d1c1f97f891c392b1105959b56e</td>\n",
              "      <td>11832081</td>\n",
              "      <td>3</td>\n",
              "      <td>star jenna popular ya author agent want charac...</td>\n",
              "      <td>0</td>\n",
              "      <td>1.0</td>\n",
              "      <td>517</td>\n",
              "      <td>99</td>\n",
              "      <td>63.250000</td>\n",
              "      <td>4.191919</td>\n",
              "      <td>0</td>\n",
              "      <td>0.178042</td>\n",
              "      <td>pos</td>\n",
              "    </tr>\n",
              "    <tr>\n",
              "      <th>899996</th>\n",
              "      <td>b9450d1c1f97f891c392b1105959b56e</td>\n",
              "      <td>16095092</td>\n",
              "      <td>3</td>\n",
              "      <td>quick read read lot new adult book recently on...</td>\n",
              "      <td>1</td>\n",
              "      <td>1.0</td>\n",
              "      <td>553</td>\n",
              "      <td>101</td>\n",
              "      <td>68.375000</td>\n",
              "      <td>4.485149</td>\n",
              "      <td>0</td>\n",
              "      <td>0.107284</td>\n",
              "      <td>pos</td>\n",
              "    </tr>\n",
              "    <tr>\n",
              "      <th>899997</th>\n",
              "      <td>b9450d1c1f97f891c392b1105959b56e</td>\n",
              "      <td>8430896</td>\n",
              "      <td>4</td>\n",
              "      <td>spoiler alert star book sweet inside whats swe...</td>\n",
              "      <td>1</td>\n",
              "      <td>0.0</td>\n",
              "      <td>1844</td>\n",
              "      <td>335</td>\n",
              "      <td>69.576923</td>\n",
              "      <td>4.471642</td>\n",
              "      <td>1</td>\n",
              "      <td>0.237772</td>\n",
              "      <td>pos</td>\n",
              "    </tr>\n",
              "    <tr>\n",
              "      <th>899998</th>\n",
              "      <td>b9450d1c1f97f891c392b1105959b56e</td>\n",
              "      <td>12275680</td>\n",
              "      <td>4</td>\n",
              "      <td>spoiler alert another fun read m evanovich die...</td>\n",
              "      <td>0</td>\n",
              "      <td>1.0</td>\n",
              "      <td>1302</td>\n",
              "      <td>239</td>\n",
              "      <td>67.263158</td>\n",
              "      <td>4.418410</td>\n",
              "      <td>1</td>\n",
              "      <td>0.273864</td>\n",
              "      <td>pos</td>\n",
              "    </tr>\n",
              "    <tr>\n",
              "      <th>899999</th>\n",
              "      <td>b9450d1c1f97f891c392b1105959b56e</td>\n",
              "      <td>17005</td>\n",
              "      <td>3</td>\n",
              "      <td>spoiler alert star liked story original well w...</td>\n",
              "      <td>0</td>\n",
              "      <td>0.0</td>\n",
              "      <td>912</td>\n",
              "      <td>163</td>\n",
              "      <td>74.750000</td>\n",
              "      <td>4.552147</td>\n",
              "      <td>1</td>\n",
              "      <td>0.316558</td>\n",
              "      <td>pos</td>\n",
              "    </tr>\n",
              "  </tbody>\n",
              "</table>\n",
              "<p>899768 rows × 13 columns</p>\n",
              "</div>\n",
              "      <button class=\"colab-df-convert\" onclick=\"convertToInteractive('df-ec5a63c1-c594-45e8-9f86-d40d3681973c')\"\n",
              "              title=\"Convert this dataframe to an interactive table.\"\n",
              "              style=\"display:none;\">\n",
              "        \n",
              "  <svg xmlns=\"http://www.w3.org/2000/svg\" height=\"24px\"viewBox=\"0 0 24 24\"\n",
              "       width=\"24px\">\n",
              "    <path d=\"M0 0h24v24H0V0z\" fill=\"none\"/>\n",
              "    <path d=\"M18.56 5.44l.94 2.06.94-2.06 2.06-.94-2.06-.94-.94-2.06-.94 2.06-2.06.94zm-11 1L8.5 8.5l.94-2.06 2.06-.94-2.06-.94L8.5 2.5l-.94 2.06-2.06.94zm10 10l.94 2.06.94-2.06 2.06-.94-2.06-.94-.94-2.06-.94 2.06-2.06.94z\"/><path d=\"M17.41 7.96l-1.37-1.37c-.4-.4-.92-.59-1.43-.59-.52 0-1.04.2-1.43.59L10.3 9.45l-7.72 7.72c-.78.78-.78 2.05 0 2.83L4 21.41c.39.39.9.59 1.41.59.51 0 1.02-.2 1.41-.59l7.78-7.78 2.81-2.81c.8-.78.8-2.07 0-2.86zM5.41 20L4 18.59l7.72-7.72 1.47 1.35L5.41 20z\"/>\n",
              "  </svg>\n",
              "      </button>\n",
              "      \n",
              "  <style>\n",
              "    .colab-df-container {\n",
              "      display:flex;\n",
              "      flex-wrap:wrap;\n",
              "      gap: 12px;\n",
              "    }\n",
              "\n",
              "    .colab-df-convert {\n",
              "      background-color: #E8F0FE;\n",
              "      border: none;\n",
              "      border-radius: 50%;\n",
              "      cursor: pointer;\n",
              "      display: none;\n",
              "      fill: #1967D2;\n",
              "      height: 32px;\n",
              "      padding: 0 0 0 0;\n",
              "      width: 32px;\n",
              "    }\n",
              "\n",
              "    .colab-df-convert:hover {\n",
              "      background-color: #E2EBFA;\n",
              "      box-shadow: 0px 1px 2px rgba(60, 64, 67, 0.3), 0px 1px 3px 1px rgba(60, 64, 67, 0.15);\n",
              "      fill: #174EA6;\n",
              "    }\n",
              "\n",
              "    [theme=dark] .colab-df-convert {\n",
              "      background-color: #3B4455;\n",
              "      fill: #D2E3FC;\n",
              "    }\n",
              "\n",
              "    [theme=dark] .colab-df-convert:hover {\n",
              "      background-color: #434B5C;\n",
              "      box-shadow: 0px 1px 3px 1px rgba(0, 0, 0, 0.15);\n",
              "      filter: drop-shadow(0px 1px 2px rgba(0, 0, 0, 0.3));\n",
              "      fill: #FFFFFF;\n",
              "    }\n",
              "  </style>\n",
              "\n",
              "      <script>\n",
              "        const buttonEl =\n",
              "          document.querySelector('#df-ec5a63c1-c594-45e8-9f86-d40d3681973c button.colab-df-convert');\n",
              "        buttonEl.style.display =\n",
              "          google.colab.kernel.accessAllowed ? 'block' : 'none';\n",
              "\n",
              "        async function convertToInteractive(key) {\n",
              "          const element = document.querySelector('#df-ec5a63c1-c594-45e8-9f86-d40d3681973c');\n",
              "          const dataTable =\n",
              "            await google.colab.kernel.invokeFunction('convertToInteractive',\n",
              "                                                     [key], {});\n",
              "          if (!dataTable) return;\n",
              "\n",
              "          const docLinkHtml = 'Like what you see? Visit the ' +\n",
              "            '<a target=\"_blank\" href=https://colab.research.google.com/notebooks/data_table.ipynb>data table notebook</a>'\n",
              "            + ' to learn more about interactive tables.';\n",
              "          element.innerHTML = '';\n",
              "          dataTable['output_type'] = 'display_data';\n",
              "          await google.colab.output.renderOutput(dataTable, element);\n",
              "          const docLink = document.createElement('div');\n",
              "          docLink.innerHTML = docLinkHtml;\n",
              "          element.appendChild(docLink);\n",
              "        }\n",
              "      </script>\n",
              "    </div>\n",
              "  </div>\n",
              "  "
            ]
          },
          "metadata": {},
          "execution_count": 52
        }
      ]
    },
    {
      "cell_type": "code",
      "source": [
        "print('Количество дубликатов в train датасете', df.duplicated(['book_id','review_text','rating']).sum())"
      ],
      "metadata": {
        "colab": {
          "base_uri": "https://localhost:8080/"
        },
        "id": "ZdmyAm6heLSl",
        "outputId": "91ab7825-5b16-4a93-d6b7-90df33bc6051"
      },
      "id": "ZdmyAm6heLSl",
      "execution_count": 48,
      "outputs": [
        {
          "output_type": "stream",
          "name": "stdout",
          "text": [
            "Количество дубликатов в train датасете 252\n"
          ]
        }
      ]
    },
    {
      "cell_type": "code",
      "source": [
        "df.drop_duplicates(subset=['book_id','review_text','rating'])"
      ],
      "metadata": {
        "colab": {
          "base_uri": "https://localhost:8080/",
          "height": 1000
        },
        "id": "RTH8NUSQe3bI",
        "outputId": "1b40869b-c478-4a2b-f5e3-08dd0bc568d1"
      },
      "id": "RTH8NUSQe3bI",
      "execution_count": 53,
      "outputs": [
        {
          "output_type": "execute_result",
          "data": {
            "text/plain": [
              "                                 user_id   book_id  rating  \\\n",
              "0       8842281e1d1347389f2ab93d60773d4d  18245960       5   \n",
              "1       8842281e1d1347389f2ab93d60773d4d     16981       3   \n",
              "2       8842281e1d1347389f2ab93d60773d4d  28684704       3   \n",
              "3       8842281e1d1347389f2ab93d60773d4d  27161156       0   \n",
              "4       8842281e1d1347389f2ab93d60773d4d  25884323       4   \n",
              "...                                  ...       ...     ...   \n",
              "899995  b9450d1c1f97f891c392b1105959b56e  11832081       3   \n",
              "899996  b9450d1c1f97f891c392b1105959b56e  16095092       3   \n",
              "899997  b9450d1c1f97f891c392b1105959b56e   8430896       4   \n",
              "899998  b9450d1c1f97f891c392b1105959b56e  12275680       4   \n",
              "899999  b9450d1c1f97f891c392b1105959b56e     17005       3   \n",
              "\n",
              "                                              review_text  n_votes  \\\n",
              "0       special book started slow first third middle t...       28   \n",
              "1                    recommended katz avail free december        1   \n",
              "2       fun fast paced science fiction thriller read n...       22   \n",
              "3       recommended reading understand going middle am...        5   \n",
              "4       really enjoyed book lot recommend drag little ...        9   \n",
              "...                                                   ...      ...   \n",
              "899995  star jenna popular ya author agent want charac...        0   \n",
              "899996  quick read read lot new adult book recently on...        1   \n",
              "899997  spoiler alert star book sweet inside whats swe...        1   \n",
              "899998  spoiler alert another fun read m evanovich die...        0   \n",
              "899999  spoiler alert star liked story original well w...        0   \n",
              "\n",
              "        read_length_days  review_length  word_count  mean_sent_length  \\\n",
              "0                   10.0           2119         368        104.500000   \n",
              "1                    1.0             93          10         46.000000   \n",
              "2                    0.0           2598         468         70.972222   \n",
              "3                    1.0            153          19         76.000000   \n",
              "4                   29.0           4044         736         90.568182   \n",
              "...                  ...            ...         ...               ...   \n",
              "899995               1.0            517          99         63.250000   \n",
              "899996               1.0            553         101         68.375000   \n",
              "899997               0.0           1844         335         69.576923   \n",
              "899998               1.0           1302         239         67.263158   \n",
              "899999               0.0            912         163         74.750000   \n",
              "\n",
              "        mean_word_length  spoil  polarity_score polarity  \n",
              "0               4.722826      0        0.151290      pos  \n",
              "1               8.400000      0        0.400000      pos  \n",
              "2               4.532051      0        0.190494      pos  \n",
              "3               7.105263      0        0.250000      pos  \n",
              "4               4.468750      0        0.194357      pos  \n",
              "...                  ...    ...             ...      ...  \n",
              "899995          4.191919      0        0.178042      pos  \n",
              "899996          4.485149      0        0.107284      pos  \n",
              "899997          4.471642      1        0.237772      pos  \n",
              "899998          4.418410      1        0.273864      pos  \n",
              "899999          4.552147      1        0.316558      pos  \n",
              "\n",
              "[899748 rows x 13 columns]"
            ],
            "text/html": [
              "\n",
              "  <div id=\"df-373de3bd-4731-4f21-9e29-82e82ca6730f\">\n",
              "    <div class=\"colab-df-container\">\n",
              "      <div>\n",
              "<style scoped>\n",
              "    .dataframe tbody tr th:only-of-type {\n",
              "        vertical-align: middle;\n",
              "    }\n",
              "\n",
              "    .dataframe tbody tr th {\n",
              "        vertical-align: top;\n",
              "    }\n",
              "\n",
              "    .dataframe thead th {\n",
              "        text-align: right;\n",
              "    }\n",
              "</style>\n",
              "<table border=\"1\" class=\"dataframe\">\n",
              "  <thead>\n",
              "    <tr style=\"text-align: right;\">\n",
              "      <th></th>\n",
              "      <th>user_id</th>\n",
              "      <th>book_id</th>\n",
              "      <th>rating</th>\n",
              "      <th>review_text</th>\n",
              "      <th>n_votes</th>\n",
              "      <th>read_length_days</th>\n",
              "      <th>review_length</th>\n",
              "      <th>word_count</th>\n",
              "      <th>mean_sent_length</th>\n",
              "      <th>mean_word_length</th>\n",
              "      <th>spoil</th>\n",
              "      <th>polarity_score</th>\n",
              "      <th>polarity</th>\n",
              "    </tr>\n",
              "  </thead>\n",
              "  <tbody>\n",
              "    <tr>\n",
              "      <th>0</th>\n",
              "      <td>8842281e1d1347389f2ab93d60773d4d</td>\n",
              "      <td>18245960</td>\n",
              "      <td>5</td>\n",
              "      <td>special book started slow first third middle t...</td>\n",
              "      <td>28</td>\n",
              "      <td>10.0</td>\n",
              "      <td>2119</td>\n",
              "      <td>368</td>\n",
              "      <td>104.500000</td>\n",
              "      <td>4.722826</td>\n",
              "      <td>0</td>\n",
              "      <td>0.151290</td>\n",
              "      <td>pos</td>\n",
              "    </tr>\n",
              "    <tr>\n",
              "      <th>1</th>\n",
              "      <td>8842281e1d1347389f2ab93d60773d4d</td>\n",
              "      <td>16981</td>\n",
              "      <td>3</td>\n",
              "      <td>recommended katz avail free december</td>\n",
              "      <td>1</td>\n",
              "      <td>1.0</td>\n",
              "      <td>93</td>\n",
              "      <td>10</td>\n",
              "      <td>46.000000</td>\n",
              "      <td>8.400000</td>\n",
              "      <td>0</td>\n",
              "      <td>0.400000</td>\n",
              "      <td>pos</td>\n",
              "    </tr>\n",
              "    <tr>\n",
              "      <th>2</th>\n",
              "      <td>8842281e1d1347389f2ab93d60773d4d</td>\n",
              "      <td>28684704</td>\n",
              "      <td>3</td>\n",
              "      <td>fun fast paced science fiction thriller read n...</td>\n",
              "      <td>22</td>\n",
              "      <td>0.0</td>\n",
              "      <td>2598</td>\n",
              "      <td>468</td>\n",
              "      <td>70.972222</td>\n",
              "      <td>4.532051</td>\n",
              "      <td>0</td>\n",
              "      <td>0.190494</td>\n",
              "      <td>pos</td>\n",
              "    </tr>\n",
              "    <tr>\n",
              "      <th>3</th>\n",
              "      <td>8842281e1d1347389f2ab93d60773d4d</td>\n",
              "      <td>27161156</td>\n",
              "      <td>0</td>\n",
              "      <td>recommended reading understand going middle am...</td>\n",
              "      <td>5</td>\n",
              "      <td>1.0</td>\n",
              "      <td>153</td>\n",
              "      <td>19</td>\n",
              "      <td>76.000000</td>\n",
              "      <td>7.105263</td>\n",
              "      <td>0</td>\n",
              "      <td>0.250000</td>\n",
              "      <td>pos</td>\n",
              "    </tr>\n",
              "    <tr>\n",
              "      <th>4</th>\n",
              "      <td>8842281e1d1347389f2ab93d60773d4d</td>\n",
              "      <td>25884323</td>\n",
              "      <td>4</td>\n",
              "      <td>really enjoyed book lot recommend drag little ...</td>\n",
              "      <td>9</td>\n",
              "      <td>29.0</td>\n",
              "      <td>4044</td>\n",
              "      <td>736</td>\n",
              "      <td>90.568182</td>\n",
              "      <td>4.468750</td>\n",
              "      <td>0</td>\n",
              "      <td>0.194357</td>\n",
              "      <td>pos</td>\n",
              "    </tr>\n",
              "    <tr>\n",
              "      <th>...</th>\n",
              "      <td>...</td>\n",
              "      <td>...</td>\n",
              "      <td>...</td>\n",
              "      <td>...</td>\n",
              "      <td>...</td>\n",
              "      <td>...</td>\n",
              "      <td>...</td>\n",
              "      <td>...</td>\n",
              "      <td>...</td>\n",
              "      <td>...</td>\n",
              "      <td>...</td>\n",
              "      <td>...</td>\n",
              "      <td>...</td>\n",
              "    </tr>\n",
              "    <tr>\n",
              "      <th>899995</th>\n",
              "      <td>b9450d1c1f97f891c392b1105959b56e</td>\n",
              "      <td>11832081</td>\n",
              "      <td>3</td>\n",
              "      <td>star jenna popular ya author agent want charac...</td>\n",
              "      <td>0</td>\n",
              "      <td>1.0</td>\n",
              "      <td>517</td>\n",
              "      <td>99</td>\n",
              "      <td>63.250000</td>\n",
              "      <td>4.191919</td>\n",
              "      <td>0</td>\n",
              "      <td>0.178042</td>\n",
              "      <td>pos</td>\n",
              "    </tr>\n",
              "    <tr>\n",
              "      <th>899996</th>\n",
              "      <td>b9450d1c1f97f891c392b1105959b56e</td>\n",
              "      <td>16095092</td>\n",
              "      <td>3</td>\n",
              "      <td>quick read read lot new adult book recently on...</td>\n",
              "      <td>1</td>\n",
              "      <td>1.0</td>\n",
              "      <td>553</td>\n",
              "      <td>101</td>\n",
              "      <td>68.375000</td>\n",
              "      <td>4.485149</td>\n",
              "      <td>0</td>\n",
              "      <td>0.107284</td>\n",
              "      <td>pos</td>\n",
              "    </tr>\n",
              "    <tr>\n",
              "      <th>899997</th>\n",
              "      <td>b9450d1c1f97f891c392b1105959b56e</td>\n",
              "      <td>8430896</td>\n",
              "      <td>4</td>\n",
              "      <td>spoiler alert star book sweet inside whats swe...</td>\n",
              "      <td>1</td>\n",
              "      <td>0.0</td>\n",
              "      <td>1844</td>\n",
              "      <td>335</td>\n",
              "      <td>69.576923</td>\n",
              "      <td>4.471642</td>\n",
              "      <td>1</td>\n",
              "      <td>0.237772</td>\n",
              "      <td>pos</td>\n",
              "    </tr>\n",
              "    <tr>\n",
              "      <th>899998</th>\n",
              "      <td>b9450d1c1f97f891c392b1105959b56e</td>\n",
              "      <td>12275680</td>\n",
              "      <td>4</td>\n",
              "      <td>spoiler alert another fun read m evanovich die...</td>\n",
              "      <td>0</td>\n",
              "      <td>1.0</td>\n",
              "      <td>1302</td>\n",
              "      <td>239</td>\n",
              "      <td>67.263158</td>\n",
              "      <td>4.418410</td>\n",
              "      <td>1</td>\n",
              "      <td>0.273864</td>\n",
              "      <td>pos</td>\n",
              "    </tr>\n",
              "    <tr>\n",
              "      <th>899999</th>\n",
              "      <td>b9450d1c1f97f891c392b1105959b56e</td>\n",
              "      <td>17005</td>\n",
              "      <td>3</td>\n",
              "      <td>spoiler alert star liked story original well w...</td>\n",
              "      <td>0</td>\n",
              "      <td>0.0</td>\n",
              "      <td>912</td>\n",
              "      <td>163</td>\n",
              "      <td>74.750000</td>\n",
              "      <td>4.552147</td>\n",
              "      <td>1</td>\n",
              "      <td>0.316558</td>\n",
              "      <td>pos</td>\n",
              "    </tr>\n",
              "  </tbody>\n",
              "</table>\n",
              "<p>899748 rows × 13 columns</p>\n",
              "</div>\n",
              "      <button class=\"colab-df-convert\" onclick=\"convertToInteractive('df-373de3bd-4731-4f21-9e29-82e82ca6730f')\"\n",
              "              title=\"Convert this dataframe to an interactive table.\"\n",
              "              style=\"display:none;\">\n",
              "        \n",
              "  <svg xmlns=\"http://www.w3.org/2000/svg\" height=\"24px\"viewBox=\"0 0 24 24\"\n",
              "       width=\"24px\">\n",
              "    <path d=\"M0 0h24v24H0V0z\" fill=\"none\"/>\n",
              "    <path d=\"M18.56 5.44l.94 2.06.94-2.06 2.06-.94-2.06-.94-.94-2.06-.94 2.06-2.06.94zm-11 1L8.5 8.5l.94-2.06 2.06-.94-2.06-.94L8.5 2.5l-.94 2.06-2.06.94zm10 10l.94 2.06.94-2.06 2.06-.94-2.06-.94-.94-2.06-.94 2.06-2.06.94z\"/><path d=\"M17.41 7.96l-1.37-1.37c-.4-.4-.92-.59-1.43-.59-.52 0-1.04.2-1.43.59L10.3 9.45l-7.72 7.72c-.78.78-.78 2.05 0 2.83L4 21.41c.39.39.9.59 1.41.59.51 0 1.02-.2 1.41-.59l7.78-7.78 2.81-2.81c.8-.78.8-2.07 0-2.86zM5.41 20L4 18.59l7.72-7.72 1.47 1.35L5.41 20z\"/>\n",
              "  </svg>\n",
              "      </button>\n",
              "      \n",
              "  <style>\n",
              "    .colab-df-container {\n",
              "      display:flex;\n",
              "      flex-wrap:wrap;\n",
              "      gap: 12px;\n",
              "    }\n",
              "\n",
              "    .colab-df-convert {\n",
              "      background-color: #E8F0FE;\n",
              "      border: none;\n",
              "      border-radius: 50%;\n",
              "      cursor: pointer;\n",
              "      display: none;\n",
              "      fill: #1967D2;\n",
              "      height: 32px;\n",
              "      padding: 0 0 0 0;\n",
              "      width: 32px;\n",
              "    }\n",
              "\n",
              "    .colab-df-convert:hover {\n",
              "      background-color: #E2EBFA;\n",
              "      box-shadow: 0px 1px 2px rgba(60, 64, 67, 0.3), 0px 1px 3px 1px rgba(60, 64, 67, 0.15);\n",
              "      fill: #174EA6;\n",
              "    }\n",
              "\n",
              "    [theme=dark] .colab-df-convert {\n",
              "      background-color: #3B4455;\n",
              "      fill: #D2E3FC;\n",
              "    }\n",
              "\n",
              "    [theme=dark] .colab-df-convert:hover {\n",
              "      background-color: #434B5C;\n",
              "      box-shadow: 0px 1px 3px 1px rgba(0, 0, 0, 0.15);\n",
              "      filter: drop-shadow(0px 1px 2px rgba(0, 0, 0, 0.3));\n",
              "      fill: #FFFFFF;\n",
              "    }\n",
              "  </style>\n",
              "\n",
              "      <script>\n",
              "        const buttonEl =\n",
              "          document.querySelector('#df-373de3bd-4731-4f21-9e29-82e82ca6730f button.colab-df-convert');\n",
              "        buttonEl.style.display =\n",
              "          google.colab.kernel.accessAllowed ? 'block' : 'none';\n",
              "\n",
              "        async function convertToInteractive(key) {\n",
              "          const element = document.querySelector('#df-373de3bd-4731-4f21-9e29-82e82ca6730f');\n",
              "          const dataTable =\n",
              "            await google.colab.kernel.invokeFunction('convertToInteractive',\n",
              "                                                     [key], {});\n",
              "          if (!dataTable) return;\n",
              "\n",
              "          const docLinkHtml = 'Like what you see? Visit the ' +\n",
              "            '<a target=\"_blank\" href=https://colab.research.google.com/notebooks/data_table.ipynb>data table notebook</a>'\n",
              "            + ' to learn more about interactive tables.';\n",
              "          element.innerHTML = '';\n",
              "          dataTable['output_type'] = 'display_data';\n",
              "          await google.colab.output.renderOutput(dataTable, element);\n",
              "          const docLink = document.createElement('div');\n",
              "          docLink.innerHTML = docLinkHtml;\n",
              "          element.appendChild(docLink);\n",
              "        }\n",
              "      </script>\n",
              "    </div>\n",
              "  </div>\n",
              "  "
            ]
          },
          "metadata": {},
          "execution_count": 53
        }
      ]
    },
    {
      "cell_type": "code",
      "source": [
        "df.to_csv('/content/drive/MyDrive/BooksReview/cleaned_train_.csv', index = False)"
      ],
      "metadata": {
        "id": "-olvLQEbhYtB"
      },
      "id": "-olvLQEbhYtB",
      "execution_count": 55,
      "outputs": []
    },
    {
      "cell_type": "markdown",
      "source": [
        "# Обучение моделей"
      ],
      "metadata": {
        "id": "vIZRYeaCda4A"
      },
      "id": "vIZRYeaCda4A"
    },
    {
      "cell_type": "code",
      "source": [
        "import sklearn\n",
        "from sklearn import preprocessing\n",
        "from sklearn.metrics import f1_score\n",
        "from sklearn.model_selection import train_test_split, GridSearchCV\n",
        "from sklearn.pipeline import Pipeline, make_pipeline \n",
        "from sklearn.feature_extraction.text import TfidfVectorizer, CountVectorizer\n",
        "from sklearn.model_selection import train_test_split, GridSearchCV\n",
        "from sklearn.preprocessing import StandardScaler, RobustScaler, LabelEncoder, OneHotEncoder\n",
        "from sklearn.metrics import roc_auc_score, roc_curve  \n",
        "from sklearn.datasets import make_classification"
      ],
      "metadata": {
        "id": "yb7j2veddmp4"
      },
      "id": "yb7j2veddmp4",
      "execution_count": 135,
      "outputs": []
    },
    {
      "cell_type": "markdown",
      "source": [
        "## Разбиение на тренировочную и тестовые выборки, кодирование признаков"
      ],
      "metadata": {
        "id": "QqR4f-Bp12qK"
      },
      "id": "QqR4f-Bp12qK"
    },
    {
      "cell_type": "code",
      "source": [],
      "metadata": {
        "id": "XLIxfcdM12by"
      },
      "id": "XLIxfcdM12by",
      "execution_count": null,
      "outputs": []
    },
    {
      "cell_type": "code",
      "source": [
        "vocab_size = 50000\n",
        "\n",
        "# Dimension of the dense embedding.\n",
        "embedding_dim = 128\n",
        "\n",
        "# Max number of words in each complaint.\n",
        "max_length = 200\n",
        "\n",
        "# Truncate and padding options\n",
        "trunc_type = 'post'\n",
        "padding_type = 'post'\n",
        "oov_tok = ''"
      ],
      "metadata": {
        "id": "Xpa6Iz99p6AO"
      },
      "id": "Xpa6Iz99p6AO",
      "execution_count": null,
      "outputs": []
    },
    {
      "cell_type": "code",
      "source": [
        "target_col = 'rating'\n",
        "num_col = ['n_votes',\t'read_length_days',\t'review_length',\t'word_count',\t'mean_sent_length',\t'mean_word_length',\t'spoil',\t'polarity_score']\n",
        "cat_col = ['polarity']\n",
        "feature_cols = num_col + cat_col\n",
        "numeric_data = df[num_col]\n",
        "categorial_data = df[cat_col]"
      ],
      "metadata": {
        "id": "EglbJvS9nF9-"
      },
      "id": "EglbJvS9nF9-",
      "execution_count": 83,
      "outputs": []
    },
    {
      "cell_type": "code",
      "source": [
        "dummy_features = pd.get_dummies(categorial_data)\n",
        "dummy_features.head()"
      ],
      "metadata": {
        "colab": {
          "base_uri": "https://localhost:8080/",
          "height": 206
        },
        "id": "Hgj2yg5r0b8K",
        "outputId": "fa794376-2ccb-43e2-bab6-502241ad2bf6"
      },
      "id": "Hgj2yg5r0b8K",
      "execution_count": 103,
      "outputs": [
        {
          "output_type": "execute_result",
          "data": {
            "text/plain": [
              "   polarity_neg  polarity_neu  polarity_pos\n",
              "0             0             0             1\n",
              "1             0             0             1\n",
              "2             0             0             1\n",
              "3             0             0             1\n",
              "4             0             0             1"
            ],
            "text/html": [
              "\n",
              "  <div id=\"df-b046d599-49fa-4cc4-a412-0b9479b97e54\">\n",
              "    <div class=\"colab-df-container\">\n",
              "      <div>\n",
              "<style scoped>\n",
              "    .dataframe tbody tr th:only-of-type {\n",
              "        vertical-align: middle;\n",
              "    }\n",
              "\n",
              "    .dataframe tbody tr th {\n",
              "        vertical-align: top;\n",
              "    }\n",
              "\n",
              "    .dataframe thead th {\n",
              "        text-align: right;\n",
              "    }\n",
              "</style>\n",
              "<table border=\"1\" class=\"dataframe\">\n",
              "  <thead>\n",
              "    <tr style=\"text-align: right;\">\n",
              "      <th></th>\n",
              "      <th>polarity_neg</th>\n",
              "      <th>polarity_neu</th>\n",
              "      <th>polarity_pos</th>\n",
              "    </tr>\n",
              "  </thead>\n",
              "  <tbody>\n",
              "    <tr>\n",
              "      <th>0</th>\n",
              "      <td>0</td>\n",
              "      <td>0</td>\n",
              "      <td>1</td>\n",
              "    </tr>\n",
              "    <tr>\n",
              "      <th>1</th>\n",
              "      <td>0</td>\n",
              "      <td>0</td>\n",
              "      <td>1</td>\n",
              "    </tr>\n",
              "    <tr>\n",
              "      <th>2</th>\n",
              "      <td>0</td>\n",
              "      <td>0</td>\n",
              "      <td>1</td>\n",
              "    </tr>\n",
              "    <tr>\n",
              "      <th>3</th>\n",
              "      <td>0</td>\n",
              "      <td>0</td>\n",
              "      <td>1</td>\n",
              "    </tr>\n",
              "    <tr>\n",
              "      <th>4</th>\n",
              "      <td>0</td>\n",
              "      <td>0</td>\n",
              "      <td>1</td>\n",
              "    </tr>\n",
              "  </tbody>\n",
              "</table>\n",
              "</div>\n",
              "      <button class=\"colab-df-convert\" onclick=\"convertToInteractive('df-b046d599-49fa-4cc4-a412-0b9479b97e54')\"\n",
              "              title=\"Convert this dataframe to an interactive table.\"\n",
              "              style=\"display:none;\">\n",
              "        \n",
              "  <svg xmlns=\"http://www.w3.org/2000/svg\" height=\"24px\"viewBox=\"0 0 24 24\"\n",
              "       width=\"24px\">\n",
              "    <path d=\"M0 0h24v24H0V0z\" fill=\"none\"/>\n",
              "    <path d=\"M18.56 5.44l.94 2.06.94-2.06 2.06-.94-2.06-.94-.94-2.06-.94 2.06-2.06.94zm-11 1L8.5 8.5l.94-2.06 2.06-.94-2.06-.94L8.5 2.5l-.94 2.06-2.06.94zm10 10l.94 2.06.94-2.06 2.06-.94-2.06-.94-.94-2.06-.94 2.06-2.06.94z\"/><path d=\"M17.41 7.96l-1.37-1.37c-.4-.4-.92-.59-1.43-.59-.52 0-1.04.2-1.43.59L10.3 9.45l-7.72 7.72c-.78.78-.78 2.05 0 2.83L4 21.41c.39.39.9.59 1.41.59.51 0 1.02-.2 1.41-.59l7.78-7.78 2.81-2.81c.8-.78.8-2.07 0-2.86zM5.41 20L4 18.59l7.72-7.72 1.47 1.35L5.41 20z\"/>\n",
              "  </svg>\n",
              "      </button>\n",
              "      \n",
              "  <style>\n",
              "    .colab-df-container {\n",
              "      display:flex;\n",
              "      flex-wrap:wrap;\n",
              "      gap: 12px;\n",
              "    }\n",
              "\n",
              "    .colab-df-convert {\n",
              "      background-color: #E8F0FE;\n",
              "      border: none;\n",
              "      border-radius: 50%;\n",
              "      cursor: pointer;\n",
              "      display: none;\n",
              "      fill: #1967D2;\n",
              "      height: 32px;\n",
              "      padding: 0 0 0 0;\n",
              "      width: 32px;\n",
              "    }\n",
              "\n",
              "    .colab-df-convert:hover {\n",
              "      background-color: #E2EBFA;\n",
              "      box-shadow: 0px 1px 2px rgba(60, 64, 67, 0.3), 0px 1px 3px 1px rgba(60, 64, 67, 0.15);\n",
              "      fill: #174EA6;\n",
              "    }\n",
              "\n",
              "    [theme=dark] .colab-df-convert {\n",
              "      background-color: #3B4455;\n",
              "      fill: #D2E3FC;\n",
              "    }\n",
              "\n",
              "    [theme=dark] .colab-df-convert:hover {\n",
              "      background-color: #434B5C;\n",
              "      box-shadow: 0px 1px 3px 1px rgba(0, 0, 0, 0.15);\n",
              "      filter: drop-shadow(0px 1px 2px rgba(0, 0, 0, 0.3));\n",
              "      fill: #FFFFFF;\n",
              "    }\n",
              "  </style>\n",
              "\n",
              "      <script>\n",
              "        const buttonEl =\n",
              "          document.querySelector('#df-b046d599-49fa-4cc4-a412-0b9479b97e54 button.colab-df-convert');\n",
              "        buttonEl.style.display =\n",
              "          google.colab.kernel.accessAllowed ? 'block' : 'none';\n",
              "\n",
              "        async function convertToInteractive(key) {\n",
              "          const element = document.querySelector('#df-b046d599-49fa-4cc4-a412-0b9479b97e54');\n",
              "          const dataTable =\n",
              "            await google.colab.kernel.invokeFunction('convertToInteractive',\n",
              "                                                     [key], {});\n",
              "          if (!dataTable) return;\n",
              "\n",
              "          const docLinkHtml = 'Like what you see? Visit the ' +\n",
              "            '<a target=\"_blank\" href=https://colab.research.google.com/notebooks/data_table.ipynb>data table notebook</a>'\n",
              "            + ' to learn more about interactive tables.';\n",
              "          element.innerHTML = '';\n",
              "          dataTable['output_type'] = 'display_data';\n",
              "          await google.colab.output.renderOutput(dataTable, element);\n",
              "          const docLink = document.createElement('div');\n",
              "          docLink.innerHTML = docLinkHtml;\n",
              "          element.appendChild(docLink);\n",
              "        }\n",
              "      </script>\n",
              "    </div>\n",
              "  </div>\n",
              "  "
            ]
          },
          "metadata": {},
          "execution_count": 103
        }
      ]
    },
    {
      "cell_type": "code",
      "source": [
        "y = df[target_col]\n",
        "X = pd.concat([numeric_data, dummy_features], axis=1)\n",
        "X_origin = df.iloc[:, :-1]"
      ],
      "metadata": {
        "id": "Lp6EpedHdva2"
      },
      "id": "Lp6EpedHdva2",
      "execution_count": 104,
      "outputs": []
    },
    {
      "cell_type": "code",
      "source": [
        "X_train, X_test, y_train, y_test = train_test_split(X, y, test_size = 0.2, random_state = SEED)"
      ],
      "metadata": {
        "id": "bWUem1b6oKME"
      },
      "id": "bWUem1b6oKME",
      "execution_count": 105,
      "outputs": []
    },
    {
      "cell_type": "code",
      "source": [
        "def get_norm_data(X_train, X_test):\n",
        "  standart_scaler = StandardScaler()\n",
        "  robust_scaler = RobustScaler(with_centering=True, with_scaling=True, quantile_range=(25.0, 75.0), copy=True) \n",
        "  #transformer= RobustScaler()\n",
        "\n",
        "  for col in X_train[num_col]:\n",
        "    X_train[col] = robust_scaler.fit_transform(X_train[col][:, np.newaxis]) #удаление выбросов\n",
        "    X_train[col] = standart_scaler.fit_transform(X_train[col][:, np.newaxis]) #предварительная обработка\n",
        "\n",
        "    X_test[col] = robust_scaler.transform(X_test[col][:, np.newaxis])\n",
        "    X_test[col] = standart_scaler.transform(X_test[col][:, np.newaxis])\n",
        "  return X_train[num_col], X_test[num_col]"
      ],
      "metadata": {
        "id": "1rbt2KETsxTN"
      },
      "id": "1rbt2KETsxTN",
      "execution_count": 106,
      "outputs": []
    },
    {
      "cell_type": "code",
      "source": [
        "X_train[num_col], X_test[num_col] = get_norm_data(X_train, X_test)"
      ],
      "metadata": {
        "id": "U6MWi1eawqvT"
      },
      "id": "U6MWi1eawqvT",
      "execution_count": 107,
      "outputs": []
    },
    {
      "cell_type": "code",
      "source": [
        "X_train.head(3)"
      ],
      "metadata": {
        "colab": {
          "base_uri": "https://localhost:8080/",
          "height": 187
        },
        "id": "veXOdxf9w7a4",
        "outputId": "8005871e-cdca-403e-dfd7-3788ffd45bed"
      },
      "id": "veXOdxf9w7a4",
      "execution_count": 108,
      "outputs": [
        {
          "output_type": "execute_result",
          "data": {
            "text/plain": [
              "         n_votes  read_length_days  review_length  word_count  \\\n",
              "394657  0.276774         -0.110213       0.034014   -0.021263   \n",
              "517437 -0.191961         -0.019155      -0.574971   -0.576362   \n",
              "208118 -0.074777         -0.003979      -0.094025   -0.074552   \n",
              "\n",
              "        mean_sent_length  mean_word_length     spoil  polarity_score  \\\n",
              "394657          0.993821          0.561611 -0.141923       -0.286218   \n",
              "517437          0.807290         -0.043362 -0.141923        1.147494   \n",
              "208118          0.870975         -0.253769 -0.141923       -0.331068   \n",
              "\n",
              "        polarity_neg  polarity_neu  polarity_pos  \n",
              "394657             0             0             1  \n",
              "517437             0             0             1  \n",
              "208118             0             0             1  "
            ],
            "text/html": [
              "\n",
              "  <div id=\"df-21832432-9854-450b-8e10-6e5247173ea4\">\n",
              "    <div class=\"colab-df-container\">\n",
              "      <div>\n",
              "<style scoped>\n",
              "    .dataframe tbody tr th:only-of-type {\n",
              "        vertical-align: middle;\n",
              "    }\n",
              "\n",
              "    .dataframe tbody tr th {\n",
              "        vertical-align: top;\n",
              "    }\n",
              "\n",
              "    .dataframe thead th {\n",
              "        text-align: right;\n",
              "    }\n",
              "</style>\n",
              "<table border=\"1\" class=\"dataframe\">\n",
              "  <thead>\n",
              "    <tr style=\"text-align: right;\">\n",
              "      <th></th>\n",
              "      <th>n_votes</th>\n",
              "      <th>read_length_days</th>\n",
              "      <th>review_length</th>\n",
              "      <th>word_count</th>\n",
              "      <th>mean_sent_length</th>\n",
              "      <th>mean_word_length</th>\n",
              "      <th>spoil</th>\n",
              "      <th>polarity_score</th>\n",
              "      <th>polarity_neg</th>\n",
              "      <th>polarity_neu</th>\n",
              "      <th>polarity_pos</th>\n",
              "    </tr>\n",
              "  </thead>\n",
              "  <tbody>\n",
              "    <tr>\n",
              "      <th>394657</th>\n",
              "      <td>0.276774</td>\n",
              "      <td>-0.110213</td>\n",
              "      <td>0.034014</td>\n",
              "      <td>-0.021263</td>\n",
              "      <td>0.993821</td>\n",
              "      <td>0.561611</td>\n",
              "      <td>-0.141923</td>\n",
              "      <td>-0.286218</td>\n",
              "      <td>0</td>\n",
              "      <td>0</td>\n",
              "      <td>1</td>\n",
              "    </tr>\n",
              "    <tr>\n",
              "      <th>517437</th>\n",
              "      <td>-0.191961</td>\n",
              "      <td>-0.019155</td>\n",
              "      <td>-0.574971</td>\n",
              "      <td>-0.576362</td>\n",
              "      <td>0.807290</td>\n",
              "      <td>-0.043362</td>\n",
              "      <td>-0.141923</td>\n",
              "      <td>1.147494</td>\n",
              "      <td>0</td>\n",
              "      <td>0</td>\n",
              "      <td>1</td>\n",
              "    </tr>\n",
              "    <tr>\n",
              "      <th>208118</th>\n",
              "      <td>-0.074777</td>\n",
              "      <td>-0.003979</td>\n",
              "      <td>-0.094025</td>\n",
              "      <td>-0.074552</td>\n",
              "      <td>0.870975</td>\n",
              "      <td>-0.253769</td>\n",
              "      <td>-0.141923</td>\n",
              "      <td>-0.331068</td>\n",
              "      <td>0</td>\n",
              "      <td>0</td>\n",
              "      <td>1</td>\n",
              "    </tr>\n",
              "  </tbody>\n",
              "</table>\n",
              "</div>\n",
              "      <button class=\"colab-df-convert\" onclick=\"convertToInteractive('df-21832432-9854-450b-8e10-6e5247173ea4')\"\n",
              "              title=\"Convert this dataframe to an interactive table.\"\n",
              "              style=\"display:none;\">\n",
              "        \n",
              "  <svg xmlns=\"http://www.w3.org/2000/svg\" height=\"24px\"viewBox=\"0 0 24 24\"\n",
              "       width=\"24px\">\n",
              "    <path d=\"M0 0h24v24H0V0z\" fill=\"none\"/>\n",
              "    <path d=\"M18.56 5.44l.94 2.06.94-2.06 2.06-.94-2.06-.94-.94-2.06-.94 2.06-2.06.94zm-11 1L8.5 8.5l.94-2.06 2.06-.94-2.06-.94L8.5 2.5l-.94 2.06-2.06.94zm10 10l.94 2.06.94-2.06 2.06-.94-2.06-.94-.94-2.06-.94 2.06-2.06.94z\"/><path d=\"M17.41 7.96l-1.37-1.37c-.4-.4-.92-.59-1.43-.59-.52 0-1.04.2-1.43.59L10.3 9.45l-7.72 7.72c-.78.78-.78 2.05 0 2.83L4 21.41c.39.39.9.59 1.41.59.51 0 1.02-.2 1.41-.59l7.78-7.78 2.81-2.81c.8-.78.8-2.07 0-2.86zM5.41 20L4 18.59l7.72-7.72 1.47 1.35L5.41 20z\"/>\n",
              "  </svg>\n",
              "      </button>\n",
              "      \n",
              "  <style>\n",
              "    .colab-df-container {\n",
              "      display:flex;\n",
              "      flex-wrap:wrap;\n",
              "      gap: 12px;\n",
              "    }\n",
              "\n",
              "    .colab-df-convert {\n",
              "      background-color: #E8F0FE;\n",
              "      border: none;\n",
              "      border-radius: 50%;\n",
              "      cursor: pointer;\n",
              "      display: none;\n",
              "      fill: #1967D2;\n",
              "      height: 32px;\n",
              "      padding: 0 0 0 0;\n",
              "      width: 32px;\n",
              "    }\n",
              "\n",
              "    .colab-df-convert:hover {\n",
              "      background-color: #E2EBFA;\n",
              "      box-shadow: 0px 1px 2px rgba(60, 64, 67, 0.3), 0px 1px 3px 1px rgba(60, 64, 67, 0.15);\n",
              "      fill: #174EA6;\n",
              "    }\n",
              "\n",
              "    [theme=dark] .colab-df-convert {\n",
              "      background-color: #3B4455;\n",
              "      fill: #D2E3FC;\n",
              "    }\n",
              "\n",
              "    [theme=dark] .colab-df-convert:hover {\n",
              "      background-color: #434B5C;\n",
              "      box-shadow: 0px 1px 3px 1px rgba(0, 0, 0, 0.15);\n",
              "      filter: drop-shadow(0px 1px 2px rgba(0, 0, 0, 0.3));\n",
              "      fill: #FFFFFF;\n",
              "    }\n",
              "  </style>\n",
              "\n",
              "      <script>\n",
              "        const buttonEl =\n",
              "          document.querySelector('#df-21832432-9854-450b-8e10-6e5247173ea4 button.colab-df-convert');\n",
              "        buttonEl.style.display =\n",
              "          google.colab.kernel.accessAllowed ? 'block' : 'none';\n",
              "\n",
              "        async function convertToInteractive(key) {\n",
              "          const element = document.querySelector('#df-21832432-9854-450b-8e10-6e5247173ea4');\n",
              "          const dataTable =\n",
              "            await google.colab.kernel.invokeFunction('convertToInteractive',\n",
              "                                                     [key], {});\n",
              "          if (!dataTable) return;\n",
              "\n",
              "          const docLinkHtml = 'Like what you see? Visit the ' +\n",
              "            '<a target=\"_blank\" href=https://colab.research.google.com/notebooks/data_table.ipynb>data table notebook</a>'\n",
              "            + ' to learn more about interactive tables.';\n",
              "          element.innerHTML = '';\n",
              "          dataTable['output_type'] = 'display_data';\n",
              "          await google.colab.output.renderOutput(dataTable, element);\n",
              "          const docLink = document.createElement('div');\n",
              "          docLink.innerHTML = docLinkHtml;\n",
              "          element.appendChild(docLink);\n",
              "        }\n",
              "      </script>\n",
              "    </div>\n",
              "  </div>\n",
              "  "
            ]
          },
          "metadata": {},
          "execution_count": 108
        }
      ]
    },
    {
      "cell_type": "markdown",
      "source": [
        "## Функции для графиков"
      ],
      "metadata": {
        "id": "JNFXAqVH1rVD"
      },
      "id": "JNFXAqVH1rVD"
    },
    {
      "cell_type": "code",
      "source": [
        "def roc_auc_graf(y_train, y_test, y_train_predicted, y_test_predicted, name_model):\n",
        "  train_auc = roc_auc_score(y_train, y_train_predicted)\n",
        "  test_auc = roc_auc_score(y_test, y_test_predicted)\n",
        "\n",
        "  plt.figure(figsize=(10,7))\n",
        "  plt.plot(*roc_curve(y_train, y_train_predicted)[:2], label='train AUC={:.4f}'.format(train_auc))\n",
        "  plt.plot(*roc_curve(y_test, y_test_predicted)[:2], label='test AUC={:.4f}'.format(test_auc))\n",
        "  legend_box = plt.legend(fontsize='large', framealpha=1).get_frame()\n",
        "  legend_box.set_facecolor(\"white\")\n",
        "  legend_box.set_edgecolor(\"black\")\n",
        "  plt.plot(np.linspace(0,1,100), np.linspace(0,1,100))\n",
        "  plt.title('Accuracy of ', name_model)\n",
        "  plt.show()"
      ],
      "metadata": {
        "id": "ucyzvpRGzQtk"
      },
      "id": "ucyzvpRGzQtk",
      "execution_count": 109,
      "outputs": []
    },
    {
      "cell_type": "markdown",
      "source": [
        "## Модели"
      ],
      "metadata": {
        "id": "-Ta_iLud2A_j"
      },
      "id": "-Ta_iLud2A_j"
    },
    {
      "cell_type": "markdown",
      "source": [
        "- OneVsRestClassifier\n",
        "- решающие деревья (decision trees)\n",
        "- random forest"
      ],
      "metadata": {
        "id": "B6Uop_Aq2hKK"
      },
      "id": "B6Uop_Aq2hKK"
    },
    {
      "cell_type": "code",
      "source": [
        "from sklearn import tree "
      ],
      "metadata": {
        "id": "jy9063ad55dG"
      },
      "id": "jy9063ad55dG",
      "execution_count": 110,
      "outputs": []
    },
    {
      "cell_type": "code",
      "source": [
        "criterions_list = ['gini','entropy', 'log_loss']\n",
        "logreg_params = {'C': [100, 10, 1, 0.1, 0.01, 0.001]}\n",
        "\n",
        "dec_tree_cv = GridSearchCV(estimator =tree.DecisionTreeClassifier(random_state=777),\n",
        "                           criterion = criterions_list\n",
        "                          param_grid = logreg_params,\n",
        "                         cv = 5,\n",
        "                         refit = True, \n",
        "                         scoring = 'roc_auc',\n",
        "                         n_jobs = -1, \n",
        "                         verbose = 10)"
      ],
      "metadata": {
        "id": "Ud1T7VQpE_pp"
      },
      "id": "Ud1T7VQpE_pp",
      "execution_count": null,
      "outputs": []
    },
    {
      "cell_type": "code",
      "source": [
        "model_tree = tree.DecisionTreeClassifier(class_weight = None, criterion = 'entropy', max_depth = 15,\n",
        "                       max_features=None, max_leaf_nodes=None,\n",
        "                       min_impurity_decrease=0.0,\n",
        "                       min_samples_leaf = 20, min_samples_split = 100,\n",
        "                       min_weight_fraction_leaf=0.0,\n",
        "                       random_state=42, splitter='best')\n",
        "\n",
        "model_tree.fit(X_train, y_train)\n",
        "\n",
        "acc_train = model.score(X_train, y_train)\n",
        "acc_test = model.score(X_test, y_test)\n",
        "# y_train_predicted = model.predict_proba(X_train)\n",
        "# y_test_predicted = model.predict_proba(X_test)"
      ],
      "metadata": {
        "id": "y7I7-ZfKyg1R"
      },
      "id": "y7I7-ZfKyg1R",
      "execution_count": 138,
      "outputs": []
    },
    {
      "cell_type": "code",
      "source": [
        "y_pred_train = model_tree.predict(X_train)"
      ],
      "metadata": {
        "id": "bzgs4NbxEoEb"
      },
      "id": "bzgs4NbxEoEb",
      "execution_count": 140,
      "outputs": []
    },
    {
      "cell_type": "code",
      "source": [
        "from sklearn import metrics\n",
        "from sklearn.metrics import confusion_matrix, classification_report\n",
        "\n",
        "accuracy = metrics.accuracy_score(y_train, y_pred_train)\n",
        "print(\"Accuracy: {:.2f}\".format(accuracy))\n",
        "cm=confusion_matrix(y_train,y_pred_train)\n",
        "print('Confusion Matrix: \\n', cm)\n",
        "# print(classification_report(y_train, y_pred_train, target_names = class_names))"
      ],
      "metadata": {
        "colab": {
          "base_uri": "https://localhost:8080/"
        },
        "id": "gF7quyh1E00f",
        "outputId": "5af68776-61cc-4d2a-e451-cec09396656e"
      },
      "id": "gF7quyh1E00f",
      "execution_count": 142,
      "outputs": [
        {
          "output_type": "stream",
          "name": "stdout",
          "text": [
            "Accuracy: 0.41\n",
            "Confusion Matrix: \n",
            " [[  3607    493    754   2692  11312   5909]\n",
            " [   642   2618   1995   4169  10327   3316]\n",
            " [   592   1557   4499   9925  33674   7878]\n",
            " [  1011   1224   2740  26071  95190  24926]\n",
            " [  1600   1268   2821  19056 172575  53741]\n",
            " [  1661   1068   1971  12194 107393  87531]]\n"
          ]
        }
      ]
    },
    {
      "cell_type": "code",
      "source": [
        "SEED = 42"
      ],
      "metadata": {
        "id": "ed07yMyndqLp"
      },
      "id": "ed07yMyndqLp",
      "execution_count": 28,
      "outputs": []
    },
    {
      "cell_type": "code",
      "source": [
        "# xa = pd.concat([numeric_data, categorial_data], axis=1)"
      ],
      "metadata": {
        "id": "EyzkDiRyueRi"
      },
      "id": "EyzkDiRyueRi",
      "execution_count": 64,
      "outputs": []
    },
    {
      "cell_type": "code",
      "source": [
        "# scaler = preprocessing.RobustScaler()\n",
        "# robust_df = scaler.fit_transform(xa[num_col])\n",
        "# robust_df = pd.DataFrame(robust_df, columns = num_col)\n",
        " \n",
        "# scaler = preprocessing.StandardScaler()\n",
        "# standard_df = scaler.fit_transform(xa[num_col])\n",
        "# standard_df = pd.DataFrame(standard_df, columns = num_col)"
      ],
      "metadata": {
        "id": "G1puZcl2t5MU"
      },
      "id": "G1puZcl2t5MU",
      "execution_count": 68,
      "outputs": []
    },
    {
      "cell_type": "code",
      "source": [
        "fig, (ax1, ax2, ax3) = plt.subplots(ncols = 3, figsize =(20, 5))\n",
        "ax1.set_title('Before Scaling')\n",
        "\n",
        "sns.kdeplot(xa['n_votes'], ax = ax1, color ='r')\n",
        "sns.kdeplot(xa['read_length_days'], ax = ax1, color ='b')\n",
        "\n",
        "ax2.set_title('After Robust Scaling')\n",
        " \n",
        "sns.kdeplot(robust_df['n_votes'], ax = ax2, color ='red')\n",
        "sns.kdeplot(robust_df['read_length_days'], ax = ax2, color ='blue')\n",
        "\n",
        "ax3.set_title('After Standard Scaling')\n",
        "sns.kdeplot(standard_df['n_votes'], ax = ax3, color ='black')\n",
        "sns.kdeplot(standard_df['read_length_days'], ax = ax3, color ='g')\n",
        "plt.show()"
      ],
      "metadata": {
        "colab": {
          "base_uri": "https://localhost:8080/",
          "height": 383
        },
        "id": "eG44LYJdtsF0",
        "outputId": "9978e67c-4242-4fa0-c1f2-e13754beec65"
      },
      "id": "eG44LYJdtsF0",
      "execution_count": 72,
      "outputs": [
        {
          "output_type": "display_data",
          "data": {
            "text/plain": [
              "<Figure size 2000x500 with 3 Axes>"
            ],
            "image/png": "[encoded data removed]"
          },
          "metadata": {}
        }
      ]
    },
    {
      "cell_type": "markdown",
      "source": [
        "## где-то тут должны быть пайплайны если я их сделаю...."
      ],
      "metadata": {
        "id": "PgC5HFidsp1S"
      },
      "id": "PgC5HFidsp1S"
    },
    {
      "cell_type": "code",
      "source": [
        "# model_title = Pipeline([\n",
        "#     ('tokenizer', )\n",
        "    \n",
        "# ])"
      ],
      "metadata": {
        "id": "Df33ny5ZpoQ-"
      },
      "id": "Df33ny5ZpoQ-",
      "execution_count": null,
      "outputs": []
    },
    {
      "cell_type": "code",
      "source": [
        "# model_title = Pipeline([\n",
        "#     (\n",
        "#         'vectorizer',\n",
        "#         TfidfVectorizer(\n",
        "#             lowercase=True, ngram_range=(4, 6), analyzer='char',\n",
        "#             token_pattern = TOKEN_PATTERN,\n",
        "#             stop_words=stop_words, min_df=6, max_df=0.05\n",
        "#         )\n",
        "#     ),\n",
        "#     ('encoder', OneHotEncoder()),\n",
        "#     ('clf', LogisticRegression(random_state=SEED, solver='liblinear', class_weight='balanced'))\n",
        "# ])"
      ],
      "metadata": {
        "id": "V1xUv_hKpoWj"
      },
      "id": "V1xUv_hKpoWj",
      "execution_count": null,
      "outputs": []
    }
  ]
}