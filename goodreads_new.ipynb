{
  "metadata": {
    "colab": {
      "provenance": [],
      "toc_visible": true
    },
    "kernelspec": {
      "name": "python3",
      "display_name": "Python 3",
      "language": "python"
    },
    "language_info": {
      "name": "python",
      "version": "3.7.12",
      "mimetype": "text/x-python",
      "codemirror_mode": {
        "name": "ipython",
        "version": 3
      },
      "pygments_lexer": "ipython3",
      "nbconvert_exporter": "python",
      "file_extension": ".py"
    }
  },
  "nbformat_minor": 5,
  "nbformat": 4,
  "cells": [
    {
      "cell_type": "markdown",
      "source": [
        "# Импорты"
      ],
      "metadata": {
        "id": "hUllVIHh9_dy"
      },
      "id": "hUllVIHh9_dy"
    },
    {
      "cell_type": "code",
      "source": [
        "import os\n",
        "\n",
        "import matplotlib.pyplot as plt\n",
        "import matplotlib.ticker as ticker\n",
        "import numpy as np\n",
        "import pandas as pd\n",
        "import seaborn as sns\n",
        "from pylab import rcParams"
      ],
      "metadata": {
        "id": "24ea4cb3-b359-4ddf-a8ae-ed48fc5976d1",
        "execution": {
          "iopub.status.busy": "2023-04-17T19:54:14.012503Z",
          "iopub.execute_input": "2023-04-17T19:54:14.013700Z",
          "iopub.status.idle": "2023-04-17T19:54:15.251641Z",
          "shell.execute_reply.started": "2023-04-17T19:54:14.013647Z",
          "shell.execute_reply": "2023-04-17T19:54:15.250642Z"
        },
        "trusted": true
      },
      "execution_count": null,
      "outputs": [],
      "id": "24ea4cb3-b359-4ddf-a8ae-ed48fc5976d1"
    },
    {
      "cell_type": "code",
      "source": [
        "# os.chdir(r'/kaggle/working')\n",
        "# from IPython.display import FileLink"
      ],
      "metadata": {
        "execution": {
          "iopub.status.busy": "2023-04-17T22:22:10.307485Z",
          "iopub.execute_input": "2023-04-17T22:22:10.308070Z",
          "iopub.status.idle": "2023-04-17T22:22:10.315865Z",
          "shell.execute_reply.started": "2023-04-17T22:22:10.308022Z",
          "shell.execute_reply": "2023-04-17T22:22:10.313552Z"
        },
        "trusted": true,
        "id": "b0HygmoOdb25"
      },
      "execution_count": null,
      "outputs": [],
      "id": "b0HygmoOdb25"
    },
    {
      "cell_type": "code",
      "source": [
        "# FileLink(r'train_text_new.csv')"
      ],
      "metadata": {
        "execution": {
          "iopub.status.busy": "2023-04-17T22:23:56.715125Z",
          "iopub.execute_input": "2023-04-17T22:23:56.716546Z",
          "iopub.status.idle": "2023-04-17T22:23:56.724184Z",
          "shell.execute_reply.started": "2023-04-17T22:23:56.716487Z",
          "shell.execute_reply": "2023-04-17T22:23:56.722389Z"
        },
        "trusted": true,
        "id": "Kfalj8Ebdb25"
      },
      "execution_count": null,
      "outputs": [],
      "id": "Kfalj8Ebdb25"
    },
    {
      "cell_type": "code",
      "source": [
        "sns.set_style('darkgrid')\n",
        "sns.set_context('paper')\n",
        "plt.rcParams['figure.figsize'] = (17,7)\n",
        "plt.rcParams['font.size'] = 18"
      ],
      "metadata": {
        "id": "87df8d24",
        "execution": {
          "iopub.status.busy": "2023-04-17T19:55:40.110494Z",
          "iopub.execute_input": "2023-04-17T19:55:40.111025Z",
          "iopub.status.idle": "2023-04-17T19:55:40.118383Z",
          "shell.execute_reply.started": "2023-04-17T19:55:40.110949Z",
          "shell.execute_reply": "2023-04-17T19:55:40.116924Z"
        },
        "trusted": true
      },
      "execution_count": null,
      "outputs": [],
      "id": "87df8d24"
    },
    {
      "cell_type": "code",
      "source": [
        "import string\n",
        "import re\n",
        "import nltk\n",
        "\n",
        "\n",
        "from tqdm import trange\n",
        "from nltk import tokenize\n",
        "from nltk.corpus import stopwords\n",
        "from nltk.stem import WordNetLemmatizer\n",
        "from nltk.tokenize import word_tokenize\n",
        "from nltk.probability import FreqDist\n",
        "from collections import Counter\n",
        "from sklearn.feature_extraction.text import CountVectorizer"
      ],
      "metadata": {
        "id": "4d946119",
        "execution": {
          "iopub.status.busy": "2023-04-17T22:49:47.211556Z",
          "iopub.execute_input": "2023-04-17T22:49:47.213258Z",
          "iopub.status.idle": "2023-04-17T22:49:47.220459Z",
          "shell.execute_reply.started": "2023-04-17T22:49:47.213190Z",
          "shell.execute_reply": "2023-04-17T22:49:47.218833Z"
        },
        "trusted": true
      },
      "execution_count": null,
      "outputs": [],
      "id": "4d946119"
    },
    {
      "cell_type": "code",
      "source": [
        "nltk.download('stopwords')\n",
        "stop=set(stopwords.words('english'))"
      ],
      "metadata": {
        "colab": {
          "base_uri": "https://localhost:8080/"
        },
        "id": "be238ee0",
        "outputId": "46977c40-26ad-4739-a4c2-d2716a3c9a6b",
        "execution": {
          "iopub.status.busy": "2023-04-17T19:55:48.683915Z",
          "iopub.execute_input": "2023-04-17T19:55:48.684439Z",
          "iopub.status.idle": "2023-04-17T19:55:48.798281Z",
          "shell.execute_reply.started": "2023-04-17T19:55:48.684386Z",
          "shell.execute_reply": "2023-04-17T19:55:48.796743Z"
        },
        "trusted": true
      },
      "execution_count": null,
      "outputs": [
        {
          "output_type": "stream",
          "name": "stderr",
          "text": [
            "[nltk_data] Downloading package stopwords to /root/nltk_data...\n",
            "[nltk_data]   Unzipping corpora/stopwords.zip.\n"
          ]
        }
      ],
      "id": "be238ee0"
    },
    {
      "cell_type": "code",
      "source": [
        "import warnings\n",
        "warnings.filterwarnings('ignore')\n",
        "nltk.download('omw-1.4', quiet=True)\n",
        "# sns.set_style('darkgrid')\n",
        "# plt.rcParams['figure.figsize'] = (17,7)\n",
        "# plt.rcParams['font.size'] = 18"
      ],
      "metadata": {
        "colab": {
          "base_uri": "https://localhost:8080/"
        },
        "id": "383fa307",
        "outputId": "c8ef5b3c-b0fe-4020-80a3-98a6ab93e724",
        "execution": {
          "iopub.status.busy": "2023-04-17T19:55:54.123662Z",
          "iopub.execute_input": "2023-04-17T19:55:54.124156Z",
          "iopub.status.idle": "2023-04-17T19:55:54.398350Z",
          "shell.execute_reply.started": "2023-04-17T19:55:54.124109Z",
          "shell.execute_reply": "2023-04-17T19:55:54.397135Z"
        },
        "trusted": true
      },
      "execution_count": null,
      "outputs": [
        {
          "output_type": "execute_result",
          "data": {
            "text/plain": [
              "True"
            ]
          },
          "metadata": {},
          "execution_count": 8
        }
      ],
      "id": "383fa307"
    },
    {
      "cell_type": "code",
      "source": [
        "nltk.download('punkt')\n",
        "nltk.download('wordnet')"
      ],
      "metadata": {
        "colab": {
          "base_uri": "https://localhost:8080/"
        },
        "id": "63703444",
        "outputId": "5c499be6-8a7e-461a-c918-b14d93014bff",
        "execution": {
          "iopub.status.busy": "2023-04-17T19:55:58.350499Z",
          "iopub.execute_input": "2023-04-17T19:55:58.351801Z",
          "iopub.status.idle": "2023-04-17T19:55:58.448631Z",
          "shell.execute_reply.started": "2023-04-17T19:55:58.351740Z",
          "shell.execute_reply": "2023-04-17T19:55:58.447671Z"
        },
        "trusted": true
      },
      "execution_count": null,
      "outputs": [
        {
          "output_type": "stream",
          "name": "stderr",
          "text": [
            "[nltk_data] Downloading package punkt to /root/nltk_data...\n",
            "[nltk_data]   Unzipping tokenizers/punkt.zip.\n",
            "[nltk_data] Downloading package wordnet to /root/nltk_data...\n"
          ]
        },
        {
          "output_type": "execute_result",
          "data": {
            "text/plain": [
              "True"
            ]
          },
          "metadata": {},
          "execution_count": 9
        }
      ],
      "id": "63703444"
    },
    {
      "cell_type": "code",
      "source": [
        "sns.set_context('paper')"
      ],
      "metadata": {
        "id": "ada803a2-8447-41d8-91d1-13884918447c",
        "execution": {
          "iopub.status.busy": "2023-04-17T19:56:04.359670Z",
          "iopub.execute_input": "2023-04-17T19:56:04.360225Z",
          "iopub.status.idle": "2023-04-17T19:56:04.366665Z",
          "shell.execute_reply.started": "2023-04-17T19:56:04.360178Z",
          "shell.execute_reply": "2023-04-17T19:56:04.365171Z"
        },
        "trusted": true
      },
      "execution_count": null,
      "outputs": [],
      "id": "ada803a2-8447-41d8-91d1-13884918447c"
    },
    {
      "cell_type": "code",
      "source": [
        "# import torch\n",
        "# device = \"cuda\" if torch.cuda.is_available() else \"cpu\""
      ],
      "metadata": {
        "id": "-R6svmM8ovrD"
      },
      "execution_count": null,
      "outputs": [],
      "id": "-R6svmM8ovrD"
    },
    {
      "cell_type": "markdown",
      "source": [
        "# Считывание данных, просмотр их структуры"
      ],
      "metadata": {
        "id": "b523cbe4"
      },
      "id": "b523cbe4"
    },
    {
      "cell_type": "code",
      "source": [
        "# df = pd.read_csv('D:\\Kaggle\\Goodreads Books Reviews\\goodreads-books-reviews-290312\\goodreads_train.csv')"
      ],
      "metadata": {
        "id": "65d5dbc6-3710-40f4-808b-b318a896dc05"
      },
      "execution_count": null,
      "outputs": [],
      "id": "65d5dbc6-3710-40f4-808b-b318a896dc05"
    },
    {
      "cell_type": "code",
      "source": [
        "from google.colab import drive\n",
        "drive.mount('/content/drive')"
      ],
      "metadata": {
        "colab": {
          "base_uri": "https://localhost:8080/"
        },
        "id": "fIVvXw5WU8gG",
        "outputId": "82209cd7-25d5-4b10-8988-137cd3c4c232"
      },
      "execution_count": null,
      "outputs": [
        {
          "output_type": "stream",
          "name": "stdout",
          "text": [
            "Mounted at /content/drive\n"
          ]
        }
      ],
      "id": "fIVvXw5WU8gG"
    },
    {
      "cell_type": "code",
      "source": [
        "df = pd.read_csv('/content/drive/MyDrive/BooksReview/goodreads_train.csv')\n",
        "df_test = pd.read_csv('/content/drive/MyDrive/BooksReview/goodreads_test.csv')"
      ],
      "metadata": {
        "id": "gj86GUY8VKVG"
      },
      "execution_count": null,
      "outputs": [],
      "id": "gj86GUY8VKVG"
    },
    {
      "cell_type": "code",
      "source": [
        "# df_test = pd.read_csv('/kaggle/input/goodreads/goodreads_test.csv')"
      ],
      "metadata": {
        "execution": {
          "iopub.status.busy": "2023-04-17T21:04:46.724914Z",
          "iopub.execute_input": "2023-04-17T21:04:46.725455Z",
          "iopub.status.idle": "2023-04-17T21:04:54.319495Z",
          "shell.execute_reply.started": "2023-04-17T21:04:46.725412Z",
          "shell.execute_reply": "2023-04-17T21:04:54.318090Z"
        },
        "trusted": true,
        "id": "VTcIHR-Jdb29"
      },
      "execution_count": null,
      "outputs": [],
      "id": "VTcIHR-Jdb29"
    },
    {
      "cell_type": "code",
      "source": [
        "# df_test = pd.read_csv('D:\\Kaggle\\Goodreads Books Reviews\\goodreads-books-reviews-290312\\goodreads_test.csv')"
      ],
      "metadata": {
        "id": "DJ2s-aWE1iGJ",
        "execution": {
          "iopub.status.busy": "2023-04-17T21:00:31.120827Z",
          "iopub.execute_input": "2023-04-17T21:00:31.121651Z",
          "iopub.status.idle": "2023-04-17T21:00:31.212146Z",
          "shell.execute_reply.started": "2023-04-17T21:00:31.121578Z",
          "shell.execute_reply": "2023-04-17T21:00:31.209985Z"
        },
        "trusted": true
      },
      "execution_count": null,
      "outputs": [],
      "id": "DJ2s-aWE1iGJ"
    },
    {
      "cell_type": "code",
      "source": [
        "df.head(3)"
      ],
      "metadata": {
        "colab": {
          "base_uri": "https://localhost:8080/"
        },
        "id": "41fceb79-18d0-415d-a1be-cb293ba262ab",
        "outputId": "0267ee0e-98af-4ddb-b479-d0e02d7eb084"
      },
      "execution_count": null,
      "outputs": [
        {
          "output_type": "execute_result",
          "data": {
            "text/plain": [
              "                            user_id   book_id  \\\n",
              "0  8842281e1d1347389f2ab93d60773d4d  18245960   \n",
              "1  8842281e1d1347389f2ab93d60773d4d     16981   \n",
              "2  8842281e1d1347389f2ab93d60773d4d  28684704   \n",
              "\n",
              "                          review_id  rating  \\\n",
              "0  dfdbb7b0eb5a7e4c26d59a937e2e5feb       5   \n",
              "1  a5d2c3628987712d0e05c4f90798eb67       3   \n",
              "2  2ede853b14dc4583f96cf5d120af636f       3   \n",
              "\n",
              "                                         review_text  \\\n",
              "0  This is a special book. It started slow for ab...   \n",
              "1  Recommended by Don Katz. Avail for free in Dec...   \n",
              "2  A fun, fast paced science fiction thriller. I ...   \n",
              "\n",
              "                       date_added                    date_updated  \\\n",
              "0  Sun Jul 30 07:44:10 -0700 2017  Wed Aug 30 00:00:26 -0700 2017   \n",
              "1  Mon Dec 05 10:46:44 -0800 2016  Wed Mar 22 11:37:04 -0700 2017   \n",
              "2  Tue Nov 15 11:29:22 -0800 2016  Mon Mar 20 23:40:27 -0700 2017   \n",
              "\n",
              "                          read_at                      started_at  n_votes  \\\n",
              "0  Sat Aug 26 12:05:52 -0700 2017  Tue Aug 15 13:23:18 -0700 2017       28   \n",
              "1                             NaN                             NaN        1   \n",
              "2  Sat Mar 18 23:22:42 -0700 2017  Fri Mar 17 23:45:40 -0700 2017       22   \n",
              "\n",
              "   n_comments  \n",
              "0           1  \n",
              "1           0  \n",
              "2           0  "
            ],
            "text/html": [
              "\n",
              "  <div id=\"df-bf1f4626-56da-47af-a7a2-16901f5d08c5\">\n",
              "    <div class=\"colab-df-container\">\n",
              "      <div>\n",
              "<style scoped>\n",
              "    .dataframe tbody tr th:only-of-type {\n",
              "        vertical-align: middle;\n",
              "    }\n",
              "\n",
              "    .dataframe tbody tr th {\n",
              "        vertical-align: top;\n",
              "    }\n",
              "\n",
              "    .dataframe thead th {\n",
              "        text-align: right;\n",
              "    }\n",
              "</style>\n",
              "<table border=\"1\" class=\"dataframe\">\n",
              "  <thead>\n",
              "    <tr style=\"text-align: right;\">\n",
              "      <th></th>\n",
              "      <th>user_id</th>\n",
              "      <th>book_id</th>\n",
              "      <th>review_id</th>\n",
              "      <th>rating</th>\n",
              "      <th>review_text</th>\n",
              "      <th>date_added</th>\n",
              "      <th>date_updated</th>\n",
              "      <th>read_at</th>\n",
              "      <th>started_at</th>\n",
              "      <th>n_votes</th>\n",
              "      <th>n_comments</th>\n",
              "    </tr>\n",
              "  </thead>\n",
              "  <tbody>\n",
              "    <tr>\n",
              "      <th>0</th>\n",
              "      <td>8842281e1d1347389f2ab93d60773d4d</td>\n",
              "      <td>18245960</td>\n",
              "      <td>dfdbb7b0eb5a7e4c26d59a937e2e5feb</td>\n",
              "      <td>5</td>\n",
              "      <td>This is a special book. It started slow for ab...</td>\n",
              "      <td>Sun Jul 30 07:44:10 -0700 2017</td>\n",
              "      <td>Wed Aug 30 00:00:26 -0700 2017</td>\n",
              "      <td>Sat Aug 26 12:05:52 -0700 2017</td>\n",
              "      <td>Tue Aug 15 13:23:18 -0700 2017</td>\n",
              "      <td>28</td>\n",
              "      <td>1</td>\n",
              "    </tr>\n",
              "    <tr>\n",
              "      <th>1</th>\n",
              "      <td>8842281e1d1347389f2ab93d60773d4d</td>\n",
              "      <td>16981</td>\n",
              "      <td>a5d2c3628987712d0e05c4f90798eb67</td>\n",
              "      <td>3</td>\n",
              "      <td>Recommended by Don Katz. Avail for free in Dec...</td>\n",
              "      <td>Mon Dec 05 10:46:44 -0800 2016</td>\n",
              "      <td>Wed Mar 22 11:37:04 -0700 2017</td>\n",
              "      <td>NaN</td>\n",
              "      <td>NaN</td>\n",
              "      <td>1</td>\n",
              "      <td>0</td>\n",
              "    </tr>\n",
              "    <tr>\n",
              "      <th>2</th>\n",
              "      <td>8842281e1d1347389f2ab93d60773d4d</td>\n",
              "      <td>28684704</td>\n",
              "      <td>2ede853b14dc4583f96cf5d120af636f</td>\n",
              "      <td>3</td>\n",
              "      <td>A fun, fast paced science fiction thriller. I ...</td>\n",
              "      <td>Tue Nov 15 11:29:22 -0800 2016</td>\n",
              "      <td>Mon Mar 20 23:40:27 -0700 2017</td>\n",
              "      <td>Sat Mar 18 23:22:42 -0700 2017</td>\n",
              "      <td>Fri Mar 17 23:45:40 -0700 2017</td>\n",
              "      <td>22</td>\n",
              "      <td>0</td>\n",
              "    </tr>\n",
              "  </tbody>\n",
              "</table>\n",
              "</div>\n",
              "      <button class=\"colab-df-convert\" onclick=\"convertToInteractive('df-bf1f4626-56da-47af-a7a2-16901f5d08c5')\"\n",
              "              title=\"Convert this dataframe to an interactive table.\"\n",
              "              style=\"display:none;\">\n",
              "        \n",
              "  <svg xmlns=\"http://www.w3.org/2000/svg\" height=\"24px\"viewBox=\"0 0 24 24\"\n",
              "       width=\"24px\">\n",
              "    <path d=\"M0 0h24v24H0V0z\" fill=\"none\"/>\n",
              "    <path d=\"M18.56 5.44l.94 2.06.94-2.06 2.06-.94-2.06-.94-.94-2.06-.94 2.06-2.06.94zm-11 1L8.5 8.5l.94-2.06 2.06-.94-2.06-.94L8.5 2.5l-.94 2.06-2.06.94zm10 10l.94 2.06.94-2.06 2.06-.94-2.06-.94-.94-2.06-.94 2.06-2.06.94z\"/><path d=\"M17.41 7.96l-1.37-1.37c-.4-.4-.92-.59-1.43-.59-.52 0-1.04.2-1.43.59L10.3 9.45l-7.72 7.72c-.78.78-.78 2.05 0 2.83L4 21.41c.39.39.9.59 1.41.59.51 0 1.02-.2 1.41-.59l7.78-7.78 2.81-2.81c.8-.78.8-2.07 0-2.86zM5.41 20L4 18.59l7.72-7.72 1.47 1.35L5.41 20z\"/>\n",
              "  </svg>\n",
              "      </button>\n",
              "      \n",
              "  <style>\n",
              "    .colab-df-container {\n",
              "      display:flex;\n",
              "      flex-wrap:wrap;\n",
              "      gap: 12px;\n",
              "    }\n",
              "\n",
              "    .colab-df-convert {\n",
              "      background-color: #E8F0FE;\n",
              "      border: none;\n",
              "      border-radius: 50%;\n",
              "      cursor: pointer;\n",
              "      display: none;\n",
              "      fill: #1967D2;\n",
              "      height: 32px;\n",
              "      padding: 0 0 0 0;\n",
              "      width: 32px;\n",
              "    }\n",
              "\n",
              "    .colab-df-convert:hover {\n",
              "      background-color: #E2EBFA;\n",
              "      box-shadow: 0px 1px 2px rgba(60, 64, 67, 0.3), 0px 1px 3px 1px rgba(60, 64, 67, 0.15);\n",
              "      fill: #174EA6;\n",
              "    }\n",
              "\n",
              "    [theme=dark] .colab-df-convert {\n",
              "      background-color: #3B4455;\n",
              "      fill: #D2E3FC;\n",
              "    }\n",
              "\n",
              "    [theme=dark] .colab-df-convert:hover {\n",
              "      background-color: #434B5C;\n",
              "      box-shadow: 0px 1px 3px 1px rgba(0, 0, 0, 0.15);\n",
              "      filter: drop-shadow(0px 1px 2px rgba(0, 0, 0, 0.3));\n",
              "      fill: #FFFFFF;\n",
              "    }\n",
              "  </style>\n",
              "\n",
              "      <script>\n",
              "        const buttonEl =\n",
              "          document.querySelector('#df-bf1f4626-56da-47af-a7a2-16901f5d08c5 button.colab-df-convert');\n",
              "        buttonEl.style.display =\n",
              "          google.colab.kernel.accessAllowed ? 'block' : 'none';\n",
              "\n",
              "        async function convertToInteractive(key) {\n",
              "          const element = document.querySelector('#df-bf1f4626-56da-47af-a7a2-16901f5d08c5');\n",
              "          const dataTable =\n",
              "            await google.colab.kernel.invokeFunction('convertToInteractive',\n",
              "                                                     [key], {});\n",
              "          if (!dataTable) return;\n",
              "\n",
              "          const docLinkHtml = 'Like what you see? Visit the ' +\n",
              "            '<a target=\"_blank\" href=https://colab.research.google.com/notebooks/data_table.ipynb>data table notebook</a>'\n",
              "            + ' to learn more about interactive tables.';\n",
              "          element.innerHTML = '';\n",
              "          dataTable['output_type'] = 'display_data';\n",
              "          await google.colab.output.renderOutput(dataTable, element);\n",
              "          const docLink = document.createElement('div');\n",
              "          docLink.innerHTML = docLinkHtml;\n",
              "          element.appendChild(docLink);\n",
              "        }\n",
              "      </script>\n",
              "    </div>\n",
              "  </div>\n",
              "  "
            ]
          },
          "metadata": {},
          "execution_count": 17
        }
      ],
      "id": "41fceb79-18d0-415d-a1be-cb293ba262ab"
    },
    {
      "cell_type": "code",
      "source": [
        "print('Размер train датасета:', df.shape)\n",
        "print('Размер test датасета:', df_test.shape)"
      ],
      "metadata": {
        "colab": {
          "base_uri": "https://localhost:8080/"
        },
        "id": "591fd9b5-1726-41a8-a4a7-3f6a212efe15",
        "outputId": "b9160da4-4502-44ca-e6a8-6a286fa518ec"
      },
      "execution_count": null,
      "outputs": [
        {
          "output_type": "stream",
          "name": "stdout",
          "text": [
            "Размер train датасета: (900000, 11)\n",
            "Размер test датасета: (478033, 10)\n"
          ]
        }
      ],
      "id": "591fd9b5-1726-41a8-a4a7-3f6a212efe15"
    },
    {
      "cell_type": "code",
      "source": [
        "print('Информация о train датасете\\n')\n",
        "df.info()\n",
        "\n",
        "print('Информация о test датасете\\n')\n",
        "df_test.info()"
      ],
      "metadata": {
        "colab": {
          "base_uri": "https://localhost:8080/"
        },
        "id": "7ac36fb2-c519-4528-a46c-43ec414b2a88",
        "outputId": "1916de09-f705-4721-ec9f-5a0e52ab66be"
      },
      "execution_count": null,
      "outputs": [
        {
          "output_type": "stream",
          "name": "stdout",
          "text": [
            "Информация о train датасете\n",
            "\n",
            "<class 'pandas.core.frame.DataFrame'>\n",
            "RangeIndex: 900000 entries, 0 to 899999\n",
            "Data columns (total 11 columns):\n",
            " #   Column        Non-Null Count   Dtype \n",
            "---  ------        --------------   ----- \n",
            " 0   user_id       900000 non-null  object\n",
            " 1   book_id       900000 non-null  int64 \n",
            " 2   review_id     900000 non-null  object\n",
            " 3   rating        900000 non-null  int64 \n",
            " 4   review_text   900000 non-null  object\n",
            " 5   date_added    900000 non-null  object\n",
            " 6   date_updated  900000 non-null  object\n",
            " 7   read_at       808234 non-null  object\n",
            " 8   started_at    625703 non-null  object\n",
            " 9   n_votes       900000 non-null  int64 \n",
            " 10  n_comments    900000 non-null  int64 \n",
            "dtypes: int64(4), object(7)\n",
            "memory usage: 75.5+ MB\n",
            "Информация о test датасете\n",
            "\n",
            "<class 'pandas.core.frame.DataFrame'>\n",
            "RangeIndex: 478033 entries, 0 to 478032\n",
            "Data columns (total 10 columns):\n",
            " #   Column        Non-Null Count   Dtype \n",
            "---  ------        --------------   ----- \n",
            " 0   user_id       478033 non-null  object\n",
            " 1   book_id       478033 non-null  int64 \n",
            " 2   review_id     478033 non-null  object\n",
            " 3   review_text   478033 non-null  object\n",
            " 4   date_added    478033 non-null  object\n",
            " 5   date_updated  478033 non-null  object\n",
            " 6   read_at       435555 non-null  object\n",
            " 7   started_at    334989 non-null  object\n",
            " 8   n_votes       478033 non-null  int64 \n",
            " 9   n_comments    478033 non-null  int64 \n",
            "dtypes: int64(3), object(7)\n",
            "memory usage: 36.5+ MB\n"
          ]
        }
      ],
      "id": "7ac36fb2-c519-4528-a46c-43ec414b2a88"
    },
    {
      "cell_type": "markdown",
      "source": [
        "Посмотрим, есть ли вообще дублированный текст отзывов."
      ],
      "metadata": {
        "id": "BQWDQqEK495T"
      },
      "id": "BQWDQqEK495T"
    },
    {
      "cell_type": "code",
      "source": [
        "print('Количество дубликатов в train датасете', df.duplicated(['book_id','review_text','rating']).sum())\n",
        "print('Количество дубликатов в test датасете', df_test.duplicated(['book_id','review_text']).sum())"
      ],
      "metadata": {
        "colab": {
          "base_uri": "https://localhost:8080/"
        },
        "id": "c3cbbfde",
        "outputId": "df66dc86-62a2-41dc-c328-ed3cdbf4b2e3",
        "execution": {
          "iopub.status.busy": "2023-04-17T22:16:49.505600Z",
          "iopub.execute_input": "2023-04-17T22:16:49.506122Z",
          "iopub.status.idle": "2023-04-17T22:16:54.196290Z",
          "shell.execute_reply.started": "2023-04-17T22:16:49.506074Z",
          "shell.execute_reply": "2023-04-17T22:16:54.194290Z"
        },
        "trusted": true
      },
      "execution_count": null,
      "outputs": [
        {
          "output_type": "stream",
          "name": "stdout",
          "text": [
            "Количество дубликатов в train датасете 42\n",
            "Количество дубликатов в test датасете 33\n"
          ]
        }
      ],
      "id": "c3cbbfde"
    },
    {
      "cell_type": "code",
      "source": [
        "df.drop_duplicates(subset=['book_id','review_text','rating'])"
      ],
      "metadata": {
        "execution": {
          "iopub.status.busy": "2023-04-17T22:17:55.029676Z",
          "iopub.execute_input": "2023-04-17T22:17:55.030198Z",
          "iopub.status.idle": "2023-04-17T22:17:58.184472Z",
          "shell.execute_reply.started": "2023-04-17T22:17:55.030155Z",
          "shell.execute_reply": "2023-04-17T22:17:58.183368Z"
        },
        "trusted": true,
        "colab": {
          "base_uri": "https://localhost:8080/"
        },
        "id": "nvUEeJnXdb2-",
        "outputId": "a4003223-3e9c-4ee2-9a95-1220e888aa2b"
      },
      "execution_count": null,
      "outputs": [
        {
          "output_type": "execute_result",
          "data": {
            "text/plain": [
              "                                 user_id   book_id  \\\n",
              "0       8842281e1d1347389f2ab93d60773d4d  18245960   \n",
              "1       8842281e1d1347389f2ab93d60773d4d     16981   \n",
              "2       8842281e1d1347389f2ab93d60773d4d  28684704   \n",
              "3       8842281e1d1347389f2ab93d60773d4d  27161156   \n",
              "4       8842281e1d1347389f2ab93d60773d4d  25884323   \n",
              "...                                  ...       ...   \n",
              "899995  b9450d1c1f97f891c392b1105959b56e  11832081   \n",
              "899996  b9450d1c1f97f891c392b1105959b56e  16095092   \n",
              "899997  b9450d1c1f97f891c392b1105959b56e   8430896   \n",
              "899998  b9450d1c1f97f891c392b1105959b56e  12275680   \n",
              "899999  b9450d1c1f97f891c392b1105959b56e     17005   \n",
              "\n",
              "                               review_id  rating  \\\n",
              "0       dfdbb7b0eb5a7e4c26d59a937e2e5feb       5   \n",
              "1       a5d2c3628987712d0e05c4f90798eb67       3   \n",
              "2       2ede853b14dc4583f96cf5d120af636f       3   \n",
              "3       ced5675e55cd9d38a524743f5c40996e       0   \n",
              "4       332732725863131279a8e345b63ac33e       4   \n",
              "...                                  ...     ...   \n",
              "899995  7c34c15ad8cb28a4afca32946e2016ea       3   \n",
              "899996  e979c735276431915d089cfaf446d64f       3   \n",
              "899997  feb9fe6439f9fbba8a1cce36020ad977       4   \n",
              "899998  741e29369f70531bfffbd02add86f228       4   \n",
              "899999  d55f3a967230940e75a314700caec9a5       3   \n",
              "\n",
              "                                              review_text  \\\n",
              "0       This is a special book. It started slow for ab...   \n",
              "1       Recommended by Don Katz. Avail for free in Dec...   \n",
              "2       A fun, fast paced science fiction thriller. I ...   \n",
              "3       Recommended reading to understand what is goin...   \n",
              "4       I really enjoyed this book, and there is a lot...   \n",
              "...                                                   ...   \n",
              "899995  3.5 stars. \\n Jenna is a popular YA author and...   \n",
              "899996  This was a quick read for me. I have read a lo...   \n",
              "899997  ** spoiler alert ** \\n 3.5 stars. \\n This book...   \n",
              "899998  ** spoiler alert ** \\n Another fun read from M...   \n",
              "899999  ** spoiler alert ** \\n 3.5 stars \\n I liked it...   \n",
              "\n",
              "                            date_added                    date_updated  \\\n",
              "0       Sun Jul 30 07:44:10 -0700 2017  Wed Aug 30 00:00:26 -0700 2017   \n",
              "1       Mon Dec 05 10:46:44 -0800 2016  Wed Mar 22 11:37:04 -0700 2017   \n",
              "2       Tue Nov 15 11:29:22 -0800 2016  Mon Mar 20 23:40:27 -0700 2017   \n",
              "3       Wed Nov 09 17:37:04 -0800 2016  Wed Nov 09 17:38:20 -0800 2016   \n",
              "4       Mon Apr 25 09:31:23 -0700 2016  Mon Apr 25 09:31:23 -0700 2016   \n",
              "...                                ...                             ...   \n",
              "899995  Fri Nov 16 22:10:17 -0800 2012  Sat Nov 17 22:42:44 -0800 2012   \n",
              "899996  Fri Nov 16 22:09:49 -0800 2012  Sat Nov 17 23:38:58 -0800 2012   \n",
              "899997  Tue Nov 13 05:38:24 -0800 2012  Tue Nov 13 23:29:17 -0800 2012   \n",
              "899998  Mon Nov 12 05:42:30 -0800 2012  Tue Nov 13 22:32:05 -0800 2012   \n",
              "899999  Sun Nov 11 00:05:43 -0800 2012  Sun Nov 11 21:59:08 -0800 2012   \n",
              "\n",
              "                               read_at                      started_at  \\\n",
              "0       Sat Aug 26 12:05:52 -0700 2017  Tue Aug 15 13:23:18 -0700 2017   \n",
              "1                                  NaN                             NaN   \n",
              "2       Sat Mar 18 23:22:42 -0700 2017  Fri Mar 17 23:45:40 -0700 2017   \n",
              "3                                  NaN                             NaN   \n",
              "4       Sun Jun 26 00:00:00 -0700 2016  Sat May 28 00:00:00 -0700 2016   \n",
              "...                                ...                             ...   \n",
              "899995  Sat Nov 17 00:00:00 -0800 2012  Fri Nov 16 00:00:00 -0800 2012   \n",
              "899996  Sat Nov 17 00:00:00 -0800 2012  Fri Nov 16 00:00:00 -0800 2012   \n",
              "899997  Tue Nov 13 00:00:00 -0800 2012  Tue Nov 13 00:00:00 -0800 2012   \n",
              "899998  Tue Nov 13 00:00:00 -0800 2012  Mon Nov 12 00:00:00 -0800 2012   \n",
              "899999  Sun Nov 11 00:00:00 -0800 2012  Sun Nov 11 00:00:00 -0800 2012   \n",
              "\n",
              "        n_votes  n_comments  \n",
              "0            28           1  \n",
              "1             1           0  \n",
              "2            22           0  \n",
              "3             5           1  \n",
              "4             9           1  \n",
              "...         ...         ...  \n",
              "899995        0           0  \n",
              "899996        1           1  \n",
              "899997        1           0  \n",
              "899998        0           0  \n",
              "899999        0           0  \n",
              "\n",
              "[899958 rows x 11 columns]"
            ],
            "text/html": [
              "\n",
              "  <div id=\"df-86fbe2e3-ae2d-4da5-ad5d-789276d2935b\">\n",
              "    <div class=\"colab-df-container\">\n",
              "      <div>\n",
              "<style scoped>\n",
              "    .dataframe tbody tr th:only-of-type {\n",
              "        vertical-align: middle;\n",
              "    }\n",
              "\n",
              "    .dataframe tbody tr th {\n",
              "        vertical-align: top;\n",
              "    }\n",
              "\n",
              "    .dataframe thead th {\n",
              "        text-align: right;\n",
              "    }\n",
              "</style>\n",
              "<table border=\"1\" class=\"dataframe\">\n",
              "  <thead>\n",
              "    <tr style=\"text-align: right;\">\n",
              "      <th></th>\n",
              "      <th>user_id</th>\n",
              "      <th>book_id</th>\n",
              "      <th>review_id</th>\n",
              "      <th>rating</th>\n",
              "      <th>review_text</th>\n",
              "      <th>date_added</th>\n",
              "      <th>date_updated</th>\n",
              "      <th>read_at</th>\n",
              "      <th>started_at</th>\n",
              "      <th>n_votes</th>\n",
              "      <th>n_comments</th>\n",
              "    </tr>\n",
              "  </thead>\n",
              "  <tbody>\n",
              "    <tr>\n",
              "      <th>0</th>\n",
              "      <td>8842281e1d1347389f2ab93d60773d4d</td>\n",
              "      <td>18245960</td>\n",
              "      <td>dfdbb7b0eb5a7e4c26d59a937e2e5feb</td>\n",
              "      <td>5</td>\n",
              "      <td>This is a special book. It started slow for ab...</td>\n",
              "      <td>Sun Jul 30 07:44:10 -0700 2017</td>\n",
              "      <td>Wed Aug 30 00:00:26 -0700 2017</td>\n",
              "      <td>Sat Aug 26 12:05:52 -0700 2017</td>\n",
              "      <td>Tue Aug 15 13:23:18 -0700 2017</td>\n",
              "      <td>28</td>\n",
              "      <td>1</td>\n",
              "    </tr>\n",
              "    <tr>\n",
              "      <th>1</th>\n",
              "      <td>8842281e1d1347389f2ab93d60773d4d</td>\n",
              "      <td>16981</td>\n",
              "      <td>a5d2c3628987712d0e05c4f90798eb67</td>\n",
              "      <td>3</td>\n",
              "      <td>Recommended by Don Katz. Avail for free in Dec...</td>\n",
              "      <td>Mon Dec 05 10:46:44 -0800 2016</td>\n",
              "      <td>Wed Mar 22 11:37:04 -0700 2017</td>\n",
              "      <td>NaN</td>\n",
              "      <td>NaN</td>\n",
              "      <td>1</td>\n",
              "      <td>0</td>\n",
              "    </tr>\n",
              "    <tr>\n",
              "      <th>2</th>\n",
              "      <td>8842281e1d1347389f2ab93d60773d4d</td>\n",
              "      <td>28684704</td>\n",
              "      <td>2ede853b14dc4583f96cf5d120af636f</td>\n",
              "      <td>3</td>\n",
              "      <td>A fun, fast paced science fiction thriller. I ...</td>\n",
              "      <td>Tue Nov 15 11:29:22 -0800 2016</td>\n",
              "      <td>Mon Mar 20 23:40:27 -0700 2017</td>\n",
              "      <td>Sat Mar 18 23:22:42 -0700 2017</td>\n",
              "      <td>Fri Mar 17 23:45:40 -0700 2017</td>\n",
              "      <td>22</td>\n",
              "      <td>0</td>\n",
              "    </tr>\n",
              "    <tr>\n",
              "      <th>3</th>\n",
              "      <td>8842281e1d1347389f2ab93d60773d4d</td>\n",
              "      <td>27161156</td>\n",
              "      <td>ced5675e55cd9d38a524743f5c40996e</td>\n",
              "      <td>0</td>\n",
              "      <td>Recommended reading to understand what is goin...</td>\n",
              "      <td>Wed Nov 09 17:37:04 -0800 2016</td>\n",
              "      <td>Wed Nov 09 17:38:20 -0800 2016</td>\n",
              "      <td>NaN</td>\n",
              "      <td>NaN</td>\n",
              "      <td>5</td>\n",
              "      <td>1</td>\n",
              "    </tr>\n",
              "    <tr>\n",
              "      <th>4</th>\n",
              "      <td>8842281e1d1347389f2ab93d60773d4d</td>\n",
              "      <td>25884323</td>\n",
              "      <td>332732725863131279a8e345b63ac33e</td>\n",
              "      <td>4</td>\n",
              "      <td>I really enjoyed this book, and there is a lot...</td>\n",
              "      <td>Mon Apr 25 09:31:23 -0700 2016</td>\n",
              "      <td>Mon Apr 25 09:31:23 -0700 2016</td>\n",
              "      <td>Sun Jun 26 00:00:00 -0700 2016</td>\n",
              "      <td>Sat May 28 00:00:00 -0700 2016</td>\n",
              "      <td>9</td>\n",
              "      <td>1</td>\n",
              "    </tr>\n",
              "    <tr>\n",
              "      <th>...</th>\n",
              "      <td>...</td>\n",
              "      <td>...</td>\n",
              "      <td>...</td>\n",
              "      <td>...</td>\n",
              "      <td>...</td>\n",
              "      <td>...</td>\n",
              "      <td>...</td>\n",
              "      <td>...</td>\n",
              "      <td>...</td>\n",
              "      <td>...</td>\n",
              "      <td>...</td>\n",
              "    </tr>\n",
              "    <tr>\n",
              "      <th>899995</th>\n",
              "      <td>b9450d1c1f97f891c392b1105959b56e</td>\n",
              "      <td>11832081</td>\n",
              "      <td>7c34c15ad8cb28a4afca32946e2016ea</td>\n",
              "      <td>3</td>\n",
              "      <td>3.5 stars. \\n Jenna is a popular YA author and...</td>\n",
              "      <td>Fri Nov 16 22:10:17 -0800 2012</td>\n",
              "      <td>Sat Nov 17 22:42:44 -0800 2012</td>\n",
              "      <td>Sat Nov 17 00:00:00 -0800 2012</td>\n",
              "      <td>Fri Nov 16 00:00:00 -0800 2012</td>\n",
              "      <td>0</td>\n",
              "      <td>0</td>\n",
              "    </tr>\n",
              "    <tr>\n",
              "      <th>899996</th>\n",
              "      <td>b9450d1c1f97f891c392b1105959b56e</td>\n",
              "      <td>16095092</td>\n",
              "      <td>e979c735276431915d089cfaf446d64f</td>\n",
              "      <td>3</td>\n",
              "      <td>This was a quick read for me. I have read a lo...</td>\n",
              "      <td>Fri Nov 16 22:09:49 -0800 2012</td>\n",
              "      <td>Sat Nov 17 23:38:58 -0800 2012</td>\n",
              "      <td>Sat Nov 17 00:00:00 -0800 2012</td>\n",
              "      <td>Fri Nov 16 00:00:00 -0800 2012</td>\n",
              "      <td>1</td>\n",
              "      <td>1</td>\n",
              "    </tr>\n",
              "    <tr>\n",
              "      <th>899997</th>\n",
              "      <td>b9450d1c1f97f891c392b1105959b56e</td>\n",
              "      <td>8430896</td>\n",
              "      <td>feb9fe6439f9fbba8a1cce36020ad977</td>\n",
              "      <td>4</td>\n",
              "      <td>** spoiler alert ** \\n 3.5 stars. \\n This book...</td>\n",
              "      <td>Tue Nov 13 05:38:24 -0800 2012</td>\n",
              "      <td>Tue Nov 13 23:29:17 -0800 2012</td>\n",
              "      <td>Tue Nov 13 00:00:00 -0800 2012</td>\n",
              "      <td>Tue Nov 13 00:00:00 -0800 2012</td>\n",
              "      <td>1</td>\n",
              "      <td>0</td>\n",
              "    </tr>\n",
              "    <tr>\n",
              "      <th>899998</th>\n",
              "      <td>b9450d1c1f97f891c392b1105959b56e</td>\n",
              "      <td>12275680</td>\n",
              "      <td>741e29369f70531bfffbd02add86f228</td>\n",
              "      <td>4</td>\n",
              "      <td>** spoiler alert ** \\n Another fun read from M...</td>\n",
              "      <td>Mon Nov 12 05:42:30 -0800 2012</td>\n",
              "      <td>Tue Nov 13 22:32:05 -0800 2012</td>\n",
              "      <td>Tue Nov 13 00:00:00 -0800 2012</td>\n",
              "      <td>Mon Nov 12 00:00:00 -0800 2012</td>\n",
              "      <td>0</td>\n",
              "      <td>0</td>\n",
              "    </tr>\n",
              "    <tr>\n",
              "      <th>899999</th>\n",
              "      <td>b9450d1c1f97f891c392b1105959b56e</td>\n",
              "      <td>17005</td>\n",
              "      <td>d55f3a967230940e75a314700caec9a5</td>\n",
              "      <td>3</td>\n",
              "      <td>** spoiler alert ** \\n 3.5 stars \\n I liked it...</td>\n",
              "      <td>Sun Nov 11 00:05:43 -0800 2012</td>\n",
              "      <td>Sun Nov 11 21:59:08 -0800 2012</td>\n",
              "      <td>Sun Nov 11 00:00:00 -0800 2012</td>\n",
              "      <td>Sun Nov 11 00:00:00 -0800 2012</td>\n",
              "      <td>0</td>\n",
              "      <td>0</td>\n",
              "    </tr>\n",
              "  </tbody>\n",
              "</table>\n",
              "<p>899958 rows × 11 columns</p>\n",
              "</div>\n",
              "      <button class=\"colab-df-convert\" onclick=\"convertToInteractive('df-86fbe2e3-ae2d-4da5-ad5d-789276d2935b')\"\n",
              "              title=\"Convert this dataframe to an interactive table.\"\n",
              "              style=\"display:none;\">\n",
              "        \n",
              "  <svg xmlns=\"http://www.w3.org/2000/svg\" height=\"24px\"viewBox=\"0 0 24 24\"\n",
              "       width=\"24px\">\n",
              "    <path d=\"M0 0h24v24H0V0z\" fill=\"none\"/>\n",
              "    <path d=\"M18.56 5.44l.94 2.06.94-2.06 2.06-.94-2.06-.94-.94-2.06-.94 2.06-2.06.94zm-11 1L8.5 8.5l.94-2.06 2.06-.94-2.06-.94L8.5 2.5l-.94 2.06-2.06.94zm10 10l.94 2.06.94-2.06 2.06-.94-2.06-.94-.94-2.06-.94 2.06-2.06.94z\"/><path d=\"M17.41 7.96l-1.37-1.37c-.4-.4-.92-.59-1.43-.59-.52 0-1.04.2-1.43.59L10.3 9.45l-7.72 7.72c-.78.78-.78 2.05 0 2.83L4 21.41c.39.39.9.59 1.41.59.51 0 1.02-.2 1.41-.59l7.78-7.78 2.81-2.81c.8-.78.8-2.07 0-2.86zM5.41 20L4 18.59l7.72-7.72 1.47 1.35L5.41 20z\"/>\n",
              "  </svg>\n",
              "      </button>\n",
              "      \n",
              "  <style>\n",
              "    .colab-df-container {\n",
              "      display:flex;\n",
              "      flex-wrap:wrap;\n",
              "      gap: 12px;\n",
              "    }\n",
              "\n",
              "    .colab-df-convert {\n",
              "      background-color: #E8F0FE;\n",
              "      border: none;\n",
              "      border-radius: 50%;\n",
              "      cursor: pointer;\n",
              "      display: none;\n",
              "      fill: #1967D2;\n",
              "      height: 32px;\n",
              "      padding: 0 0 0 0;\n",
              "      width: 32px;\n",
              "    }\n",
              "\n",
              "    .colab-df-convert:hover {\n",
              "      background-color: #E2EBFA;\n",
              "      box-shadow: 0px 1px 2px rgba(60, 64, 67, 0.3), 0px 1px 3px 1px rgba(60, 64, 67, 0.15);\n",
              "      fill: #174EA6;\n",
              "    }\n",
              "\n",
              "    [theme=dark] .colab-df-convert {\n",
              "      background-color: #3B4455;\n",
              "      fill: #D2E3FC;\n",
              "    }\n",
              "\n",
              "    [theme=dark] .colab-df-convert:hover {\n",
              "      background-color: #434B5C;\n",
              "      box-shadow: 0px 1px 3px 1px rgba(0, 0, 0, 0.15);\n",
              "      filter: drop-shadow(0px 1px 2px rgba(0, 0, 0, 0.3));\n",
              "      fill: #FFFFFF;\n",
              "    }\n",
              "  </style>\n",
              "\n",
              "      <script>\n",
              "        const buttonEl =\n",
              "          document.querySelector('#df-86fbe2e3-ae2d-4da5-ad5d-789276d2935b button.colab-df-convert');\n",
              "        buttonEl.style.display =\n",
              "          google.colab.kernel.accessAllowed ? 'block' : 'none';\n",
              "\n",
              "        async function convertToInteractive(key) {\n",
              "          const element = document.querySelector('#df-86fbe2e3-ae2d-4da5-ad5d-789276d2935b');\n",
              "          const dataTable =\n",
              "            await google.colab.kernel.invokeFunction('convertToInteractive',\n",
              "                                                     [key], {});\n",
              "          if (!dataTable) return;\n",
              "\n",
              "          const docLinkHtml = 'Like what you see? Visit the ' +\n",
              "            '<a target=\"_blank\" href=https://colab.research.google.com/notebooks/data_table.ipynb>data table notebook</a>'\n",
              "            + ' to learn more about interactive tables.';\n",
              "          element.innerHTML = '';\n",
              "          dataTable['output_type'] = 'display_data';\n",
              "          await google.colab.output.renderOutput(dataTable, element);\n",
              "          const docLink = document.createElement('div');\n",
              "          docLink.innerHTML = docLinkHtml;\n",
              "          element.appendChild(docLink);\n",
              "        }\n",
              "      </script>\n",
              "    </div>\n",
              "  </div>\n",
              "  "
            ]
          },
          "metadata": {},
          "execution_count": 21
        }
      ],
      "id": "nvUEeJnXdb2-"
    },
    {
      "cell_type": "code",
      "source": [
        "df_test.drop_duplicates(subset=['book_id','review_text'])"
      ],
      "metadata": {
        "execution": {
          "iopub.status.busy": "2023-04-17T22:18:54.423629Z",
          "iopub.execute_input": "2023-04-17T22:18:54.424164Z",
          "iopub.status.idle": "2023-04-17T22:18:56.182107Z",
          "shell.execute_reply.started": "2023-04-17T22:18:54.424122Z",
          "shell.execute_reply": "2023-04-17T22:18:56.179639Z"
        },
        "trusted": true,
        "colab": {
          "base_uri": "https://localhost:8080/"
        },
        "id": "iGBUdrFSdb2_",
        "outputId": "6ec327b6-9914-4362-ae68-8879b92b139b"
      },
      "execution_count": null,
      "outputs": [
        {
          "output_type": "execute_result",
          "data": {
            "text/plain": [
              "                                 user_id   book_id  \\\n",
              "0       b9450d1c1f97f891c392b1105959b56e   7092507   \n",
              "1       b9450d1c1f97f891c392b1105959b56e   5576654   \n",
              "2       b9450d1c1f97f891c392b1105959b56e  15754052   \n",
              "3       b9450d1c1f97f891c392b1105959b56e     17020   \n",
              "4       b9450d1c1f97f891c392b1105959b56e  12551082   \n",
              "...                                  ...       ...   \n",
              "478028  35cef391b171b4fca45771e508028212  15745950   \n",
              "478029  35cef391b171b4fca45771e508028212  10861195   \n",
              "478030  35cef391b171b4fca45771e508028212   6131164   \n",
              "478031  35cef391b171b4fca45771e508028212  10025305   \n",
              "478032  35cef391b171b4fca45771e508028212   6482837   \n",
              "\n",
              "                               review_id  \\\n",
              "0       5c4df7e70e9b438c761f07a4620ccb7c   \n",
              "1       8eaeaf13213eeb16ad879a2a2591bbe5   \n",
              "2       dce649b733c153ba5363a0413cac988f   \n",
              "3       8a46df0bb997269d6834f9437a4b0a77   \n",
              "4       d11d3091e22f1cf3cb865598de197599   \n",
              "...                                  ...   \n",
              "478028  0e1db3d4b04256f9660f5d276ddf1314   \n",
              "478029  0b7f352e58caf0fd1f961e98ef04e89c   \n",
              "478030  9b19eff33ddb14e9e68fca2e90379e46   \n",
              "478031  8be463fed78f0da63e964706f710332b   \n",
              "478032  62ed1263c7d216986cc419cd4e8a408b   \n",
              "\n",
              "                                              review_text  \\\n",
              "0       ** spoiler alert ** \\n This is definitely one ...   \n",
              "1       ** spoiler alert ** \\n \"You are what you drink...   \n",
              "2       Roar is one of my favorite characters in Under...   \n",
              "3       ** spoiler alert ** \\n If you feel like travel...   \n",
              "4       3.5 stars \\n I read and enjoyed the first two ...   \n",
              "...                                                   ...   \n",
              "478028  Can't wait for Travis' POV \\n Travis Before Ab...   \n",
              "478029  Had this on my to-read shelf forever. Will upd...   \n",
              "478030  The last book left me wanting for more. I need...   \n",
              "478031  Things are heating up in the second novel of I...   \n",
              "478032  Before I even start this review, I must say th...   \n",
              "\n",
              "                            date_added                    date_updated  \\\n",
              "0       Sat Nov 10 06:06:13 -0800 2012  Sun Nov 11 05:38:36 -0800 2012   \n",
              "1       Fri Nov 09 21:55:16 -0800 2012  Sat Nov 10 05:41:49 -0800 2012   \n",
              "2       Fri Nov 09 00:25:50 -0800 2012  Sat Nov 10 06:14:10 -0800 2012   \n",
              "3       Thu Nov 01 00:28:39 -0700 2012  Sat Nov 03 11:35:22 -0700 2012   \n",
              "4       Thu Oct 18 00:57:00 -0700 2012  Mon Apr 01 23:00:51 -0700 2013   \n",
              "...                                ...                             ...   \n",
              "478028  Sun Aug 05 10:26:12 -0700 2012  Tue Apr 16 17:24:00 -0700 2013   \n",
              "478029  Tue Jul 10 23:31:00 -0700 2012  Fri Dec 28 20:05:51 -0800 2012   \n",
              "478030  Tue Jul 10 19:45:17 -0700 2012  Mon Mar 25 18:41:51 -0700 2013   \n",
              "478031  Thu Jul 05 19:19:30 -0700 2012  Thu Jan 24 16:24:54 -0800 2013   \n",
              "478032  Mon Jun 04 18:06:26 -0700 2012  Sat Dec 29 17:47:56 -0800 2012   \n",
              "\n",
              "                               read_at                      started_at  \\\n",
              "0       Sun Nov 11 05:38:36 -0800 2012  Sat Nov 10 00:00:00 -0800 2012   \n",
              "1       Sat Nov 10 05:41:49 -0800 2012  Fri Nov 09 00:00:00 -0800 2012   \n",
              "2       Sat Nov 10 06:14:10 -0800 2012  Fri Nov 09 00:00:00 -0800 2012   \n",
              "3       Sat Nov 03 11:35:22 -0700 2012  Thu Nov 01 00:00:00 -0700 2012   \n",
              "4       Sat Mar 30 00:00:00 -0700 2013  Fri Mar 29 00:00:00 -0700 2013   \n",
              "...                                ...                             ...   \n",
              "478028  Tue Apr 16 00:00:00 -0700 2013                             NaN   \n",
              "478029                             NaN                             NaN   \n",
              "478030  Tue Mar 19 00:00:00 -0700 2013                             NaN   \n",
              "478031  Mon Jan 14 00:00:00 -0800 2013                             NaN   \n",
              "478032                             NaN                             NaN   \n",
              "\n",
              "        n_votes  n_comments  \n",
              "0             1           0  \n",
              "1             1           0  \n",
              "2             0           0  \n",
              "3             0           0  \n",
              "4             0           0  \n",
              "...         ...         ...  \n",
              "478028        0           0  \n",
              "478029        0           0  \n",
              "478030        0           0  \n",
              "478031        0           0  \n",
              "478032        0           0  \n",
              "\n",
              "[478000 rows x 10 columns]"
            ],
            "text/html": [
              "\n",
              "  <div id=\"df-3c36ea9e-a360-4ee4-906c-cc733f496bb8\">\n",
              "    <div class=\"colab-df-container\">\n",
              "      <div>\n",
              "<style scoped>\n",
              "    .dataframe tbody tr th:only-of-type {\n",
              "        vertical-align: middle;\n",
              "    }\n",
              "\n",
              "    .dataframe tbody tr th {\n",
              "        vertical-align: top;\n",
              "    }\n",
              "\n",
              "    .dataframe thead th {\n",
              "        text-align: right;\n",
              "    }\n",
              "</style>\n",
              "<table border=\"1\" class=\"dataframe\">\n",
              "  <thead>\n",
              "    <tr style=\"text-align: right;\">\n",
              "      <th></th>\n",
              "      <th>user_id</th>\n",
              "      <th>book_id</th>\n",
              "      <th>review_id</th>\n",
              "      <th>review_text</th>\n",
              "      <th>date_added</th>\n",
              "      <th>date_updated</th>\n",
              "      <th>read_at</th>\n",
              "      <th>started_at</th>\n",
              "      <th>n_votes</th>\n",
              "      <th>n_comments</th>\n",
              "    </tr>\n",
              "  </thead>\n",
              "  <tbody>\n",
              "    <tr>\n",
              "      <th>0</th>\n",
              "      <td>b9450d1c1f97f891c392b1105959b56e</td>\n",
              "      <td>7092507</td>\n",
              "      <td>5c4df7e70e9b438c761f07a4620ccb7c</td>\n",
              "      <td>** spoiler alert ** \\n This is definitely one ...</td>\n",
              "      <td>Sat Nov 10 06:06:13 -0800 2012</td>\n",
              "      <td>Sun Nov 11 05:38:36 -0800 2012</td>\n",
              "      <td>Sun Nov 11 05:38:36 -0800 2012</td>\n",
              "      <td>Sat Nov 10 00:00:00 -0800 2012</td>\n",
              "      <td>1</td>\n",
              "      <td>0</td>\n",
              "    </tr>\n",
              "    <tr>\n",
              "      <th>1</th>\n",
              "      <td>b9450d1c1f97f891c392b1105959b56e</td>\n",
              "      <td>5576654</td>\n",
              "      <td>8eaeaf13213eeb16ad879a2a2591bbe5</td>\n",
              "      <td>** spoiler alert ** \\n \"You are what you drink...</td>\n",
              "      <td>Fri Nov 09 21:55:16 -0800 2012</td>\n",
              "      <td>Sat Nov 10 05:41:49 -0800 2012</td>\n",
              "      <td>Sat Nov 10 05:41:49 -0800 2012</td>\n",
              "      <td>Fri Nov 09 00:00:00 -0800 2012</td>\n",
              "      <td>1</td>\n",
              "      <td>0</td>\n",
              "    </tr>\n",
              "    <tr>\n",
              "      <th>2</th>\n",
              "      <td>b9450d1c1f97f891c392b1105959b56e</td>\n",
              "      <td>15754052</td>\n",
              "      <td>dce649b733c153ba5363a0413cac988f</td>\n",
              "      <td>Roar is one of my favorite characters in Under...</td>\n",
              "      <td>Fri Nov 09 00:25:50 -0800 2012</td>\n",
              "      <td>Sat Nov 10 06:14:10 -0800 2012</td>\n",
              "      <td>Sat Nov 10 06:14:10 -0800 2012</td>\n",
              "      <td>Fri Nov 09 00:00:00 -0800 2012</td>\n",
              "      <td>0</td>\n",
              "      <td>0</td>\n",
              "    </tr>\n",
              "    <tr>\n",
              "      <th>3</th>\n",
              "      <td>b9450d1c1f97f891c392b1105959b56e</td>\n",
              "      <td>17020</td>\n",
              "      <td>8a46df0bb997269d6834f9437a4b0a77</td>\n",
              "      <td>** spoiler alert ** \\n If you feel like travel...</td>\n",
              "      <td>Thu Nov 01 00:28:39 -0700 2012</td>\n",
              "      <td>Sat Nov 03 11:35:22 -0700 2012</td>\n",
              "      <td>Sat Nov 03 11:35:22 -0700 2012</td>\n",
              "      <td>Thu Nov 01 00:00:00 -0700 2012</td>\n",
              "      <td>0</td>\n",
              "      <td>0</td>\n",
              "    </tr>\n",
              "    <tr>\n",
              "      <th>4</th>\n",
              "      <td>b9450d1c1f97f891c392b1105959b56e</td>\n",
              "      <td>12551082</td>\n",
              "      <td>d11d3091e22f1cf3cb865598de197599</td>\n",
              "      <td>3.5 stars \\n I read and enjoyed the first two ...</td>\n",
              "      <td>Thu Oct 18 00:57:00 -0700 2012</td>\n",
              "      <td>Mon Apr 01 23:00:51 -0700 2013</td>\n",
              "      <td>Sat Mar 30 00:00:00 -0700 2013</td>\n",
              "      <td>Fri Mar 29 00:00:00 -0700 2013</td>\n",
              "      <td>0</td>\n",
              "      <td>0</td>\n",
              "    </tr>\n",
              "    <tr>\n",
              "      <th>...</th>\n",
              "      <td>...</td>\n",
              "      <td>...</td>\n",
              "      <td>...</td>\n",
              "      <td>...</td>\n",
              "      <td>...</td>\n",
              "      <td>...</td>\n",
              "      <td>...</td>\n",
              "      <td>...</td>\n",
              "      <td>...</td>\n",
              "      <td>...</td>\n",
              "    </tr>\n",
              "    <tr>\n",
              "      <th>478028</th>\n",
              "      <td>35cef391b171b4fca45771e508028212</td>\n",
              "      <td>15745950</td>\n",
              "      <td>0e1db3d4b04256f9660f5d276ddf1314</td>\n",
              "      <td>Can't wait for Travis' POV \\n Travis Before Ab...</td>\n",
              "      <td>Sun Aug 05 10:26:12 -0700 2012</td>\n",
              "      <td>Tue Apr 16 17:24:00 -0700 2013</td>\n",
              "      <td>Tue Apr 16 00:00:00 -0700 2013</td>\n",
              "      <td>NaN</td>\n",
              "      <td>0</td>\n",
              "      <td>0</td>\n",
              "    </tr>\n",
              "    <tr>\n",
              "      <th>478029</th>\n",
              "      <td>35cef391b171b4fca45771e508028212</td>\n",
              "      <td>10861195</td>\n",
              "      <td>0b7f352e58caf0fd1f961e98ef04e89c</td>\n",
              "      <td>Had this on my to-read shelf forever. Will upd...</td>\n",
              "      <td>Tue Jul 10 23:31:00 -0700 2012</td>\n",
              "      <td>Fri Dec 28 20:05:51 -0800 2012</td>\n",
              "      <td>NaN</td>\n",
              "      <td>NaN</td>\n",
              "      <td>0</td>\n",
              "      <td>0</td>\n",
              "    </tr>\n",
              "    <tr>\n",
              "      <th>478030</th>\n",
              "      <td>35cef391b171b4fca45771e508028212</td>\n",
              "      <td>6131164</td>\n",
              "      <td>9b19eff33ddb14e9e68fca2e90379e46</td>\n",
              "      <td>The last book left me wanting for more. I need...</td>\n",
              "      <td>Tue Jul 10 19:45:17 -0700 2012</td>\n",
              "      <td>Mon Mar 25 18:41:51 -0700 2013</td>\n",
              "      <td>Tue Mar 19 00:00:00 -0700 2013</td>\n",
              "      <td>NaN</td>\n",
              "      <td>0</td>\n",
              "      <td>0</td>\n",
              "    </tr>\n",
              "    <tr>\n",
              "      <th>478031</th>\n",
              "      <td>35cef391b171b4fca45771e508028212</td>\n",
              "      <td>10025305</td>\n",
              "      <td>8be463fed78f0da63e964706f710332b</td>\n",
              "      <td>Things are heating up in the second novel of I...</td>\n",
              "      <td>Thu Jul 05 19:19:30 -0700 2012</td>\n",
              "      <td>Thu Jan 24 16:24:54 -0800 2013</td>\n",
              "      <td>Mon Jan 14 00:00:00 -0800 2013</td>\n",
              "      <td>NaN</td>\n",
              "      <td>0</td>\n",
              "      <td>0</td>\n",
              "    </tr>\n",
              "    <tr>\n",
              "      <th>478032</th>\n",
              "      <td>35cef391b171b4fca45771e508028212</td>\n",
              "      <td>6482837</td>\n",
              "      <td>62ed1263c7d216986cc419cd4e8a408b</td>\n",
              "      <td>Before I even start this review, I must say th...</td>\n",
              "      <td>Mon Jun 04 18:06:26 -0700 2012</td>\n",
              "      <td>Sat Dec 29 17:47:56 -0800 2012</td>\n",
              "      <td>NaN</td>\n",
              "      <td>NaN</td>\n",
              "      <td>0</td>\n",
              "      <td>0</td>\n",
              "    </tr>\n",
              "  </tbody>\n",
              "</table>\n",
              "<p>478000 rows × 10 columns</p>\n",
              "</div>\n",
              "      <button class=\"colab-df-convert\" onclick=\"convertToInteractive('df-3c36ea9e-a360-4ee4-906c-cc733f496bb8')\"\n",
              "              title=\"Convert this dataframe to an interactive table.\"\n",
              "              style=\"display:none;\">\n",
              "        \n",
              "  <svg xmlns=\"http://www.w3.org/2000/svg\" height=\"24px\"viewBox=\"0 0 24 24\"\n",
              "       width=\"24px\">\n",
              "    <path d=\"M0 0h24v24H0V0z\" fill=\"none\"/>\n",
              "    <path d=\"M18.56 5.44l.94 2.06.94-2.06 2.06-.94-2.06-.94-.94-2.06-.94 2.06-2.06.94zm-11 1L8.5 8.5l.94-2.06 2.06-.94-2.06-.94L8.5 2.5l-.94 2.06-2.06.94zm10 10l.94 2.06.94-2.06 2.06-.94-2.06-.94-.94-2.06-.94 2.06-2.06.94z\"/><path d=\"M17.41 7.96l-1.37-1.37c-.4-.4-.92-.59-1.43-.59-.52 0-1.04.2-1.43.59L10.3 9.45l-7.72 7.72c-.78.78-.78 2.05 0 2.83L4 21.41c.39.39.9.59 1.41.59.51 0 1.02-.2 1.41-.59l7.78-7.78 2.81-2.81c.8-.78.8-2.07 0-2.86zM5.41 20L4 18.59l7.72-7.72 1.47 1.35L5.41 20z\"/>\n",
              "  </svg>\n",
              "      </button>\n",
              "      \n",
              "  <style>\n",
              "    .colab-df-container {\n",
              "      display:flex;\n",
              "      flex-wrap:wrap;\n",
              "      gap: 12px;\n",
              "    }\n",
              "\n",
              "    .colab-df-convert {\n",
              "      background-color: #E8F0FE;\n",
              "      border: none;\n",
              "      border-radius: 50%;\n",
              "      cursor: pointer;\n",
              "      display: none;\n",
              "      fill: #1967D2;\n",
              "      height: 32px;\n",
              "      padding: 0 0 0 0;\n",
              "      width: 32px;\n",
              "    }\n",
              "\n",
              "    .colab-df-convert:hover {\n",
              "      background-color: #E2EBFA;\n",
              "      box-shadow: 0px 1px 2px rgba(60, 64, 67, 0.3), 0px 1px 3px 1px rgba(60, 64, 67, 0.15);\n",
              "      fill: #174EA6;\n",
              "    }\n",
              "\n",
              "    [theme=dark] .colab-df-convert {\n",
              "      background-color: #3B4455;\n",
              "      fill: #D2E3FC;\n",
              "    }\n",
              "\n",
              "    [theme=dark] .colab-df-convert:hover {\n",
              "      background-color: #434B5C;\n",
              "      box-shadow: 0px 1px 3px 1px rgba(0, 0, 0, 0.15);\n",
              "      filter: drop-shadow(0px 1px 2px rgba(0, 0, 0, 0.3));\n",
              "      fill: #FFFFFF;\n",
              "    }\n",
              "  </style>\n",
              "\n",
              "      <script>\n",
              "        const buttonEl =\n",
              "          document.querySelector('#df-3c36ea9e-a360-4ee4-906c-cc733f496bb8 button.colab-df-convert');\n",
              "        buttonEl.style.display =\n",
              "          google.colab.kernel.accessAllowed ? 'block' : 'none';\n",
              "\n",
              "        async function convertToInteractive(key) {\n",
              "          const element = document.querySelector('#df-3c36ea9e-a360-4ee4-906c-cc733f496bb8');\n",
              "          const dataTable =\n",
              "            await google.colab.kernel.invokeFunction('convertToInteractive',\n",
              "                                                     [key], {});\n",
              "          if (!dataTable) return;\n",
              "\n",
              "          const docLinkHtml = 'Like what you see? Visit the ' +\n",
              "            '<a target=\"_blank\" href=https://colab.research.google.com/notebooks/data_table.ipynb>data table notebook</a>'\n",
              "            + ' to learn more about interactive tables.';\n",
              "          element.innerHTML = '';\n",
              "          dataTable['output_type'] = 'display_data';\n",
              "          await google.colab.output.renderOutput(dataTable, element);\n",
              "          const docLink = document.createElement('div');\n",
              "          docLink.innerHTML = docLinkHtml;\n",
              "          element.appendChild(docLink);\n",
              "        }\n",
              "      </script>\n",
              "    </div>\n",
              "  </div>\n",
              "  "
            ]
          },
          "metadata": {},
          "execution_count": 22
        }
      ],
      "id": "iGBUdrFSdb2_"
    },
    {
      "cell_type": "code",
      "source": [
        "print('Количество уникальных отзывов в train', len(df['review_id'].unique()))\n",
        "print('Количество уникальных пользователей в train', len(df['user_id'].unique()))\n",
        "print('Количество уникальных книг в train', len(df['book_id'].unique()))\n",
        "\n",
        "print('Количество уникальных отзывов в test', len(df_test['review_id'].unique()))\n",
        "print('Количество уникальных пользователей в test', len(df_test['user_id'].unique()))\n",
        "print('Количество уникальных книг в test', len(df_test['book_id'].unique()))"
      ],
      "metadata": {
        "colab": {
          "base_uri": "https://localhost:8080/"
        },
        "id": "2C7IXStby1uN",
        "outputId": "c6de5f61-f222-4d93-e222-a1576da68f72"
      },
      "execution_count": null,
      "outputs": [
        {
          "output_type": "stream",
          "name": "stdout",
          "text": [
            "Количество уникальных отзывов в train 900000\n",
            "Количество уникальных пользователей в train 12188\n",
            "Количество уникальных книг в train 25474\n",
            "Количество уникальных отзывов в test 478033\n",
            "Количество уникальных пользователей в test 6705\n",
            "Количество уникальных книг в test 25399\n"
          ]
        }
      ],
      "id": "2C7IXStby1uN"
    },
    {
      "cell_type": "code",
      "source": [
        "print('Количество пустых значений в train датасете')\n",
        "df.isna().sum()"
      ],
      "metadata": {
        "colab": {
          "base_uri": "https://localhost:8080/"
        },
        "id": "2a78bfbc-ff8c-406d-98f0-f9f45e0ebe07",
        "outputId": "8a3f268a-d114-4ed4-bacb-69ed79eaac55"
      },
      "execution_count": null,
      "outputs": [
        {
          "output_type": "stream",
          "name": "stdout",
          "text": [
            "Количество пустых значений в train датасете\n"
          ]
        },
        {
          "output_type": "execute_result",
          "data": {
            "text/plain": [
              "user_id              0\n",
              "book_id              0\n",
              "review_id            0\n",
              "rating               0\n",
              "review_text          0\n",
              "date_added           0\n",
              "date_updated         0\n",
              "read_at          91766\n",
              "started_at      274297\n",
              "n_votes              0\n",
              "n_comments           0\n",
              "dtype: int64"
            ]
          },
          "metadata": {},
          "execution_count": 24
        }
      ],
      "id": "2a78bfbc-ff8c-406d-98f0-f9f45e0ebe07"
    },
    {
      "cell_type": "code",
      "source": [
        "print('Количество пустых значений в test датасете')\n",
        "df_test.isna().sum()"
      ],
      "metadata": {
        "colab": {
          "base_uri": "https://localhost:8080/"
        },
        "id": "hW1eHCC97dSJ",
        "outputId": "058391e2-7443-40dc-ed7b-ddb6af96a25b"
      },
      "execution_count": null,
      "outputs": [
        {
          "output_type": "stream",
          "name": "stdout",
          "text": [
            "Количество пустых значений в test датасете\n"
          ]
        },
        {
          "output_type": "execute_result",
          "data": {
            "text/plain": [
              "user_id              0\n",
              "book_id              0\n",
              "review_id            0\n",
              "review_text          0\n",
              "date_added           0\n",
              "date_updated         0\n",
              "read_at          42478\n",
              "started_at      143044\n",
              "n_votes              0\n",
              "n_comments           0\n",
              "dtype: int64"
            ]
          },
          "metadata": {},
          "execution_count": 25
        }
      ],
      "id": "hW1eHCC97dSJ"
    },
    {
      "cell_type": "markdown",
      "source": [
        "Видим, что пустые значения есть только в колонках с датой начала и конца чтения, что свидетельствует о том, что в целом не все пользователи заполняют эти поля и мало кто отслеживает. Из дат можно вытащить колво дней,за которое читалась книга. Для значений NaN проставить среднее."
      ],
      "metadata": {
        "id": "83002311"
      },
      "id": "83002311"
    },
    {
      "cell_type": "markdown",
      "source": [
        "# Распределение целевой переменной"
      ],
      "metadata": {
        "id": "b5b63337"
      },
      "id": "b5b63337"
    },
    {
      "cell_type": "code",
      "source": [
        "sns.countplot(x = 'rating', data = df, palette = 'magma')\n",
        "plt.title('Rating count')\n",
        "plt.show()"
      ],
      "metadata": {
        "colab": {
          "base_uri": "https://localhost:8080/",
          "height": 580
        },
        "id": "0941cf3b-731e-4ab5-a7fc-94b57062a0aa",
        "outputId": "96552298-4273-40de-ddc2-a330bcc12c53",
        "scrolled": true
      },
      "execution_count": null,
      "outputs": [
        {
          "output_type": "display_data",
          "data": {
            "text/plain": [
              "<Figure size 1700x700 with 1 Axes>"
            ],
            "image/png": "[encoded data removed]"
          },
          "metadata": {}
        }
      ],
      "id": "0941cf3b-731e-4ab5-a7fc-94b57062a0aa"
    },
    {
      "cell_type": "markdown",
      "source": [
        "Видим, что чаще всего ставят оценку 4, оценки 0 и 1 встречаются практически одинаковое количество раз и очень редко (~25к каждый) => \n",
        "достаточно маленький процент пользователей дает плохуй оценку книгам, возможно многие боятся ставить высокую оценку, \n",
        "поэтому, выбирают 4."
      ],
      "metadata": {
        "id": "cd3d705f"
      },
      "id": "cd3d705f"
    },
    {
      "cell_type": "markdown",
      "source": [
        "Посмотрим точный процент всех отметок от общего числа"
      ],
      "metadata": {
        "id": "7d045e6e"
      },
      "id": "7d045e6e"
    },
    {
      "cell_type": "code",
      "source": [
        "colors = sns.color_palette('pastel')[0:6]\n",
        "data = df['rating'].value_counts()\n",
        "labels = data.index\n",
        "\n",
        "plt.pie(data, labels = labels, colors = colors, autopct='%.0f%%')\n",
        "plt.title('Распределение целевой переменной')\n",
        "plt.show()"
      ],
      "metadata": {
        "colab": {
          "base_uri": "https://localhost:8080/",
          "height": 594
        },
        "id": "63a28f83",
        "outputId": "62ab4080-e2b7-4485-87ad-60f69a07c787",
        "scrolled": true
      },
      "execution_count": null,
      "outputs": [
        {
          "output_type": "display_data",
          "data": {
            "text/plain": [
              "<Figure size 1700x700 with 1 Axes>"
            ],
            "image/png": "[encoded data removed]"
          },
          "metadata": {}
        }
      ],
      "id": "63a28f83"
    },
    {
      "cell_type": "markdown",
      "source": [
        "Видим, что у нас крайне несбалансированные данные, большее количество значений распределено между более высокими рейтингами - 3,4 и 5."
      ],
      "metadata": {
        "id": "f5b1a82c"
      },
      "id": "f5b1a82c"
    },
    {
      "cell_type": "markdown",
      "source": [
        "# EDA"
      ],
      "metadata": {
        "id": "pAW6D6cb-Z_o"
      },
      "id": "pAW6D6cb-Z_o"
    },
    {
      "cell_type": "markdown",
      "source": [
        "Возможные гипотезы и в целом мысли:\n",
        " - какие-то пользователи могут в целом ставить высокие или низкие оценки всем книгам, нельзя сразу выкидывать из датасета айдишник пользователя, нужно посмотреть соотношение\n",
        " - можно посмотреть на айдишники книг, какие-то могут получать в целом плохие/хорошие отзывы => тогда если встретим в тесте айдишник на котором уже обучались, можем знать, какую оценку ставить\n",
        " - из дат начала и конца чтения можно вытащить колво дней, которое уходит а чтение книги.\n",
        " - для значений NaN дат начала и конца чтения можно проставить среднее время,за которое читается эта книга или среднее,за которое читает пользователь.\n",
        " - колво войтсов играет роль, тк люди могли прочитать плохой/хороший отзыв, лайкнуть его, прочитать книгу и тоже оставить плохой/хороший отзыв и соответствующую оценку (т.е. отзывы с большим колвом войтсов оказывают влияние на рейтинг книги в последующем)\n",
        " - семантическая окраска отзыва играет значение -> провести анализ на семантику\n",
        " - посмотреть на длину отзыва в целом, среднюю длину предложения, слова и колво слов в предложении, все это может играть роль при выставлении рейтинга\n",
        " "
      ],
      "metadata": {
        "id": "1803f671"
      },
      "id": "1803f671"
    },
    {
      "cell_type": "markdown",
      "source": [
        "## Анализ и добавление новых числовых и категориальных признаков"
      ],
      "metadata": {
        "id": "11fe05ef"
      },
      "id": "11fe05ef"
    },
    {
      "cell_type": "markdown",
      "source": [
        "Посмотрим на пересчение по пользователям в train и test датасетах, чтобы понять, стоит ли тратить время и ресурсы на проверку первой гипотезы. Аналогично со второй."
      ],
      "metadata": {
        "id": "t4i-Hxf97s1X"
      },
      "id": "t4i-Hxf97s1X"
    },
    {
      "cell_type": "code",
      "source": [
        "print('Пользователи в обоих датасетах')\n",
        "np.intersect1d(df[\"user_id\"].unique(), df_test[\"user_id\"].unique())"
      ],
      "metadata": {
        "colab": {
          "base_uri": "https://localhost:8080/"
        },
        "id": "81kqN1ti74D_",
        "outputId": "9e322eca-c6e6-4159-f8cd-81566c391d95"
      },
      "execution_count": null,
      "outputs": [
        {
          "output_type": "stream",
          "name": "stdout",
          "text": [
            "Пользователи в обоих датасетах\n"
          ]
        },
        {
          "output_type": "execute_result",
          "data": {
            "text/plain": [
              "array(['b9450d1c1f97f891c392b1105959b56e'], dtype=object)"
            ]
          },
          "metadata": {},
          "execution_count": 26
        }
      ],
      "id": "81kqN1ti74D_"
    },
    {
      "cell_type": "code",
      "source": [
        "print('Колво строк в test датасете с общим пользователем')\n",
        "df[df['user_id'] == np.intersect1d(df[\"user_id\"].unique(), df_test[\"user_id\"].unique())[0]].count()[0]"
      ],
      "metadata": {
        "colab": {
          "base_uri": "https://localhost:8080/"
        },
        "id": "3s7VgCKQ8POE",
        "outputId": "c2eac7e2-ab5b-449d-ae10-09a8d0c3349c"
      },
      "execution_count": null,
      "outputs": [
        {
          "output_type": "stream",
          "name": "stdout",
          "text": [
            "Колво строк в test датасете с общим пользователем\n"
          ]
        },
        {
          "output_type": "execute_result",
          "data": {
            "text/plain": [
              "42"
            ]
          },
          "metadata": {},
          "execution_count": 27
        }
      ],
      "id": "3s7VgCKQ8POE"
    },
    {
      "cell_type": "markdown",
      "source": [
        "Видим, что всего один пользователь присутствует в обоих датасетах и в test с ним не так уж много строк. Не будем тратить время на работу с пользователями."
      ],
      "metadata": {
        "id": "LOjghWPk7-SA"
      },
      "id": "LOjghWPk7-SA"
    },
    {
      "cell_type": "code",
      "source": [
        "print('Книги в обоих датасетах', len(np.intersect1d(df[\"book_id\"].unique(), df_test[\"book_id\"].unique())))\n",
        "print(np.intersect1d(df[\"book_id\"].unique(), df_test[\"book_id\"].unique()))"
      ],
      "metadata": {
        "colab": {
          "base_uri": "https://localhost:8080/"
        },
        "id": "UGXmZDWL8D9y",
        "outputId": "0c9edca7-3f26-4191-abe5-3057a5ed79f7"
      },
      "execution_count": null,
      "outputs": [
        {
          "output_type": "stream",
          "name": "stdout",
          "text": [
            "Книги в обоих датасетах 25398\n",
            "[       1        2        3 ... 36252773 36307629 36328685]\n"
          ]
        }
      ],
      "id": "UGXmZDWL8D9y"
    },
    {
      "cell_type": "markdown",
      "source": [
        "А вот по книгам достаточно большое пересечение, можно поработать с этим. "
      ],
      "metadata": {
        "id": "TUfUNImx9QDi"
      },
      "id": "TUfUNImx9QDi"
    },
    {
      "cell_type": "markdown",
      "source": [
        "Дропнем колонку с айди отзыва, тк она в себе не несет никакой информативной ценности,поскольку на уникальность мы уже датасет проверили."
      ],
      "metadata": {
        "id": "10531625"
      },
      "id": "10531625"
    },
    {
      "cell_type": "code",
      "source": [
        "df = df.drop(columns = ['review_id'])\n",
        "df_test = df_test.drop(columns = ['review_id'])\n",
        "df.head(3)"
      ],
      "metadata": {
        "id": "3be436b2",
        "scrolled": true,
        "execution": {
          "iopub.status.busy": "2023-04-17T22:10:50.186577Z",
          "iopub.execute_input": "2023-04-17T22:10:50.187820Z",
          "iopub.status.idle": "2023-04-17T22:10:50.332619Z",
          "shell.execute_reply.started": "2023-04-17T22:10:50.187768Z",
          "shell.execute_reply": "2023-04-17T22:10:50.331207Z"
        },
        "trusted": true,
        "colab": {
          "base_uri": "https://localhost:8080/",
          "height": 291
        },
        "outputId": "98b986e9-031e-499b-bb75-06545b21df6f"
      },
      "execution_count": null,
      "outputs": [
        {
          "output_type": "execute_result",
          "data": {
            "text/plain": [
              "                            user_id   book_id  rating  \\\n",
              "0  8842281e1d1347389f2ab93d60773d4d  18245960       5   \n",
              "1  8842281e1d1347389f2ab93d60773d4d     16981       3   \n",
              "2  8842281e1d1347389f2ab93d60773d4d  28684704       3   \n",
              "\n",
              "                                         review_text  \\\n",
              "0  This is a special book. It started slow for ab...   \n",
              "1  Recommended by Don Katz. Avail for free in Dec...   \n",
              "2  A fun, fast paced science fiction thriller. I ...   \n",
              "\n",
              "                       date_added                    date_updated  \\\n",
              "0  Sun Jul 30 07:44:10 -0700 2017  Wed Aug 30 00:00:26 -0700 2017   \n",
              "1  Mon Dec 05 10:46:44 -0800 2016  Wed Mar 22 11:37:04 -0700 2017   \n",
              "2  Tue Nov 15 11:29:22 -0800 2016  Mon Mar 20 23:40:27 -0700 2017   \n",
              "\n",
              "                          read_at                      started_at  n_votes  \\\n",
              "0  Sat Aug 26 12:05:52 -0700 2017  Tue Aug 15 13:23:18 -0700 2017       28   \n",
              "1                             NaN                             NaN        1   \n",
              "2  Sat Mar 18 23:22:42 -0700 2017  Fri Mar 17 23:45:40 -0700 2017       22   \n",
              "\n",
              "   n_comments  \n",
              "0           1  \n",
              "1           0  \n",
              "2           0  "
            ],
            "text/html": [
              "\n",
              "  <div id=\"df-bf9a3dd1-c17e-4133-b07e-b36fc928ea97\">\n",
              "    <div class=\"colab-df-container\">\n",
              "      <div>\n",
              "<style scoped>\n",
              "    .dataframe tbody tr th:only-of-type {\n",
              "        vertical-align: middle;\n",
              "    }\n",
              "\n",
              "    .dataframe tbody tr th {\n",
              "        vertical-align: top;\n",
              "    }\n",
              "\n",
              "    .dataframe thead th {\n",
              "        text-align: right;\n",
              "    }\n",
              "</style>\n",
              "<table border=\"1\" class=\"dataframe\">\n",
              "  <thead>\n",
              "    <tr style=\"text-align: right;\">\n",
              "      <th></th>\n",
              "      <th>user_id</th>\n",
              "      <th>book_id</th>\n",
              "      <th>rating</th>\n",
              "      <th>review_text</th>\n",
              "      <th>date_added</th>\n",
              "      <th>date_updated</th>\n",
              "      <th>read_at</th>\n",
              "      <th>started_at</th>\n",
              "      <th>n_votes</th>\n",
              "      <th>n_comments</th>\n",
              "    </tr>\n",
              "  </thead>\n",
              "  <tbody>\n",
              "    <tr>\n",
              "      <th>0</th>\n",
              "      <td>8842281e1d1347389f2ab93d60773d4d</td>\n",
              "      <td>18245960</td>\n",
              "      <td>5</td>\n",
              "      <td>This is a special book. It started slow for ab...</td>\n",
              "      <td>Sun Jul 30 07:44:10 -0700 2017</td>\n",
              "      <td>Wed Aug 30 00:00:26 -0700 2017</td>\n",
              "      <td>Sat Aug 26 12:05:52 -0700 2017</td>\n",
              "      <td>Tue Aug 15 13:23:18 -0700 2017</td>\n",
              "      <td>28</td>\n",
              "      <td>1</td>\n",
              "    </tr>\n",
              "    <tr>\n",
              "      <th>1</th>\n",
              "      <td>8842281e1d1347389f2ab93d60773d4d</td>\n",
              "      <td>16981</td>\n",
              "      <td>3</td>\n",
              "      <td>Recommended by Don Katz. Avail for free in Dec...</td>\n",
              "      <td>Mon Dec 05 10:46:44 -0800 2016</td>\n",
              "      <td>Wed Mar 22 11:37:04 -0700 2017</td>\n",
              "      <td>NaN</td>\n",
              "      <td>NaN</td>\n",
              "      <td>1</td>\n",
              "      <td>0</td>\n",
              "    </tr>\n",
              "    <tr>\n",
              "      <th>2</th>\n",
              "      <td>8842281e1d1347389f2ab93d60773d4d</td>\n",
              "      <td>28684704</td>\n",
              "      <td>3</td>\n",
              "      <td>A fun, fast paced science fiction thriller. I ...</td>\n",
              "      <td>Tue Nov 15 11:29:22 -0800 2016</td>\n",
              "      <td>Mon Mar 20 23:40:27 -0700 2017</td>\n",
              "      <td>Sat Mar 18 23:22:42 -0700 2017</td>\n",
              "      <td>Fri Mar 17 23:45:40 -0700 2017</td>\n",
              "      <td>22</td>\n",
              "      <td>0</td>\n",
              "    </tr>\n",
              "  </tbody>\n",
              "</table>\n",
              "</div>\n",
              "      <button class=\"colab-df-convert\" onclick=\"convertToInteractive('df-bf9a3dd1-c17e-4133-b07e-b36fc928ea97')\"\n",
              "              title=\"Convert this dataframe to an interactive table.\"\n",
              "              style=\"display:none;\">\n",
              "        \n",
              "  <svg xmlns=\"http://www.w3.org/2000/svg\" height=\"24px\"viewBox=\"0 0 24 24\"\n",
              "       width=\"24px\">\n",
              "    <path d=\"M0 0h24v24H0V0z\" fill=\"none\"/>\n",
              "    <path d=\"M18.56 5.44l.94 2.06.94-2.06 2.06-.94-2.06-.94-.94-2.06-.94 2.06-2.06.94zm-11 1L8.5 8.5l.94-2.06 2.06-.94-2.06-.94L8.5 2.5l-.94 2.06-2.06.94zm10 10l.94 2.06.94-2.06 2.06-.94-2.06-.94-.94-2.06-.94 2.06-2.06.94z\"/><path d=\"M17.41 7.96l-1.37-1.37c-.4-.4-.92-.59-1.43-.59-.52 0-1.04.2-1.43.59L10.3 9.45l-7.72 7.72c-.78.78-.78 2.05 0 2.83L4 21.41c.39.39.9.59 1.41.59.51 0 1.02-.2 1.41-.59l7.78-7.78 2.81-2.81c.8-.78.8-2.07 0-2.86zM5.41 20L4 18.59l7.72-7.72 1.47 1.35L5.41 20z\"/>\n",
              "  </svg>\n",
              "      </button>\n",
              "      \n",
              "  <style>\n",
              "    .colab-df-container {\n",
              "      display:flex;\n",
              "      flex-wrap:wrap;\n",
              "      gap: 12px;\n",
              "    }\n",
              "\n",
              "    .colab-df-convert {\n",
              "      background-color: #E8F0FE;\n",
              "      border: none;\n",
              "      border-radius: 50%;\n",
              "      cursor: pointer;\n",
              "      display: none;\n",
              "      fill: #1967D2;\n",
              "      height: 32px;\n",
              "      padding: 0 0 0 0;\n",
              "      width: 32px;\n",
              "    }\n",
              "\n",
              "    .colab-df-convert:hover {\n",
              "      background-color: #E2EBFA;\n",
              "      box-shadow: 0px 1px 2px rgba(60, 64, 67, 0.3), 0px 1px 3px 1px rgba(60, 64, 67, 0.15);\n",
              "      fill: #174EA6;\n",
              "    }\n",
              "\n",
              "    [theme=dark] .colab-df-convert {\n",
              "      background-color: #3B4455;\n",
              "      fill: #D2E3FC;\n",
              "    }\n",
              "\n",
              "    [theme=dark] .colab-df-convert:hover {\n",
              "      background-color: #434B5C;\n",
              "      box-shadow: 0px 1px 3px 1px rgba(0, 0, 0, 0.15);\n",
              "      filter: drop-shadow(0px 1px 2px rgba(0, 0, 0, 0.3));\n",
              "      fill: #FFFFFF;\n",
              "    }\n",
              "  </style>\n",
              "\n",
              "      <script>\n",
              "        const buttonEl =\n",
              "          document.querySelector('#df-bf9a3dd1-c17e-4133-b07e-b36fc928ea97 button.colab-df-convert');\n",
              "        buttonEl.style.display =\n",
              "          google.colab.kernel.accessAllowed ? 'block' : 'none';\n",
              "\n",
              "        async function convertToInteractive(key) {\n",
              "          const element = document.querySelector('#df-bf9a3dd1-c17e-4133-b07e-b36fc928ea97');\n",
              "          const dataTable =\n",
              "            await google.colab.kernel.invokeFunction('convertToInteractive',\n",
              "                                                     [key], {});\n",
              "          if (!dataTable) return;\n",
              "\n",
              "          const docLinkHtml = 'Like what you see? Visit the ' +\n",
              "            '<a target=\"_blank\" href=https://colab.research.google.com/notebooks/data_table.ipynb>data table notebook</a>'\n",
              "            + ' to learn more about interactive tables.';\n",
              "          element.innerHTML = '';\n",
              "          dataTable['output_type'] = 'display_data';\n",
              "          await google.colab.output.renderOutput(dataTable, element);\n",
              "          const docLink = document.createElement('div');\n",
              "          docLink.innerHTML = docLinkHtml;\n",
              "          element.appendChild(docLink);\n",
              "        }\n",
              "      </script>\n",
              "    </div>\n",
              "  </div>\n",
              "  "
            ]
          },
          "metadata": {},
          "execution_count": 29
        }
      ],
      "id": "3be436b2"
    },
    {
      "cell_type": "markdown",
      "source": [
        "Посмотрим для начала на мини тепловую карту датасета, может быть какие-то колонки коррелируют между собой."
      ],
      "metadata": {
        "id": "1f32f287"
      },
      "id": "1f32f287"
    },
    {
      "cell_type": "code",
      "source": [
        "sns.heatmap(df[['book_id', 'rating', 'n_votes', 'n_comments']].corr(), annot = True, fmt='.2g', vmin=-1, vmax=1, center= 0, cmap= 'coolwarm')"
      ],
      "metadata": {
        "colab": {
          "base_uri": "https://localhost:8080/",
          "height": 623
        },
        "id": "64f3f08d",
        "outputId": "1c8c820f-ea4e-40b9-a64b-f75bc3272d4d"
      },
      "execution_count": null,
      "outputs": [
        {
          "output_type": "execute_result",
          "data": {
            "text/plain": [
              "<Axes: >"
            ]
          },
          "metadata": {},
          "execution_count": 30
        },
        {
          "output_type": "display_data",
          "data": {
            "text/plain": [
              "<Figure size 1700x700 with 2 Axes>"
            ],
            "image/png": "[encoded data removed]"
          },
          "metadata": {}
        }
      ],
      "id": "64f3f08d"
    },
    {
      "cell_type": "markdown",
      "source": [
        "Видим, что колво войтсов и комментариев коррелируют между собой. Посмотрим внимательнее на значения комментарией и войтсов."
      ],
      "metadata": {
        "id": "c0ad58cd"
      },
      "id": "c0ad58cd"
    },
    {
      "cell_type": "code",
      "source": [
        "print('Количество отрицательных n_votes',df[df['n_votes'] < 0].count()[0])\n",
        "print('Количество отрицательных n_comments',df[df['n_comments'] < 0].count()[0])"
      ],
      "metadata": {
        "colab": {
          "base_uri": "https://localhost:8080/"
        },
        "id": "kmw4aoasixU0",
        "outputId": "b8d83f5a-6279-42c4-c424-f820c7484088"
      },
      "execution_count": null,
      "outputs": [
        {
          "output_type": "stream",
          "name": "stdout",
          "text": [
            "Количество отрицательных n_votes 46\n",
            "Количество отрицательных n_comments 8\n"
          ]
        }
      ],
      "id": "kmw4aoasixU0"
    },
    {
      "cell_type": "markdown",
      "source": [
        "Отрицательные n_votes можно считать за дизлайки, но непонятно, что делать с отрицательными n_comments. Учитывая еще тепловую карту, можем дропнуть n_comments."
      ],
      "metadata": {
        "id": "Og-5a063jDLj"
      },
      "id": "Og-5a063jDLj"
    },
    {
      "cell_type": "code",
      "source": [
        "df = df.drop(columns = ['n_comments'])\n",
        "df_test = df_test.drop(columns = ['n_comments'])"
      ],
      "metadata": {
        "id": "14e125b4"
      },
      "execution_count": null,
      "outputs": [],
      "id": "14e125b4"
    },
    {
      "cell_type": "markdown",
      "source": [
        "Посмотрим на зависимость рейтинга от колва войтсов"
      ],
      "metadata": {
        "id": "7c01eb44"
      },
      "id": "7c01eb44"
    },
    {
      "cell_type": "code",
      "source": [
        "sns.scatterplot(x=df['n_votes'], y=df['rating'])\n",
        "plt.xlabel('Number of votes')\n",
        "plt.ylabel('Rating')\n",
        "plt.title('Rating vs. Review Length')\n",
        "plt.show()"
      ],
      "metadata": {
        "colab": {
          "base_uri": "https://localhost:8080/",
          "height": 596
        },
        "id": "7f093052",
        "outputId": "9daa8c3d-b775-45fe-a7e2-a770729fee87",
        "scrolled": true
      },
      "execution_count": null,
      "outputs": [
        {
          "output_type": "display_data",
          "data": {
            "text/plain": [
              "<Figure size 1700x700 with 1 Axes>"
            ],
            "image/png": "[encoded data removed]"
          },
          "metadata": {}
        }
      ],
      "id": "7f093052"
    },
    {
      "cell_type": "markdown",
      "source": [
        "Видно, что для рейтингов 1 и 5 очень часто ставят войтсы, значения на графике расположены плотно друг к другу и их достаточно много. Самые залайканные - отзывы с рейтингом 5, 1, 2."
      ],
      "metadata": {
        "id": "aaf7c8bc"
      },
      "id": "aaf7c8bc"
    },
    {
      "cell_type": "markdown",
      "source": [
        "Посчитаем теперь колво дней, за которое читал каждую книгу каждый пользователь."
      ],
      "metadata": {
        "id": "QS6eZ5BP23cI"
      },
      "id": "QS6eZ5BP23cI"
    },
    {
      "cell_type": "code",
      "source": [
        "df['started_at_dt'] = pd.to_datetime(df.started_at) \n",
        "df['read_at_dt'] = pd.to_datetime(df.read_at) \n",
        "df['duration_dt'] = df.read_at_dt - df.started_at_dt \n",
        "df['read_length_days'] = df.duration_dt.dt.days "
      ],
      "metadata": {
        "id": "KmQDpBRc3AhD",
        "colab": {
          "base_uri": "https://localhost:8080/",
          "height": 377
        },
        "outputId": "973f505e-855a-4c52-8b71-c26e466de96c"
      },
      "execution_count": null,
      "outputs": [
        {
          "output_type": "error",
          "ename": "KeyboardInterrupt",
          "evalue": "ignored",
          "traceback": [
            "\u001b[0;31m---------------------------------------------------------------------------\u001b[0m",
            "\u001b[0;31mKeyboardInterrupt\u001b[0m                         Traceback (most recent call last)",
            "\u001b[0;32m<ipython-input-34-3dac5cf06770>\u001b[0m in \u001b[0;36m<cell line: 1>\u001b[0;34m()\u001b[0m\n\u001b[0;32m----> 1\u001b[0;31m \u001b[0mdf\u001b[0m\u001b[0;34m[\u001b[0m\u001b[0;34m'started_at_dt'\u001b[0m\u001b[0;34m]\u001b[0m \u001b[0;34m=\u001b[0m \u001b[0mpd\u001b[0m\u001b[0;34m.\u001b[0m\u001b[0mto_datetime\u001b[0m\u001b[0;34m(\u001b[0m\u001b[0mdf\u001b[0m\u001b[0;34m.\u001b[0m\u001b[0mstarted_at\u001b[0m\u001b[0;34m)\u001b[0m\u001b[0;34m\u001b[0m\u001b[0;34m\u001b[0m\u001b[0m\n\u001b[0m\u001b[1;32m      2\u001b[0m \u001b[0mdf\u001b[0m\u001b[0;34m[\u001b[0m\u001b[0;34m'read_at_dt'\u001b[0m\u001b[0;34m]\u001b[0m \u001b[0;34m=\u001b[0m \u001b[0mpd\u001b[0m\u001b[0;34m.\u001b[0m\u001b[0mto_datetime\u001b[0m\u001b[0;34m(\u001b[0m\u001b[0mdf\u001b[0m\u001b[0;34m.\u001b[0m\u001b[0mread_at\u001b[0m\u001b[0;34m)\u001b[0m\u001b[0;34m\u001b[0m\u001b[0;34m\u001b[0m\u001b[0m\n\u001b[1;32m      3\u001b[0m \u001b[0mdf\u001b[0m\u001b[0;34m[\u001b[0m\u001b[0;34m'duration_dt'\u001b[0m\u001b[0;34m]\u001b[0m \u001b[0;34m=\u001b[0m \u001b[0mdf\u001b[0m\u001b[0;34m.\u001b[0m\u001b[0mread_at_dt\u001b[0m \u001b[0;34m-\u001b[0m \u001b[0mdf\u001b[0m\u001b[0;34m.\u001b[0m\u001b[0mstarted_at_dt\u001b[0m\u001b[0;34m\u001b[0m\u001b[0;34m\u001b[0m\u001b[0m\n\u001b[1;32m      4\u001b[0m \u001b[0mdf\u001b[0m\u001b[0;34m[\u001b[0m\u001b[0;34m'read_length_days'\u001b[0m\u001b[0;34m]\u001b[0m \u001b[0;34m=\u001b[0m \u001b[0mdf\u001b[0m\u001b[0;34m.\u001b[0m\u001b[0mduration_dt\u001b[0m\u001b[0;34m.\u001b[0m\u001b[0mdt\u001b[0m\u001b[0;34m.\u001b[0m\u001b[0mdays\u001b[0m\u001b[0;34m\u001b[0m\u001b[0;34m\u001b[0m\u001b[0m\n",
            "\u001b[0;32m/usr/local/lib/python3.9/dist-packages/pandas/core/tools/datetimes.py\u001b[0m in \u001b[0;36mto_datetime\u001b[0;34m(arg, errors, dayfirst, yearfirst, utc, format, exact, unit, infer_datetime_format, origin, cache)\u001b[0m\n\u001b[1;32m   1066\u001b[0m             \u001b[0mresult\u001b[0m \u001b[0;34m=\u001b[0m \u001b[0marg\u001b[0m\u001b[0;34m.\u001b[0m\u001b[0mmap\u001b[0m\u001b[0;34m(\u001b[0m\u001b[0mcache_array\u001b[0m\u001b[0;34m)\u001b[0m\u001b[0;34m\u001b[0m\u001b[0;34m\u001b[0m\u001b[0m\n\u001b[1;32m   1067\u001b[0m         \u001b[0;32melse\u001b[0m\u001b[0;34m:\u001b[0m\u001b[0;34m\u001b[0m\u001b[0;34m\u001b[0m\u001b[0m\n\u001b[0;32m-> 1068\u001b[0;31m             \u001b[0mvalues\u001b[0m \u001b[0;34m=\u001b[0m \u001b[0mconvert_listlike\u001b[0m\u001b[0;34m(\u001b[0m\u001b[0marg\u001b[0m\u001b[0;34m.\u001b[0m\u001b[0m_values\u001b[0m\u001b[0;34m,\u001b[0m \u001b[0mformat\u001b[0m\u001b[0;34m)\u001b[0m\u001b[0;34m\u001b[0m\u001b[0;34m\u001b[0m\u001b[0m\n\u001b[0m\u001b[1;32m   1069\u001b[0m             \u001b[0mresult\u001b[0m \u001b[0;34m=\u001b[0m \u001b[0marg\u001b[0m\u001b[0;34m.\u001b[0m\u001b[0m_constructor\u001b[0m\u001b[0;34m(\u001b[0m\u001b[0mvalues\u001b[0m\u001b[0;34m,\u001b[0m \u001b[0mindex\u001b[0m\u001b[0;34m=\u001b[0m\u001b[0marg\u001b[0m\u001b[0;34m.\u001b[0m\u001b[0mindex\u001b[0m\u001b[0;34m,\u001b[0m \u001b[0mname\u001b[0m\u001b[0;34m=\u001b[0m\u001b[0marg\u001b[0m\u001b[0;34m.\u001b[0m\u001b[0mname\u001b[0m\u001b[0;34m)\u001b[0m\u001b[0;34m\u001b[0m\u001b[0;34m\u001b[0m\u001b[0m\n\u001b[1;32m   1070\u001b[0m     \u001b[0;32melif\u001b[0m \u001b[0misinstance\u001b[0m\u001b[0;34m(\u001b[0m\u001b[0marg\u001b[0m\u001b[0;34m,\u001b[0m \u001b[0;34m(\u001b[0m\u001b[0mABCDataFrame\u001b[0m\u001b[0;34m,\u001b[0m \u001b[0mabc\u001b[0m\u001b[0;34m.\u001b[0m\u001b[0mMutableMapping\u001b[0m\u001b[0;34m)\u001b[0m\u001b[0;34m)\u001b[0m\u001b[0;34m:\u001b[0m\u001b[0;34m\u001b[0m\u001b[0;34m\u001b[0m\u001b[0m\n",
            "\u001b[0;32m/usr/local/lib/python3.9/dist-packages/pandas/core/tools/datetimes.py\u001b[0m in \u001b[0;36m_convert_listlike_datetimes\u001b[0;34m(arg, format, name, tz, unit, errors, infer_datetime_format, dayfirst, yearfirst, exact)\u001b[0m\n\u001b[1;32m    436\u001b[0m     \u001b[0;32massert\u001b[0m \u001b[0mformat\u001b[0m \u001b[0;32mis\u001b[0m \u001b[0;32mNone\u001b[0m \u001b[0;32mor\u001b[0m \u001b[0minfer_datetime_format\u001b[0m\u001b[0;34m\u001b[0m\u001b[0;34m\u001b[0m\u001b[0m\n\u001b[1;32m    437\u001b[0m     \u001b[0mutc\u001b[0m \u001b[0;34m=\u001b[0m \u001b[0mtz\u001b[0m \u001b[0;34m==\u001b[0m \u001b[0;34m\"utc\"\u001b[0m\u001b[0;34m\u001b[0m\u001b[0;34m\u001b[0m\u001b[0m\n\u001b[0;32m--> 438\u001b[0;31m     result, tz_parsed = objects_to_datetime64ns(\n\u001b[0m\u001b[1;32m    439\u001b[0m         \u001b[0marg\u001b[0m\u001b[0;34m,\u001b[0m\u001b[0;34m\u001b[0m\u001b[0;34m\u001b[0m\u001b[0m\n\u001b[1;32m    440\u001b[0m         \u001b[0mdayfirst\u001b[0m\u001b[0;34m=\u001b[0m\u001b[0mdayfirst\u001b[0m\u001b[0;34m,\u001b[0m\u001b[0;34m\u001b[0m\u001b[0;34m\u001b[0m\u001b[0m\n",
            "\u001b[0;32m/usr/local/lib/python3.9/dist-packages/pandas/core/arrays/datetimes.py\u001b[0m in \u001b[0;36mobjects_to_datetime64ns\u001b[0;34m(data, dayfirst, yearfirst, utc, errors, require_iso8601, allow_object, allow_mixed)\u001b[0m\n\u001b[1;32m   2175\u001b[0m     \u001b[0morder\u001b[0m\u001b[0;34m:\u001b[0m \u001b[0mLiteral\u001b[0m\u001b[0;34m[\u001b[0m\u001b[0;34m\"F\"\u001b[0m\u001b[0;34m,\u001b[0m \u001b[0;34m\"C\"\u001b[0m\u001b[0;34m]\u001b[0m \u001b[0;34m=\u001b[0m \u001b[0;34m\"F\"\u001b[0m \u001b[0;32mif\u001b[0m \u001b[0mflags\u001b[0m\u001b[0;34m.\u001b[0m\u001b[0mf_contiguous\u001b[0m \u001b[0;32melse\u001b[0m \u001b[0;34m\"C\"\u001b[0m\u001b[0;34m\u001b[0m\u001b[0;34m\u001b[0m\u001b[0m\n\u001b[1;32m   2176\u001b[0m     \u001b[0;32mtry\u001b[0m\u001b[0;34m:\u001b[0m\u001b[0;34m\u001b[0m\u001b[0;34m\u001b[0m\u001b[0m\n\u001b[0;32m-> 2177\u001b[0;31m         result, tz_parsed = tslib.array_to_datetime(\n\u001b[0m\u001b[1;32m   2178\u001b[0m             \u001b[0mdata\u001b[0m\u001b[0;34m.\u001b[0m\u001b[0mravel\u001b[0m\u001b[0;34m(\u001b[0m\u001b[0;34m\"K\"\u001b[0m\u001b[0;34m)\u001b[0m\u001b[0;34m,\u001b[0m\u001b[0;34m\u001b[0m\u001b[0;34m\u001b[0m\u001b[0m\n\u001b[1;32m   2179\u001b[0m             \u001b[0merrors\u001b[0m\u001b[0;34m=\u001b[0m\u001b[0merrors\u001b[0m\u001b[0;34m,\u001b[0m\u001b[0;34m\u001b[0m\u001b[0;34m\u001b[0m\u001b[0m\n",
            "\u001b[0;32m/usr/local/lib/python3.9/dist-packages/pandas/_libs/tslib.pyx\u001b[0m in \u001b[0;36mpandas._libs.tslib.array_to_datetime\u001b[0;34m()\u001b[0m\n",
            "\u001b[0;32m/usr/local/lib/python3.9/dist-packages/pandas/_libs/tslib.pyx\u001b[0m in \u001b[0;36mpandas._libs.tslib.array_to_datetime\u001b[0;34m()\u001b[0m\n",
            "\u001b[0;32m/usr/local/lib/python3.9/dist-packages/pandas/_libs/tslibs/parsing.pyx\u001b[0m in \u001b[0;36mpandas._libs.tslibs.parsing.parse_datetime_string\u001b[0;34m()\u001b[0m\n",
            "\u001b[0;32m/usr/local/lib/python3.9/dist-packages/dateutil/parser/_parser.py\u001b[0m in \u001b[0;36mparse\u001b[0;34m(timestr, parserinfo, **kwargs)\u001b[0m\n\u001b[1;32m   1366\u001b[0m         \u001b[0;32mreturn\u001b[0m \u001b[0mparser\u001b[0m\u001b[0;34m(\u001b[0m\u001b[0mparserinfo\u001b[0m\u001b[0;34m)\u001b[0m\u001b[0;34m.\u001b[0m\u001b[0mparse\u001b[0m\u001b[0;34m(\u001b[0m\u001b[0mtimestr\u001b[0m\u001b[0;34m,\u001b[0m \u001b[0;34m**\u001b[0m\u001b[0mkwargs\u001b[0m\u001b[0;34m)\u001b[0m\u001b[0;34m\u001b[0m\u001b[0;34m\u001b[0m\u001b[0m\n\u001b[1;32m   1367\u001b[0m     \u001b[0;32melse\u001b[0m\u001b[0;34m:\u001b[0m\u001b[0;34m\u001b[0m\u001b[0;34m\u001b[0m\u001b[0m\n\u001b[0;32m-> 1368\u001b[0;31m         \u001b[0;32mreturn\u001b[0m \u001b[0mDEFAULTPARSER\u001b[0m\u001b[0;34m.\u001b[0m\u001b[0mparse\u001b[0m\u001b[0;34m(\u001b[0m\u001b[0mtimestr\u001b[0m\u001b[0;34m,\u001b[0m \u001b[0;34m**\u001b[0m\u001b[0mkwargs\u001b[0m\u001b[0;34m)\u001b[0m\u001b[0;34m\u001b[0m\u001b[0;34m\u001b[0m\u001b[0m\n\u001b[0m\u001b[1;32m   1369\u001b[0m \u001b[0;34m\u001b[0m\u001b[0m\n\u001b[1;32m   1370\u001b[0m \u001b[0;34m\u001b[0m\u001b[0m\n",
            "\u001b[0;32m/usr/local/lib/python3.9/dist-packages/dateutil/parser/_parser.py\u001b[0m in \u001b[0;36mparse\u001b[0;34m(self, timestr, default, ignoretz, tzinfos, **kwargs)\u001b[0m\n\u001b[1;32m    638\u001b[0m                                                       second=0, microsecond=0)\n\u001b[1;32m    639\u001b[0m \u001b[0;34m\u001b[0m\u001b[0m\n\u001b[0;32m--> 640\u001b[0;31m         \u001b[0mres\u001b[0m\u001b[0;34m,\u001b[0m \u001b[0mskipped_tokens\u001b[0m \u001b[0;34m=\u001b[0m \u001b[0mself\u001b[0m\u001b[0;34m.\u001b[0m\u001b[0m_parse\u001b[0m\u001b[0;34m(\u001b[0m\u001b[0mtimestr\u001b[0m\u001b[0;34m,\u001b[0m \u001b[0;34m**\u001b[0m\u001b[0mkwargs\u001b[0m\u001b[0;34m)\u001b[0m\u001b[0;34m\u001b[0m\u001b[0;34m\u001b[0m\u001b[0m\n\u001b[0m\u001b[1;32m    641\u001b[0m \u001b[0;34m\u001b[0m\u001b[0m\n\u001b[1;32m    642\u001b[0m         \u001b[0;32mif\u001b[0m \u001b[0mres\u001b[0m \u001b[0;32mis\u001b[0m \u001b[0;32mNone\u001b[0m\u001b[0;34m:\u001b[0m\u001b[0;34m\u001b[0m\u001b[0;34m\u001b[0m\u001b[0m\n",
            "\u001b[0;32m/usr/local/lib/python3.9/dist-packages/dateutil/parser/_parser.py\u001b[0m in \u001b[0;36m_parse\u001b[0;34m(self, timestr, dayfirst, yearfirst, fuzzy, fuzzy_with_tokens)\u001b[0m\n\u001b[1;32m    738\u001b[0m                 \u001b[0;32mif\u001b[0m \u001b[0mvalue\u001b[0m \u001b[0;32mis\u001b[0m \u001b[0;32mnot\u001b[0m \u001b[0;32mNone\u001b[0m\u001b[0;34m:\u001b[0m\u001b[0;34m\u001b[0m\u001b[0;34m\u001b[0m\u001b[0m\n\u001b[1;32m    739\u001b[0m                     \u001b[0;31m# Numeric token\u001b[0m\u001b[0;34m\u001b[0m\u001b[0;34m\u001b[0m\u001b[0m\n\u001b[0;32m--> 740\u001b[0;31m                     \u001b[0mi\u001b[0m \u001b[0;34m=\u001b[0m \u001b[0mself\u001b[0m\u001b[0;34m.\u001b[0m\u001b[0m_parse_numeric_token\u001b[0m\u001b[0;34m(\u001b[0m\u001b[0ml\u001b[0m\u001b[0;34m,\u001b[0m \u001b[0mi\u001b[0m\u001b[0;34m,\u001b[0m \u001b[0minfo\u001b[0m\u001b[0;34m,\u001b[0m \u001b[0mymd\u001b[0m\u001b[0;34m,\u001b[0m \u001b[0mres\u001b[0m\u001b[0;34m,\u001b[0m \u001b[0mfuzzy\u001b[0m\u001b[0;34m)\u001b[0m\u001b[0;34m\u001b[0m\u001b[0;34m\u001b[0m\u001b[0m\n\u001b[0m\u001b[1;32m    741\u001b[0m \u001b[0;34m\u001b[0m\u001b[0m\n\u001b[1;32m    742\u001b[0m                 \u001b[0;31m# Check weekday\u001b[0m\u001b[0;34m\u001b[0m\u001b[0;34m\u001b[0m\u001b[0m\n",
            "\u001b[0;32m/usr/local/lib/python3.9/dist-packages/dateutil/parser/_parser.py\u001b[0m in \u001b[0;36m_parse_numeric_token\u001b[0;34m(self, tokens, idx, info, ymd, res, fuzzy)\u001b[0m\n\u001b[1;32m    938\u001b[0m         \u001b[0;32melif\u001b[0m \u001b[0midx\u001b[0m \u001b[0;34m+\u001b[0m \u001b[0;36m2\u001b[0m \u001b[0;34m<\u001b[0m \u001b[0mlen_l\u001b[0m \u001b[0;32mand\u001b[0m \u001b[0mtokens\u001b[0m\u001b[0;34m[\u001b[0m\u001b[0midx\u001b[0m \u001b[0;34m+\u001b[0m \u001b[0;36m1\u001b[0m\u001b[0;34m]\u001b[0m \u001b[0;34m==\u001b[0m \u001b[0;34m':'\u001b[0m\u001b[0;34m:\u001b[0m\u001b[0;34m\u001b[0m\u001b[0;34m\u001b[0m\u001b[0m\n\u001b[1;32m    939\u001b[0m             \u001b[0;31m# HH:MM[:SS[.ss]]\u001b[0m\u001b[0;34m\u001b[0m\u001b[0;34m\u001b[0m\u001b[0m\n\u001b[0;32m--> 940\u001b[0;31m             \u001b[0mres\u001b[0m\u001b[0;34m.\u001b[0m\u001b[0mhour\u001b[0m \u001b[0;34m=\u001b[0m \u001b[0mint\u001b[0m\u001b[0;34m(\u001b[0m\u001b[0mvalue\u001b[0m\u001b[0;34m)\u001b[0m\u001b[0;34m\u001b[0m\u001b[0;34m\u001b[0m\u001b[0m\n\u001b[0m\u001b[1;32m    941\u001b[0m             \u001b[0mvalue\u001b[0m \u001b[0;34m=\u001b[0m \u001b[0mself\u001b[0m\u001b[0;34m.\u001b[0m\u001b[0m_to_decimal\u001b[0m\u001b[0;34m(\u001b[0m\u001b[0mtokens\u001b[0m\u001b[0;34m[\u001b[0m\u001b[0midx\u001b[0m \u001b[0;34m+\u001b[0m \u001b[0;36m2\u001b[0m\u001b[0;34m]\u001b[0m\u001b[0;34m)\u001b[0m  \u001b[0;31m# TODO: try/except for this?\u001b[0m\u001b[0;34m\u001b[0m\u001b[0;34m\u001b[0m\u001b[0m\n\u001b[1;32m    942\u001b[0m             \u001b[0;34m(\u001b[0m\u001b[0mres\u001b[0m\u001b[0;34m.\u001b[0m\u001b[0mminute\u001b[0m\u001b[0;34m,\u001b[0m \u001b[0mres\u001b[0m\u001b[0;34m.\u001b[0m\u001b[0msecond\u001b[0m\u001b[0;34m)\u001b[0m \u001b[0;34m=\u001b[0m \u001b[0mself\u001b[0m\u001b[0;34m.\u001b[0m\u001b[0m_parse_min_sec\u001b[0m\u001b[0;34m(\u001b[0m\u001b[0mvalue\u001b[0m\u001b[0;34m)\u001b[0m\u001b[0;34m\u001b[0m\u001b[0;34m\u001b[0m\u001b[0m\n",
            "\u001b[0;31mKeyboardInterrupt\u001b[0m: "
          ]
        }
      ],
      "id": "KmQDpBRc3AhD"
    },
    {
      "cell_type": "code",
      "source": [
        "df_test['started_at_dt'] = pd.to_datetime(df.started_at) \n",
        "df_test['read_at_dt'] = pd.to_datetime(df.read_at) \n",
        "df_test['duration_dt'] = df.read_at_dt - df.started_at_dt \n",
        "df_test['read_length_days'] = df.duration_dt.dt.days "
      ],
      "metadata": {
        "id": "0xE49Besdb3F"
      },
      "execution_count": null,
      "outputs": [],
      "id": "0xE49Besdb3F"
    },
    {
      "cell_type": "code",
      "source": [
        "df = df.drop(columns = ['started_at_dt', 'read_at_dt', 'duration_dt', ])\n",
        "df_test = df_test.drop(columns = ['started_at_dt', 'read_at_dt', 'duration_dt', ])"
      ],
      "metadata": {
        "id": "fHsRF_AReVel"
      },
      "id": "fHsRF_AReVel",
      "execution_count": null,
      "outputs": []
    },
    {
      "cell_type": "code",
      "source": [
        "# df_new = df.to_csv(r'/content/drive/MyDrive/BooksReview/df_new.csv', index= False)\n",
        "# with open('/content/drive/MyDrive/BooksReview/df_new.csv', 'w') as f:\n",
        "#   f.write(df_new)"
      ],
      "metadata": {
        "id": "ubqzsfLOMqaF"
      },
      "execution_count": null,
      "outputs": [],
      "id": "ubqzsfLOMqaF"
    },
    {
      "cell_type": "code",
      "source": [
        "# df = pd.read_csv('/content/drive/MyDrive/BooksReview/df_new.csv')"
      ],
      "metadata": {
        "id": "dE5J-9FrWNzz"
      },
      "execution_count": null,
      "outputs": [],
      "id": "dE5J-9FrWNzz"
    },
    {
      "cell_type": "code",
      "source": [
        "df.sample(5, random_state = 42)"
      ],
      "metadata": {
        "id": "VJKruBzN_36N"
      },
      "execution_count": null,
      "outputs": [],
      "id": "VJKruBzN_36N"
    },
    {
      "cell_type": "markdown",
      "source": [
        "Посмотрим, сколько NaN значений теперь в колонке длительности чтения."
      ],
      "metadata": {
        "id": "ZQ0ZHFXhAN8m"
      },
      "id": "ZQ0ZHFXhAN8m"
    },
    {
      "cell_type": "code",
      "source": [
        "df.isna().sum()[-1]"
      ],
      "metadata": {
        "id": "kz7L604oAVAq"
      },
      "execution_count": null,
      "outputs": [],
      "id": "kz7L604oAVAq"
    },
    {
      "cell_type": "markdown",
      "source": [
        "Посмотрим на распределние колва дней чтения и зависимость рейтинга от колва дней чтения"
      ],
      "metadata": {
        "id": "7MYHYBJcCdpE"
      },
      "id": "7MYHYBJcCdpE"
    },
    {
      "cell_type": "code",
      "source": [
        "plt.subplot(1,2,1)\n",
        "sns.kdeplot(x = df['read_length_days'])\n",
        "plt.legend(df['rating'].unique())\n",
        "plt.xlabel('')\n",
        "plt.ylabel('')\n",
        "\n",
        "plt.show()"
      ],
      "metadata": {
        "id": "d31bn6s_BIyH"
      },
      "execution_count": null,
      "outputs": [],
      "id": "d31bn6s_BIyH"
    },
    {
      "cell_type": "code",
      "source": [
        "sns.scatterplot(x=df['read_length_days'], y=df['rating'])\n",
        "plt.xlabel('Number of days reading')\n",
        "plt.ylabel('Rating')\n",
        "plt.title('Rating vs.Number of days reading')\n",
        "plt.show()"
      ],
      "metadata": {
        "id": "pdtAn5e9CslV"
      },
      "execution_count": null,
      "outputs": [],
      "id": "pdtAn5e9CslV"
    },
    {
      "cell_type": "markdown",
      "source": [
        "Книги с более высоким рейтингом читаются больше и дольше. Плотность распределения значения выше. Также видим, что есть отрицательное колво дней, посмотрим, сколько таких значений."
      ],
      "metadata": {
        "id": "8JCwAZCmDDCb"
      },
      "id": "8JCwAZCmDDCb"
    },
    {
      "cell_type": "code",
      "source": [
        "df[df['read_length_days'] < 0].count()[0]"
      ],
      "metadata": {
        "id": "uT_8QKfYbHUh"
      },
      "execution_count": null,
      "outputs": [],
      "id": "uT_8QKfYbHUh"
    },
    {
      "cell_type": "code",
      "source": [
        "df['read_length_days'].value_counts()"
      ],
      "metadata": {
        "id": "eq7kOIfGeidi"
      },
      "execution_count": null,
      "outputs": [],
      "id": "eq7kOIfGeidi"
    },
    {
      "cell_type": "code",
      "source": [
        "df['read_length_days'].value_counts()\n",
        "dic = df['read_length_days'].value_counts()\n",
        "dic.items()"
      ],
      "metadata": {
        "id": "68-Kgr0hcg-u"
      },
      "execution_count": null,
      "outputs": [],
      "id": "68-Kgr0hcg-u"
    },
    {
      "cell_type": "markdown",
      "source": [
        "Посмотрим, за какое колво дней в целом чаще читают книги"
      ],
      "metadata": {
        "id": "BK1u09t7bUXS"
      },
      "id": "BK1u09t7bUXS"
    },
    {
      "cell_type": "code",
      "source": [
        "def plot_top_reading_length(data): \n",
        "    dic = data.value_counts()\n",
        "           \n",
        "    top = sorted(dic.items(), key = lambda x: x[1], reverse=True)[:10] \n",
        "    x, y = zip(*top)\n",
        "\n",
        "    fig, ax = plt.subplots()\n",
        "    ax.bar(x,y)\n",
        "    ax.xaxis.set_major_locator(ticker.MultipleLocator(1))\n",
        "    plt.xlabel('Number of days reading')\n",
        "    plt.ylabel('Frequency')\n",
        "    plt.title('Frequency vs.Number of days reading')"
      ],
      "metadata": {
        "id": "AULsTsbTcQqV"
      },
      "execution_count": null,
      "outputs": [],
      "id": "AULsTsbTcQqV"
    },
    {
      "cell_type": "code",
      "source": [
        "plot_top_reading_length(df['read_length_days'])"
      ],
      "metadata": {
        "id": "iwnzmMvuc1St"
      },
      "execution_count": null,
      "outputs": [],
      "id": "iwnzmMvuc1St"
    },
    {
      "cell_type": "markdown",
      "source": [
        "Чаще всего книги читают за день, поэтому заполним значения NaN и отрицательные значения единичками."
      ],
      "metadata": {
        "id": "fsK_0jJCfj-C"
      },
      "id": "fsK_0jJCfj-C"
    },
    {
      "cell_type": "code",
      "source": [
        "df['read_length_days'] = df['read_length_days'].fillna(1)\n",
        "df[df['read_length_days'] < 0] = 1\n",
        "\n",
        "df_test['read_length_days'] = df_test['read_length_days'].fillna(1)\n",
        "df_test[df_test['read_length_days'] < 0] = 1\n",
        "\n",
        "print('Колво отрицательных значений read_length_days', df[df['read_length_days'] < 0].count()[0])\n",
        "df.isna().sum()"
      ],
      "metadata": {
        "id": "u6v8HDcagWyN"
      },
      "execution_count": null,
      "outputs": [],
      "id": "u6v8HDcagWyN"
    },
    {
      "cell_type": "code",
      "source": [
        "# df = pd.read_csv('/kaggle/input/new-goodreads/new_train.csv')\n",
        "# df.head(3)"
      ],
      "metadata": {
        "execution": {
          "iopub.status.busy": "2023-04-17T22:09:22.925471Z",
          "iopub.execute_input": "2023-04-17T22:09:22.926214Z",
          "iopub.status.idle": "2023-04-17T22:09:53.173319Z",
          "shell.execute_reply.started": "2023-04-17T22:09:22.926158Z",
          "shell.execute_reply": "2023-04-17T22:09:53.172093Z"
        },
        "trusted": true,
        "id": "jW8h_Ydidb3I"
      },
      "execution_count": null,
      "outputs": [],
      "id": "jW8h_Ydidb3I"
    },
    {
      "cell_type": "code",
      "source": [
        "#df_new = df.to_csv(r'/content/drive/MyDrive/BooksReview/df_new.csv', index= False) #сохраним измененный датасет"
      ],
      "metadata": {
        "id": "rQ0exSDqL7aq"
      },
      "execution_count": null,
      "outputs": [],
      "id": "rQ0exSDqL7aq"
    },
    {
      "cell_type": "code",
      "source": [
        "# sns.heatmap(df[['book_id', 'rating', 'n_votes', 'n_comments', 'read_length_days']].corr(), annot = True, fmt='.2g', vmin=-1, vmax=1, center= 0, cmap= 'coolwarm')"
      ],
      "metadata": {
        "id": "6ZNMRmgLiKqZ"
      },
      "execution_count": null,
      "outputs": [],
      "id": "6ZNMRmgLiKqZ"
    },
    {
      "cell_type": "code",
      "source": [
        "df.to_csv('/content/drive/MyDrive/BooksReview/goodreads_train_upd.csv', index= False)\n",
        "df_test.to_csv('/content/drive/MyDrive/BooksReview/goodreads_test_upd.csv', index= False)"
      ],
      "metadata": {
        "id": "Rv0BkueVfLAG"
      },
      "id": "Rv0BkueVfLAG",
      "execution_count": null,
      "outputs": []
    },
    {
      "cell_type": "markdown",
      "source": [
        "## Анализ отзывов"
      ],
      "metadata": {
        "id": "19b02432"
      },
      "id": "19b02432"
    },
    {
      "cell_type": "markdown",
      "source": [
        "- посчитаем для каждого отзыва его длину, кол-во слов. среднюю длину предложения и среднюю длину слова\n",
        "- почистим отзывы: удалим ссылки, цифры, стоп-слова\n",
        "- приведем все отзывы к нижнему регистру, лемматизируем\n",
        "- посмотрим на эмоциональную окраску каждого отзыва\n",
        "- посмотрим присутствуют ли спойлеры в отзывах, проставим 1 или 0 соответственно\n",
        "- мб удалим слишком короткие отзывы или неинформативные отзывы\n",
        "\n"
      ],
      "metadata": {
        "id": "RBp4pLzojmBi"
      },
      "id": "RBp4pLzojmBi"
    },
    {
      "cell_type": "code",
      "source": [
        "# df_new = pd.read_csv(r'D:\\Kaggle\\Goodreads Books Reviews\\goodreads-books-reviews-290312\\new_train.csv')"
      ],
      "metadata": {
        "id": "eec355e0"
      },
      "execution_count": null,
      "outputs": [],
      "id": "eec355e0"
    },
    {
      "cell_type": "code",
      "source": [
        "df_test_text = df_test[['review_text']]\n",
        "df_text = df[['review_text']]\n"
      ],
      "metadata": {
        "execution": {
          "iopub.status.busy": "2023-04-17T21:16:02.900217Z",
          "iopub.execute_input": "2023-04-17T21:16:02.900770Z",
          "iopub.status.idle": "2023-04-17T21:16:02.941435Z",
          "shell.execute_reply.started": "2023-04-17T21:16:02.900719Z",
          "shell.execute_reply": "2023-04-17T21:16:02.938333Z"
        },
        "trusted": true,
        "id": "aVp5vh6edb3K"
      },
      "execution_count": null,
      "outputs": [],
      "id": "aVp5vh6edb3K"
    },
    {
      "cell_type": "code",
      "source": [
        "# test_text = df_test_text.to_csv('/kaggle/working/test_text.csv', index = False)"
      ],
      "metadata": {
        "execution": {
          "iopub.status.busy": "2023-04-17T21:12:07.973047Z",
          "iopub.execute_input": "2023-04-17T21:12:07.973580Z",
          "iopub.status.idle": "2023-04-17T21:12:20.428946Z",
          "shell.execute_reply.started": "2023-04-17T21:12:07.973537Z",
          "shell.execute_reply": "2023-04-17T21:12:20.426706Z"
        },
        "trusted": true,
        "id": "ZwLKBkwddb3K"
      },
      "execution_count": null,
      "outputs": [],
      "id": "ZwLKBkwddb3K"
    },
    {
      "cell_type": "code",
      "source": [
        "# df_new = pd.read_csv('/content/drive/MyDrive/BooksReview/new_train.csv')"
      ],
      "metadata": {
        "id": "vzg3G-yzdfZQ",
        "execution": {
          "iopub.status.busy": "2023-04-17T21:12:20.431532Z",
          "iopub.execute_input": "2023-04-17T21:12:20.432727Z",
          "iopub.status.idle": "2023-04-17T21:12:20.440203Z",
          "shell.execute_reply.started": "2023-04-17T21:12:20.432641Z",
          "shell.execute_reply": "2023-04-17T21:12:20.438013Z"
        },
        "trusted": true
      },
      "execution_count": null,
      "outputs": [],
      "id": "vzg3G-yzdfZQ"
    },
    {
      "cell_type": "code",
      "source": [
        "# df_new.head(3)"
      ],
      "metadata": {
        "colab": {
          "base_uri": "https://localhost:8080/",
          "height": 398
        },
        "id": "2BM1UNxQdurV",
        "outputId": "8c953580-ef4a-4b33-8071-a3368a09784c"
      },
      "execution_count": null,
      "outputs": [
        {
          "output_type": "execute_result",
          "execution_count": 10,
          "data": {
            "text/plain": [
              "                            user_id   book_id  \\\n",
              "0  8842281e1d1347389f2ab93d60773d4d  18245960   \n",
              "1  8842281e1d1347389f2ab93d60773d4d     16981   \n",
              "2  8842281e1d1347389f2ab93d60773d4d  28684704   \n",
              "\n",
              "                          review_id  rating  \\\n",
              "0  dfdbb7b0eb5a7e4c26d59a937e2e5feb       5   \n",
              "1  a5d2c3628987712d0e05c4f90798eb67       3   \n",
              "2  2ede853b14dc4583f96cf5d120af636f       3   \n",
              "\n",
              "                                         review_text  \\\n",
              "0  This is a special book. It started slow for ab...   \n",
              "1  Recommended by Don Katz. Avail for free in Dec...   \n",
              "2  A fun, fast paced science fiction thriller. I ...   \n",
              "\n",
              "                       date_added                    date_updated  \\\n",
              "0  Sun Jul 30 07:44:10 -0700 2017  Wed Aug 30 00:00:26 -0700 2017   \n",
              "1  Mon Dec 05 10:46:44 -0800 2016  Wed Mar 22 11:37:04 -0700 2017   \n",
              "2  Tue Nov 15 11:29:22 -0800 2016  Mon Mar 20 23:40:27 -0700 2017   \n",
              "\n",
              "                          read_at                      started_at  n_votes  \\\n",
              "0  Sat Aug 26 12:05:52 -0700 2017  Tue Aug 15 13:23:18 -0700 2017       28   \n",
              "1                             NaN                             NaN        1   \n",
              "2  Sat Mar 18 23:22:42 -0700 2017  Fri Mar 17 23:45:40 -0700 2017       22   \n",
              "\n",
              "               started_at_dt                 read_at_dt       duration_dt  \\\n",
              "0  2017-08-15 13:23:18-07:00  2017-08-26 12:05:52-07:00  10 days 22:42:34   \n",
              "1                        NaN                        NaN               NaN   \n",
              "2  2017-03-17 23:45:40-07:00  2017-03-18 23:22:42-07:00   0 days 23:37:02   \n",
              "\n",
              "   read_length_days  \n",
              "0              10.0  \n",
              "1               1.0  \n",
              "2               0.0  "
            ],
            "text/html": [
              "\n",
              "  <div id=\"df-4531e5b4-031d-47bc-84cb-42a70227dd2f\">\n",
              "    <div class=\"colab-df-container\">\n",
              "      <div>\n",
              "<style scoped>\n",
              "    .dataframe tbody tr th:only-of-type {\n",
              "        vertical-align: middle;\n",
              "    }\n",
              "\n",
              "    .dataframe tbody tr th {\n",
              "        vertical-align: top;\n",
              "    }\n",
              "\n",
              "    .dataframe thead th {\n",
              "        text-align: right;\n",
              "    }\n",
              "</style>\n",
              "<table border=\"1\" class=\"dataframe\">\n",
              "  <thead>\n",
              "    <tr style=\"text-align: right;\">\n",
              "      <th></th>\n",
              "      <th>user_id</th>\n",
              "      <th>book_id</th>\n",
              "      <th>review_id</th>\n",
              "      <th>rating</th>\n",
              "      <th>review_text</th>\n",
              "      <th>date_added</th>\n",
              "      <th>date_updated</th>\n",
              "      <th>read_at</th>\n",
              "      <th>started_at</th>\n",
              "      <th>n_votes</th>\n",
              "      <th>started_at_dt</th>\n",
              "      <th>read_at_dt</th>\n",
              "      <th>duration_dt</th>\n",
              "      <th>read_length_days</th>\n",
              "    </tr>\n",
              "  </thead>\n",
              "  <tbody>\n",
              "    <tr>\n",
              "      <th>0</th>\n",
              "      <td>8842281e1d1347389f2ab93d60773d4d</td>\n",
              "      <td>18245960</td>\n",
              "      <td>dfdbb7b0eb5a7e4c26d59a937e2e5feb</td>\n",
              "      <td>5</td>\n",
              "      <td>This is a special book. It started slow for ab...</td>\n",
              "      <td>Sun Jul 30 07:44:10 -0700 2017</td>\n",
              "      <td>Wed Aug 30 00:00:26 -0700 2017</td>\n",
              "      <td>Sat Aug 26 12:05:52 -0700 2017</td>\n",
              "      <td>Tue Aug 15 13:23:18 -0700 2017</td>\n",
              "      <td>28</td>\n",
              "      <td>2017-08-15 13:23:18-07:00</td>\n",
              "      <td>2017-08-26 12:05:52-07:00</td>\n",
              "      <td>10 days 22:42:34</td>\n",
              "      <td>10.0</td>\n",
              "    </tr>\n",
              "    <tr>\n",
              "      <th>1</th>\n",
              "      <td>8842281e1d1347389f2ab93d60773d4d</td>\n",
              "      <td>16981</td>\n",
              "      <td>a5d2c3628987712d0e05c4f90798eb67</td>\n",
              "      <td>3</td>\n",
              "      <td>Recommended by Don Katz. Avail for free in Dec...</td>\n",
              "      <td>Mon Dec 05 10:46:44 -0800 2016</td>\n",
              "      <td>Wed Mar 22 11:37:04 -0700 2017</td>\n",
              "      <td>NaN</td>\n",
              "      <td>NaN</td>\n",
              "      <td>1</td>\n",
              "      <td>NaN</td>\n",
              "      <td>NaN</td>\n",
              "      <td>NaN</td>\n",
              "      <td>1.0</td>\n",
              "    </tr>\n",
              "    <tr>\n",
              "      <th>2</th>\n",
              "      <td>8842281e1d1347389f2ab93d60773d4d</td>\n",
              "      <td>28684704</td>\n",
              "      <td>2ede853b14dc4583f96cf5d120af636f</td>\n",
              "      <td>3</td>\n",
              "      <td>A fun, fast paced science fiction thriller. I ...</td>\n",
              "      <td>Tue Nov 15 11:29:22 -0800 2016</td>\n",
              "      <td>Mon Mar 20 23:40:27 -0700 2017</td>\n",
              "      <td>Sat Mar 18 23:22:42 -0700 2017</td>\n",
              "      <td>Fri Mar 17 23:45:40 -0700 2017</td>\n",
              "      <td>22</td>\n",
              "      <td>2017-03-17 23:45:40-07:00</td>\n",
              "      <td>2017-03-18 23:22:42-07:00</td>\n",
              "      <td>0 days 23:37:02</td>\n",
              "      <td>0.0</td>\n",
              "    </tr>\n",
              "  </tbody>\n",
              "</table>\n",
              "</div>\n",
              "      <button class=\"colab-df-convert\" onclick=\"convertToInteractive('df-4531e5b4-031d-47bc-84cb-42a70227dd2f')\"\n",
              "              title=\"Convert this dataframe to an interactive table.\"\n",
              "              style=\"display:none;\">\n",
              "        \n",
              "  <svg xmlns=\"http://www.w3.org/2000/svg\" height=\"24px\"viewBox=\"0 0 24 24\"\n",
              "       width=\"24px\">\n",
              "    <path d=\"M0 0h24v24H0V0z\" fill=\"none\"/>\n",
              "    <path d=\"M18.56 5.44l.94 2.06.94-2.06 2.06-.94-2.06-.94-.94-2.06-.94 2.06-2.06.94zm-11 1L8.5 8.5l.94-2.06 2.06-.94-2.06-.94L8.5 2.5l-.94 2.06-2.06.94zm10 10l.94 2.06.94-2.06 2.06-.94-2.06-.94-.94-2.06-.94 2.06-2.06.94z\"/><path d=\"M17.41 7.96l-1.37-1.37c-.4-.4-.92-.59-1.43-.59-.52 0-1.04.2-1.43.59L10.3 9.45l-7.72 7.72c-.78.78-.78 2.05 0 2.83L4 21.41c.39.39.9.59 1.41.59.51 0 1.02-.2 1.41-.59l7.78-7.78 2.81-2.81c.8-.78.8-2.07 0-2.86zM5.41 20L4 18.59l7.72-7.72 1.47 1.35L5.41 20z\"/>\n",
              "  </svg>\n",
              "      </button>\n",
              "      \n",
              "  <style>\n",
              "    .colab-df-container {\n",
              "      display:flex;\n",
              "      flex-wrap:wrap;\n",
              "      gap: 12px;\n",
              "    }\n",
              "\n",
              "    .colab-df-convert {\n",
              "      background-color: #E8F0FE;\n",
              "      border: none;\n",
              "      border-radius: 50%;\n",
              "      cursor: pointer;\n",
              "      display: none;\n",
              "      fill: #1967D2;\n",
              "      height: 32px;\n",
              "      padding: 0 0 0 0;\n",
              "      width: 32px;\n",
              "    }\n",
              "\n",
              "    .colab-df-convert:hover {\n",
              "      background-color: #E2EBFA;\n",
              "      box-shadow: 0px 1px 2px rgba(60, 64, 67, 0.3), 0px 1px 3px 1px rgba(60, 64, 67, 0.15);\n",
              "      fill: #174EA6;\n",
              "    }\n",
              "\n",
              "    [theme=dark] .colab-df-convert {\n",
              "      background-color: #3B4455;\n",
              "      fill: #D2E3FC;\n",
              "    }\n",
              "\n",
              "    [theme=dark] .colab-df-convert:hover {\n",
              "      background-color: #434B5C;\n",
              "      box-shadow: 0px 1px 3px 1px rgba(0, 0, 0, 0.15);\n",
              "      filter: drop-shadow(0px 1px 2px rgba(0, 0, 0, 0.3));\n",
              "      fill: #FFFFFF;\n",
              "    }\n",
              "  </style>\n",
              "\n",
              "      <script>\n",
              "        const buttonEl =\n",
              "          document.querySelector('#df-4531e5b4-031d-47bc-84cb-42a70227dd2f button.colab-df-convert');\n",
              "        buttonEl.style.display =\n",
              "          google.colab.kernel.accessAllowed ? 'block' : 'none';\n",
              "\n",
              "        async function convertToInteractive(key) {\n",
              "          const element = document.querySelector('#df-4531e5b4-031d-47bc-84cb-42a70227dd2f');\n",
              "          const dataTable =\n",
              "            await google.colab.kernel.invokeFunction('convertToInteractive',\n",
              "                                                     [key], {});\n",
              "          if (!dataTable) return;\n",
              "\n",
              "          const docLinkHtml = 'Like what you see? Visit the ' +\n",
              "            '<a target=\"_blank\" href=https://colab.research.google.com/notebooks/data_table.ipynb>data table notebook</a>'\n",
              "            + ' to learn more about interactive tables.';\n",
              "          element.innerHTML = '';\n",
              "          dataTable['output_type'] = 'display_data';\n",
              "          await google.colab.output.renderOutput(dataTable, element);\n",
              "          const docLink = document.createElement('div');\n",
              "          docLink.innerHTML = docLinkHtml;\n",
              "          element.appendChild(docLink);\n",
              "        }\n",
              "      </script>\n",
              "    </div>\n",
              "  </div>\n",
              "  "
            ]
          },
          "metadata": {}
        }
      ],
      "id": "2BM1UNxQdurV"
    },
    {
      "cell_type": "code",
      "source": [
        "# df_text = df_new[['rating', 'review_text']]"
      ],
      "metadata": {
        "id": "8e57f513"
      },
      "execution_count": null,
      "outputs": [],
      "id": "8e57f513"
    },
    {
      "cell_type": "code",
      "source": [
        "df_text.sample(5, random_state = 42)"
      ],
      "metadata": {
        "colab": {
          "base_uri": "https://localhost:8080/",
          "height": 206
        },
        "id": "AhcOhYWBwK1-",
        "outputId": "eae0fa62-3c72-4db4-e3fe-44f27571146f"
      },
      "execution_count": null,
      "outputs": [
        {
          "output_type": "execute_result",
          "data": {
            "text/plain": [
              "                                              review_text\n",
              "527984  I'm proudly telling you that I'm a big fan of ...\n",
              "618093  4.25 stars \\n This was so, so much better than...\n",
              "484217  For some reason finding a good male lead urban...\n",
              "161123  It's about the son of a pepper merchant who fi...\n",
              "718642  the most beautiful display of emotions in this..."
            ],
            "text/html": [
              "\n",
              "  <div id=\"df-ab75175f-e291-4d88-b798-9d27e65fe9e6\">\n",
              "    <div class=\"colab-df-container\">\n",
              "      <div>\n",
              "<style scoped>\n",
              "    .dataframe tbody tr th:only-of-type {\n",
              "        vertical-align: middle;\n",
              "    }\n",
              "\n",
              "    .dataframe tbody tr th {\n",
              "        vertical-align: top;\n",
              "    }\n",
              "\n",
              "    .dataframe thead th {\n",
              "        text-align: right;\n",
              "    }\n",
              "</style>\n",
              "<table border=\"1\" class=\"dataframe\">\n",
              "  <thead>\n",
              "    <tr style=\"text-align: right;\">\n",
              "      <th></th>\n",
              "      <th>review_text</th>\n",
              "    </tr>\n",
              "  </thead>\n",
              "  <tbody>\n",
              "    <tr>\n",
              "      <th>527984</th>\n",
              "      <td>I'm proudly telling you that I'm a big fan of ...</td>\n",
              "    </tr>\n",
              "    <tr>\n",
              "      <th>618093</th>\n",
              "      <td>4.25 stars \\n This was so, so much better than...</td>\n",
              "    </tr>\n",
              "    <tr>\n",
              "      <th>484217</th>\n",
              "      <td>For some reason finding a good male lead urban...</td>\n",
              "    </tr>\n",
              "    <tr>\n",
              "      <th>161123</th>\n",
              "      <td>It's about the son of a pepper merchant who fi...</td>\n",
              "    </tr>\n",
              "    <tr>\n",
              "      <th>718642</th>\n",
              "      <td>the most beautiful display of emotions in this...</td>\n",
              "    </tr>\n",
              "  </tbody>\n",
              "</table>\n",
              "</div>\n",
              "      <button class=\"colab-df-convert\" onclick=\"convertToInteractive('df-ab75175f-e291-4d88-b798-9d27e65fe9e6')\"\n",
              "              title=\"Convert this dataframe to an interactive table.\"\n",
              "              style=\"display:none;\">\n",
              "        \n",
              "  <svg xmlns=\"http://www.w3.org/2000/svg\" height=\"24px\"viewBox=\"0 0 24 24\"\n",
              "       width=\"24px\">\n",
              "    <path d=\"M0 0h24v24H0V0z\" fill=\"none\"/>\n",
              "    <path d=\"M18.56 5.44l.94 2.06.94-2.06 2.06-.94-2.06-.94-.94-2.06-.94 2.06-2.06.94zm-11 1L8.5 8.5l.94-2.06 2.06-.94-2.06-.94L8.5 2.5l-.94 2.06-2.06.94zm10 10l.94 2.06.94-2.06 2.06-.94-2.06-.94-.94-2.06-.94 2.06-2.06.94z\"/><path d=\"M17.41 7.96l-1.37-1.37c-.4-.4-.92-.59-1.43-.59-.52 0-1.04.2-1.43.59L10.3 9.45l-7.72 7.72c-.78.78-.78 2.05 0 2.83L4 21.41c.39.39.9.59 1.41.59.51 0 1.02-.2 1.41-.59l7.78-7.78 2.81-2.81c.8-.78.8-2.07 0-2.86zM5.41 20L4 18.59l7.72-7.72 1.47 1.35L5.41 20z\"/>\n",
              "  </svg>\n",
              "      </button>\n",
              "      \n",
              "  <style>\n",
              "    .colab-df-container {\n",
              "      display:flex;\n",
              "      flex-wrap:wrap;\n",
              "      gap: 12px;\n",
              "    }\n",
              "\n",
              "    .colab-df-convert {\n",
              "      background-color: #E8F0FE;\n",
              "      border: none;\n",
              "      border-radius: 50%;\n",
              "      cursor: pointer;\n",
              "      display: none;\n",
              "      fill: #1967D2;\n",
              "      height: 32px;\n",
              "      padding: 0 0 0 0;\n",
              "      width: 32px;\n",
              "    }\n",
              "\n",
              "    .colab-df-convert:hover {\n",
              "      background-color: #E2EBFA;\n",
              "      box-shadow: 0px 1px 2px rgba(60, 64, 67, 0.3), 0px 1px 3px 1px rgba(60, 64, 67, 0.15);\n",
              "      fill: #174EA6;\n",
              "    }\n",
              "\n",
              "    [theme=dark] .colab-df-convert {\n",
              "      background-color: #3B4455;\n",
              "      fill: #D2E3FC;\n",
              "    }\n",
              "\n",
              "    [theme=dark] .colab-df-convert:hover {\n",
              "      background-color: #434B5C;\n",
              "      box-shadow: 0px 1px 3px 1px rgba(0, 0, 0, 0.15);\n",
              "      filter: drop-shadow(0px 1px 2px rgba(0, 0, 0, 0.3));\n",
              "      fill: #FFFFFF;\n",
              "    }\n",
              "  </style>\n",
              "\n",
              "      <script>\n",
              "        const buttonEl =\n",
              "          document.querySelector('#df-ab75175f-e291-4d88-b798-9d27e65fe9e6 button.colab-df-convert');\n",
              "        buttonEl.style.display =\n",
              "          google.colab.kernel.accessAllowed ? 'block' : 'none';\n",
              "\n",
              "        async function convertToInteractive(key) {\n",
              "          const element = document.querySelector('#df-ab75175f-e291-4d88-b798-9d27e65fe9e6');\n",
              "          const dataTable =\n",
              "            await google.colab.kernel.invokeFunction('convertToInteractive',\n",
              "                                                     [key], {});\n",
              "          if (!dataTable) return;\n",
              "\n",
              "          const docLinkHtml = 'Like what you see? Visit the ' +\n",
              "            '<a target=\"_blank\" href=https://colab.research.google.com/notebooks/data_table.ipynb>data table notebook</a>'\n",
              "            + ' to learn more about interactive tables.';\n",
              "          element.innerHTML = '';\n",
              "          dataTable['output_type'] = 'display_data';\n",
              "          await google.colab.output.renderOutput(dataTable, element);\n",
              "          const docLink = document.createElement('div');\n",
              "          docLink.innerHTML = docLinkHtml;\n",
              "          element.appendChild(docLink);\n",
              "        }\n",
              "      </script>\n",
              "    </div>\n",
              "  </div>\n",
              "  "
            ]
          },
          "metadata": {},
          "execution_count": 62
        }
      ],
      "id": "AhcOhYWBwK1-"
    },
    {
      "cell_type": "code",
      "source": [
        "df_text.info()"
      ],
      "metadata": {
        "colab": {
          "base_uri": "https://localhost:8080/"
        },
        "id": "IwgmbCnkxaVV",
        "outputId": "e81e0d50-3c92-49a3-a094-8f3e16cd0dd9"
      },
      "execution_count": null,
      "outputs": [
        {
          "output_type": "stream",
          "name": "stdout",
          "text": [
            "<class 'pandas.core.frame.DataFrame'>\n",
            "RangeIndex: 900000 entries, 0 to 899999\n",
            "Data columns (total 1 columns):\n",
            " #   Column       Non-Null Count   Dtype \n",
            "---  ------       --------------   ----- \n",
            " 0   review_text  900000 non-null  object\n",
            "dtypes: object(1)\n",
            "memory usage: 6.9+ MB\n"
          ]
        }
      ],
      "id": "IwgmbCnkxaVV"
    },
    {
      "cell_type": "code",
      "source": [
        "df_text['review_text'].sample(5, random_state = 42)"
      ],
      "metadata": {
        "scrolled": true,
        "colab": {
          "base_uri": "https://localhost:8080/"
        },
        "id": "31cfbb41",
        "outputId": "24985c95-5360-4417-f007-943286e61b9b"
      },
      "execution_count": null,
      "outputs": [
        {
          "output_type": "execute_result",
          "data": {
            "text/plain": [
              "527984    I'm proudly telling you that I'm a big fan of ...\n",
              "618093    4.25 stars \\n This was so, so much better than...\n",
              "484217    For some reason finding a good male lead urban...\n",
              "161123    It's about the son of a pepper merchant who fi...\n",
              "718642    the most beautiful display of emotions in this...\n",
              "Name: review_text, dtype: object"
            ]
          },
          "metadata": {},
          "execution_count": 64
        }
      ],
      "id": "31cfbb41"
    },
    {
      "cell_type": "markdown",
      "source": [
        "Добавим колонку с длиной отзыва"
      ],
      "metadata": {
        "id": "k6iqyreukyoX"
      },
      "id": "k6iqyreukyoX"
    },
    {
      "cell_type": "code",
      "source": [
        "df_text['review_length'] = df_text['review_text'].str.len()\n",
        "df_test_text['review_length'] = df_test_text['review_text'].str.len()\n",
        "df_text.head(3)"
      ],
      "metadata": {
        "colab": {
          "base_uri": "https://localhost:8080/",
          "height": 143
        },
        "id": "48ee76a7",
        "outputId": "59819dbe-7f04-4abb-899e-e7256033a4a8"
      },
      "execution_count": null,
      "outputs": [
        {
          "output_type": "execute_result",
          "data": {
            "text/plain": [
              "                                         review_text  review_length\n",
              "0  This is a special book. It started slow for ab...         2119.0\n",
              "1  Recommended by Don Katz. Avail for free in Dec...           93.0\n",
              "2  A fun, fast paced science fiction thriller. I ...         2598.0"
            ],
            "text/html": [
              "\n",
              "  <div id=\"df-f5f9df68-0beb-429a-a65d-3bc568b570f6\">\n",
              "    <div class=\"colab-df-container\">\n",
              "      <div>\n",
              "<style scoped>\n",
              "    .dataframe tbody tr th:only-of-type {\n",
              "        vertical-align: middle;\n",
              "    }\n",
              "\n",
              "    .dataframe tbody tr th {\n",
              "        vertical-align: top;\n",
              "    }\n",
              "\n",
              "    .dataframe thead th {\n",
              "        text-align: right;\n",
              "    }\n",
              "</style>\n",
              "<table border=\"1\" class=\"dataframe\">\n",
              "  <thead>\n",
              "    <tr style=\"text-align: right;\">\n",
              "      <th></th>\n",
              "      <th>review_text</th>\n",
              "      <th>review_length</th>\n",
              "    </tr>\n",
              "  </thead>\n",
              "  <tbody>\n",
              "    <tr>\n",
              "      <th>0</th>\n",
              "      <td>This is a special book. It started slow for ab...</td>\n",
              "      <td>2119.0</td>\n",
              "    </tr>\n",
              "    <tr>\n",
              "      <th>1</th>\n",
              "      <td>Recommended by Don Katz. Avail for free in Dec...</td>\n",
              "      <td>93.0</td>\n",
              "    </tr>\n",
              "    <tr>\n",
              "      <th>2</th>\n",
              "      <td>A fun, fast paced science fiction thriller. I ...</td>\n",
              "      <td>2598.0</td>\n",
              "    </tr>\n",
              "  </tbody>\n",
              "</table>\n",
              "</div>\n",
              "      <button class=\"colab-df-convert\" onclick=\"convertToInteractive('df-f5f9df68-0beb-429a-a65d-3bc568b570f6')\"\n",
              "              title=\"Convert this dataframe to an interactive table.\"\n",
              "              style=\"display:none;\">\n",
              "        \n",
              "  <svg xmlns=\"http://www.w3.org/2000/svg\" height=\"24px\"viewBox=\"0 0 24 24\"\n",
              "       width=\"24px\">\n",
              "    <path d=\"M0 0h24v24H0V0z\" fill=\"none\"/>\n",
              "    <path d=\"M18.56 5.44l.94 2.06.94-2.06 2.06-.94-2.06-.94-.94-2.06-.94 2.06-2.06.94zm-11 1L8.5 8.5l.94-2.06 2.06-.94-2.06-.94L8.5 2.5l-.94 2.06-2.06.94zm10 10l.94 2.06.94-2.06 2.06-.94-2.06-.94-.94-2.06-.94 2.06-2.06.94z\"/><path d=\"M17.41 7.96l-1.37-1.37c-.4-.4-.92-.59-1.43-.59-.52 0-1.04.2-1.43.59L10.3 9.45l-7.72 7.72c-.78.78-.78 2.05 0 2.83L4 21.41c.39.39.9.59 1.41.59.51 0 1.02-.2 1.41-.59l7.78-7.78 2.81-2.81c.8-.78.8-2.07 0-2.86zM5.41 20L4 18.59l7.72-7.72 1.47 1.35L5.41 20z\"/>\n",
              "  </svg>\n",
              "      </button>\n",
              "      \n",
              "  <style>\n",
              "    .colab-df-container {\n",
              "      display:flex;\n",
              "      flex-wrap:wrap;\n",
              "      gap: 12px;\n",
              "    }\n",
              "\n",
              "    .colab-df-convert {\n",
              "      background-color: #E8F0FE;\n",
              "      border: none;\n",
              "      border-radius: 50%;\n",
              "      cursor: pointer;\n",
              "      display: none;\n",
              "      fill: #1967D2;\n",
              "      height: 32px;\n",
              "      padding: 0 0 0 0;\n",
              "      width: 32px;\n",
              "    }\n",
              "\n",
              "    .colab-df-convert:hover {\n",
              "      background-color: #E2EBFA;\n",
              "      box-shadow: 0px 1px 2px rgba(60, 64, 67, 0.3), 0px 1px 3px 1px rgba(60, 64, 67, 0.15);\n",
              "      fill: #174EA6;\n",
              "    }\n",
              "\n",
              "    [theme=dark] .colab-df-convert {\n",
              "      background-color: #3B4455;\n",
              "      fill: #D2E3FC;\n",
              "    }\n",
              "\n",
              "    [theme=dark] .colab-df-convert:hover {\n",
              "      background-color: #434B5C;\n",
              "      box-shadow: 0px 1px 3px 1px rgba(0, 0, 0, 0.15);\n",
              "      filter: drop-shadow(0px 1px 2px rgba(0, 0, 0, 0.3));\n",
              "      fill: #FFFFFF;\n",
              "    }\n",
              "  </style>\n",
              "\n",
              "      <script>\n",
              "        const buttonEl =\n",
              "          document.querySelector('#df-f5f9df68-0beb-429a-a65d-3bc568b570f6 button.colab-df-convert');\n",
              "        buttonEl.style.display =\n",
              "          google.colab.kernel.accessAllowed ? 'block' : 'none';\n",
              "\n",
              "        async function convertToInteractive(key) {\n",
              "          const element = document.querySelector('#df-f5f9df68-0beb-429a-a65d-3bc568b570f6');\n",
              "          const dataTable =\n",
              "            await google.colab.kernel.invokeFunction('convertToInteractive',\n",
              "                                                     [key], {});\n",
              "          if (!dataTable) return;\n",
              "\n",
              "          const docLinkHtml = 'Like what you see? Visit the ' +\n",
              "            '<a target=\"_blank\" href=https://colab.research.google.com/notebooks/data_table.ipynb>data table notebook</a>'\n",
              "            + ' to learn more about interactive tables.';\n",
              "          element.innerHTML = '';\n",
              "          dataTable['output_type'] = 'display_data';\n",
              "          await google.colab.output.renderOutput(dataTable, element);\n",
              "          const docLink = document.createElement('div');\n",
              "          docLink.innerHTML = docLinkHtml;\n",
              "          element.appendChild(docLink);\n",
              "        }\n",
              "      </script>\n",
              "    </div>\n",
              "  </div>\n",
              "  "
            ]
          },
          "metadata": {},
          "execution_count": 65
        }
      ],
      "id": "48ee76a7"
    },
    {
      "cell_type": "markdown",
      "source": [
        "Теперь посчитаем колво слов в каждом отзыве"
      ],
      "metadata": {
        "id": "8pJfqVsflDN-"
      },
      "id": "8pJfqVsflDN-"
    },
    {
      "cell_type": "code",
      "source": [
        "def word_count(text):\n",
        "    review_words = text.split()\n",
        "    return len(review_words)"
      ],
      "metadata": {
        "id": "ce0b9ab0",
        "execution": {
          "iopub.status.busy": "2023-04-17T21:13:56.241065Z",
          "iopub.execute_input": "2023-04-17T21:13:56.241621Z",
          "iopub.status.idle": "2023-04-17T21:13:56.247704Z",
          "shell.execute_reply.started": "2023-04-17T21:13:56.241576Z",
          "shell.execute_reply": "2023-04-17T21:13:56.246515Z"
        },
        "trusted": true
      },
      "execution_count": null,
      "outputs": [],
      "id": "ce0b9ab0"
    },
    {
      "cell_type": "code",
      "source": [
        "df_text['word_count'] = df_text['review_text'].apply(word_count)\n",
        "df_test_text['word_count'] = df_test_text['review_text'].apply(word_count)"
      ],
      "metadata": {
        "id": "4quBrmVKsv69",
        "colab": {
          "base_uri": "https://localhost:8080/",
          "height": 304
        },
        "outputId": "a9186b35-d4be-47e9-e4fc-298ed7224562"
      },
      "execution_count": null,
      "outputs": [
        {
          "output_type": "error",
          "ename": "AttributeError",
          "evalue": "ignored",
          "traceback": [
            "\u001b[0;31m---------------------------------------------------------------------------\u001b[0m",
            "\u001b[0;31mAttributeError\u001b[0m                            Traceback (most recent call last)",
            "\u001b[0;32m<ipython-input-67-c62e473bf918>\u001b[0m in \u001b[0;36m<cell line: 1>\u001b[0;34m()\u001b[0m\n\u001b[0;32m----> 1\u001b[0;31m \u001b[0mdf_text\u001b[0m\u001b[0;34m[\u001b[0m\u001b[0;34m'word_count'\u001b[0m\u001b[0;34m]\u001b[0m \u001b[0;34m=\u001b[0m \u001b[0mdf_text\u001b[0m\u001b[0;34m[\u001b[0m\u001b[0;34m'review_text'\u001b[0m\u001b[0;34m]\u001b[0m\u001b[0;34m.\u001b[0m\u001b[0mapply\u001b[0m\u001b[0;34m(\u001b[0m\u001b[0mword_count\u001b[0m\u001b[0;34m)\u001b[0m\u001b[0;34m\u001b[0m\u001b[0;34m\u001b[0m\u001b[0m\n\u001b[0m\u001b[1;32m      2\u001b[0m \u001b[0mdf_test_text\u001b[0m\u001b[0;34m[\u001b[0m\u001b[0;34m'word_count'\u001b[0m\u001b[0;34m]\u001b[0m \u001b[0;34m=\u001b[0m \u001b[0mdf_test_text\u001b[0m\u001b[0;34m[\u001b[0m\u001b[0;34m'review_text'\u001b[0m\u001b[0;34m]\u001b[0m\u001b[0;34m.\u001b[0m\u001b[0mapply\u001b[0m\u001b[0;34m(\u001b[0m\u001b[0mword_count\u001b[0m\u001b[0;34m)\u001b[0m\u001b[0;34m\u001b[0m\u001b[0;34m\u001b[0m\u001b[0m\n",
            "\u001b[0;32m/usr/local/lib/python3.9/dist-packages/pandas/core/series.py\u001b[0m in \u001b[0;36mapply\u001b[0;34m(self, func, convert_dtype, args, **kwargs)\u001b[0m\n\u001b[1;32m   4769\u001b[0m         \u001b[0mdtype\u001b[0m\u001b[0;34m:\u001b[0m \u001b[0mfloat64\u001b[0m\u001b[0;34m\u001b[0m\u001b[0;34m\u001b[0m\u001b[0m\n\u001b[1;32m   4770\u001b[0m         \"\"\"\n\u001b[0;32m-> 4771\u001b[0;31m         \u001b[0;32mreturn\u001b[0m \u001b[0mSeriesApply\u001b[0m\u001b[0;34m(\u001b[0m\u001b[0mself\u001b[0m\u001b[0;34m,\u001b[0m \u001b[0mfunc\u001b[0m\u001b[0;34m,\u001b[0m \u001b[0mconvert_dtype\u001b[0m\u001b[0;34m,\u001b[0m \u001b[0margs\u001b[0m\u001b[0;34m,\u001b[0m \u001b[0mkwargs\u001b[0m\u001b[0;34m)\u001b[0m\u001b[0;34m.\u001b[0m\u001b[0mapply\u001b[0m\u001b[0;34m(\u001b[0m\u001b[0;34m)\u001b[0m\u001b[0;34m\u001b[0m\u001b[0;34m\u001b[0m\u001b[0m\n\u001b[0m\u001b[1;32m   4772\u001b[0m \u001b[0;34m\u001b[0m\u001b[0m\n\u001b[1;32m   4773\u001b[0m     def _reduce(\n",
            "\u001b[0;32m/usr/local/lib/python3.9/dist-packages/pandas/core/apply.py\u001b[0m in \u001b[0;36mapply\u001b[0;34m(self)\u001b[0m\n\u001b[1;32m   1121\u001b[0m \u001b[0;34m\u001b[0m\u001b[0m\n\u001b[1;32m   1122\u001b[0m         \u001b[0;31m# self.f is Callable\u001b[0m\u001b[0;34m\u001b[0m\u001b[0;34m\u001b[0m\u001b[0m\n\u001b[0;32m-> 1123\u001b[0;31m         \u001b[0;32mreturn\u001b[0m \u001b[0mself\u001b[0m\u001b[0;34m.\u001b[0m\u001b[0mapply_standard\u001b[0m\u001b[0;34m(\u001b[0m\u001b[0;34m)\u001b[0m\u001b[0;34m\u001b[0m\u001b[0;34m\u001b[0m\u001b[0m\n\u001b[0m\u001b[1;32m   1124\u001b[0m \u001b[0;34m\u001b[0m\u001b[0m\n\u001b[1;32m   1125\u001b[0m     \u001b[0;32mdef\u001b[0m \u001b[0magg\u001b[0m\u001b[0;34m(\u001b[0m\u001b[0mself\u001b[0m\u001b[0;34m)\u001b[0m\u001b[0;34m:\u001b[0m\u001b[0;34m\u001b[0m\u001b[0;34m\u001b[0m\u001b[0m\n",
            "\u001b[0;32m/usr/local/lib/python3.9/dist-packages/pandas/core/apply.py\u001b[0m in \u001b[0;36mapply_standard\u001b[0;34m(self)\u001b[0m\n\u001b[1;32m   1172\u001b[0m             \u001b[0;32melse\u001b[0m\u001b[0;34m:\u001b[0m\u001b[0;34m\u001b[0m\u001b[0;34m\u001b[0m\u001b[0m\n\u001b[1;32m   1173\u001b[0m                 \u001b[0mvalues\u001b[0m \u001b[0;34m=\u001b[0m \u001b[0mobj\u001b[0m\u001b[0;34m.\u001b[0m\u001b[0mastype\u001b[0m\u001b[0;34m(\u001b[0m\u001b[0mobject\u001b[0m\u001b[0;34m)\u001b[0m\u001b[0;34m.\u001b[0m\u001b[0m_values\u001b[0m\u001b[0;34m\u001b[0m\u001b[0;34m\u001b[0m\u001b[0m\n\u001b[0;32m-> 1174\u001b[0;31m                 mapped = lib.map_infer(\n\u001b[0m\u001b[1;32m   1175\u001b[0m                     \u001b[0mvalues\u001b[0m\u001b[0;34m,\u001b[0m\u001b[0;34m\u001b[0m\u001b[0;34m\u001b[0m\u001b[0m\n\u001b[1;32m   1176\u001b[0m                     \u001b[0mf\u001b[0m\u001b[0;34m,\u001b[0m\u001b[0;34m\u001b[0m\u001b[0;34m\u001b[0m\u001b[0m\n",
            "\u001b[0;32m/usr/local/lib/python3.9/dist-packages/pandas/_libs/lib.pyx\u001b[0m in \u001b[0;36mpandas._libs.lib.map_infer\u001b[0;34m()\u001b[0m\n",
            "\u001b[0;32m<ipython-input-66-130f43ea4805>\u001b[0m in \u001b[0;36mword_count\u001b[0;34m(text)\u001b[0m\n\u001b[1;32m      1\u001b[0m \u001b[0;32mdef\u001b[0m \u001b[0mword_count\u001b[0m\u001b[0;34m(\u001b[0m\u001b[0mtext\u001b[0m\u001b[0;34m)\u001b[0m\u001b[0;34m:\u001b[0m\u001b[0;34m\u001b[0m\u001b[0;34m\u001b[0m\u001b[0m\n\u001b[0;32m----> 2\u001b[0;31m     \u001b[0mreview_words\u001b[0m \u001b[0;34m=\u001b[0m \u001b[0mtext\u001b[0m\u001b[0;34m.\u001b[0m\u001b[0msplit\u001b[0m\u001b[0;34m(\u001b[0m\u001b[0;34m)\u001b[0m\u001b[0;34m\u001b[0m\u001b[0;34m\u001b[0m\u001b[0m\n\u001b[0m\u001b[1;32m      3\u001b[0m     \u001b[0;32mreturn\u001b[0m \u001b[0mlen\u001b[0m\u001b[0;34m(\u001b[0m\u001b[0mreview_words\u001b[0m\u001b[0;34m)\u001b[0m\u001b[0;34m\u001b[0m\u001b[0;34m\u001b[0m\u001b[0m\n",
            "\u001b[0;31mAttributeError\u001b[0m: 'int' object has no attribute 'split'"
          ]
        }
      ],
      "id": "4quBrmVKsv69"
    },
    {
      "cell_type": "code",
      "source": [
        "df_text.head(3)"
      ],
      "metadata": {
        "id": "d2728d70"
      },
      "execution_count": null,
      "outputs": [],
      "id": "d2728d70"
    },
    {
      "cell_type": "markdown",
      "source": [
        "Посчитаем среднюю длину слова в отзыве."
      ],
      "metadata": {
        "id": "XePxlf0cf8Ja"
      },
      "id": "XePxlf0cf8Ja"
    },
    {
      "cell_type": "code",
      "source": [
        "# def plot_word_number_histogram(text):\n",
        "#     text.str.split().\n",
        "#         map(lambda x: len(x)).\\\n",
        "#         hist()"
      ],
      "metadata": {
        "id": "Buj81N9moR8h"
      },
      "execution_count": null,
      "outputs": [],
      "id": "Buj81N9moR8h"
    },
    {
      "cell_type": "code",
      "source": [
        "# df['word_count'] = df['review_text'].str.split().map(lambda x: len(x))\n",
        "# df.head(3)"
      ],
      "metadata": {
        "id": "3846d236"
      },
      "execution_count": null,
      "outputs": [],
      "id": "3846d236"
    },
    {
      "cell_type": "code",
      "source": [
        "df_text['mean_word_length'] = df_text['review_text'].map(lambda rev: np.mean([len(word) for word in rev.split()]))\n",
        "df_test_text['mean_word_length'] = df_test_text['review_text'].map(lambda rev: np.mean([len(word) for word in rev.split()]))\n",
        "\n",
        "df_text.head(3)"
      ],
      "metadata": {
        "id": "9f790bcb",
        "scrolled": true
      },
      "execution_count": null,
      "outputs": [],
      "id": "9f790bcb"
    },
    {
      "cell_type": "markdown",
      "source": [
        "Посчитаем среднюю длину предложения в отзыве"
      ],
      "metadata": {
        "id": "b34bea98"
      },
      "id": "b34bea98"
    },
    {
      "cell_type": "code",
      "source": [
        "df_text['mean_sent_length'] = df_text['review_text'].map(lambda rev: np.mean([len(sent) for sent in tokenize.sent_tokenize(rev)]))\n",
        "df_test_text['mean_sent_length'] = df_test_text['review_text'].map(lambda rev: np.mean([len(sent) for sent in tokenize.sent_tokenize(rev)]))\n",
        "\n",
        "df_text.head(3)"
      ],
      "metadata": {
        "id": "140651f5"
      },
      "execution_count": null,
      "outputs": [],
      "id": "140651f5"
    },
    {
      "cell_type": "markdown",
      "source": [
        "Посмотрим на графики."
      ],
      "metadata": {
        "id": "d89ac828"
      },
      "id": "d89ac828"
    },
    {
      "cell_type": "code",
      "source": [
        "def plotting_bars(col, rate):\n",
        "    plt.subplot(1,2,1)\n",
        "    sns.barplot(x = 'rating', y = col, data = df_text.groupby('rating', as_index=False)[col].mean(), palette = 'magma')\n",
        "    plt.title('Rating vs ' + str(col))\n",
        "    plt.ylabel(col, labelpad=12.5)\n",
        "    plt.xlabel('rating', labelpad=12.5)\n",
        "    \n",
        "    plt.show()"
      ],
      "metadata": {
        "id": "e48e6199"
      },
      "execution_count": null,
      "outputs": [],
      "id": "e48e6199"
    },
    {
      "cell_type": "code",
      "source": [
        "features = ['review_length','word_count','mean_word_length','mean_sent_length']\n",
        "for feature in features:\n",
        "    plotting_bars(feature, 'rating')"
      ],
      "metadata": {
        "id": "b81ada01"
      },
      "execution_count": null,
      "outputs": [],
      "id": "b81ada01"
    },
    {
      "cell_type": "markdown",
      "source": [
        "Видим, что в среднем для всех рейтингов длина слова окло 4х -> пользователи чаще используют короткие слова ? это не так, если много стоп-слов, тк они короткие, посмотрим, какие стоп-слова встречаются часто. Пока что мало что по длине слов мало можно сказать о рейтинге. Длина предложения для рейтинга 3 больше всего. Для рейтинга 0 в целом все не очень, маленькие отзывы,маленькие предложения и небольшое кол-во слов (относительно других рейтингов) -> 0 будет проще классифицировать наверное. "
      ],
      "metadata": {
        "id": "ab1a9bc5"
      },
      "id": "ab1a9bc5"
    },
    {
      "cell_type": "code",
      "source": [
        "df_text.to_csv('/content/drive/MyDrive/BooksReview/train_text.csv', index = False)\n",
        "df_test_text.to_csv('/content/drive/MyDrive/BooksReview/test_text.csv', index = False)"
      ],
      "metadata": {
        "id": "N9rcEK59f3qt"
      },
      "execution_count": null,
      "outputs": [],
      "id": "N9rcEK59f3qt"
    },
    {
      "cell_type": "code",
      "source": [
        "# df_text = pd.read_csv('/content/drive/MyDrive/BooksReview/text_train.csv')"
      ],
      "metadata": {
        "id": "txVVgKU0iNnr"
      },
      "execution_count": null,
      "outputs": [],
      "id": "txVVgKU0iNnr"
    },
    {
      "cell_type": "code",
      "source": [
        "# df_text = pd.read_csv('/kaggle/input/new-goodreads/text_train.csv')"
      ],
      "metadata": {
        "execution": {
          "iopub.status.busy": "2023-04-17T19:57:23.512394Z",
          "iopub.execute_input": "2023-04-17T19:57:23.512936Z",
          "iopub.status.idle": "2023-04-17T19:57:43.899440Z",
          "shell.execute_reply.started": "2023-04-17T19:57:23.512888Z",
          "shell.execute_reply": "2023-04-17T19:57:43.897941Z"
        },
        "trusted": true,
        "id": "3mzUCQnRdb3P"
      },
      "execution_count": null,
      "outputs": [],
      "id": "3mzUCQnRdb3P"
    },
    {
      "cell_type": "code",
      "source": [
        "# df_text.to_csv('D:\\Kaggle\\Goodreads Books Reviews\\goodreads-books-reviews-290312\\train_text.csv', index = False)"
      ],
      "metadata": {
        "id": "37d4433a"
      },
      "execution_count": null,
      "outputs": [],
      "id": "37d4433a"
    },
    {
      "cell_type": "code",
      "source": [
        "from collections import defaultdict\n",
        "stop=set(stopwords.words('english'))\n",
        "stop_words = stopwords.words('english')"
      ],
      "metadata": {
        "id": "e837bb97",
        "execution": {
          "iopub.status.busy": "2023-04-17T22:50:43.256478Z",
          "iopub.execute_input": "2023-04-17T22:50:43.256939Z",
          "iopub.status.idle": "2023-04-17T22:50:43.264466Z",
          "shell.execute_reply.started": "2023-04-17T22:50:43.256899Z",
          "shell.execute_reply": "2023-04-17T22:50:43.263075Z"
        },
        "trusted": true
      },
      "execution_count": null,
      "outputs": [],
      "id": "e837bb97"
    },
    {
      "cell_type": "markdown",
      "source": [
        "Посмотрим, какие стоп - слова чаще всего встечаются в отзывах."
      ],
      "metadata": {
        "id": "141f23e1"
      },
      "id": "141f23e1"
    },
    {
      "cell_type": "code",
      "source": [
        "# функция подсчета стоп-слов\n",
        "def stop_words_count(text):\n",
        "    corpus=[]\n",
        "    new = text.str.split()\n",
        "    new = new.values.tolist()\n",
        "    corpus=[word for i in new for word in i]\n",
        "\n",
        "    dic=defaultdict(int)\n",
        "    for word in corpus:\n",
        "        if word in stop:\n",
        "            dic[word] += 1\n",
        "    return dic"
      ],
      "metadata": {
        "id": "fc98a233",
        "execution": {
          "iopub.status.busy": "2023-04-17T19:58:35.243125Z",
          "iopub.execute_input": "2023-04-17T19:58:35.243579Z",
          "iopub.status.idle": "2023-04-17T19:58:35.251869Z",
          "shell.execute_reply.started": "2023-04-17T19:58:35.243541Z",
          "shell.execute_reply": "2023-04-17T19:58:35.250329Z"
        },
        "trusted": true
      },
      "execution_count": null,
      "outputs": [],
      "id": "fc98a233"
    },
    {
      "cell_type": "code",
      "source": [
        "# def plot_top_stopwords_barchart(text):\n",
        "#     dic = stop_words_count(text)\n",
        "#     top = "
      ],
      "metadata": {
        "id": "oCq9PZ08db3Q"
      },
      "execution_count": null,
      "outputs": [],
      "id": "oCq9PZ08db3Q"
    },
    {
      "cell_type": "code",
      "source": [
        "dic = stop_words_count(df_text['review_text'])\n",
        "top = sorted(dic.items(), key=lambda x:x[1], reverse=True)"
      ],
      "metadata": {
        "execution": {
          "iopub.status.busy": "2023-04-17T20:26:22.014736Z",
          "iopub.execute_input": "2023-04-17T20:26:22.015320Z",
          "iopub.status.idle": "2023-04-17T20:27:29.046384Z",
          "shell.execute_reply.started": "2023-04-17T20:26:22.015269Z",
          "shell.execute_reply": "2023-04-17T20:27:29.044904Z"
        },
        "trusted": true,
        "id": "3hxh7Ybkdb3Q"
      },
      "execution_count": null,
      "outputs": [],
      "id": "3hxh7Ybkdb3Q"
    },
    {
      "cell_type": "code",
      "source": [
        "top[:20]"
      ],
      "metadata": {
        "execution": {
          "iopub.status.busy": "2023-04-17T20:32:48.078239Z",
          "iopub.execute_input": "2023-04-17T20:32:48.078764Z",
          "iopub.status.idle": "2023-04-17T20:32:48.087988Z",
          "shell.execute_reply.started": "2023-04-17T20:32:48.078718Z",
          "shell.execute_reply": "2023-04-17T20:32:48.087038Z"
        },
        "trusted": true,
        "id": "uhAbnWiRdb3Q"
      },
      "execution_count": null,
      "outputs": [],
      "id": "uhAbnWiRdb3Q"
    },
    {
      "cell_type": "code",
      "source": [
        "# def plot_top_stopwords_barchart(text): \n",
        "#     #dic = stop_words_count(text)\n",
        "           \n",
        "#     top = sorted(dic.items(), key=lambda x:x[1],reverse=True)[:10] \n",
        "#     x,y=zip(*top)\n",
        "#     plt.subplot(1,1,1)\n",
        "#     plt.bar(x=x, y=y, height = 100000)\n",
        "#     plt.title('Top 10 most common stop-words')\n",
        "#     plt.ylabel('Frequency', labelpad=12.5)\n",
        "#     plt.xlabel('Stop-word', labelpad=12.5)\n",
        "    \n",
        "#     plt.show()\n",
        "\n",
        "    #plt.bar(x,y)\n",
        "    # plt.title('Top 10 most common stop-words')\n",
        "    # plt.ylabel('Frequency', labelpad=12.5)\n",
        "    # plt.xlabel('Stop-word', labelpad=12.5)\n",
        "\n"
      ],
      "metadata": {
        "id": "8b8a415b",
        "execution": {
          "iopub.status.busy": "2023-04-17T20:39:25.945665Z",
          "iopub.execute_input": "2023-04-17T20:39:25.946271Z",
          "iopub.status.idle": "2023-04-17T20:39:25.955836Z",
          "shell.execute_reply.started": "2023-04-17T20:39:25.946218Z",
          "shell.execute_reply": "2023-04-17T20:39:25.953776Z"
        },
        "trusted": true
      },
      "execution_count": null,
      "outputs": [],
      "id": "8b8a415b"
    },
    {
      "cell_type": "code",
      "source": [
        "# plot_top_stopwords_barchart(df_text['review_text'])"
      ],
      "metadata": {
        "id": "c240e296",
        "scrolled": true,
        "execution": {
          "iopub.status.busy": "2023-04-17T20:39:44.340751Z",
          "iopub.execute_input": "2023-04-17T20:39:44.342524Z",
          "iopub.status.idle": "2023-04-17T20:39:44.348727Z",
          "shell.execute_reply.started": "2023-04-17T20:39:44.342446Z",
          "shell.execute_reply": "2023-04-17T20:39:44.346835Z"
        },
        "trusted": true
      },
      "execution_count": null,
      "outputs": [],
      "id": "c240e296"
    },
    {
      "cell_type": "code",
      "source": [
        "def plot_top_non_stopwords_barchart(text):   \n",
        "    new= text.str.split()\n",
        "    new=new.values.tolist()\n",
        "    corpus=[word for i in new for word in i]\n",
        "\n",
        "    counter=Counter(corpus)\n",
        "    most=counter.most_common()\n",
        "    x, y=[], []\n",
        "    for word,count in most[:50]:\n",
        "        if (word not in stop):\n",
        "            x.append(word)\n",
        "            y.append(count)\n",
        "            \n",
        "    sns.barplot(x = y,y = x)"
      ],
      "metadata": {
        "id": "ef900c29",
        "execution": {
          "iopub.status.busy": "2023-04-17T20:39:50.221194Z",
          "iopub.execute_input": "2023-04-17T20:39:50.223023Z",
          "iopub.status.idle": "2023-04-17T20:39:50.233422Z",
          "shell.execute_reply.started": "2023-04-17T20:39:50.222914Z",
          "shell.execute_reply": "2023-04-17T20:39:50.231877Z"
        },
        "trusted": true
      },
      "execution_count": null,
      "outputs": [],
      "id": "ef900c29"
    },
    {
      "cell_type": "code",
      "source": [
        "# plot_top_non_stopwords_barchart(df_text['review_text'])"
      ],
      "metadata": {
        "id": "a3930e48",
        "outputId": "bb4115d6-fe91-4dc8-c942-54a9066d5f59",
        "scrolled": true,
        "execution": {
          "iopub.status.busy": "2023-04-17T20:40:00.389125Z",
          "iopub.execute_input": "2023-04-17T20:40:00.389636Z",
          "iopub.status.idle": "2023-04-17T20:42:25.352271Z",
          "shell.execute_reply.started": "2023-04-17T20:40:00.389590Z",
          "shell.execute_reply": "2023-04-17T20:42:25.350603Z"
        },
        "trusted": true
      },
      "execution_count": null,
      "outputs": [
        {
          "output_type": "display_data",
          "data": {
            "text/plain": "<Figure size 1700x700 with 1 Axes>",
            "image/png": "[encoded data removed]"
          },
          "metadata": {}
        }
      ],
      "id": "a3930e48"
    },
    {
      "cell_type": "markdown",
      "source": [
        "Посмотрим на n-gramms."
      ],
      "metadata": {
        "id": "2OioqGoLdb3R"
      },
      "id": "2OioqGoLdb3R"
    },
    {
      "cell_type": "code",
      "source": [
        "from nltk.util import ngrams"
      ],
      "metadata": {
        "execution": {
          "iopub.status.busy": "2023-04-17T20:43:10.689504Z",
          "iopub.execute_input": "2023-04-17T20:43:10.691062Z",
          "iopub.status.idle": "2023-04-17T20:43:10.697511Z",
          "shell.execute_reply.started": "2023-04-17T20:43:10.690987Z",
          "shell.execute_reply": "2023-04-17T20:43:10.695901Z"
        },
        "trusted": true,
        "id": "lTezzs8Qdb3R"
      },
      "execution_count": null,
      "outputs": [],
      "id": "lTezzs8Qdb3R"
    },
    {
      "cell_type": "code",
      "source": [
        "# def get_top_ngram(corpus, n=None):\n",
        "#     vec = CountVectorizer(ngram_range=(n, n)).fit(corpus)\n",
        "#     bag_of_words = vec.transform(corpus)\n",
        "#     sum_words = bag_of_words.sum(axis=0)\n",
        "#     words_freq = [(word, sum_words[0, idx])\n",
        "#                   for word, idx in vec.vocabulary_.items()]\n",
        "#     words_freq =sorted(words_freq, key = lambda x: x[1], reverse=True)\n",
        "#     return words_freq[:10]"
      ],
      "metadata": {
        "execution": {
          "iopub.status.busy": "2023-04-17T20:43:50.014389Z",
          "iopub.execute_input": "2023-04-17T20:43:50.015830Z",
          "iopub.status.idle": "2023-04-17T20:43:50.026592Z",
          "shell.execute_reply.started": "2023-04-17T20:43:50.015768Z",
          "shell.execute_reply": "2023-04-17T20:43:50.024166Z"
        },
        "trusted": true,
        "id": "zQ_ZBPafdb3S"
      },
      "execution_count": null,
      "outputs": [],
      "id": "zQ_ZBPafdb3S"
    },
    {
      "cell_type": "code",
      "source": [
        "# def plot_top_ngrams_barchart(text, n=2):\n",
        "#     stop=set(stopwords.words('english'))\n",
        "\n",
        "#     new= text.str.split()\n",
        "#     new=new.values.tolist()\n",
        "#     corpus=[word for i in new for word in i]\n",
        "\n",
        "#     def _get_top_ngram(corpus, n=None):\n",
        "#         vec = CountVectorizer(ngram_range=(n, n)).fit(corpus)\n",
        "#         bag_of_words = vec.transform(corpus)\n",
        "#         sum_words = bag_of_words.sum(axis=0) \n",
        "#         words_freq = [(word, sum_words[0, idx]) \n",
        "#                       for word, idx in vec.vocabulary_.items()]\n",
        "#         words_freq =sorted(words_freq, key = lambda x: x[1], reverse=True)\n",
        "#         return words_freq[:10]\n",
        "\n",
        "#     top_n_bigrams=_get_top_ngram(text,n)[:10]\n",
        "#     x,y=map(list,zip(*top_n_bigrams))\n",
        "#     sns.barplot(x=y,y=x)"
      ],
      "metadata": {
        "execution": {
          "iopub.status.busy": "2023-04-17T20:44:54.886534Z",
          "iopub.execute_input": "2023-04-17T20:44:54.887066Z",
          "iopub.status.idle": "2023-04-17T20:44:54.898094Z",
          "shell.execute_reply.started": "2023-04-17T20:44:54.887024Z",
          "shell.execute_reply": "2023-04-17T20:44:54.896673Z"
        },
        "trusted": true,
        "id": "xWlHH-rtdb3S"
      },
      "execution_count": null,
      "outputs": [],
      "id": "xWlHH-rtdb3S"
    },
    {
      "cell_type": "code",
      "source": [
        "# plot_top_ngrams_barchart(df_text['review_text'],2)"
      ],
      "metadata": {
        "execution": {
          "iopub.status.busy": "2023-04-17T20:45:33.257085Z",
          "iopub.execute_input": "2023-04-17T20:45:33.257656Z",
          "iopub.status.idle": "2023-04-17T20:59:25.843810Z",
          "shell.execute_reply.started": "2023-04-17T20:45:33.257612Z",
          "shell.execute_reply": "2023-04-17T20:59:25.842196Z"
        },
        "trusted": true,
        "id": "_l5nYT5Fdb3S",
        "outputId": "53319a5e-bec2-434b-c98c-fb7d277f48b4"
      },
      "execution_count": null,
      "outputs": [
        {
          "output_type": "display_data",
          "data": {
            "text/plain": "<Figure size 1700x700 with 1 Axes>",
            "image/png": "[encoded data removed]"
          },
          "metadata": {}
        }
      ],
      "id": "_l5nYT5Fdb3S"
    },
    {
      "cell_type": "markdown",
      "source": [
        "Проставим наличие/отстутсвие спойлеров у отзыва."
      ],
      "metadata": {
        "id": "FYdNirWrdb3S"
      },
      "id": "FYdNirWrdb3S"
    },
    {
      "cell_type": "code",
      "source": [
        "def if_spoiler(text):\n",
        "    spoil_statement = 'spoiler alert'\n",
        "    return [1 if spoil_statement in txt else 0 for txt in text]"
      ],
      "metadata": {
        "execution": {
          "iopub.status.busy": "2023-04-17T21:30:10.583051Z",
          "iopub.execute_input": "2023-04-17T21:30:10.583563Z",
          "iopub.status.idle": "2023-04-17T21:30:10.591463Z",
          "shell.execute_reply.started": "2023-04-17T21:30:10.583519Z",
          "shell.execute_reply": "2023-04-17T21:30:10.589619Z"
        },
        "trusted": true,
        "id": "nbxo9ZnHdb3S"
      },
      "execution_count": null,
      "outputs": [],
      "id": "nbxo9ZnHdb3S"
    },
    {
      "cell_type": "code",
      "source": [
        "# spoil_statement = 'spoiler alert'\n",
        "df_text['spoil'] = if_spoiler(df_text['review_text'])\n",
        "df_test_text['spoil'] = if_spoiler(df_test_text['review_text'])\n",
        "\n",
        "df_text[df_text['spoil'] == 1]\n"
      ],
      "metadata": {
        "execution": {
          "iopub.status.busy": "2023-04-17T21:40:09.572567Z",
          "iopub.execute_input": "2023-04-17T21:40:09.573138Z",
          "iopub.status.idle": "2023-04-17T21:40:12.375022Z",
          "shell.execute_reply.started": "2023-04-17T21:40:09.573087Z",
          "shell.execute_reply": "2023-04-17T21:40:12.373231Z"
        },
        "trusted": true,
        "id": "3O3WnGJIdb3T"
      },
      "execution_count": null,
      "outputs": [],
      "id": "3O3WnGJIdb3T"
    },
    {
      "cell_type": "code",
      "source": [
        "# df_test_text.to_csv(r'/kaggle/working/test_text_new.csv', index = False)\n",
        "# df_text.to_csv('/kaggle/working/train_text_new.csv', index = False)"
      ],
      "metadata": {
        "execution": {
          "iopub.status.busy": "2023-04-17T21:48:35.999901Z",
          "iopub.execute_input": "2023-04-17T21:48:36.000569Z",
          "iopub.status.idle": "2023-04-17T21:49:16.274401Z",
          "shell.execute_reply.started": "2023-04-17T21:48:36.000516Z",
          "shell.execute_reply": "2023-04-17T21:49:16.272284Z"
        },
        "trusted": true,
        "id": "ms9fVmtddb3T"
      },
      "execution_count": null,
      "outputs": [],
      "id": "ms9fVmtddb3T"
    },
    {
      "cell_type": "markdown",
      "source": [
        "Теперь удалим спойлеры. Также приведем все к нижнему регистру, удалим линки, цифры и лишние символы, лемматизируем и токенизируем. Затем добавим эмоциональную окраску."
      ],
      "metadata": {
        "id": "Y7rDRszGdb3T"
      },
      "id": "Y7rDRszGdb3T"
    },
    {
      "cell_type": "markdown",
      "source": [
        "Сначала сделаем по-тупому через функции, потом засуну это в пайплайн..."
      ],
      "metadata": {
        "id": "ZW6zflrKdb3T"
      },
      "id": "ZW6zflrKdb3T"
    },
    {
      "cell_type": "code",
      "source": [
        "from sklearn.pipeline import Pipeline"
      ],
      "metadata": {
        "execution": {
          "iopub.status.busy": "2023-04-17T22:36:08.983520Z",
          "iopub.execute_input": "2023-04-17T22:36:08.984748Z",
          "iopub.status.idle": "2023-04-17T22:36:09.007648Z",
          "shell.execute_reply.started": "2023-04-17T22:36:08.984679Z",
          "shell.execute_reply": "2023-04-17T22:36:09.005464Z"
        },
        "trusted": true,
        "id": "s3Mn9BBZdb3T"
      },
      "execution_count": null,
      "outputs": [],
      "id": "s3Mn9BBZdb3T"
    },
    {
      "cell_type": "code",
      "source": [
        "def remove_spoiler_alert(text):\n",
        "    return re.sub(r'(\\(view spoiler\\).*?\\(hide spoiler\\))','',text)"
      ],
      "metadata": {
        "execution": {
          "iopub.status.busy": "2023-04-17T22:36:09.009927Z",
          "iopub.execute_input": "2023-04-17T22:36:09.010451Z",
          "iopub.status.idle": "2023-04-17T22:36:09.022526Z",
          "shell.execute_reply.started": "2023-04-17T22:36:09.010390Z",
          "shell.execute_reply": "2023-04-17T22:36:09.020116Z"
        },
        "trusted": true,
        "id": "kPjjP8e4db3T"
      },
      "execution_count": null,
      "outputs": [],
      "id": "kPjjP8e4db3T"
    },
    {
      "cell_type": "code",
      "source": [
        "def to_lower(text):\n",
        "    return text.lower()"
      ],
      "metadata": {
        "execution": {
          "iopub.status.busy": "2023-04-17T22:36:10.920166Z",
          "iopub.execute_input": "2023-04-17T22:36:10.920775Z",
          "iopub.status.idle": "2023-04-17T22:36:10.931950Z",
          "shell.execute_reply.started": "2023-04-17T22:36:10.920715Z",
          "shell.execute_reply": "2023-04-17T22:36:10.928474Z"
        },
        "trusted": true,
        "id": "njEEMtVxdb3U"
      },
      "execution_count": null,
      "outputs": [],
      "id": "njEEMtVxdb3U"
    },
    {
      "cell_type": "code",
      "source": [
        "def remove_stopwords(text):\n",
        "    return ' '.join([word for word in str(text).split(' ') if word not in stop])"
      ],
      "metadata": {
        "id": "5Xw1vmiLdb3U"
      },
      "execution_count": null,
      "outputs": [],
      "id": "5Xw1vmiLdb3U"
    },
    {
      "cell_type": "code",
      "source": [
        "def clean_text(text):\n",
        "    text = text.lower()\n",
        "    regular = r'[\\*+\\#+\\№\\\"\\-+\\+\\=+\\?+\\&\\^\\.+\\;\\,+\\>+\\(\\)\\/+\\:\\\\+]'\n",
        "    regular_url = r'(http\\S+)|(www\\S+)|([\\w\\d]+www\\S+)|([\\w\\d]+http\\S+)'\n",
        "    text = re.sub(r'(\\(view spoiler\\).*?\\(hide spoiler\\))','',text)\n",
        "    text = re.sub(regular, '', text)\n",
        "    text = re.sub(regular_url, r'URL', text)\n",
        "    text = re.sub(r'(\\d+\\s\\d+)|(\\d+)',' ', text)\n",
        "    text = re.sub(r'\\s+', ' ', text)\n",
        "    return text"
      ],
      "metadata": {
        "execution": {
          "iopub.status.busy": "2023-04-17T22:45:09.689225Z",
          "iopub.execute_input": "2023-04-17T22:45:09.689904Z",
          "iopub.status.idle": "2023-04-17T22:45:09.699456Z",
          "shell.execute_reply.started": "2023-04-17T22:45:09.689831Z",
          "shell.execute_reply": "2023-04-17T22:45:09.698236Z"
        },
        "trusted": true,
        "id": "OMqfcs7pdb3U"
      },
      "execution_count": null,
      "outputs": [],
      "id": "OMqfcs7pdb3U"
    },
    {
      "cell_type": "code",
      "source": [
        "def cleaned(data):\n",
        "    stopwords_cleaned = []\n",
        "    cleaned_text = []\n",
        "    tokens = []\n",
        "    for text in data:\n",
        "    # cleaning  \n",
        "        text = clean_text(text)\n",
        "        cleaned_text.append(text)\n",
        "     \n",
        "    # tokenization\n",
        "        text = word_tokenize(text)\n",
        "        tokens.append(text)\n",
        "     \n",
        "    # с помощью цикла for поочередно проверяем каждое слово(токен) текущего сообщения\n",
        "    # на вхождение в список стоп-слов. Если токен не является стоп-словом, \n",
        "    # то добавляем его в список stopwords_cleaned  \n",
        "        text = [word for word in text if word not in stop_words]\n",
        "        stopwords_cleaned.append(text)\n",
        "    return cleaned_text, tokens, stopwords_cleaned"
      ],
      "metadata": {
        "execution": {
          "iopub.status.busy": "2023-04-17T22:48:16.087772Z",
          "iopub.execute_input": "2023-04-17T22:48:16.089454Z",
          "iopub.status.idle": "2023-04-17T22:48:16.099810Z",
          "shell.execute_reply.started": "2023-04-17T22:48:16.089378Z",
          "shell.execute_reply": "2023-04-17T22:48:16.098327Z"
        },
        "trusted": true,
        "id": "U0iWLeY-db3U"
      },
      "execution_count": null,
      "outputs": [],
      "id": "U0iWLeY-db3U"
    },
    {
      "cell_type": "code",
      "source": [
        "df_text['cleaned_rev'], df_text['tokens_rev'], df_text['noStopwords_rev']= cleaned(df_text['review_text'])\n",
        "df_test_text['cleaned_rev'], df_test_text['tokens_rev'], df_test_text['noStopwords_rev']= cleaned(df_test_text['review_text'])\n",
        "# data['tokens_rev'] = tokens\n",
        " \n",
        "# Сохраняем сообщения без стоп-слов в новой колонке 'noStopwords_msg'\n",
        "# data['noStopwords_rev'] = stopwords_cleaned"
      ],
      "metadata": {
        "execution": {
          "iopub.status.busy": "2023-04-17T22:50:51.016685Z",
          "iopub.execute_input": "2023-04-17T22:50:51.017223Z",
          "iopub.status.idle": "2023-04-17T23:02:29.585248Z",
          "shell.execute_reply.started": "2023-04-17T22:50:51.017159Z",
          "shell.execute_reply": "2023-04-17T23:02:29.583332Z"
        },
        "trusted": true,
        "id": "KLczEOJIdb3V"
      },
      "execution_count": null,
      "outputs": [],
      "id": "KLczEOJIdb3V"
    },
    {
      "cell_type": "code",
      "source": [
        "df_text.sample(5, random_state = 42)"
      ],
      "metadata": {
        "id": "jtdNCP1sdb3V"
      },
      "execution_count": null,
      "outputs": [],
      "id": "jtdNCP1sdb3V"
    },
    {
      "cell_type": "code",
      "source": [
        "def preprocess_reviews(data):\n",
        "    corpus=[]\n",
        "    # stem=PorterStemmer()\n",
        "    lem=WordNetLemmatizer()\n",
        "    for reviews in data:\n",
        "        words=[w for w in word_tokenize(reviews) if (w not in stop)]\n",
        "\n",
        "        words=[lem.lemmatize(w) for w in words if len(w)>2]\n",
        "\n",
        "        corpus.append(words)\n",
        "    return corpus"
      ],
      "metadata": {
        "id": "-YaA9ZfYg71r"
      },
      "id": "-YaA9ZfYg71r",
      "execution_count": null,
      "outputs": []
    },
    {
      "cell_type": "code",
      "source": [
        "corpus_train = preprocess_reviews(df_text['review_text'])\n",
        "corpus_test = preprocess_reviews(df_test_text['review_text'])"
      ],
      "metadata": {
        "id": "SfMwv2WuhfU5"
      },
      "id": "SfMwv2WuhfU5",
      "execution_count": null,
      "outputs": []
    },
    {
      "cell_type": "code",
      "source": [
        "from textblob import TextBlob\n",
        "TextBlob('100 people killed in Iraq').sentiment"
      ],
      "metadata": {
        "colab": {
          "base_uri": "https://localhost:8080/"
        },
        "id": "-E_gYMJfh_5M",
        "outputId": "e818b7d0-c4a9-4f1c-b414-cf3d134a40f7"
      },
      "id": "-E_gYMJfh_5M",
      "execution_count": null,
      "outputs": [
        {
          "output_type": "execute_result",
          "data": {
            "text/plain": [
              "Sentiment(polarity=-0.2, subjectivity=0.0)"
            ]
          },
          "metadata": {},
          "execution_count": 11
        }
      ]
    },
    {
      "cell_type": "code",
      "source": [
        "def polarity(text):\n",
        "    return TextBlob(text).sentiment.polarity"
      ],
      "metadata": {
        "id": "-6QwL5I2iEzI"
      },
      "id": "-6QwL5I2iEzI",
      "execution_count": null,
      "outputs": []
    },
    {
      "cell_type": "code",
      "source": [
        "df_text['polarity_score']=df_text['review_text'].apply(lambda x : polarity(x))\n",
        "df_test_text['polarity_score']=df_text['review_text'].apply(lambda x : polarity(x))"
      ],
      "metadata": {
        "id": "tkTK2peHiJy0"
      },
      "id": "tkTK2peHiJy0",
      "execution_count": null,
      "outputs": []
    },
    {
      "cell_type": "code",
      "source": [
        "def sentiment(x):\n",
        "    if x<0:\n",
        "        return 'neg'\n",
        "    elif x==0:\n",
        "        return 'neu'\n",
        "    else:\n",
        "        return 'pos'"
      ],
      "metadata": {
        "id": "K1d_G_D5i-3z"
      },
      "id": "K1d_G_D5i-3z",
      "execution_count": null,
      "outputs": []
    },
    {
      "cell_type": "code",
      "source": [
        "df_text['polarity']=df_text['polarity_score'].map(lambda x: sentiment(x))\n",
        "df_test_text['polarity']=df_test_text['polarity_score'].map(lambda x: sentiment(x))"
      ],
      "metadata": {
        "id": "Ioj2sBkojE5K"
      },
      "id": "Ioj2sBkojE5K",
      "execution_count": null,
      "outputs": []
    },
    {
      "cell_type": "code",
      "source": [
        "df_text.to_csv('/content/drive/MyDrive/BooksReview/train_text_upd.csv', index = False)\n",
        "df_test_text.to_csv('/content/drive/MyDrive/BooksReview/test_text_upd.csv', index = False)"
      ],
      "metadata": {
        "id": "ArI0zvA5lNcj"
      },
      "id": "ArI0zvA5lNcj",
      "execution_count": null,
      "outputs": []
    },
    {
      "cell_type": "code",
      "source": [
        "# dic=gensim.corpora.Dictionary(corpus)\n",
        "# bow_corpus = [dic.doc2bow(doc) for doc in corpus]"
      ],
      "metadata": {
        "id": "ClIzrxWEhtSM"
      },
      "id": "ClIzrxWEhtSM",
      "execution_count": null,
      "outputs": []
    },
    {
      "cell_type": "code",
      "source": [
        "# lda_model = gensim.models.LdaMulticore(bow_corpus,\n",
        "#                                    num_topics = 4,\n",
        "#                                    id2word = dic,\n",
        "#                                    passes = 10,\n",
        "#                                    workers = 2)\n",
        "# lda_model.show_topics()"
      ],
      "metadata": {
        "id": "sgXAwGcDhvzk"
      },
      "id": "sgXAwGcDhvzk",
      "execution_count": null,
      "outputs": []
    },
    {
      "cell_type": "code",
      "source": [
        "# stop_words = stopwords.words('english')\n",
        "# # создаем список для хранения данных без стоп-слов\n",
        "# stopwords_cleaned = []\n",
        " \n",
        "# # для каждого сообщения text из столбца data['Message']\n",
        "# for text in data['Message']:\n",
        "#     # cleaning  \n",
        "#     text = clean_text(text)\n",
        "#     cleaned_text.append(text)\n",
        "     \n",
        "#     # tokenization\n",
        "#     text = word_tokenize(text)\n",
        "#     tokens.append(text)\n",
        "     \n",
        "#     # с помощью цикла for поочередно проверяем каждое слово(токен) текущего сообщения\n",
        "#     # на вхождение в список стоп-слов. Если токен не является стоп-словом, \n",
        "#     # то добавляем его в список stopwords_cleaned  \n",
        "#     text = [word for word in text if word not in stop_words]\n",
        "#     stopwords_cleaned.append(text)\n",
        " \n",
        "# data['Cleaned_msg'] = cleaned_text\n",
        "# data['Tokens_msg'] = tokens\n",
        " \n",
        "# # Сохраняем сообщения без стоп-слов в новой колонке 'noStopwords_msg'\n",
        "# data['noStopwords_msg'] = stopwords_cleaned"
      ],
      "metadata": {
        "id": "BafgDm4ydb3V"
      },
      "execution_count": null,
      "outputs": [],
      "id": "BafgDm4ydb3V"
    },
    {
      "cell_type": "code",
      "source": [
        "# def ratings(rating):\n",
        "#     if rating > 2 and rating <= 5:\n",
        "#         return 1\n",
        "#     if rating > -1 and rating < 3:\n",
        "#         return 0"
      ],
      "metadata": {
        "id": "6735127d"
      },
      "execution_count": null,
      "outputs": [],
      "id": "6735127d"
    },
    {
      "cell_type": "code",
      "source": [
        "# data['rate'] = data['rating'].apply(ratings)\n",
        "# data.head(5)"
      ],
      "metadata": {
        "id": "3939bafc"
      },
      "execution_count": null,
      "outputs": [],
      "id": "3939bafc"
    },
    {
      "cell_type": "code",
      "source": [
        "# def plotting(col, rate):\n",
        "#     plt.figure(figsize=(10, 12))\n",
        "#     plt.subplot(1,2,1)\n",
        "#     sns.boxplot(y = data[col], hue = data[rate])\n",
        "#     plt.ylabel(col, labelpad=12.5)\n",
        "    \n",
        "#     plt.subplot(1,2,2)\n",
        "#     sns.kdeplot(x = data[col], hue = data[rate])\n",
        "#     plt.legend(data[rate].unique())\n",
        "#     plt.xlabel('')\n",
        "#     plt.ylabel('')\n",
        "    \n",
        "#     plt.show()"
      ],
      "metadata": {
        "id": "16870f1a"
      },
      "execution_count": null,
      "outputs": [],
      "id": "16870f1a"
    },
    {
      "cell_type": "code",
      "source": [
        "# features = ['review_length','word_count','mean_word_length','mean_sent_length']\n",
        "# for feature in features:\n",
        "#     plotting(feature, 'rate')"
      ],
      "metadata": {
        "id": "68e9696e"
      },
      "execution_count": null,
      "outputs": [],
      "id": "68e9696e"
    },
    {
      "cell_type": "code",
      "source": [
        "# for feature in features:\n",
        "#     plotting(feature, 'rating')"
      ],
      "metadata": {
        "id": "cd96723e"
      },
      "execution_count": null,
      "outputs": [],
      "id": "cd96723e"
    },
    {
      "cell_type": "code",
      "source": [
        "# df['review_length'].hist()"
      ],
      "metadata": {
        "id": "9d455c23",
        "scrolled": true
      },
      "execution_count": null,
      "outputs": [],
      "id": "9d455c23"
    },
    {
      "cell_type": "markdown",
      "source": [
        "Видим, что в основном отзывы имеют длину от 0 до  8к, преимущественно от 0 до 2к символов"
      ],
      "metadata": {
        "id": "3fa805f9"
      },
      "id": "3fa805f9"
    },
    {
      "cell_type": "code",
      "source": [
        "# cols = ['n_votes','n_comments','review_length','word_count','mean_word_length','mean_sent_length']\n",
        "# fig, axes = plt.subplots(2, 3)\n",
        "# plt.figure(figsize=(25, 25))\n",
        "# # rcParams['figure.figsize'] = 30, 20\n",
        "# j = 0\n",
        "# for i, col in enumerate(cols):\n",
        "#     if j == 3:\n",
        "#         j = 0\n",
        "#     df[df['rating']==0][col].hist()\n",
        "#     sns.boxplot(data = df[col], palette = 'magma',ax = axes[i//3, j]).set(title = 'rating vs ' + col)\n",
        "#     j += 1    "
      ],
      "metadata": {
        "id": "9b5baf0d"
      },
      "execution_count": null,
      "outputs": [],
      "id": "9b5baf0d"
    }
  ]
}